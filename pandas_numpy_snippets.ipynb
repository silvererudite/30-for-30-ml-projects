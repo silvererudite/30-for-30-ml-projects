{
  "nbformat": 4,
  "nbformat_minor": 0,
  "metadata": {
    "colab": {
      "name": "pandas numpy snippets.ipynb",
      "provenance": [],
      "authorship_tag": "ABX9TyNW0h5o+lZHmeuRmpu3quZ7",
      "include_colab_link": true
    },
    "kernelspec": {
      "name": "python3",
      "display_name": "Python 3"
    },
    "language_info": {
      "name": "python"
    }
  },
  "cells": [
    {
      "cell_type": "markdown",
      "metadata": {
        "id": "view-in-github",
        "colab_type": "text"
      },
      "source": [
        "<a href=\"https://colab.research.google.com/github/silvererudite/30-for-30-ml-projects/blob/main/pandas_numpy_snippets.ipynb\" target=\"_parent\"><img src=\"https://colab.research.google.com/assets/colab-badge.svg\" alt=\"Open In Colab\"/></a>"
      ]
    },
    {
      "cell_type": "code",
      "execution_count": 1,
      "metadata": {
        "id": "xFFJYTeUC8fF"
      },
      "outputs": [],
      "source": [
        "import pandas as pd\n",
        "import numpy as np\n",
        "import matplotlib.pyplot as plt\n",
        "import seaborn as sns"
      ]
    },
    {
      "cell_type": "code",
      "source": [
        "data_arr = np.array([[1,2,3], [4,5,6]])\n",
        "# generate array from random data\n",
        "data_rand = np.random.randn(2,3)"
      ],
      "metadata": {
        "id": "7fCn6LWyESGA"
      },
      "execution_count": 2,
      "outputs": []
    },
    {
      "cell_type": "code",
      "source": [
        "print(data_arr)\n",
        "print(data_rand)\n",
        "print(data_arr.shape)\n",
        "print(data_rand.shape)"
      ],
      "metadata": {
        "colab": {
          "base_uri": "https://localhost:8080/"
        },
        "id": "SEJ19Gh6DHAh",
        "outputId": "19a3c76f-7f2e-4dfe-9540-4d1795130cf4"
      },
      "execution_count": 3,
      "outputs": [
        {
          "output_type": "stream",
          "name": "stdout",
          "text": [
            "[[1 2 3]\n",
            " [4 5 6]]\n",
            "[[-0.15843926  0.27376892  0.50669389]\n",
            " [ 0.65258402 -0.16634955 -1.56879309]]\n",
            "(2, 3)\n",
            "(2, 3)\n"
          ]
        }
      ]
    },
    {
      "cell_type": "code",
      "source": [
        "data_arr.dtype"
      ],
      "metadata": {
        "colab": {
          "base_uri": "https://localhost:8080/"
        },
        "id": "kxZVFGx6Dwef",
        "outputId": "d01c5446-6ddf-412f-ddcc-5cbaa243d87b"
      },
      "execution_count": 4,
      "outputs": [
        {
          "output_type": "execute_result",
          "data": {
            "text/plain": [
              "dtype('int64')"
            ]
          },
          "metadata": {},
          "execution_count": 4
        }
      ]
    },
    {
      "cell_type": "markdown",
      "source": [
        "# Indexing and slicing numpy arrays"
      ],
      "metadata": {
        "id": "OFNbTicuFfQ4"
      }
    },
    {
      "cell_type": "code",
      "source": [
        "# 1D array\n",
        "arr = np.arange(10)\n",
        "arr[4:8]"
      ],
      "metadata": {
        "colab": {
          "base_uri": "https://localhost:8080/"
        },
        "id": "t14hXho1FKHY",
        "outputId": "02e05825-3e0d-4ce8-cd62-c6e95cc0d737"
      },
      "execution_count": 5,
      "outputs": [
        {
          "output_type": "execute_result",
          "data": {
            "text/plain": [
              "array([4, 5, 6, 7])"
            ]
          },
          "metadata": {},
          "execution_count": 5
        }
      ]
    },
    {
      "cell_type": "code",
      "source": [
        "arr[4:8] = 10 # the assignment is broadcasted to the entire array\n",
        "arr"
      ],
      "metadata": {
        "colab": {
          "base_uri": "https://localhost:8080/"
        },
        "id": "nlxEEALvRzr6",
        "outputId": "11e10075-b13c-471b-f9bd-99de246e10db"
      },
      "execution_count": 6,
      "outputs": [
        {
          "output_type": "execute_result",
          "data": {
            "text/plain": [
              "array([ 0,  1,  2,  3, 10, 10, 10, 10,  8,  9])"
            ]
          },
          "metadata": {},
          "execution_count": 6
        }
      ]
    },
    {
      "cell_type": "markdown",
      "source": [
        "## Array slices are views on the original array and the original array is not copied. \n",
        "This increases efficiency, but changes will be reflected on the original array"
      ],
      "metadata": {
        "id": "FqtAtm30SHko"
      }
    },
    {
      "cell_type": "code",
      "source": [
        "arr_slice = arr[0:3]\n",
        "arr_slice"
      ],
      "metadata": {
        "colab": {
          "base_uri": "https://localhost:8080/"
        },
        "id": "e2O0IDqOR8xY",
        "outputId": "5200c157-858b-4036-cc9d-4831b4722bc5"
      },
      "execution_count": 7,
      "outputs": [
        {
          "output_type": "execute_result",
          "data": {
            "text/plain": [
              "array([0, 1, 2])"
            ]
          },
          "metadata": {},
          "execution_count": 7
        }
      ]
    },
    {
      "cell_type": "code",
      "source": [
        "arr_slice[1] = 50\n",
        "arr"
      ],
      "metadata": {
        "colab": {
          "base_uri": "https://localhost:8080/"
        },
        "id": "37mWKz5YSfOZ",
        "outputId": "80272a46-610a-4b74-aafe-dce1510525c5"
      },
      "execution_count": 8,
      "outputs": [
        {
          "output_type": "execute_result",
          "data": {
            "text/plain": [
              "array([ 0, 50,  2,  3, 10, 10, 10, 10,  8,  9])"
            ]
          },
          "metadata": {},
          "execution_count": 8
        }
      ]
    },
    {
      "cell_type": "markdown",
      "source": [
        "`[:]` all rows and columns\n",
        "ommitting the later indices in multidim array returns ndarray"
      ],
      "metadata": {
        "id": "wvs9qoEwSwIg"
      }
    },
    {
      "cell_type": "markdown",
      "source": [
        "# Multidim array"
      ],
      "metadata": {
        "id": "o0GKTRMrTDo4"
      }
    },
    {
      "cell_type": "code",
      "source": [
        "arr3d = np.array([[[1, 2, 3], [4, 5, 6]], [[7, 8, 9], [10, 11, 12]]])\n",
        "arr3d[0]"
      ],
      "metadata": {
        "colab": {
          "base_uri": "https://localhost:8080/"
        },
        "id": "jMSZyJMNSmVf",
        "outputId": "30e89296-6e89-4804-a77a-ca2e3d9c3b17"
      },
      "execution_count": 10,
      "outputs": [
        {
          "output_type": "execute_result",
          "data": {
            "text/plain": [
              "array([[1, 2, 3],\n",
              "       [4, 5, 6]])"
            ]
          },
          "metadata": {},
          "execution_count": 10
        }
      ]
    },
    {
      "cell_type": "code",
      "source": [
        ""
      ],
      "metadata": {
        "id": "lwkYwNl3TU9Z"
      },
      "execution_count": null,
      "outputs": []
    }
  ]
}