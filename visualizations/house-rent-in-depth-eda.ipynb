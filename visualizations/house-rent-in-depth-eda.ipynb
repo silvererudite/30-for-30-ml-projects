{
 "cells": [
  {
   "cell_type": "code",
   "execution_count": 1,
   "id": "e0688752",
   "metadata": {
    "_cell_guid": "b1076dfc-b9ad-4769-8c92-a6c4dae69d19",
    "_uuid": "8f2839f25d086af736a60e9eeb907d3b93b6e0e5",
    "execution": {
     "iopub.execute_input": "2022-08-25T17:55:43.636120Z",
     "iopub.status.busy": "2022-08-25T17:55:43.635385Z",
     "iopub.status.idle": "2022-08-25T17:55:44.817973Z",
     "shell.execute_reply": "2022-08-25T17:55:44.817121Z"
    },
    "papermill": {
     "duration": 1.193434,
     "end_time": "2022-08-25T17:55:44.820798",
     "exception": false,
     "start_time": "2022-08-25T17:55:43.627364",
     "status": "completed"
    },
    "tags": []
   },
   "outputs": [],
   "source": [
    "import numpy as np # linear algebra\n",
    "import pandas as pd # data processing, CSV file I/O (e.g. pd.read_csv)\n",
    "import os\n",
    "import matplotlib.pyplot as plt\n",
    "import seaborn as sns"
   ]
  },
  {
   "cell_type": "code",
   "execution_count": 2,
   "id": "cb3b5565",
   "metadata": {
    "execution": {
     "iopub.execute_input": "2022-08-25T17:55:44.833021Z",
     "iopub.status.busy": "2022-08-25T17:55:44.832441Z",
     "iopub.status.idle": "2022-08-25T17:55:44.847712Z",
     "shell.execute_reply": "2022-08-25T17:55:44.846921Z"
    },
    "papermill": {
     "duration": 0.024232,
     "end_time": "2022-08-25T17:55:44.850395",
     "exception": false,
     "start_time": "2022-08-25T17:55:44.826163",
     "status": "completed"
    },
    "tags": []
   },
   "outputs": [
    {
     "data": {
      "text/plain": [
       "['Dataset Glossary.txt', 'House_Rent_Dataset.csv']"
      ]
     },
     "execution_count": 2,
     "metadata": {},
     "output_type": "execute_result"
    }
   ],
   "source": [
    "DATA_DIR = \"../input/house-rent-prediction-dataset/\"\n",
    "os.listdir(DATA_DIR)"
   ]
  },
  {
   "cell_type": "markdown",
   "id": "f5ae3ca7",
   "metadata": {
    "papermill": {
     "duration": 0.004794,
     "end_time": "2022-08-25T17:55:44.860454",
     "exception": false,
     "start_time": "2022-08-25T17:55:44.855660",
     "status": "completed"
    },
    "tags": []
   },
   "source": [
    "# Objective\n",
    "Our goal is to predict `rent` from the different features present"
   ]
  },
  {
   "cell_type": "code",
   "execution_count": 3,
   "id": "9fd94146",
   "metadata": {
    "execution": {
     "iopub.execute_input": "2022-08-25T17:55:44.872534Z",
     "iopub.status.busy": "2022-08-25T17:55:44.871890Z",
     "iopub.status.idle": "2022-08-25T17:55:44.930094Z",
     "shell.execute_reply": "2022-08-25T17:55:44.928978Z"
    },
    "papermill": {
     "duration": 0.06708,
     "end_time": "2022-08-25T17:55:44.932500",
     "exception": false,
     "start_time": "2022-08-25T17:55:44.865420",
     "status": "completed"
    },
    "tags": []
   },
   "outputs": [
    {
     "data": {
      "text/html": [
       "<div>\n",
       "<style scoped>\n",
       "    .dataframe tbody tr th:only-of-type {\n",
       "        vertical-align: middle;\n",
       "    }\n",
       "\n",
       "    .dataframe tbody tr th {\n",
       "        vertical-align: top;\n",
       "    }\n",
       "\n",
       "    .dataframe thead th {\n",
       "        text-align: right;\n",
       "    }\n",
       "</style>\n",
       "<table border=\"1\" class=\"dataframe\">\n",
       "  <thead>\n",
       "    <tr style=\"text-align: right;\">\n",
       "      <th></th>\n",
       "      <th>Posted On</th>\n",
       "      <th>BHK</th>\n",
       "      <th>Rent</th>\n",
       "      <th>Size</th>\n",
       "      <th>Floor</th>\n",
       "      <th>Area Type</th>\n",
       "      <th>Area Locality</th>\n",
       "      <th>City</th>\n",
       "      <th>Furnishing Status</th>\n",
       "      <th>Tenant Preferred</th>\n",
       "      <th>Bathroom</th>\n",
       "      <th>Point of Contact</th>\n",
       "    </tr>\n",
       "  </thead>\n",
       "  <tbody>\n",
       "    <tr>\n",
       "      <th>0</th>\n",
       "      <td>2022-05-18</td>\n",
       "      <td>2</td>\n",
       "      <td>10000</td>\n",
       "      <td>1100</td>\n",
       "      <td>Ground out of 2</td>\n",
       "      <td>Super Area</td>\n",
       "      <td>Bandel</td>\n",
       "      <td>Kolkata</td>\n",
       "      <td>Unfurnished</td>\n",
       "      <td>Bachelors/Family</td>\n",
       "      <td>2</td>\n",
       "      <td>Contact Owner</td>\n",
       "    </tr>\n",
       "    <tr>\n",
       "      <th>1</th>\n",
       "      <td>2022-05-13</td>\n",
       "      <td>2</td>\n",
       "      <td>20000</td>\n",
       "      <td>800</td>\n",
       "      <td>1 out of 3</td>\n",
       "      <td>Super Area</td>\n",
       "      <td>Phool Bagan, Kankurgachi</td>\n",
       "      <td>Kolkata</td>\n",
       "      <td>Semi-Furnished</td>\n",
       "      <td>Bachelors/Family</td>\n",
       "      <td>1</td>\n",
       "      <td>Contact Owner</td>\n",
       "    </tr>\n",
       "    <tr>\n",
       "      <th>2</th>\n",
       "      <td>2022-05-16</td>\n",
       "      <td>2</td>\n",
       "      <td>17000</td>\n",
       "      <td>1000</td>\n",
       "      <td>1 out of 3</td>\n",
       "      <td>Super Area</td>\n",
       "      <td>Salt Lake City Sector 2</td>\n",
       "      <td>Kolkata</td>\n",
       "      <td>Semi-Furnished</td>\n",
       "      <td>Bachelors/Family</td>\n",
       "      <td>1</td>\n",
       "      <td>Contact Owner</td>\n",
       "    </tr>\n",
       "    <tr>\n",
       "      <th>3</th>\n",
       "      <td>2022-07-04</td>\n",
       "      <td>2</td>\n",
       "      <td>10000</td>\n",
       "      <td>800</td>\n",
       "      <td>1 out of 2</td>\n",
       "      <td>Super Area</td>\n",
       "      <td>Dumdum Park</td>\n",
       "      <td>Kolkata</td>\n",
       "      <td>Unfurnished</td>\n",
       "      <td>Bachelors/Family</td>\n",
       "      <td>1</td>\n",
       "      <td>Contact Owner</td>\n",
       "    </tr>\n",
       "    <tr>\n",
       "      <th>4</th>\n",
       "      <td>2022-05-09</td>\n",
       "      <td>2</td>\n",
       "      <td>7500</td>\n",
       "      <td>850</td>\n",
       "      <td>1 out of 2</td>\n",
       "      <td>Carpet Area</td>\n",
       "      <td>South Dum Dum</td>\n",
       "      <td>Kolkata</td>\n",
       "      <td>Unfurnished</td>\n",
       "      <td>Bachelors</td>\n",
       "      <td>1</td>\n",
       "      <td>Contact Owner</td>\n",
       "    </tr>\n",
       "  </tbody>\n",
       "</table>\n",
       "</div>"
      ],
      "text/plain": [
       "    Posted On  BHK   Rent  Size            Floor    Area Type  \\\n",
       "0  2022-05-18    2  10000  1100  Ground out of 2   Super Area   \n",
       "1  2022-05-13    2  20000   800       1 out of 3   Super Area   \n",
       "2  2022-05-16    2  17000  1000       1 out of 3   Super Area   \n",
       "3  2022-07-04    2  10000   800       1 out of 2   Super Area   \n",
       "4  2022-05-09    2   7500   850       1 out of 2  Carpet Area   \n",
       "\n",
       "              Area Locality     City Furnishing Status  Tenant Preferred  \\\n",
       "0                    Bandel  Kolkata       Unfurnished  Bachelors/Family   \n",
       "1  Phool Bagan, Kankurgachi  Kolkata    Semi-Furnished  Bachelors/Family   \n",
       "2   Salt Lake City Sector 2  Kolkata    Semi-Furnished  Bachelors/Family   \n",
       "3               Dumdum Park  Kolkata       Unfurnished  Bachelors/Family   \n",
       "4             South Dum Dum  Kolkata       Unfurnished         Bachelors   \n",
       "\n",
       "   Bathroom Point of Contact  \n",
       "0         2    Contact Owner  \n",
       "1         1    Contact Owner  \n",
       "2         1    Contact Owner  \n",
       "3         1    Contact Owner  \n",
       "4         1    Contact Owner  "
      ]
     },
     "execution_count": 3,
     "metadata": {},
     "output_type": "execute_result"
    }
   ],
   "source": [
    "df = pd.read_csv(DATA_DIR+'House_Rent_Dataset.csv')\n",
    "df.head()"
   ]
  },
  {
   "cell_type": "markdown",
   "id": "9b94aabf",
   "metadata": {
    "papermill": {
     "duration": 0.005186,
     "end_time": "2022-08-25T17:55:44.943200",
     "exception": false,
     "start_time": "2022-08-25T17:55:44.938014",
     "status": "completed"
    },
    "tags": []
   },
   "source": [
    "# Exploratory Analysis\n",
    "In this phase we will extract few statistical measures, see distribution of data and data types of columns, in the next section we will try to make sense of our findings here. These steps will guide us towards good feature engineering as we rarely need more than a few features to describe relationship between `target` and features. "
   ]
  },
  {
   "cell_type": "code",
   "execution_count": 4,
   "id": "37fa2ca9",
   "metadata": {
    "execution": {
     "iopub.execute_input": "2022-08-25T17:55:44.956260Z",
     "iopub.status.busy": "2022-08-25T17:55:44.955854Z",
     "iopub.status.idle": "2022-08-25T17:55:44.993470Z",
     "shell.execute_reply": "2022-08-25T17:55:44.992238Z"
    },
    "papermill": {
     "duration": 0.046783,
     "end_time": "2022-08-25T17:55:44.995717",
     "exception": false,
     "start_time": "2022-08-25T17:55:44.948934",
     "status": "completed"
    },
    "tags": []
   },
   "outputs": [
    {
     "data": {
      "text/html": [
       "<div>\n",
       "<style scoped>\n",
       "    .dataframe tbody tr th:only-of-type {\n",
       "        vertical-align: middle;\n",
       "    }\n",
       "\n",
       "    .dataframe tbody tr th {\n",
       "        vertical-align: top;\n",
       "    }\n",
       "\n",
       "    .dataframe thead th {\n",
       "        text-align: right;\n",
       "    }\n",
       "</style>\n",
       "<table border=\"1\" class=\"dataframe\">\n",
       "  <thead>\n",
       "    <tr style=\"text-align: right;\">\n",
       "      <th></th>\n",
       "      <th>BHK</th>\n",
       "      <th>Rent</th>\n",
       "      <th>Size</th>\n",
       "      <th>Bathroom</th>\n",
       "    </tr>\n",
       "  </thead>\n",
       "  <tbody>\n",
       "    <tr>\n",
       "      <th>count</th>\n",
       "      <td>4746.000000</td>\n",
       "      <td>4.746000e+03</td>\n",
       "      <td>4746.000000</td>\n",
       "      <td>4746.000000</td>\n",
       "    </tr>\n",
       "    <tr>\n",
       "      <th>mean</th>\n",
       "      <td>2.083860</td>\n",
       "      <td>3.499345e+04</td>\n",
       "      <td>967.490729</td>\n",
       "      <td>1.965866</td>\n",
       "    </tr>\n",
       "    <tr>\n",
       "      <th>std</th>\n",
       "      <td>0.832256</td>\n",
       "      <td>7.810641e+04</td>\n",
       "      <td>634.202328</td>\n",
       "      <td>0.884532</td>\n",
       "    </tr>\n",
       "    <tr>\n",
       "      <th>min</th>\n",
       "      <td>1.000000</td>\n",
       "      <td>1.200000e+03</td>\n",
       "      <td>10.000000</td>\n",
       "      <td>1.000000</td>\n",
       "    </tr>\n",
       "    <tr>\n",
       "      <th>25%</th>\n",
       "      <td>2.000000</td>\n",
       "      <td>1.000000e+04</td>\n",
       "      <td>550.000000</td>\n",
       "      <td>1.000000</td>\n",
       "    </tr>\n",
       "    <tr>\n",
       "      <th>50%</th>\n",
       "      <td>2.000000</td>\n",
       "      <td>1.600000e+04</td>\n",
       "      <td>850.000000</td>\n",
       "      <td>2.000000</td>\n",
       "    </tr>\n",
       "    <tr>\n",
       "      <th>75%</th>\n",
       "      <td>3.000000</td>\n",
       "      <td>3.300000e+04</td>\n",
       "      <td>1200.000000</td>\n",
       "      <td>2.000000</td>\n",
       "    </tr>\n",
       "    <tr>\n",
       "      <th>max</th>\n",
       "      <td>6.000000</td>\n",
       "      <td>3.500000e+06</td>\n",
       "      <td>8000.000000</td>\n",
       "      <td>10.000000</td>\n",
       "    </tr>\n",
       "  </tbody>\n",
       "</table>\n",
       "</div>"
      ],
      "text/plain": [
       "               BHK          Rent         Size     Bathroom\n",
       "count  4746.000000  4.746000e+03  4746.000000  4746.000000\n",
       "mean      2.083860  3.499345e+04   967.490729     1.965866\n",
       "std       0.832256  7.810641e+04   634.202328     0.884532\n",
       "min       1.000000  1.200000e+03    10.000000     1.000000\n",
       "25%       2.000000  1.000000e+04   550.000000     1.000000\n",
       "50%       2.000000  1.600000e+04   850.000000     2.000000\n",
       "75%       3.000000  3.300000e+04  1200.000000     2.000000\n",
       "max       6.000000  3.500000e+06  8000.000000    10.000000"
      ]
     },
     "execution_count": 4,
     "metadata": {},
     "output_type": "execute_result"
    }
   ],
   "source": [
    "df.describe()"
   ]
  },
  {
   "cell_type": "code",
   "execution_count": 5,
   "id": "88c58aaa",
   "metadata": {
    "execution": {
     "iopub.execute_input": "2022-08-25T17:55:45.008924Z",
     "iopub.status.busy": "2022-08-25T17:55:45.008556Z",
     "iopub.status.idle": "2022-08-25T17:55:45.027950Z",
     "shell.execute_reply": "2022-08-25T17:55:45.026406Z"
    },
    "papermill": {
     "duration": 0.029173,
     "end_time": "2022-08-25T17:55:45.030701",
     "exception": false,
     "start_time": "2022-08-25T17:55:45.001528",
     "status": "completed"
    },
    "tags": []
   },
   "outputs": [
    {
     "name": "stdout",
     "output_type": "stream",
     "text": [
      "<class 'pandas.core.frame.DataFrame'>\n",
      "RangeIndex: 4746 entries, 0 to 4745\n",
      "Data columns (total 12 columns):\n",
      " #   Column             Non-Null Count  Dtype \n",
      "---  ------             --------------  ----- \n",
      " 0   Posted On          4746 non-null   object\n",
      " 1   BHK                4746 non-null   int64 \n",
      " 2   Rent               4746 non-null   int64 \n",
      " 3   Size               4746 non-null   int64 \n",
      " 4   Floor              4746 non-null   object\n",
      " 5   Area Type          4746 non-null   object\n",
      " 6   Area Locality      4746 non-null   object\n",
      " 7   City               4746 non-null   object\n",
      " 8   Furnishing Status  4746 non-null   object\n",
      " 9   Tenant Preferred   4746 non-null   object\n",
      " 10  Bathroom           4746 non-null   int64 \n",
      " 11  Point of Contact   4746 non-null   object\n",
      "dtypes: int64(4), object(8)\n",
      "memory usage: 445.1+ KB\n"
     ]
    }
   ],
   "source": [
    "df.info()"
   ]
  },
  {
   "cell_type": "markdown",
   "id": "99f617bd",
   "metadata": {
    "papermill": {
     "duration": 0.005482,
     "end_time": "2022-08-25T17:55:45.042070",
     "exception": false,
     "start_time": "2022-08-25T17:55:45.036588",
     "status": "completed"
    },
    "tags": []
   },
   "source": [
    "We also want to check if there are any missing values as most ML models don't work with them so we would need to find some apt way to deal with them during feature engineering phase"
   ]
  },
  {
   "cell_type": "code",
   "execution_count": 6,
   "id": "87f88dcb",
   "metadata": {
    "execution": {
     "iopub.execute_input": "2022-08-25T17:55:45.056024Z",
     "iopub.status.busy": "2022-08-25T17:55:45.055417Z",
     "iopub.status.idle": "2022-08-25T17:55:45.065277Z",
     "shell.execute_reply": "2022-08-25T17:55:45.064489Z"
    },
    "papermill": {
     "duration": 0.019688,
     "end_time": "2022-08-25T17:55:45.067551",
     "exception": false,
     "start_time": "2022-08-25T17:55:45.047863",
     "status": "completed"
    },
    "tags": []
   },
   "outputs": [
    {
     "data": {
      "text/plain": [
       "Posted On            0\n",
       "BHK                  0\n",
       "Rent                 0\n",
       "Size                 0\n",
       "Floor                0\n",
       "Area Type            0\n",
       "Area Locality        0\n",
       "City                 0\n",
       "Furnishing Status    0\n",
       "Tenant Preferred     0\n",
       "Bathroom             0\n",
       "Point of Contact     0\n",
       "dtype: int64"
      ]
     },
     "execution_count": 6,
     "metadata": {},
     "output_type": "execute_result"
    }
   ],
   "source": [
    "df.isnull().sum().sort_values(ascending=False)"
   ]
  },
  {
   "cell_type": "markdown",
   "id": "f822c47b",
   "metadata": {
    "papermill": {
     "duration": 0.005626,
     "end_time": "2022-08-25T17:55:45.079145",
     "exception": false,
     "start_time": "2022-08-25T17:55:45.073519",
     "status": "completed"
    },
    "tags": []
   },
   "source": [
    "## Data Distributions"
   ]
  },
  {
   "cell_type": "code",
   "execution_count": 7,
   "id": "861d47da",
   "metadata": {
    "execution": {
     "iopub.execute_input": "2022-08-25T17:55:45.092780Z",
     "iopub.status.busy": "2022-08-25T17:55:45.092156Z",
     "iopub.status.idle": "2022-08-25T17:55:45.098977Z",
     "shell.execute_reply": "2022-08-25T17:55:45.098108Z"
    },
    "papermill": {
     "duration": 0.016131,
     "end_time": "2022-08-25T17:55:45.101075",
     "exception": false,
     "start_time": "2022-08-25T17:55:45.084944",
     "status": "completed"
    },
    "tags": []
   },
   "outputs": [
    {
     "data": {
      "text/plain": [
       "array(['Kolkata', 'Mumbai', 'Bangalore', 'Delhi', 'Chennai', 'Hyderabad'],\n",
       "      dtype=object)"
      ]
     },
     "execution_count": 7,
     "metadata": {},
     "output_type": "execute_result"
    }
   ],
   "source": [
    "df['City'].unique()"
   ]
  },
  {
   "cell_type": "code",
   "execution_count": 8,
   "id": "e6ef1214",
   "metadata": {
    "execution": {
     "iopub.execute_input": "2022-08-25T17:55:45.115029Z",
     "iopub.status.busy": "2022-08-25T17:55:45.114405Z",
     "iopub.status.idle": "2022-08-25T17:55:45.120972Z",
     "shell.execute_reply": "2022-08-25T17:55:45.120134Z"
    },
    "papermill": {
     "duration": 0.015887,
     "end_time": "2022-08-25T17:55:45.122957",
     "exception": false,
     "start_time": "2022-08-25T17:55:45.107070",
     "status": "completed"
    },
    "tags": []
   },
   "outputs": [
    {
     "data": {
      "text/plain": [
       "array(['Bandel', 'Phool Bagan, Kankurgachi', 'Salt Lake City Sector 2',\n",
       "       ..., 'BN Reddy Nagar', 'Godavari Homes, Quthbullapur',\n",
       "       'Manikonda, Hyderabad'], dtype=object)"
      ]
     },
     "execution_count": 8,
     "metadata": {},
     "output_type": "execute_result"
    }
   ],
   "source": [
    "df['Area Locality'].unique()"
   ]
  },
  {
   "cell_type": "code",
   "execution_count": 9,
   "id": "10966e18",
   "metadata": {
    "execution": {
     "iopub.execute_input": "2022-08-25T17:55:45.136914Z",
     "iopub.status.busy": "2022-08-25T17:55:45.136332Z",
     "iopub.status.idle": "2022-08-25T17:55:45.142630Z",
     "shell.execute_reply": "2022-08-25T17:55:45.141661Z"
    },
    "papermill": {
     "duration": 0.015814,
     "end_time": "2022-08-25T17:55:45.144742",
     "exception": false,
     "start_time": "2022-08-25T17:55:45.128928",
     "status": "completed"
    },
    "tags": []
   },
   "outputs": [
    {
     "data": {
      "text/plain": [
       "Index(['Posted On', 'BHK', 'Rent', 'Size', 'Floor', 'Area Type',\n",
       "       'Area Locality', 'City', 'Furnishing Status', 'Tenant Preferred',\n",
       "       'Bathroom', 'Point of Contact'],\n",
       "      dtype='object')"
      ]
     },
     "execution_count": 9,
     "metadata": {},
     "output_type": "execute_result"
    }
   ],
   "source": [
    "df.columns"
   ]
  },
  {
   "cell_type": "code",
   "execution_count": 10,
   "id": "42ec00f3",
   "metadata": {
    "execution": {
     "iopub.execute_input": "2022-08-25T17:55:45.159815Z",
     "iopub.status.busy": "2022-08-25T17:55:45.159190Z",
     "iopub.status.idle": "2022-08-25T17:55:45.166586Z",
     "shell.execute_reply": "2022-08-25T17:55:45.165576Z"
    },
    "papermill": {
     "duration": 0.018152,
     "end_time": "2022-08-25T17:55:45.169045",
     "exception": false,
     "start_time": "2022-08-25T17:55:45.150893",
     "status": "completed"
    },
    "tags": []
   },
   "outputs": [],
   "source": [
    "rent_by_city = df.groupby(['City'], as_index=True)['Rent'].mean()"
   ]
  },
  {
   "cell_type": "code",
   "execution_count": 11,
   "id": "3344495a",
   "metadata": {
    "execution": {
     "iopub.execute_input": "2022-08-25T17:55:45.183012Z",
     "iopub.status.busy": "2022-08-25T17:55:45.182587Z",
     "iopub.status.idle": "2022-08-25T17:55:45.433530Z",
     "shell.execute_reply": "2022-08-25T17:55:45.432142Z"
    },
    "papermill": {
     "duration": 0.260945,
     "end_time": "2022-08-25T17:55:45.436205",
     "exception": false,
     "start_time": "2022-08-25T17:55:45.175260",
     "status": "completed"
    },
    "tags": []
   },
   "outputs": [
    {
     "data": {
      "text/plain": [
       "<AxesSubplot:xlabel='City'>"
      ]
     },
     "execution_count": 11,
     "metadata": {},
     "output_type": "execute_result"
    },
    {
     "data": {
      "image/png": "[encoded data removed]",
      "text/plain": [
       "<Figure size 432x288 with 1 Axes>"
      ]
     },
     "metadata": {
      "needs_background": "light"
     },
     "output_type": "display_data"
    }
   ],
   "source": [
    "rent_by_city.plot(kind='bar')"
   ]
  },
  {
   "cell_type": "code",
   "execution_count": 12,
   "id": "46ba973d",
   "metadata": {
    "execution": {
     "iopub.execute_input": "2022-08-25T17:55:45.451236Z",
     "iopub.status.busy": "2022-08-25T17:55:45.450861Z",
     "iopub.status.idle": "2022-08-25T17:55:45.459315Z",
     "shell.execute_reply": "2022-08-25T17:55:45.458417Z"
    },
    "papermill": {
     "duration": 0.018425,
     "end_time": "2022-08-25T17:55:45.461414",
     "exception": false,
     "start_time": "2022-08-25T17:55:45.442989",
     "status": "completed"
    },
    "tags": []
   },
   "outputs": [],
   "source": [
    "rent_by_area = df.groupby(['Area Locality'], as_index=True)['Rent'].mean()\n"
   ]
  },
  {
   "cell_type": "code",
   "execution_count": 13,
   "id": "fe080de1",
   "metadata": {
    "execution": {
     "iopub.execute_input": "2022-08-25T17:55:45.477146Z",
     "iopub.status.busy": "2022-08-25T17:55:45.475911Z",
     "iopub.status.idle": "2022-08-25T17:55:45.486229Z",
     "shell.execute_reply": "2022-08-25T17:55:45.484948Z"
    },
    "papermill": {
     "duration": 0.020665,
     "end_time": "2022-08-25T17:55:45.488787",
     "exception": false,
     "start_time": "2022-08-25T17:55:45.468122",
     "status": "completed"
    },
    "tags": []
   },
   "outputs": [
    {
     "data": {
      "text/plain": [
       "Area Locality\n",
       "Raheja Artesia, Worli      1000000.0\n",
       "Marathahalli                715780.0\n",
       "Lady Ratan Tower, Worli     700000.0\n",
       "Vettuvankeni                600000.0\n",
       "Bandra East                 600000.0\n",
       "                             ...    \n",
       "Bhawanipur                    3200.0\n",
       "Hatiara                       3000.0\n",
       "Rhoda Mistri Nagar            3000.0\n",
       "Ennore                        3000.0\n",
       "Behala silpara                2200.0\n",
       "Name: Rent, Length: 2235, dtype: float64"
      ]
     },
     "execution_count": 13,
     "metadata": {},
     "output_type": "execute_result"
    }
   ],
   "source": [
    "rent_by_area.sort_values(ascending=False)"
   ]
  },
  {
   "cell_type": "markdown",
   "id": "15b72621",
   "metadata": {
    "papermill": {
     "duration": 0.006298,
     "end_time": "2022-08-25T17:55:45.501800",
     "exception": false,
     "start_time": "2022-08-25T17:55:45.495502",
     "status": "completed"
    },
    "tags": []
   },
   "source": [
    "# Univariate Analysis\n",
    "useful for detecting outliers\n"
   ]
  },
  {
   "cell_type": "code",
   "execution_count": 14,
   "id": "b07d03b4",
   "metadata": {
    "execution": {
     "iopub.execute_input": "2022-08-25T17:55:45.517975Z",
     "iopub.status.busy": "2022-08-25T17:55:45.516899Z",
     "iopub.status.idle": "2022-08-25T17:55:45.705978Z",
     "shell.execute_reply": "2022-08-25T17:55:45.704881Z"
    },
    "papermill": {
     "duration": 0.199782,
     "end_time": "2022-08-25T17:55:45.708524",
     "exception": false,
     "start_time": "2022-08-25T17:55:45.508742",
     "status": "completed"
    },
    "tags": []
   },
   "outputs": [
    {
     "data": {
      "text/plain": [
       "<AxesSubplot:>"
      ]
     },
     "execution_count": 14,
     "metadata": {},
     "output_type": "execute_result"
    },
    {
     "data": {
      "image/png": "[encoded data removed]",
      "text/plain": [
       "<Figure size 432x288 with 1 Axes>"
      ]
     },
     "metadata": {
      "needs_background": "light"
     },
     "output_type": "display_data"
    }
   ],
   "source": [
    "df.boxplot(column=['Rent'])  "
   ]
  },
  {
   "cell_type": "code",
   "execution_count": 15,
   "id": "e413fb30",
   "metadata": {
    "execution": {
     "iopub.execute_input": "2022-08-25T17:55:45.724783Z",
     "iopub.status.busy": "2022-08-25T17:55:45.723679Z",
     "iopub.status.idle": "2022-08-25T17:55:45.732709Z",
     "shell.execute_reply": "2022-08-25T17:55:45.731457Z"
    },
    "papermill": {
     "duration": 0.019647,
     "end_time": "2022-08-25T17:55:45.735133",
     "exception": false,
     "start_time": "2022-08-25T17:55:45.715486",
     "status": "completed"
    },
    "tags": []
   },
   "outputs": [
    {
     "data": {
      "text/plain": [
       "2    2265\n",
       "1    1167\n",
       "3    1098\n",
       "4     189\n",
       "5      19\n",
       "6       8\n",
       "Name: BHK, dtype: int64"
      ]
     },
     "execution_count": 15,
     "metadata": {},
     "output_type": "execute_result"
    }
   ],
   "source": [
    "df['BHK'].value_counts()"
   ]
  },
  {
   "cell_type": "code",
   "execution_count": null,
   "id": "3403c111",
   "metadata": {
    "papermill": {
     "duration": 0.006769,
     "end_time": "2022-08-25T17:55:45.748998",
     "exception": false,
     "start_time": "2022-08-25T17:55:45.742229",
     "status": "completed"
    },
    "tags": []
   },
   "outputs": [],
   "source": []
  }
 ],
 "metadata": {
  "kernelspec": {
   "display_name": "Python 3",
   "language": "python",
   "name": "python3"
  },
  "language_info": {
   "codemirror_mode": {
    "name": "ipython",
    "version": 3
   },
   "file_extension": ".py",
   "mimetype": "text/x-python",
   "name": "python",
   "nbconvert_exporter": "python",
   "pygments_lexer": "ipython3",
   "version": "3.7.12"
  },
  "papermill": {
   "default_parameters": {},
   "duration": 12.19977,
   "end_time": "2022-08-25T17:55:46.477587",
   "environment_variables": {},
   "exception": null,
   "input_path": "__notebook__.ipynb",
   "output_path": "__notebook__.ipynb",
   "parameters": {},
   "start_time": "2022-08-25T17:55:34.277817",
   "version": "2.3.4"
  }
 },
 "nbformat": 4,
 "nbformat_minor": 5
}
