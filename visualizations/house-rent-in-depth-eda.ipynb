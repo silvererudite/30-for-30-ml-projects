{
 "cells": [
  {
   "cell_type": "code",
   "execution_count": 1,
   "id": "a5913e7e",
   "metadata": {
    "_cell_guid": "b1076dfc-b9ad-4769-8c92-a6c4dae69d19",
    "_uuid": "8f2839f25d086af736a60e9eeb907d3b93b6e0e5",
    "execution": {
     "iopub.execute_input": "2022-08-26T17:27:21.346337Z",
     "iopub.status.busy": "2022-08-26T17:27:21.345730Z",
     "iopub.status.idle": "2022-08-26T17:27:22.602650Z",
     "shell.execute_reply": "2022-08-26T17:27:22.601467Z"
    },
    "papermill": {
     "duration": 1.269628,
     "end_time": "2022-08-26T17:27:22.605621",
     "exception": false,
     "start_time": "2022-08-26T17:27:21.335993",
     "status": "completed"
    },
    "tags": []
   },
   "outputs": [],
   "source": [
    "import numpy as np # linear algebra\n",
    "import pandas as pd # data processing, CSV file I/O (e.g. pd.read_csv)\n",
    "import os\n",
    "import matplotlib.pyplot as plt\n",
    "import seaborn as sns"
   ]
  },
  {
   "cell_type": "code",
   "execution_count": 2,
   "id": "1a84dcf4",
   "metadata": {
    "execution": {
     "iopub.execute_input": "2022-08-26T17:27:22.620495Z",
     "iopub.status.busy": "2022-08-26T17:27:22.620047Z",
     "iopub.status.idle": "2022-08-26T17:27:22.640067Z",
     "shell.execute_reply": "2022-08-26T17:27:22.639187Z"
    },
    "papermill": {
     "duration": 0.030232,
     "end_time": "2022-08-26T17:27:22.642377",
     "exception": false,
     "start_time": "2022-08-26T17:27:22.612145",
     "status": "completed"
    },
    "tags": []
   },
   "outputs": [
    {
     "data": {
      "text/plain": [
       "['Dataset Glossary.txt', 'House_Rent_Dataset.csv']"
      ]
     },
     "execution_count": 2,
     "metadata": {},
     "output_type": "execute_result"
    }
   ],
   "source": [
    "DATA_DIR = \"../input/house-rent-prediction-dataset/\"\n",
    "os.listdir(DATA_DIR)"
   ]
  },
  {
   "cell_type": "markdown",
   "id": "7d6f946d",
   "metadata": {
    "papermill": {
     "duration": 0.006076,
     "end_time": "2022-08-26T17:27:22.654737",
     "exception": false,
     "start_time": "2022-08-26T17:27:22.648661",
     "status": "completed"
    },
    "tags": []
   },
   "source": [
    "# Objective\n",
    "Our goal is to predict `rent` from the different features present"
   ]
  },
  {
   "cell_type": "code",
   "execution_count": 3,
   "id": "b593ca24",
   "metadata": {
    "execution": {
     "iopub.execute_input": "2022-08-26T17:27:22.669553Z",
     "iopub.status.busy": "2022-08-26T17:27:22.668867Z",
     "iopub.status.idle": "2022-08-26T17:27:22.741278Z",
     "shell.execute_reply": "2022-08-26T17:27:22.740103Z"
    },
    "papermill": {
     "duration": 0.083034,
     "end_time": "2022-08-26T17:27:22.744095",
     "exception": false,
     "start_time": "2022-08-26T17:27:22.661061",
     "status": "completed"
    },
    "tags": []
   },
   "outputs": [
    {
     "data": {
      "text/html": [
       "<div>\n",
       "<style scoped>\n",
       "    .dataframe tbody tr th:only-of-type {\n",
       "        vertical-align: middle;\n",
       "    }\n",
       "\n",
       "    .dataframe tbody tr th {\n",
       "        vertical-align: top;\n",
       "    }\n",
       "\n",
       "    .dataframe thead th {\n",
       "        text-align: right;\n",
       "    }\n",
       "</style>\n",
       "<table border=\"1\" class=\"dataframe\">\n",
       "  <thead>\n",
       "    <tr style=\"text-align: right;\">\n",
       "      <th></th>\n",
       "      <th>Posted On</th>\n",
       "      <th>BHK</th>\n",
       "      <th>Rent</th>\n",
       "      <th>Size</th>\n",
       "      <th>Floor</th>\n",
       "      <th>Area Type</th>\n",
       "      <th>Area Locality</th>\n",
       "      <th>City</th>\n",
       "      <th>Furnishing Status</th>\n",
       "      <th>Tenant Preferred</th>\n",
       "      <th>Bathroom</th>\n",
       "      <th>Point of Contact</th>\n",
       "    </tr>\n",
       "  </thead>\n",
       "  <tbody>\n",
       "    <tr>\n",
       "      <th>0</th>\n",
       "      <td>2022-05-18</td>\n",
       "      <td>2</td>\n",
       "      <td>10000</td>\n",
       "      <td>1100</td>\n",
       "      <td>Ground out of 2</td>\n",
       "      <td>Super Area</td>\n",
       "      <td>Bandel</td>\n",
       "      <td>Kolkata</td>\n",
       "      <td>Unfurnished</td>\n",
       "      <td>Bachelors/Family</td>\n",
       "      <td>2</td>\n",
       "      <td>Contact Owner</td>\n",
       "    </tr>\n",
       "    <tr>\n",
       "      <th>1</th>\n",
       "      <td>2022-05-13</td>\n",
       "      <td>2</td>\n",
       "      <td>20000</td>\n",
       "      <td>800</td>\n",
       "      <td>1 out of 3</td>\n",
       "      <td>Super Area</td>\n",
       "      <td>Phool Bagan, Kankurgachi</td>\n",
       "      <td>Kolkata</td>\n",
       "      <td>Semi-Furnished</td>\n",
       "      <td>Bachelors/Family</td>\n",
       "      <td>1</td>\n",
       "      <td>Contact Owner</td>\n",
       "    </tr>\n",
       "    <tr>\n",
       "      <th>2</th>\n",
       "      <td>2022-05-16</td>\n",
       "      <td>2</td>\n",
       "      <td>17000</td>\n",
       "      <td>1000</td>\n",
       "      <td>1 out of 3</td>\n",
       "      <td>Super Area</td>\n",
       "      <td>Salt Lake City Sector 2</td>\n",
       "      <td>Kolkata</td>\n",
       "      <td>Semi-Furnished</td>\n",
       "      <td>Bachelors/Family</td>\n",
       "      <td>1</td>\n",
       "      <td>Contact Owner</td>\n",
       "    </tr>\n",
       "    <tr>\n",
       "      <th>3</th>\n",
       "      <td>2022-07-04</td>\n",
       "      <td>2</td>\n",
       "      <td>10000</td>\n",
       "      <td>800</td>\n",
       "      <td>1 out of 2</td>\n",
       "      <td>Super Area</td>\n",
       "      <td>Dumdum Park</td>\n",
       "      <td>Kolkata</td>\n",
       "      <td>Unfurnished</td>\n",
       "      <td>Bachelors/Family</td>\n",
       "      <td>1</td>\n",
       "      <td>Contact Owner</td>\n",
       "    </tr>\n",
       "    <tr>\n",
       "      <th>4</th>\n",
       "      <td>2022-05-09</td>\n",
       "      <td>2</td>\n",
       "      <td>7500</td>\n",
       "      <td>850</td>\n",
       "      <td>1 out of 2</td>\n",
       "      <td>Carpet Area</td>\n",
       "      <td>South Dum Dum</td>\n",
       "      <td>Kolkata</td>\n",
       "      <td>Unfurnished</td>\n",
       "      <td>Bachelors</td>\n",
       "      <td>1</td>\n",
       "      <td>Contact Owner</td>\n",
       "    </tr>\n",
       "  </tbody>\n",
       "</table>\n",
       "</div>"
      ],
      "text/plain": [
       "    Posted On  BHK   Rent  Size            Floor    Area Type  \\\n",
       "0  2022-05-18    2  10000  1100  Ground out of 2   Super Area   \n",
       "1  2022-05-13    2  20000   800       1 out of 3   Super Area   \n",
       "2  2022-05-16    2  17000  1000       1 out of 3   Super Area   \n",
       "3  2022-07-04    2  10000   800       1 out of 2   Super Area   \n",
       "4  2022-05-09    2   7500   850       1 out of 2  Carpet Area   \n",
       "\n",
       "              Area Locality     City Furnishing Status  Tenant Preferred  \\\n",
       "0                    Bandel  Kolkata       Unfurnished  Bachelors/Family   \n",
       "1  Phool Bagan, Kankurgachi  Kolkata    Semi-Furnished  Bachelors/Family   \n",
       "2   Salt Lake City Sector 2  Kolkata    Semi-Furnished  Bachelors/Family   \n",
       "3               Dumdum Park  Kolkata       Unfurnished  Bachelors/Family   \n",
       "4             South Dum Dum  Kolkata       Unfurnished         Bachelors   \n",
       "\n",
       "   Bathroom Point of Contact  \n",
       "0         2    Contact Owner  \n",
       "1         1    Contact Owner  \n",
       "2         1    Contact Owner  \n",
       "3         1    Contact Owner  \n",
       "4         1    Contact Owner  "
      ]
     },
     "execution_count": 3,
     "metadata": {},
     "output_type": "execute_result"
    }
   ],
   "source": [
    "df = pd.read_csv(DATA_DIR+'House_Rent_Dataset.csv')\n",
    "df.head()"
   ]
  },
  {
   "cell_type": "markdown",
   "id": "c9d09a1f",
   "metadata": {
    "papermill": {
     "duration": 0.0063,
     "end_time": "2022-08-26T17:27:22.757186",
     "exception": false,
     "start_time": "2022-08-26T17:27:22.750886",
     "status": "completed"
    },
    "tags": []
   },
   "source": [
    "# Exploratory Analysis\n",
    "In this phase we will extract few statistical measures, see distribution of data and data types of columns, in the next section we will try to make sense of our findings here. These steps will guide us towards good feature engineering as we rarely need more than a few features to describe relationship between `target` and features. "
   ]
  },
  {
   "cell_type": "code",
   "execution_count": 4,
   "id": "e146bfc5",
   "metadata": {
    "execution": {
     "iopub.execute_input": "2022-08-26T17:27:22.772675Z",
     "iopub.status.busy": "2022-08-26T17:27:22.772262Z",
     "iopub.status.idle": "2022-08-26T17:27:22.808945Z",
     "shell.execute_reply": "2022-08-26T17:27:22.808084Z"
    },
    "papermill": {
     "duration": 0.047021,
     "end_time": "2022-08-26T17:27:22.811147",
     "exception": false,
     "start_time": "2022-08-26T17:27:22.764126",
     "status": "completed"
    },
    "tags": []
   },
   "outputs": [
    {
     "data": {
      "text/html": [
       "<div>\n",
       "<style scoped>\n",
       "    .dataframe tbody tr th:only-of-type {\n",
       "        vertical-align: middle;\n",
       "    }\n",
       "\n",
       "    .dataframe tbody tr th {\n",
       "        vertical-align: top;\n",
       "    }\n",
       "\n",
       "    .dataframe thead th {\n",
       "        text-align: right;\n",
       "    }\n",
       "</style>\n",
       "<table border=\"1\" class=\"dataframe\">\n",
       "  <thead>\n",
       "    <tr style=\"text-align: right;\">\n",
       "      <th></th>\n",
       "      <th>BHK</th>\n",
       "      <th>Rent</th>\n",
       "      <th>Size</th>\n",
       "      <th>Bathroom</th>\n",
       "    </tr>\n",
       "  </thead>\n",
       "  <tbody>\n",
       "    <tr>\n",
       "      <th>count</th>\n",
       "      <td>4746.000000</td>\n",
       "      <td>4.746000e+03</td>\n",
       "      <td>4746.000000</td>\n",
       "      <td>4746.000000</td>\n",
       "    </tr>\n",
       "    <tr>\n",
       "      <th>mean</th>\n",
       "      <td>2.083860</td>\n",
       "      <td>3.499345e+04</td>\n",
       "      <td>967.490729</td>\n",
       "      <td>1.965866</td>\n",
       "    </tr>\n",
       "    <tr>\n",
       "      <th>std</th>\n",
       "      <td>0.832256</td>\n",
       "      <td>7.810641e+04</td>\n",
       "      <td>634.202328</td>\n",
       "      <td>0.884532</td>\n",
       "    </tr>\n",
       "    <tr>\n",
       "      <th>min</th>\n",
       "      <td>1.000000</td>\n",
       "      <td>1.200000e+03</td>\n",
       "      <td>10.000000</td>\n",
       "      <td>1.000000</td>\n",
       "    </tr>\n",
       "    <tr>\n",
       "      <th>25%</th>\n",
       "      <td>2.000000</td>\n",
       "      <td>1.000000e+04</td>\n",
       "      <td>550.000000</td>\n",
       "      <td>1.000000</td>\n",
       "    </tr>\n",
       "    <tr>\n",
       "      <th>50%</th>\n",
       "      <td>2.000000</td>\n",
       "      <td>1.600000e+04</td>\n",
       "      <td>850.000000</td>\n",
       "      <td>2.000000</td>\n",
       "    </tr>\n",
       "    <tr>\n",
       "      <th>75%</th>\n",
       "      <td>3.000000</td>\n",
       "      <td>3.300000e+04</td>\n",
       "      <td>1200.000000</td>\n",
       "      <td>2.000000</td>\n",
       "    </tr>\n",
       "    <tr>\n",
       "      <th>max</th>\n",
       "      <td>6.000000</td>\n",
       "      <td>3.500000e+06</td>\n",
       "      <td>8000.000000</td>\n",
       "      <td>10.000000</td>\n",
       "    </tr>\n",
       "  </tbody>\n",
       "</table>\n",
       "</div>"
      ],
      "text/plain": [
       "               BHK          Rent         Size     Bathroom\n",
       "count  4746.000000  4.746000e+03  4746.000000  4746.000000\n",
       "mean      2.083860  3.499345e+04   967.490729     1.965866\n",
       "std       0.832256  7.810641e+04   634.202328     0.884532\n",
       "min       1.000000  1.200000e+03    10.000000     1.000000\n",
       "25%       2.000000  1.000000e+04   550.000000     1.000000\n",
       "50%       2.000000  1.600000e+04   850.000000     2.000000\n",
       "75%       3.000000  3.300000e+04  1200.000000     2.000000\n",
       "max       6.000000  3.500000e+06  8000.000000    10.000000"
      ]
     },
     "execution_count": 4,
     "metadata": {},
     "output_type": "execute_result"
    }
   ],
   "source": [
    "df.describe()"
   ]
  },
  {
   "cell_type": "code",
   "execution_count": 5,
   "id": "c06c5219",
   "metadata": {
    "execution": {
     "iopub.execute_input": "2022-08-26T17:27:22.826580Z",
     "iopub.status.busy": "2022-08-26T17:27:22.826165Z",
     "iopub.status.idle": "2022-08-26T17:27:22.844808Z",
     "shell.execute_reply": "2022-08-26T17:27:22.843779Z"
    },
    "papermill": {
     "duration": 0.031018,
     "end_time": "2022-08-26T17:27:22.848972",
     "exception": false,
     "start_time": "2022-08-26T17:27:22.817954",
     "status": "completed"
    },
    "tags": []
   },
   "outputs": [
    {
     "name": "stdout",
     "output_type": "stream",
     "text": [
      "<class 'pandas.core.frame.DataFrame'>\n",
      "RangeIndex: 4746 entries, 0 to 4745\n",
      "Data columns (total 12 columns):\n",
      " #   Column             Non-Null Count  Dtype \n",
      "---  ------             --------------  ----- \n",
      " 0   Posted On          4746 non-null   object\n",
      " 1   BHK                4746 non-null   int64 \n",
      " 2   Rent               4746 non-null   int64 \n",
      " 3   Size               4746 non-null   int64 \n",
      " 4   Floor              4746 non-null   object\n",
      " 5   Area Type          4746 non-null   object\n",
      " 6   Area Locality      4746 non-null   object\n",
      " 7   City               4746 non-null   object\n",
      " 8   Furnishing Status  4746 non-null   object\n",
      " 9   Tenant Preferred   4746 non-null   object\n",
      " 10  Bathroom           4746 non-null   int64 \n",
      " 11  Point of Contact   4746 non-null   object\n",
      "dtypes: int64(4), object(8)\n",
      "memory usage: 445.1+ KB\n"
     ]
    }
   ],
   "source": [
    "df.info()"
   ]
  },
  {
   "cell_type": "markdown",
   "id": "48eca025",
   "metadata": {
    "papermill": {
     "duration": 0.006605,
     "end_time": "2022-08-26T17:27:22.863715",
     "exception": false,
     "start_time": "2022-08-26T17:27:22.857110",
     "status": "completed"
    },
    "tags": []
   },
   "source": [
    "We also want to check if there are any missing values as most ML models don't work with them so we would need to find some apt way to deal with them during feature engineering phase"
   ]
  },
  {
   "cell_type": "code",
   "execution_count": 6,
   "id": "94e819f6",
   "metadata": {
    "execution": {
     "iopub.execute_input": "2022-08-26T17:27:22.878725Z",
     "iopub.status.busy": "2022-08-26T17:27:22.878319Z",
     "iopub.status.idle": "2022-08-26T17:27:22.891099Z",
     "shell.execute_reply": "2022-08-26T17:27:22.889810Z"
    },
    "papermill": {
     "duration": 0.022931,
     "end_time": "2022-08-26T17:27:22.893346",
     "exception": false,
     "start_time": "2022-08-26T17:27:22.870415",
     "status": "completed"
    },
    "tags": []
   },
   "outputs": [
    {
     "data": {
      "text/plain": [
       "Posted On            0\n",
       "BHK                  0\n",
       "Rent                 0\n",
       "Size                 0\n",
       "Floor                0\n",
       "Area Type            0\n",
       "Area Locality        0\n",
       "City                 0\n",
       "Furnishing Status    0\n",
       "Tenant Preferred     0\n",
       "Bathroom             0\n",
       "Point of Contact     0\n",
       "dtype: int64"
      ]
     },
     "execution_count": 6,
     "metadata": {},
     "output_type": "execute_result"
    }
   ],
   "source": [
    "df.isnull().sum().sort_values(ascending=False)"
   ]
  },
  {
   "cell_type": "markdown",
   "id": "5092cfff",
   "metadata": {
    "papermill": {
     "duration": 0.006505,
     "end_time": "2022-08-26T17:27:22.907037",
     "exception": false,
     "start_time": "2022-08-26T17:27:22.900532",
     "status": "completed"
    },
    "tags": []
   },
   "source": [
    "## Data Distributions"
   ]
  },
  {
   "cell_type": "code",
   "execution_count": 7,
   "id": "75c94014",
   "metadata": {
    "execution": {
     "iopub.execute_input": "2022-08-26T17:27:22.923093Z",
     "iopub.status.busy": "2022-08-26T17:27:22.922702Z",
     "iopub.status.idle": "2022-08-26T17:27:22.930648Z",
     "shell.execute_reply": "2022-08-26T17:27:22.929583Z"
    },
    "papermill": {
     "duration": 0.019069,
     "end_time": "2022-08-26T17:27:22.932916",
     "exception": false,
     "start_time": "2022-08-26T17:27:22.913847",
     "status": "completed"
    },
    "tags": []
   },
   "outputs": [
    {
     "data": {
      "text/plain": [
       "array(['Kolkata', 'Mumbai', 'Bangalore', 'Delhi', 'Chennai', 'Hyderabad'],\n",
       "      dtype=object)"
      ]
     },
     "execution_count": 7,
     "metadata": {},
     "output_type": "execute_result"
    }
   ],
   "source": [
    "df['City'].unique()"
   ]
  },
  {
   "cell_type": "code",
   "execution_count": 8,
   "id": "1ddec9a4",
   "metadata": {
    "execution": {
     "iopub.execute_input": "2022-08-26T17:27:22.948465Z",
     "iopub.status.busy": "2022-08-26T17:27:22.948083Z",
     "iopub.status.idle": "2022-08-26T17:27:22.955630Z",
     "shell.execute_reply": "2022-08-26T17:27:22.954473Z"
    },
    "papermill": {
     "duration": 0.017916,
     "end_time": "2022-08-26T17:27:22.957814",
     "exception": false,
     "start_time": "2022-08-26T17:27:22.939898",
     "status": "completed"
    },
    "tags": []
   },
   "outputs": [
    {
     "data": {
      "text/plain": [
       "array(['Bandel', 'Phool Bagan, Kankurgachi', 'Salt Lake City Sector 2',\n",
       "       ..., 'BN Reddy Nagar', 'Godavari Homes, Quthbullapur',\n",
       "       'Manikonda, Hyderabad'], dtype=object)"
      ]
     },
     "execution_count": 8,
     "metadata": {},
     "output_type": "execute_result"
    }
   ],
   "source": [
    "df['Area Locality'].unique()"
   ]
  },
  {
   "cell_type": "code",
   "execution_count": 9,
   "id": "259c78cf",
   "metadata": {
    "execution": {
     "iopub.execute_input": "2022-08-26T17:27:22.973725Z",
     "iopub.status.busy": "2022-08-26T17:27:22.973339Z",
     "iopub.status.idle": "2022-08-26T17:27:22.980194Z",
     "shell.execute_reply": "2022-08-26T17:27:22.979057Z"
    },
    "papermill": {
     "duration": 0.017437,
     "end_time": "2022-08-26T17:27:22.982437",
     "exception": false,
     "start_time": "2022-08-26T17:27:22.965000",
     "status": "completed"
    },
    "tags": []
   },
   "outputs": [
    {
     "data": {
      "text/plain": [
       "Index(['Posted On', 'BHK', 'Rent', 'Size', 'Floor', 'Area Type',\n",
       "       'Area Locality', 'City', 'Furnishing Status', 'Tenant Preferred',\n",
       "       'Bathroom', 'Point of Contact'],\n",
       "      dtype='object')"
      ]
     },
     "execution_count": 9,
     "metadata": {},
     "output_type": "execute_result"
    }
   ],
   "source": [
    "df.columns"
   ]
  },
  {
   "cell_type": "code",
   "execution_count": 10,
   "id": "decd37ad",
   "metadata": {
    "execution": {
     "iopub.execute_input": "2022-08-26T17:27:22.999227Z",
     "iopub.status.busy": "2022-08-26T17:27:22.998812Z",
     "iopub.status.idle": "2022-08-26T17:27:23.007476Z",
     "shell.execute_reply": "2022-08-26T17:27:23.006358Z"
    },
    "papermill": {
     "duration": 0.019519,
     "end_time": "2022-08-26T17:27:23.009861",
     "exception": false,
     "start_time": "2022-08-26T17:27:22.990342",
     "status": "completed"
    },
    "tags": []
   },
   "outputs": [],
   "source": [
    "rent_by_city = df.groupby(['City'], as_index=True)['Rent'].mean()"
   ]
  },
  {
   "cell_type": "code",
   "execution_count": 11,
   "id": "10db7fcc",
   "metadata": {
    "execution": {
     "iopub.execute_input": "2022-08-26T17:27:23.026203Z",
     "iopub.status.busy": "2022-08-26T17:27:23.025817Z",
     "iopub.status.idle": "2022-08-26T17:27:23.277153Z",
     "shell.execute_reply": "2022-08-26T17:27:23.275659Z"
    },
    "papermill": {
     "duration": 0.263606,
     "end_time": "2022-08-26T17:27:23.280760",
     "exception": false,
     "start_time": "2022-08-26T17:27:23.017154",
     "status": "completed"
    },
    "tags": []
   },
   "outputs": [
    {
     "data": {
      "text/plain": [
       "<AxesSubplot:xlabel='City'>"
      ]
     },
     "execution_count": 11,
     "metadata": {},
     "output_type": "execute_result"
    },
    {
     "data": {
      "image/png": "[encoded data removed]",
      "text/plain": [
       "<Figure size 432x288 with 1 Axes>"
      ]
     },
     "metadata": {
      "needs_background": "light"
     },
     "output_type": "display_data"
    }
   ],
   "source": [
    "rent_by_city.plot(kind='bar')"
   ]
  },
  {
   "cell_type": "code",
   "execution_count": 12,
   "id": "30c9691c",
   "metadata": {
    "execution": {
     "iopub.execute_input": "2022-08-26T17:27:23.300963Z",
     "iopub.status.busy": "2022-08-26T17:27:23.300007Z",
     "iopub.status.idle": "2022-08-26T17:27:23.311389Z",
     "shell.execute_reply": "2022-08-26T17:27:23.310454Z"
    },
    "papermill": {
     "duration": 0.02515,
     "end_time": "2022-08-26T17:27:23.314240",
     "exception": false,
     "start_time": "2022-08-26T17:27:23.289090",
     "status": "completed"
    },
    "tags": []
   },
   "outputs": [],
   "source": [
    "rent_by_area = df.groupby(['Area Locality'], as_index=True)['Rent'].mean()\n"
   ]
  },
  {
   "cell_type": "code",
   "execution_count": 13,
   "id": "d43c3aa1",
   "metadata": {
    "execution": {
     "iopub.execute_input": "2022-08-26T17:27:23.331577Z",
     "iopub.status.busy": "2022-08-26T17:27:23.330709Z",
     "iopub.status.idle": "2022-08-26T17:27:23.340071Z",
     "shell.execute_reply": "2022-08-26T17:27:23.338979Z"
    },
    "papermill": {
     "duration": 0.020157,
     "end_time": "2022-08-26T17:27:23.342227",
     "exception": false,
     "start_time": "2022-08-26T17:27:23.322070",
     "status": "completed"
    },
    "tags": []
   },
   "outputs": [
    {
     "data": {
      "text/plain": [
       "Area Locality\n",
       "Raheja Artesia, Worli      1000000.0\n",
       "Marathahalli                715780.0\n",
       "Lady Ratan Tower, Worli     700000.0\n",
       "Vettuvankeni                600000.0\n",
       "Bandra East                 600000.0\n",
       "                             ...    \n",
       "Bhawanipur                    3200.0\n",
       "Hatiara                       3000.0\n",
       "Rhoda Mistri Nagar            3000.0\n",
       "Ennore                        3000.0\n",
       "Behala silpara                2200.0\n",
       "Name: Rent, Length: 2235, dtype: float64"
      ]
     },
     "execution_count": 13,
     "metadata": {},
     "output_type": "execute_result"
    }
   ],
   "source": [
    "rent_by_area.sort_values(ascending=False)"
   ]
  },
  {
   "cell_type": "markdown",
   "id": "7dd0614a",
   "metadata": {
    "papermill": {
     "duration": 0.007385,
     "end_time": "2022-08-26T17:27:23.357327",
     "exception": false,
     "start_time": "2022-08-26T17:27:23.349942",
     "status": "completed"
    },
    "tags": []
   },
   "source": [
    "# Univariate Analysis\n",
    "Histograms show the overall distribution of dataset. Boxplots are useful for detecting outliers.\n"
   ]
  },
  {
   "cell_type": "code",
   "execution_count": 14,
   "id": "3da5ac1d",
   "metadata": {
    "execution": {
     "iopub.execute_input": "2022-08-26T17:27:23.374708Z",
     "iopub.status.busy": "2022-08-26T17:27:23.373990Z",
     "iopub.status.idle": "2022-08-26T17:27:25.807761Z",
     "shell.execute_reply": "2022-08-26T17:27:25.806488Z"
    },
    "papermill": {
     "duration": 2.445494,
     "end_time": "2022-08-26T17:27:25.810457",
     "exception": false,
     "start_time": "2022-08-26T17:27:23.364963",
     "status": "completed"
    },
    "tags": []
   },
   "outputs": [
    {
     "data": {
      "text/plain": [
       "<AxesSubplot:xlabel='Rent', ylabel='Count'>"
      ]
     },
     "execution_count": 14,
     "metadata": {},
     "output_type": "execute_result"
    },
    {
     "data": {
      "image/png": "[encoded data removed]",
      "text/plain": [
       "<Figure size 432x288 with 1 Axes>"
      ]
     },
     "metadata": {
      "needs_background": "light"
     },
     "output_type": "display_data"
    }
   ],
   "source": [
    "sns.histplot(data=df, x=\"Rent\", kde=True)"
   ]
  },
  {
   "cell_type": "code",
   "execution_count": 15,
   "id": "2b0617fc",
   "metadata": {
    "execution": {
     "iopub.execute_input": "2022-08-26T17:27:25.829156Z",
     "iopub.status.busy": "2022-08-26T17:27:25.828117Z",
     "iopub.status.idle": "2022-08-26T17:27:25.949342Z",
     "shell.execute_reply": "2022-08-26T17:27:25.948006Z"
    },
    "papermill": {
     "duration": 0.13354,
     "end_time": "2022-08-26T17:27:25.952309",
     "exception": false,
     "start_time": "2022-08-26T17:27:25.818769",
     "status": "completed"
    },
    "tags": []
   },
   "outputs": [
    {
     "name": "stderr",
     "output_type": "stream",
     "text": [
      "/opt/conda/lib/python3.7/site-packages/seaborn/_decorators.py:43: FutureWarning: Pass the following variable as a keyword arg: x. From version 0.12, the only valid positional argument will be `data`, and passing other arguments without an explicit keyword will result in an error or misinterpretation.\n",
      "  FutureWarning\n"
     ]
    },
    {
     "data": {
      "text/plain": [
       "<AxesSubplot:xlabel='Rent'>"
      ]
     },
     "execution_count": 15,
     "metadata": {},
     "output_type": "execute_result"
    },
    {
     "data": {
      "image/png": "[encoded data removed]",
      "text/plain": [
       "<Figure size 432x288 with 1 Axes>"
      ]
     },
     "metadata": {
      "needs_background": "light"
     },
     "output_type": "display_data"
    }
   ],
   "source": [
    "sns.boxplot(df['Rent'], data=df)  "
   ]
  },
  {
   "cell_type": "markdown",
   "id": "14aa2b17",
   "metadata": {
    "papermill": {
     "duration": 0.013492,
     "end_time": "2022-08-26T17:27:25.979128",
     "exception": false,
     "start_time": "2022-08-26T17:27:25.965636",
     "status": "completed"
    },
    "tags": []
   },
   "source": [
    "# Bivariate Analysis\n",
    "Between categorical variables"
   ]
  },
  {
   "cell_type": "code",
   "execution_count": 16,
   "id": "e3d86af9",
   "metadata": {
    "execution": {
     "iopub.execute_input": "2022-08-26T17:27:26.000508Z",
     "iopub.status.busy": "2022-08-26T17:27:25.999788Z",
     "iopub.status.idle": "2022-08-26T17:27:26.276780Z",
     "shell.execute_reply": "2022-08-26T17:27:26.275591Z"
    },
    "papermill": {
     "duration": 0.289877,
     "end_time": "2022-08-26T17:27:26.279365",
     "exception": false,
     "start_time": "2022-08-26T17:27:25.989488",
     "status": "completed"
    },
    "tags": []
   },
   "outputs": [
    {
     "name": "stderr",
     "output_type": "stream",
     "text": [
      "/opt/conda/lib/python3.7/site-packages/seaborn/_decorators.py:43: FutureWarning: Pass the following variables as keyword args: x, y. From version 0.12, the only valid positional argument will be `data`, and passing other arguments without an explicit keyword will result in an error or misinterpretation.\n",
      "  FutureWarning\n"
     ]
    },
    {
     "data": {
      "text/plain": [
       "<AxesSubplot:xlabel='Bathroom', ylabel='Rent'>"
      ]
     },
     "execution_count": 16,
     "metadata": {},
     "output_type": "execute_result"
    },
    {
     "data": {
      "image/png": "[encoded data removed]",
      "text/plain": [
       "<Figure size 432x288 with 1 Axes>"
      ]
     },
     "metadata": {
      "needs_background": "light"
     },
     "output_type": "display_data"
    }
   ],
   "source": [
    "sns.boxplot(df['Bathroom'], df['Rent'], data=df)"
   ]
  },
  {
   "cell_type": "code",
   "execution_count": 17,
   "id": "fb3551b0",
   "metadata": {
    "execution": {
     "iopub.execute_input": "2022-08-26T17:27:26.299163Z",
     "iopub.status.busy": "2022-08-26T17:27:26.298747Z",
     "iopub.status.idle": "2022-08-26T17:27:26.547737Z",
     "shell.execute_reply": "2022-08-26T17:27:26.546467Z"
    },
    "papermill": {
     "duration": 0.261919,
     "end_time": "2022-08-26T17:27:26.550480",
     "exception": false,
     "start_time": "2022-08-26T17:27:26.288561",
     "status": "completed"
    },
    "tags": []
   },
   "outputs": [
    {
     "name": "stderr",
     "output_type": "stream",
     "text": [
      "/opt/conda/lib/python3.7/site-packages/seaborn/_decorators.py:43: FutureWarning: Pass the following variables as keyword args: x, y. From version 0.12, the only valid positional argument will be `data`, and passing other arguments without an explicit keyword will result in an error or misinterpretation.\n",
      "  FutureWarning\n"
     ]
    },
    {
     "data": {
      "text/plain": [
       "<AxesSubplot:xlabel='BHK', ylabel='Rent'>"
      ]
     },
     "execution_count": 17,
     "metadata": {},
     "output_type": "execute_result"
    },
    {
     "data": {
      "image/png": "[encoded data removed]",
      "text/plain": [
       "<Figure size 432x288 with 1 Axes>"
      ]
     },
     "metadata": {
      "needs_background": "light"
     },
     "output_type": "display_data"
    }
   ],
   "source": [
    "sns.boxplot(df['BHK'], df['Rent'], data=df)"
   ]
  },
  {
   "cell_type": "code",
   "execution_count": 18,
   "id": "e10d5291",
   "metadata": {
    "execution": {
     "iopub.execute_input": "2022-08-26T17:27:26.571903Z",
     "iopub.status.busy": "2022-08-26T17:27:26.571489Z",
     "iopub.status.idle": "2022-08-26T17:27:26.579672Z",
     "shell.execute_reply": "2022-08-26T17:27:26.578589Z"
    },
    "papermill": {
     "duration": 0.021711,
     "end_time": "2022-08-26T17:27:26.582108",
     "exception": false,
     "start_time": "2022-08-26T17:27:26.560397",
     "status": "completed"
    },
    "tags": []
   },
   "outputs": [
    {
     "data": {
      "text/plain": [
       "array(['Super Area', 'Carpet Area', 'Built Area'], dtype=object)"
      ]
     },
     "execution_count": 18,
     "metadata": {},
     "output_type": "execute_result"
    }
   ],
   "source": [
    "df['Area Type'].unique()"
   ]
  },
  {
   "cell_type": "code",
   "execution_count": 19,
   "id": "59a23e50",
   "metadata": {
    "execution": {
     "iopub.execute_input": "2022-08-26T17:27:26.602893Z",
     "iopub.status.busy": "2022-08-26T17:27:26.602326Z",
     "iopub.status.idle": "2022-08-26T17:27:29.549486Z",
     "shell.execute_reply": "2022-08-26T17:27:29.548289Z"
    },
    "papermill": {
     "duration": 2.96036,
     "end_time": "2022-08-26T17:27:29.552098",
     "exception": false,
     "start_time": "2022-08-26T17:27:26.591738",
     "status": "completed"
    },
    "tags": []
   },
   "outputs": [
    {
     "data": {
      "image/png": "[encoded data removed]",
      "text/plain": [
       "<Figure size 1296x648 with 18 Axes>"
      ]
     },
     "metadata": {
      "needs_background": "light"
     },
     "output_type": "display_data"
    }
   ],
   "source": [
    "facet = sns.FacetGrid(df, col='City', row='Area Type')\n",
    "\n",
    "# Generate a facetted scatter plot\n",
    "facet.map(plt.scatter, 'Size', 'Rent')\n",
    "plt.show()"
   ]
  },
  {
   "cell_type": "code",
   "execution_count": null,
   "id": "bb8c3759",
   "metadata": {
    "papermill": {
     "duration": 0.010088,
     "end_time": "2022-08-26T17:27:29.572963",
     "exception": false,
     "start_time": "2022-08-26T17:27:29.562875",
     "status": "completed"
    },
    "tags": []
   },
   "outputs": [],
   "source": []
  }
 ],
 "metadata": {
  "kernelspec": {
   "display_name": "Python 3",
   "language": "python",
   "name": "python3"
  },
  "language_info": {
   "codemirror_mode": {
    "name": "ipython",
    "version": 3
   },
   "file_extension": ".py",
   "mimetype": "text/x-python",
   "name": "python",
   "nbconvert_exporter": "python",
   "pygments_lexer": "ipython3",
   "version": "3.7.12"
  },
  "papermill": {
   "default_parameters": {},
   "duration": 18.880898,
   "end_time": "2022-08-26T17:27:30.506192",
   "environment_variables": {},
   "exception": null,
   "input_path": "__notebook__.ipynb",
   "output_path": "__notebook__.ipynb",
   "parameters": {},
   "start_time": "2022-08-26T17:27:11.625294",
   "version": "2.3.4"
  }
 },
 "nbformat": 4,
 "nbformat_minor": 5
}
