{
 "cells": [
  {
   "cell_type": "code",
   "execution_count": 1,
   "id": "57a8eaf6",
   "metadata": {
    "_cell_guid": "b1076dfc-b9ad-4769-8c92-a6c4dae69d19",
    "_uuid": "8f2839f25d086af736a60e9eeb907d3b93b6e0e5",
    "execution": {
     "iopub.execute_input": "2023-02-19T16:16:44.738682Z",
     "iopub.status.busy": "2023-02-19T16:16:44.737553Z",
     "iopub.status.idle": "2023-02-19T16:16:45.816357Z",
     "shell.execute_reply": "2023-02-19T16:16:45.814898Z"
    },
    "papermill": {
     "duration": 1.093984,
     "end_time": "2023-02-19T16:16:45.819787",
     "exception": false,
     "start_time": "2023-02-19T16:16:44.725803",
     "status": "completed"
    },
    "tags": []
   },
   "outputs": [],
   "source": [
    "import numpy as np # linear algebra\n",
    "import pandas as pd # data processing, CSV file I/O (e.g. pd.read_csv)\n",
    "import os\n",
    "import matplotlib.pyplot as plt\n",
    "import seaborn as sns\n",
    "import regex as re"
   ]
  },
  {
   "cell_type": "code",
   "execution_count": 2,
   "id": "70376a00",
   "metadata": {
    "execution": {
     "iopub.execute_input": "2023-02-19T16:16:45.833744Z",
     "iopub.status.busy": "2023-02-19T16:16:45.833238Z",
     "iopub.status.idle": "2023-02-19T16:16:45.854163Z",
     "shell.execute_reply": "2023-02-19T16:16:45.852844Z"
    },
    "papermill": {
     "duration": 0.031625,
     "end_time": "2023-02-19T16:16:45.857336",
     "exception": false,
     "start_time": "2023-02-19T16:16:45.825711",
     "status": "completed"
    },
    "tags": []
   },
   "outputs": [],
   "source": [
    "data = pd.read_csv('/kaggle/input/gpbanglalinkrobiairtelteletalk-all-package-bd/All SIM Internet Minutes SMS Package  Details in Bangladesh.csv', encoding = \"latin\")"
   ]
  },
  {
   "cell_type": "code",
   "execution_count": 3,
   "id": "0cf62b1d",
   "metadata": {
    "execution": {
     "iopub.execute_input": "2023-02-19T16:16:45.870789Z",
     "iopub.status.busy": "2023-02-19T16:16:45.870322Z",
     "iopub.status.idle": "2023-02-19T16:16:45.896270Z",
     "shell.execute_reply": "2023-02-19T16:16:45.894763Z"
    },
    "papermill": {
     "duration": 0.036821,
     "end_time": "2023-02-19T16:16:45.900126",
     "exception": false,
     "start_time": "2023-02-19T16:16:45.863305",
     "status": "completed"
    },
    "tags": []
   },
   "outputs": [
    {
     "data": {
      "text/html": [
       "<div>\n",
       "<style scoped>\n",
       "    .dataframe tbody tr th:only-of-type {\n",
       "        vertical-align: middle;\n",
       "    }\n",
       "\n",
       "    .dataframe tbody tr th {\n",
       "        vertical-align: top;\n",
       "    }\n",
       "\n",
       "    .dataframe thead th {\n",
       "        text-align: right;\n",
       "    }\n",
       "</style>\n",
       "<table border=\"1\" class=\"dataframe\">\n",
       "  <thead>\n",
       "    <tr style=\"text-align: right;\">\n",
       "      <th></th>\n",
       "      <th>SIM Operator</th>\n",
       "      <th>SIM  Type</th>\n",
       "      <th>Packages Type</th>\n",
       "      <th>Package Volume \\n(Data/ Minutes/ SMS)</th>\n",
       "      <th>Validity\\n(Days/Hours )</th>\n",
       "      <th>Price\\n(BDT)</th>\n",
       "    </tr>\n",
       "  </thead>\n",
       "  <tbody>\n",
       "    <tr>\n",
       "      <th>0</th>\n",
       "      <td>Airtel</td>\n",
       "      <td>Regular SIM</td>\n",
       "      <td>Data</td>\n",
       "      <td>1GB FB + Insta</td>\n",
       "      <td>15 Days</td>\n",
       "      <td>12</td>\n",
       "    </tr>\n",
       "    <tr>\n",
       "      <th>1</th>\n",
       "      <td>Airtel</td>\n",
       "      <td>Regular SIM</td>\n",
       "      <td>Data</td>\n",
       "      <td>300MB</td>\n",
       "      <td>3 Days</td>\n",
       "      <td>17</td>\n",
       "    </tr>\n",
       "    <tr>\n",
       "      <th>2</th>\n",
       "      <td>Airtel</td>\n",
       "      <td>Regular SIM</td>\n",
       "      <td>Data</td>\n",
       "      <td>700 MB (100MB Bonus)</td>\n",
       "      <td>3 Days</td>\n",
       "      <td>29</td>\n",
       "    </tr>\n",
       "    <tr>\n",
       "      <th>3</th>\n",
       "      <td>Airtel</td>\n",
       "      <td>Regular SIM</td>\n",
       "      <td>Data</td>\n",
       "      <td>612 MB</td>\n",
       "      <td>3 Days</td>\n",
       "      <td>32</td>\n",
       "    </tr>\n",
       "    <tr>\n",
       "      <th>4</th>\n",
       "      <td>Airtel</td>\n",
       "      <td>Regular SIM</td>\n",
       "      <td>Data</td>\n",
       "      <td>612 MB</td>\n",
       "      <td>30 Days</td>\n",
       "      <td>132</td>\n",
       "    </tr>\n",
       "  </tbody>\n",
       "</table>\n",
       "</div>"
      ],
      "text/plain": [
       "  SIM Operator     SIM  Type  Packages Type    \\\n",
       "0        Airtel  Regular SIM            Data    \n",
       "1        Airtel  Regular SIM            Data    \n",
       "2        Airtel  Regular SIM            Data    \n",
       "3        Airtel  Regular SIM            Data    \n",
       "4        Airtel  Regular SIM            Data    \n",
       "\n",
       "  Package Volume \\n(Data/ Minutes/ SMS) Validity\\n(Days/Hours ) Price\\n(BDT)  \n",
       "0                        1GB FB + Insta                 15 Days           12  \n",
       "1                                 300MB                  3 Days           17  \n",
       "2                  700 MB (100MB Bonus)                  3 Days           29  \n",
       "3                                612 MB                  3 Days           32  \n",
       "4                                612 MB                 30 Days          132  "
      ]
     },
     "execution_count": 3,
     "metadata": {},
     "output_type": "execute_result"
    }
   ],
   "source": [
    "data.head()"
   ]
  },
  {
   "cell_type": "code",
   "execution_count": 4,
   "id": "9846c518",
   "metadata": {
    "execution": {
     "iopub.execute_input": "2023-02-19T16:16:45.913895Z",
     "iopub.status.busy": "2023-02-19T16:16:45.913361Z",
     "iopub.status.idle": "2023-02-19T16:16:45.939664Z",
     "shell.execute_reply": "2023-02-19T16:16:45.938525Z"
    },
    "papermill": {
     "duration": 0.036885,
     "end_time": "2023-02-19T16:16:45.942880",
     "exception": false,
     "start_time": "2023-02-19T16:16:45.905995",
     "status": "completed"
    },
    "tags": []
   },
   "outputs": [
    {
     "name": "stdout",
     "output_type": "stream",
     "text": [
      "<class 'pandas.core.frame.DataFrame'>\n",
      "RangeIndex: 864 entries, 0 to 863\n",
      "Data columns (total 6 columns):\n",
      " #   Column                                Non-Null Count  Dtype \n",
      "---  ------                                --------------  ----- \n",
      " 0   SIM Operator                          530 non-null    object\n",
      " 1   SIM  Type                             530 non-null    object\n",
      " 2   Packages Type                         530 non-null    object\n",
      " 3   Package Volume \n",
      "(Data/ Minutes/ SMS)  530 non-null    object\n",
      " 4   Validity\n",
      "(Days/Hours )                530 non-null    object\n",
      " 5   Price\n",
      "(BDT)                           530 non-null    object\n",
      "dtypes: object(6)\n",
      "memory usage: 40.6+ KB\n"
     ]
    }
   ],
   "source": [
    "data.info()"
   ]
  },
  {
   "cell_type": "code",
   "execution_count": 5,
   "id": "27476bf6",
   "metadata": {
    "execution": {
     "iopub.execute_input": "2023-02-19T16:16:45.959360Z",
     "iopub.status.busy": "2023-02-19T16:16:45.958292Z",
     "iopub.status.idle": "2023-02-19T16:16:45.968913Z",
     "shell.execute_reply": "2023-02-19T16:16:45.967750Z"
    },
    "papermill": {
     "duration": 0.020907,
     "end_time": "2023-02-19T16:16:45.971187",
     "exception": false,
     "start_time": "2023-02-19T16:16:45.950280",
     "status": "completed"
    },
    "tags": []
   },
   "outputs": [
    {
     "data": {
      "text/plain": [
       "SIM Operator                             334\n",
       "SIM  Type                                334\n",
       "Packages Type                            334\n",
       "Package Volume \\n(Data/ Minutes/ SMS)    334\n",
       "Validity\\n(Days/Hours )                  334\n",
       "Price\\n(BDT)                             334\n",
       "dtype: int64"
      ]
     },
     "execution_count": 5,
     "metadata": {},
     "output_type": "execute_result"
    }
   ],
   "source": [
    "data.isna().sum().sort_values(ascending=False)"
   ]
  },
  {
   "cell_type": "code",
   "execution_count": 6,
   "id": "d5160a4e",
   "metadata": {
    "execution": {
     "iopub.execute_input": "2023-02-19T16:16:45.986180Z",
     "iopub.status.busy": "2023-02-19T16:16:45.984715Z",
     "iopub.status.idle": "2023-02-19T16:16:45.993301Z",
     "shell.execute_reply": "2023-02-19T16:16:45.991868Z"
    },
    "papermill": {
     "duration": 0.018539,
     "end_time": "2023-02-19T16:16:45.995816",
     "exception": false,
     "start_time": "2023-02-19T16:16:45.977277",
     "status": "completed"
    },
    "tags": []
   },
   "outputs": [
    {
     "data": {
      "text/plain": [
       "(864, 6)"
      ]
     },
     "execution_count": 6,
     "metadata": {},
     "output_type": "execute_result"
    }
   ],
   "source": [
    "data.shape"
   ]
  },
  {
   "cell_type": "code",
   "execution_count": 7,
   "id": "2b0093c8",
   "metadata": {
    "execution": {
     "iopub.execute_input": "2023-02-19T16:16:46.009427Z",
     "iopub.status.busy": "2023-02-19T16:16:46.009011Z",
     "iopub.status.idle": "2023-02-19T16:16:46.017334Z",
     "shell.execute_reply": "2023-02-19T16:16:46.015983Z"
    },
    "papermill": {
     "duration": 0.017743,
     "end_time": "2023-02-19T16:16:46.019489",
     "exception": false,
     "start_time": "2023-02-19T16:16:46.001746",
     "status": "completed"
    },
    "tags": []
   },
   "outputs": [],
   "source": [
    "data.dropna(inplace=True)"
   ]
  },
  {
   "cell_type": "code",
   "execution_count": 8,
   "id": "977ab0e1",
   "metadata": {
    "execution": {
     "iopub.execute_input": "2023-02-19T16:16:46.033756Z",
     "iopub.status.busy": "2023-02-19T16:16:46.033005Z",
     "iopub.status.idle": "2023-02-19T16:16:46.038164Z",
     "shell.execute_reply": "2023-02-19T16:16:46.037160Z"
    },
    "papermill": {
     "duration": 0.015085,
     "end_time": "2023-02-19T16:16:46.040500",
     "exception": false,
     "start_time": "2023-02-19T16:16:46.025415",
     "status": "completed"
    },
    "tags": []
   },
   "outputs": [],
   "source": [
    "data.columns = ['sim', 'sim_type', 'pkg_type', 'pkg_volume', 'validity', 'price']"
   ]
  },
  {
   "cell_type": "code",
   "execution_count": 9,
   "id": "19081ab3",
   "metadata": {
    "execution": {
     "iopub.execute_input": "2023-02-19T16:16:46.053961Z",
     "iopub.status.busy": "2023-02-19T16:16:46.053472Z",
     "iopub.status.idle": "2023-02-19T16:16:46.061939Z",
     "shell.execute_reply": "2023-02-19T16:16:46.060469Z"
    },
    "papermill": {
     "duration": 0.018026,
     "end_time": "2023-02-19T16:16:46.064369",
     "exception": false,
     "start_time": "2023-02-19T16:16:46.046343",
     "status": "completed"
    },
    "tags": []
   },
   "outputs": [
    {
     "name": "stdout",
     "output_type": "stream",
     "text": [
      "['Airtel' 'Banglalink ' 'GP' 'Robi' 'Robi ' 'Teletalk ']\n",
      "['Regular SIM ' 'Reactivation SIM ']\n",
      "['Data ' 'Combo Package ' 'Minutes ' 'SMS' 'Minutes' 'minutes' 'Data']\n"
     ]
    }
   ],
   "source": [
    "print(data['sim'].unique())\n",
    "print(data['sim_type'].unique())\n",
    "print(data['pkg_type'].unique())"
   ]
  },
  {
   "cell_type": "markdown",
   "id": "8fee1d8c",
   "metadata": {
    "papermill": {
     "duration": 0.005739,
     "end_time": "2023-02-19T16:16:46.075992",
     "exception": false,
     "start_time": "2023-02-19T16:16:46.070253",
     "status": "completed"
    },
    "tags": []
   },
   "source": [
    "Compare data packages prices across the different sim providers"
   ]
  },
  {
   "cell_type": "code",
   "execution_count": 10,
   "id": "c1b394af",
   "metadata": {
    "execution": {
     "iopub.execute_input": "2023-02-19T16:16:46.089738Z",
     "iopub.status.busy": "2023-02-19T16:16:46.089285Z",
     "iopub.status.idle": "2023-02-19T16:16:46.097609Z",
     "shell.execute_reply": "2023-02-19T16:16:46.096668Z"
    },
    "papermill": {
     "duration": 0.017838,
     "end_time": "2023-02-19T16:16:46.099594",
     "exception": false,
     "start_time": "2023-02-19T16:16:46.081756",
     "status": "completed"
    },
    "tags": []
   },
   "outputs": [
    {
     "data": {
      "text/plain": [
       "array(['12', '17', '29', '32', '132', '38', '49', '57', '101', '63',\n",
       "       '229', '68', '114', '249', '76', '89', '129', '147', '344', '398',\n",
       "       '429', '36', '67', '98', '158', '128', '198', '298', '299', '348',\n",
       "       '498', '548', '598', '648', '799', '293', '295', '297', '601',\n",
       "       '602', '603', '604', '219', '397', '549', '399', '719', '44',\n",
       "       '269', '497', '41', '60', '19', '449', '200', '349', '164', '6',\n",
       "       '8', '14', '18', '28', '34', '48', '9', '10.96', '23', '46', '53',\n",
       "       '74', '78', '93', '97', '107', '118', '149', '169', '199', '207',\n",
       "       '228', '278', '307', '499', '574', '15', '37', '47', '25', '5',\n",
       "       '2', '77', '119', '96', '51', '209', '58', '194', '116', '91',\n",
       "       '306', '389', '619', '599', '139', '99', '141', '54', '22', '33',\n",
       "       '547', '1199', '42', '122', '204', '342', '542', '699', '239',\n",
       "       '462', '512', '388', '27', '66', '117', '157', '197', '137', '88',\n",
       "       '188', '288', '488', '59', '159', '21', '39', '69', '79', '109',\n",
       "       '30', '7', '3', '1,199', '43', '84', '83', '26', '56', '112',\n",
       "       '148', '179', '134', '55', '75', '166', '177', '214', '476', '538',\n",
       "       '642', '108', '126', '143', '211', '319', '359', '698', '749',\n",
       "       '124', '174', '218', '248', '258', '378', '609', '727', '130',\n",
       "       '45', '10', '309', '899', '998', '949', '469', '769', '559', '439',\n",
       "       '459', '178', '279', '131', '208', '196', '264', '154', '171',\n",
       "       '138', '189', '123', '64', '507', '350', '320', '997', '144',\n",
       "       '251', '183', '61', '448', '31', '20', '136', '152', '259', '176',\n",
       "       '201', '276', '301', '445', '13', '33ÿ', '187ÿ', '221', '292ÿ',\n",
       "       '193ÿ', '287ÿ', '387', '537', '587', '633ÿ', '94ÿ', '168', '213ÿ',\n",
       "       '273', '63ÿ', '224', '548ÿ', '101ÿ', '199ÿ', '50', '96ÿ', '181',\n",
       "       '217ÿ', '286', '86', '287', '0', '127'], dtype=object)"
      ]
     },
     "execution_count": 10,
     "metadata": {},
     "output_type": "execute_result"
    }
   ],
   "source": [
    "data['price'].unique()"
   ]
  },
  {
   "cell_type": "code",
   "execution_count": 11,
   "id": "4bbcd66e",
   "metadata": {
    "execution": {
     "iopub.execute_input": "2023-02-19T16:16:46.114784Z",
     "iopub.status.busy": "2023-02-19T16:16:46.113603Z",
     "iopub.status.idle": "2023-02-19T16:16:46.119934Z",
     "shell.execute_reply": "2023-02-19T16:16:46.118629Z"
    },
    "papermill": {
     "duration": 0.016325,
     "end_time": "2023-02-19T16:16:46.122219",
     "exception": false,
     "start_time": "2023-02-19T16:16:46.105894",
     "status": "completed"
    },
    "tags": []
   },
   "outputs": [],
   "source": [
    "def extract_num(text):\n",
    "    num = re.findall(r'\\d+', text)\n",
    "    if num:\n",
    "        return num[0]\n",
    "    "
   ]
  },
  {
   "cell_type": "code",
   "execution_count": 12,
   "id": "7710ed1a",
   "metadata": {
    "execution": {
     "iopub.execute_input": "2023-02-19T16:16:46.137902Z",
     "iopub.status.busy": "2023-02-19T16:16:46.137215Z",
     "iopub.status.idle": "2023-02-19T16:16:46.142615Z",
     "shell.execute_reply": "2023-02-19T16:16:46.141889Z"
    },
    "papermill": {
     "duration": 0.01609,
     "end_time": "2023-02-19T16:16:46.144707",
     "exception": false,
     "start_time": "2023-02-19T16:16:46.128617",
     "status": "completed"
    },
    "tags": []
   },
   "outputs": [],
   "source": [
    "data = data.astype('str')"
   ]
  },
  {
   "cell_type": "markdown",
   "id": "90471678",
   "metadata": {
    "papermill": {
     "duration": 0.005742,
     "end_time": "2023-02-19T16:16:46.156675",
     "exception": false,
     "start_time": "2023-02-19T16:16:46.150933",
     "status": "completed"
    },
    "tags": []
   },
   "source": [
    "convert price to number"
   ]
  },
  {
   "cell_type": "code",
   "execution_count": 13,
   "id": "a4aebff2",
   "metadata": {
    "execution": {
     "iopub.execute_input": "2023-02-19T16:16:46.170955Z",
     "iopub.status.busy": "2023-02-19T16:16:46.170285Z",
     "iopub.status.idle": "2023-02-19T16:16:46.181583Z",
     "shell.execute_reply": "2023-02-19T16:16:46.180333Z"
    },
    "papermill": {
     "duration": 0.02165,
     "end_time": "2023-02-19T16:16:46.184257",
     "exception": false,
     "start_time": "2023-02-19T16:16:46.162607",
     "status": "completed"
    },
    "tags": []
   },
   "outputs": [],
   "source": [
    "\n",
    "data['price'] = data['price'].apply(extract_num)"
   ]
  },
  {
   "cell_type": "code",
   "execution_count": 14,
   "id": "ff3e0865",
   "metadata": {
    "execution": {
     "iopub.execute_input": "2023-02-19T16:16:46.198656Z",
     "iopub.status.busy": "2023-02-19T16:16:46.198164Z",
     "iopub.status.idle": "2023-02-19T16:16:46.205371Z",
     "shell.execute_reply": "2023-02-19T16:16:46.204140Z"
    },
    "papermill": {
     "duration": 0.017035,
     "end_time": "2023-02-19T16:16:46.207579",
     "exception": false,
     "start_time": "2023-02-19T16:16:46.190544",
     "status": "completed"
    },
    "tags": []
   },
   "outputs": [],
   "source": [
    "data['price'] = data['price'].astype('int32')"
   ]
  },
  {
   "cell_type": "code",
   "execution_count": 15,
   "id": "1d0e9844",
   "metadata": {
    "execution": {
     "iopub.execute_input": "2023-02-19T16:16:46.222540Z",
     "iopub.status.busy": "2023-02-19T16:16:46.221883Z",
     "iopub.status.idle": "2023-02-19T16:16:46.227523Z",
     "shell.execute_reply": "2023-02-19T16:16:46.226671Z"
    },
    "papermill": {
     "duration": 0.015689,
     "end_time": "2023-02-19T16:16:46.229641",
     "exception": false,
     "start_time": "2023-02-19T16:16:46.213952",
     "status": "completed"
    },
    "tags": []
   },
   "outputs": [],
   "source": [
    "data['pkg_type'] = data['pkg_type'].apply(lambda x: x.lower())"
   ]
  },
  {
   "cell_type": "code",
   "execution_count": 16,
   "id": "b5351e76",
   "metadata": {
    "execution": {
     "iopub.execute_input": "2023-02-19T16:16:46.244094Z",
     "iopub.status.busy": "2023-02-19T16:16:46.243642Z",
     "iopub.status.idle": "2023-02-19T16:16:46.254435Z",
     "shell.execute_reply": "2023-02-19T16:16:46.253411Z"
    },
    "papermill": {
     "duration": 0.020785,
     "end_time": "2023-02-19T16:16:46.256750",
     "exception": false,
     "start_time": "2023-02-19T16:16:46.235965",
     "status": "completed"
    },
    "tags": []
   },
   "outputs": [],
   "source": [
    "comparison_data = data.groupby(['sim', 'pkg_type'], as_index=False)['price'].mean()"
   ]
  },
  {
   "cell_type": "code",
   "execution_count": 17,
   "id": "a1d13c4d",
   "metadata": {
    "execution": {
     "iopub.execute_input": "2023-02-19T16:16:46.271602Z",
     "iopub.status.busy": "2023-02-19T16:16:46.270958Z",
     "iopub.status.idle": "2023-02-19T16:16:46.283756Z",
     "shell.execute_reply": "2023-02-19T16:16:46.282606Z"
    },
    "papermill": {
     "duration": 0.023616,
     "end_time": "2023-02-19T16:16:46.286647",
     "exception": false,
     "start_time": "2023-02-19T16:16:46.263031",
     "status": "completed"
    },
    "tags": []
   },
   "outputs": [
    {
     "data": {
      "text/html": [
       "<div>\n",
       "<style scoped>\n",
       "    .dataframe tbody tr th:only-of-type {\n",
       "        vertical-align: middle;\n",
       "    }\n",
       "\n",
       "    .dataframe tbody tr th {\n",
       "        vertical-align: top;\n",
       "    }\n",
       "\n",
       "    .dataframe thead th {\n",
       "        text-align: right;\n",
       "    }\n",
       "</style>\n",
       "<table border=\"1\" class=\"dataframe\">\n",
       "  <thead>\n",
       "    <tr style=\"text-align: right;\">\n",
       "      <th></th>\n",
       "      <th>sim</th>\n",
       "      <th>pkg_type</th>\n",
       "      <th>price</th>\n",
       "    </tr>\n",
       "  </thead>\n",
       "  <tbody>\n",
       "    <tr>\n",
       "      <th>0</th>\n",
       "      <td>Airtel</td>\n",
       "      <td>combo package</td>\n",
       "      <td>328.463415</td>\n",
       "    </tr>\n",
       "    <tr>\n",
       "      <th>1</th>\n",
       "      <td>Airtel</td>\n",
       "      <td>data</td>\n",
       "      <td>169.063830</td>\n",
       "    </tr>\n",
       "    <tr>\n",
       "      <th>2</th>\n",
       "      <td>Airtel</td>\n",
       "      <td>minutes</td>\n",
       "      <td>93.680000</td>\n",
       "    </tr>\n",
       "    <tr>\n",
       "      <th>3</th>\n",
       "      <td>Airtel</td>\n",
       "      <td>sms</td>\n",
       "      <td>26.857143</td>\n",
       "    </tr>\n",
       "    <tr>\n",
       "      <th>4</th>\n",
       "      <td>Banglalink</td>\n",
       "      <td>combo package</td>\n",
       "      <td>218.000000</td>\n",
       "    </tr>\n",
       "    <tr>\n",
       "      <th>5</th>\n",
       "      <td>Banglalink</td>\n",
       "      <td>data</td>\n",
       "      <td>235.229508</td>\n",
       "    </tr>\n",
       "    <tr>\n",
       "      <th>6</th>\n",
       "      <td>Banglalink</td>\n",
       "      <td>minutes</td>\n",
       "      <td>90.023810</td>\n",
       "    </tr>\n",
       "    <tr>\n",
       "      <th>7</th>\n",
       "      <td>Banglalink</td>\n",
       "      <td>sms</td>\n",
       "      <td>13.750000</td>\n",
       "    </tr>\n",
       "    <tr>\n",
       "      <th>8</th>\n",
       "      <td>GP</td>\n",
       "      <td>combo package</td>\n",
       "      <td>506.142857</td>\n",
       "    </tr>\n",
       "    <tr>\n",
       "      <th>9</th>\n",
       "      <td>GP</td>\n",
       "      <td>data</td>\n",
       "      <td>232.762712</td>\n",
       "    </tr>\n",
       "    <tr>\n",
       "      <th>10</th>\n",
       "      <td>GP</td>\n",
       "      <td>minutes</td>\n",
       "      <td>133.166667</td>\n",
       "    </tr>\n",
       "    <tr>\n",
       "      <th>11</th>\n",
       "      <td>GP</td>\n",
       "      <td>sms</td>\n",
       "      <td>13.714286</td>\n",
       "    </tr>\n",
       "    <tr>\n",
       "      <th>12</th>\n",
       "      <td>Robi</td>\n",
       "      <td>combo package</td>\n",
       "      <td>432.750000</td>\n",
       "    </tr>\n",
       "    <tr>\n",
       "      <th>13</th>\n",
       "      <td>Robi</td>\n",
       "      <td>data</td>\n",
       "      <td>223.371429</td>\n",
       "    </tr>\n",
       "    <tr>\n",
       "      <th>14</th>\n",
       "      <td>Robi</td>\n",
       "      <td>minutes</td>\n",
       "      <td>206.823529</td>\n",
       "    </tr>\n",
       "    <tr>\n",
       "      <th>15</th>\n",
       "      <td>Robi</td>\n",
       "      <td>combo package</td>\n",
       "      <td>100.285714</td>\n",
       "    </tr>\n",
       "    <tr>\n",
       "      <th>16</th>\n",
       "      <td>Robi</td>\n",
       "      <td>data</td>\n",
       "      <td>62.500000</td>\n",
       "    </tr>\n",
       "    <tr>\n",
       "      <th>17</th>\n",
       "      <td>Robi</td>\n",
       "      <td>minutes</td>\n",
       "      <td>91.285714</td>\n",
       "    </tr>\n",
       "    <tr>\n",
       "      <th>18</th>\n",
       "      <td>Robi</td>\n",
       "      <td>sms</td>\n",
       "      <td>11.666667</td>\n",
       "    </tr>\n",
       "    <tr>\n",
       "      <th>19</th>\n",
       "      <td>Teletalk</td>\n",
       "      <td>combo package</td>\n",
       "      <td>229.170732</td>\n",
       "    </tr>\n",
       "    <tr>\n",
       "      <th>20</th>\n",
       "      <td>Teletalk</td>\n",
       "      <td>data</td>\n",
       "      <td>117.386364</td>\n",
       "    </tr>\n",
       "    <tr>\n",
       "      <th>21</th>\n",
       "      <td>Teletalk</td>\n",
       "      <td>minutes</td>\n",
       "      <td>113.142857</td>\n",
       "    </tr>\n",
       "    <tr>\n",
       "      <th>22</th>\n",
       "      <td>Teletalk</td>\n",
       "      <td>sms</td>\n",
       "      <td>10.000000</td>\n",
       "    </tr>\n",
       "  </tbody>\n",
       "</table>\n",
       "</div>"
      ],
      "text/plain": [
       "            sim        pkg_type       price\n",
       "0        Airtel  combo package   328.463415\n",
       "1        Airtel           data   169.063830\n",
       "2        Airtel        minutes    93.680000\n",
       "3        Airtel             sms   26.857143\n",
       "4   Banglalink   combo package   218.000000\n",
       "5   Banglalink            data   235.229508\n",
       "6   Banglalink         minutes    90.023810\n",
       "7   Banglalink              sms   13.750000\n",
       "8            GP  combo package   506.142857\n",
       "9            GP           data   232.762712\n",
       "10           GP         minutes  133.166667\n",
       "11           GP             sms   13.714286\n",
       "12         Robi  combo package   432.750000\n",
       "13         Robi           data   223.371429\n",
       "14         Robi         minutes  206.823529\n",
       "15        Robi   combo package   100.285714\n",
       "16        Robi            data    62.500000\n",
       "17        Robi          minutes   91.285714\n",
       "18        Robi              sms   11.666667\n",
       "19    Teletalk   combo package   229.170732\n",
       "20    Teletalk             data  117.386364\n",
       "21    Teletalk          minutes  113.142857\n",
       "22    Teletalk              sms   10.000000"
      ]
     },
     "execution_count": 17,
     "metadata": {},
     "output_type": "execute_result"
    }
   ],
   "source": [
    "comparison_data"
   ]
  },
  {
   "cell_type": "code",
   "execution_count": 18,
   "id": "0a3ccb68",
   "metadata": {
    "execution": {
     "iopub.execute_input": "2023-02-19T16:16:46.302675Z",
     "iopub.status.busy": "2023-02-19T16:16:46.302042Z",
     "iopub.status.idle": "2023-02-19T16:16:46.926460Z",
     "shell.execute_reply": "2023-02-19T16:16:46.925052Z"
    },
    "papermill": {
     "duration": 0.636402,
     "end_time": "2023-02-19T16:16:46.929889",
     "exception": false,
     "start_time": "2023-02-19T16:16:46.293487",
     "status": "completed"
    },
    "tags": []
   },
   "outputs": [
    {
     "data": {
      "text/plain": [
       "<AxesSubplot:xlabel='sim', ylabel='price'>"
      ]
     },
     "execution_count": 18,
     "metadata": {},
     "output_type": "execute_result"
    },
    {
     "data": {
      "image/png": "[encoded data removed]",
      "text/plain": [
       "<Figure size 640x480 with 1 Axes>"
      ]
     },
     "metadata": {},
     "output_type": "display_data"
    }
   ],
   "source": [
    "sns.barplot(data=comparison_data , x=\"sim\", y=\"price\", hue=\"pkg_type\")"
   ]
  },
  {
   "cell_type": "code",
   "execution_count": null,
   "id": "ece90e99",
   "metadata": {
    "papermill": {
     "duration": 0.010971,
     "end_time": "2023-02-19T16:16:46.955474",
     "exception": false,
     "start_time": "2023-02-19T16:16:46.944503",
     "status": "completed"
    },
    "tags": []
   },
   "outputs": [],
   "source": []
  }
 ],
 "metadata": {
  "kernelspec": {
   "display_name": "Python 3",
   "language": "python",
   "name": "python3"
  },
  "language_info": {
   "codemirror_mode": {
    "name": "ipython",
    "version": 3
   },
   "file_extension": ".py",
   "mimetype": "text/x-python",
   "name": "python",
   "nbconvert_exporter": "python",
   "pygments_lexer": "ipython3",
   "version": "3.7.12"
  },
  "papermill": {
   "default_parameters": {},
   "duration": 11.973137,
   "end_time": "2023-02-19T16:16:47.888291",
   "environment_variables": {},
   "exception": null,
   "input_path": "__notebook__.ipynb",
   "output_path": "__notebook__.ipynb",
   "parameters": {},
   "start_time": "2023-02-19T16:16:35.915154",
   "version": "2.3.4"
  }
 },
 "nbformat": 4,
 "nbformat_minor": 5
}
