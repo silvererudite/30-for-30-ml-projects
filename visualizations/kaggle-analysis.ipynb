{
 "cells": [
  {
   "cell_type": "code",
   "execution_count": 1,
   "id": "13dc21a6",
   "metadata": {
    "_cell_guid": "b1076dfc-b9ad-4769-8c92-a6c4dae69d19",
    "_uuid": "8f2839f25d086af736a60e9eeb907d3b93b6e0e5",
    "execution": {
     "iopub.execute_input": "2022-10-15T19:12:55.114111Z",
     "iopub.status.busy": "2022-10-15T19:12:55.113491Z",
     "iopub.status.idle": "2022-10-15T19:12:55.997348Z",
     "shell.execute_reply": "2022-10-15T19:12:55.996367Z"
    },
    "papermill": {
     "duration": 0.892853,
     "end_time": "2022-10-15T19:12:55.999994",
     "exception": false,
     "start_time": "2022-10-15T19:12:55.107141",
     "status": "completed"
    },
    "tags": []
   },
   "outputs": [],
   "source": [
    "import numpy as np\n",
    "import pandas as pd \n",
    "import os\n",
    "import matplotlib.pyplot as plt\n",
    "import seaborn as sns\n",
    "color = sns.color_palette()\n",
    "%matplotlib inline\n",
    "\n",
    "import plotly.offline as py\n",
    "import plotly.graph_objs as go\n",
    "import plotly.tools as tls"
   ]
  },
  {
   "cell_type": "code",
   "execution_count": 2,
   "id": "933d6331",
   "metadata": {
    "execution": {
     "iopub.execute_input": "2022-10-15T19:12:56.008464Z",
     "iopub.status.busy": "2022-10-15T19:12:56.008141Z",
     "iopub.status.idle": "2022-10-15T19:12:56.012171Z",
     "shell.execute_reply": "2022-10-15T19:12:56.011305Z"
    },
    "papermill": {
     "duration": 0.010277,
     "end_time": "2022-10-15T19:12:56.013963",
     "exception": false,
     "start_time": "2022-10-15T19:12:56.003686",
     "status": "completed"
    },
    "tags": []
   },
   "outputs": [],
   "source": [
    "DATA_DIR = \"../input/kaggle-survey-2022/\""
   ]
  },
  {
   "cell_type": "code",
   "execution_count": 3,
   "id": "aefe329b",
   "metadata": {
    "execution": {
     "iopub.execute_input": "2022-10-15T19:12:56.022055Z",
     "iopub.status.busy": "2022-10-15T19:12:56.021721Z",
     "iopub.status.idle": "2022-10-15T19:12:56.029762Z",
     "shell.execute_reply": "2022-10-15T19:12:56.028823Z"
    },
    "papermill": {
     "duration": 0.014423,
     "end_time": "2022-10-15T19:12:56.031829",
     "exception": false,
     "start_time": "2022-10-15T19:12:56.017406",
     "status": "completed"
    },
    "tags": []
   },
   "outputs": [
    {
     "data": {
      "text/plain": [
       "['Supplementary Data', 'kaggle_survey_2022_responses.csv']"
      ]
     },
     "execution_count": 3,
     "metadata": {},
     "output_type": "execute_result"
    }
   ],
   "source": [
    "os.listdir(DATA_DIR)"
   ]
  },
  {
   "cell_type": "code",
   "execution_count": 4,
   "id": "ee020e99",
   "metadata": {
    "execution": {
     "iopub.execute_input": "2022-10-15T19:12:56.040586Z",
     "iopub.status.busy": "2022-10-15T19:12:56.040094Z",
     "iopub.status.idle": "2022-10-15T19:12:57.126472Z",
     "shell.execute_reply": "2022-10-15T19:12:57.125199Z"
    },
    "papermill": {
     "duration": 1.093924,
     "end_time": "2022-10-15T19:12:57.129249",
     "exception": false,
     "start_time": "2022-10-15T19:12:56.035325",
     "status": "completed"
    },
    "tags": []
   },
   "outputs": [
    {
     "name": "stderr",
     "output_type": "stream",
     "text": [
      "/opt/conda/lib/python3.7/site-packages/IPython/core/interactiveshell.py:3552: DtypeWarning:\n",
      "\n",
      "Columns (0,208,225,255,257,260,270,271,277) have mixed types.Specify dtype option on import or set low_memory=False.\n",
      "\n"
     ]
    },
    {
     "data": {
      "text/html": [
       "<div>\n",
       "<style scoped>\n",
       "    .dataframe tbody tr th:only-of-type {\n",
       "        vertical-align: middle;\n",
       "    }\n",
       "\n",
       "    .dataframe tbody tr th {\n",
       "        vertical-align: top;\n",
       "    }\n",
       "\n",
       "    .dataframe thead th {\n",
       "        text-align: right;\n",
       "    }\n",
       "</style>\n",
       "<table border=\"1\" class=\"dataframe\">\n",
       "  <thead>\n",
       "    <tr style=\"text-align: right;\">\n",
       "      <th></th>\n",
       "      <th>Duration (in seconds)</th>\n",
       "      <th>Q2</th>\n",
       "      <th>Q3</th>\n",
       "      <th>Q4</th>\n",
       "      <th>Q5</th>\n",
       "      <th>Q6_1</th>\n",
       "      <th>Q6_2</th>\n",
       "      <th>Q6_3</th>\n",
       "      <th>Q6_4</th>\n",
       "      <th>Q6_5</th>\n",
       "      <th>...</th>\n",
       "      <th>Q44_3</th>\n",
       "      <th>Q44_4</th>\n",
       "      <th>Q44_5</th>\n",
       "      <th>Q44_6</th>\n",
       "      <th>Q44_7</th>\n",
       "      <th>Q44_8</th>\n",
       "      <th>Q44_9</th>\n",
       "      <th>Q44_10</th>\n",
       "      <th>Q44_11</th>\n",
       "      <th>Q44_12</th>\n",
       "    </tr>\n",
       "  </thead>\n",
       "  <tbody>\n",
       "    <tr>\n",
       "      <th>0</th>\n",
       "      <td>Duration (in seconds)</td>\n",
       "      <td>What is your age (# years)?</td>\n",
       "      <td>What is your gender? - Selected Choice</td>\n",
       "      <td>In which country do you currently reside?</td>\n",
       "      <td>Are you currently a student? (high school, uni...</td>\n",
       "      <td>On which platforms have you begun or completed...</td>\n",
       "      <td>On which platforms have you begun or completed...</td>\n",
       "      <td>On which platforms have you begun or completed...</td>\n",
       "      <td>On which platforms have you begun or completed...</td>\n",
       "      <td>On which platforms have you begun or completed...</td>\n",
       "      <td>...</td>\n",
       "      <td>Who/what are your favorite media sources that ...</td>\n",
       "      <td>Who/what are your favorite media sources that ...</td>\n",
       "      <td>Who/what are your favorite media sources that ...</td>\n",
       "      <td>Who/what are your favorite media sources that ...</td>\n",
       "      <td>Who/what are your favorite media sources that ...</td>\n",
       "      <td>Who/what are your favorite media sources that ...</td>\n",
       "      <td>Who/what are your favorite media sources that ...</td>\n",
       "      <td>Who/what are your favorite media sources that ...</td>\n",
       "      <td>Who/what are your favorite media sources that ...</td>\n",
       "      <td>Who/what are your favorite media sources that ...</td>\n",
       "    </tr>\n",
       "    <tr>\n",
       "      <th>1</th>\n",
       "      <td>121</td>\n",
       "      <td>30-34</td>\n",
       "      <td>Man</td>\n",
       "      <td>India</td>\n",
       "      <td>No</td>\n",
       "      <td>NaN</td>\n",
       "      <td>NaN</td>\n",
       "      <td>NaN</td>\n",
       "      <td>NaN</td>\n",
       "      <td>NaN</td>\n",
       "      <td>...</td>\n",
       "      <td>NaN</td>\n",
       "      <td>NaN</td>\n",
       "      <td>NaN</td>\n",
       "      <td>NaN</td>\n",
       "      <td>NaN</td>\n",
       "      <td>NaN</td>\n",
       "      <td>NaN</td>\n",
       "      <td>NaN</td>\n",
       "      <td>NaN</td>\n",
       "      <td>NaN</td>\n",
       "    </tr>\n",
       "    <tr>\n",
       "      <th>2</th>\n",
       "      <td>462</td>\n",
       "      <td>30-34</td>\n",
       "      <td>Man</td>\n",
       "      <td>Algeria</td>\n",
       "      <td>No</td>\n",
       "      <td>NaN</td>\n",
       "      <td>NaN</td>\n",
       "      <td>NaN</td>\n",
       "      <td>NaN</td>\n",
       "      <td>NaN</td>\n",
       "      <td>...</td>\n",
       "      <td>NaN</td>\n",
       "      <td>NaN</td>\n",
       "      <td>NaN</td>\n",
       "      <td>NaN</td>\n",
       "      <td>NaN</td>\n",
       "      <td>NaN</td>\n",
       "      <td>NaN</td>\n",
       "      <td>NaN</td>\n",
       "      <td>NaN</td>\n",
       "      <td>NaN</td>\n",
       "    </tr>\n",
       "    <tr>\n",
       "      <th>3</th>\n",
       "      <td>293</td>\n",
       "      <td>18-21</td>\n",
       "      <td>Man</td>\n",
       "      <td>Egypt</td>\n",
       "      <td>Yes</td>\n",
       "      <td>Coursera</td>\n",
       "      <td>edX</td>\n",
       "      <td>NaN</td>\n",
       "      <td>DataCamp</td>\n",
       "      <td>NaN</td>\n",
       "      <td>...</td>\n",
       "      <td>NaN</td>\n",
       "      <td>Kaggle (notebooks, forums, etc)</td>\n",
       "      <td>NaN</td>\n",
       "      <td>YouTube (Kaggle YouTube, Cloud AI Adventures, ...</td>\n",
       "      <td>Podcasts (Chai Time Data Science, O’Reilly Dat...</td>\n",
       "      <td>NaN</td>\n",
       "      <td>NaN</td>\n",
       "      <td>NaN</td>\n",
       "      <td>NaN</td>\n",
       "      <td>NaN</td>\n",
       "    </tr>\n",
       "    <tr>\n",
       "      <th>4</th>\n",
       "      <td>851</td>\n",
       "      <td>55-59</td>\n",
       "      <td>Man</td>\n",
       "      <td>France</td>\n",
       "      <td>No</td>\n",
       "      <td>Coursera</td>\n",
       "      <td>NaN</td>\n",
       "      <td>Kaggle Learn Courses</td>\n",
       "      <td>NaN</td>\n",
       "      <td>NaN</td>\n",
       "      <td>...</td>\n",
       "      <td>NaN</td>\n",
       "      <td>Kaggle (notebooks, forums, etc)</td>\n",
       "      <td>Course Forums (forums.fast.ai, Coursera forums...</td>\n",
       "      <td>NaN</td>\n",
       "      <td>NaN</td>\n",
       "      <td>Blogs (Towards Data Science, Analytics Vidhya,...</td>\n",
       "      <td>NaN</td>\n",
       "      <td>NaN</td>\n",
       "      <td>NaN</td>\n",
       "      <td>NaN</td>\n",
       "    </tr>\n",
       "  </tbody>\n",
       "</table>\n",
       "<p>5 rows × 296 columns</p>\n",
       "</div>"
      ],
      "text/plain": [
       "   Duration (in seconds)                           Q2  \\\n",
       "0  Duration (in seconds)  What is your age (# years)?   \n",
       "1                    121                        30-34   \n",
       "2                    462                        30-34   \n",
       "3                    293                        18-21   \n",
       "4                    851                        55-59   \n",
       "\n",
       "                                       Q3  \\\n",
       "0  What is your gender? - Selected Choice   \n",
       "1                                     Man   \n",
       "2                                     Man   \n",
       "3                                     Man   \n",
       "4                                     Man   \n",
       "\n",
       "                                          Q4  \\\n",
       "0  In which country do you currently reside?   \n",
       "1                                      India   \n",
       "2                                    Algeria   \n",
       "3                                      Egypt   \n",
       "4                                     France   \n",
       "\n",
       "                                                  Q5  \\\n",
       "0  Are you currently a student? (high school, uni...   \n",
       "1                                                 No   \n",
       "2                                                 No   \n",
       "3                                                Yes   \n",
       "4                                                 No   \n",
       "\n",
       "                                                Q6_1  \\\n",
       "0  On which platforms have you begun or completed...   \n",
       "1                                                NaN   \n",
       "2                                                NaN   \n",
       "3                                           Coursera   \n",
       "4                                           Coursera   \n",
       "\n",
       "                                                Q6_2  \\\n",
       "0  On which platforms have you begun or completed...   \n",
       "1                                                NaN   \n",
       "2                                                NaN   \n",
       "3                                                edX   \n",
       "4                                                NaN   \n",
       "\n",
       "                                                Q6_3  \\\n",
       "0  On which platforms have you begun or completed...   \n",
       "1                                                NaN   \n",
       "2                                                NaN   \n",
       "3                                                NaN   \n",
       "4                               Kaggle Learn Courses   \n",
       "\n",
       "                                                Q6_4  \\\n",
       "0  On which platforms have you begun or completed...   \n",
       "1                                                NaN   \n",
       "2                                                NaN   \n",
       "3                                           DataCamp   \n",
       "4                                                NaN   \n",
       "\n",
       "                                                Q6_5  ...  \\\n",
       "0  On which platforms have you begun or completed...  ...   \n",
       "1                                                NaN  ...   \n",
       "2                                                NaN  ...   \n",
       "3                                                NaN  ...   \n",
       "4                                                NaN  ...   \n",
       "\n",
       "                                               Q44_3  \\\n",
       "0  Who/what are your favorite media sources that ...   \n",
       "1                                                NaN   \n",
       "2                                                NaN   \n",
       "3                                                NaN   \n",
       "4                                                NaN   \n",
       "\n",
       "                                               Q44_4  \\\n",
       "0  Who/what are your favorite media sources that ...   \n",
       "1                                                NaN   \n",
       "2                                                NaN   \n",
       "3                    Kaggle (notebooks, forums, etc)   \n",
       "4                    Kaggle (notebooks, forums, etc)   \n",
       "\n",
       "                                               Q44_5  \\\n",
       "0  Who/what are your favorite media sources that ...   \n",
       "1                                                NaN   \n",
       "2                                                NaN   \n",
       "3                                                NaN   \n",
       "4  Course Forums (forums.fast.ai, Coursera forums...   \n",
       "\n",
       "                                               Q44_6  \\\n",
       "0  Who/what are your favorite media sources that ...   \n",
       "1                                                NaN   \n",
       "2                                                NaN   \n",
       "3  YouTube (Kaggle YouTube, Cloud AI Adventures, ...   \n",
       "4                                                NaN   \n",
       "\n",
       "                                               Q44_7  \\\n",
       "0  Who/what are your favorite media sources that ...   \n",
       "1                                                NaN   \n",
       "2                                                NaN   \n",
       "3  Podcasts (Chai Time Data Science, O’Reilly Dat...   \n",
       "4                                                NaN   \n",
       "\n",
       "                                               Q44_8  \\\n",
       "0  Who/what are your favorite media sources that ...   \n",
       "1                                                NaN   \n",
       "2                                                NaN   \n",
       "3                                                NaN   \n",
       "4  Blogs (Towards Data Science, Analytics Vidhya,...   \n",
       "\n",
       "                                               Q44_9  \\\n",
       "0  Who/what are your favorite media sources that ...   \n",
       "1                                                NaN   \n",
       "2                                                NaN   \n",
       "3                                                NaN   \n",
       "4                                                NaN   \n",
       "\n",
       "                                              Q44_10  \\\n",
       "0  Who/what are your favorite media sources that ...   \n",
       "1                                                NaN   \n",
       "2                                                NaN   \n",
       "3                                                NaN   \n",
       "4                                                NaN   \n",
       "\n",
       "                                              Q44_11  \\\n",
       "0  Who/what are your favorite media sources that ...   \n",
       "1                                                NaN   \n",
       "2                                                NaN   \n",
       "3                                                NaN   \n",
       "4                                                NaN   \n",
       "\n",
       "                                              Q44_12  \n",
       "0  Who/what are your favorite media sources that ...  \n",
       "1                                                NaN  \n",
       "2                                                NaN  \n",
       "3                                                NaN  \n",
       "4                                                NaN  \n",
       "\n",
       "[5 rows x 296 columns]"
      ]
     },
     "execution_count": 4,
     "metadata": {},
     "output_type": "execute_result"
    }
   ],
   "source": [
    "data_df = pd.read_csv(DATA_DIR+'kaggle_survey_2022_responses.csv')\n",
    "data_df.head()"
   ]
  },
  {
   "cell_type": "markdown",
   "id": "e73a31ce",
   "metadata": {
    "papermill": {
     "duration": 0.003797,
     "end_time": "2022-10-15T19:12:57.138000",
     "exception": false,
     "start_time": "2022-10-15T19:12:57.134203",
     "status": "completed"
    },
    "tags": []
   },
   "source": [
    "1. Countries representing most DL/Ml developers\n",
    "2. Most representative age group\n",
    "3. how many students vs professionals\n",
    "4. How students prefer to learn DS and ML\n",
    "5. How professionals prefer to learn DS and ML\n",
    "6. Programming language students prefer\n",
    "7. programming language that professionals prefer\n",
    "8. frameworks that students prefer vs professionals\n",
    "9. What idustry is utilizing ML most, how they use ML , Q 24, 27, 28\n",
    "10. Which countries have most DS and ML professionals and students\n"
   ]
  },
  {
   "cell_type": "markdown",
   "id": "771f8c5a",
   "metadata": {
    "papermill": {
     "duration": 0.003927,
     "end_time": "2022-10-15T19:12:57.146069",
     "exception": false,
     "start_time": "2022-10-15T19:12:57.142142",
     "status": "completed"
    },
    "tags": []
   },
   "source": [
    "# Top 10 Countries representing most DL/Ml developers"
   ]
  },
  {
   "cell_type": "code",
   "execution_count": 5,
   "id": "764cec6c",
   "metadata": {
    "execution": {
     "iopub.execute_input": "2022-10-15T19:12:57.155654Z",
     "iopub.status.busy": "2022-10-15T19:12:57.155339Z",
     "iopub.status.idle": "2022-10-15T19:12:57.424037Z",
     "shell.execute_reply": "2022-10-15T19:12:57.423107Z"
    },
    "papermill": {
     "duration": 0.275507,
     "end_time": "2022-10-15T19:12:57.425915",
     "exception": false,
     "start_time": "2022-10-15T19:12:57.150408",
     "status": "completed"
    },
    "tags": []
   },
   "outputs": [
    {
     "data": {
      "image/png": "[encoded data removed]",
      "text/plain": [
       "<Figure size 864x576 with 1 Axes>"
      ]
     },
     "metadata": {
      "needs_background": "light"
     },
     "output_type": "display_data"
    }
   ],
   "source": [
    "#ax = data_df.loc[1:, 'Q4'].value_counts().plot(kind=\"bar\", figsize=(10, 5))\n",
    "d = pd.DataFrame(data_df.loc[1:, 'Q4'].value_counts().nlargest(10))\n",
    "plt.figure(figsize=(12,8))\n",
    "sns.barplot(x=d['Q4'], y=d.index, alpha=0.8)\n",
    "plt.xlabel('Number of respondents', fontsize=12)\n",
    "plt.ylabel('Country', fontsize=12)\n",
    "plt.title(\"Country wise number of respondents\", fontsize=15)\n",
    "plt.show()"
   ]
  },
  {
   "cell_type": "markdown",
   "id": "4a819bff",
   "metadata": {
    "papermill": {
     "duration": 0.00407,
     "end_time": "2022-10-15T19:12:57.434552",
     "exception": false,
     "start_time": "2022-10-15T19:12:57.430482",
     "status": "completed"
    },
    "tags": []
   },
   "source": [
    "# Most representative age group"
   ]
  },
  {
   "cell_type": "code",
   "execution_count": 6,
   "id": "584c3c4b",
   "metadata": {
    "execution": {
     "iopub.execute_input": "2022-10-15T19:12:57.443968Z",
     "iopub.status.busy": "2022-10-15T19:12:57.443666Z",
     "iopub.status.idle": "2022-10-15T19:12:57.682849Z",
     "shell.execute_reply": "2022-10-15T19:12:57.681571Z"
    },
    "papermill": {
     "duration": 0.246319,
     "end_time": "2022-10-15T19:12:57.685084",
     "exception": false,
     "start_time": "2022-10-15T19:12:57.438765",
     "status": "completed"
    },
    "tags": []
   },
   "outputs": [
    {
     "data": {
      "image/png": "[encoded data removed]",
      "text/plain": [
       "<Figure size 864x576 with 1 Axes>"
      ]
     },
     "metadata": {
      "needs_background": "light"
     },
     "output_type": "display_data"
    }
   ],
   "source": [
    "age_group = pd.DataFrame(data_df.loc[1:, 'Q2'].value_counts())\n",
    "plt.figure(figsize=(12,8))\n",
    "sns.barplot(x=age_group.index, y=age_group['Q2'], palette='viridis')\n",
    "plt.xlabel('Age Group', fontsize=12)\n",
    "plt.ylabel('Number of respondents', fontsize=12)\n",
    "plt.title(\"Age wise number of respondents\", fontsize=15)\n",
    "plt.show()"
   ]
  },
  {
   "cell_type": "markdown",
   "id": "673aa426",
   "metadata": {
    "papermill": {
     "duration": 0.005666,
     "end_time": "2022-10-15T19:12:57.698779",
     "exception": false,
     "start_time": "2022-10-15T19:12:57.693113",
     "status": "completed"
    },
    "tags": []
   },
   "source": [
    "# How many students vs professionals"
   ]
  },
  {
   "cell_type": "code",
   "execution_count": 7,
   "id": "c449044a",
   "metadata": {
    "execution": {
     "iopub.execute_input": "2022-10-15T19:12:57.713772Z",
     "iopub.status.busy": "2022-10-15T19:12:57.713247Z",
     "iopub.status.idle": "2022-10-15T19:12:57.826048Z",
     "shell.execute_reply": "2022-10-15T19:12:57.824619Z"
    },
    "papermill": {
     "duration": 0.123743,
     "end_time": "2022-10-15T19:12:57.829719",
     "exception": false,
     "start_time": "2022-10-15T19:12:57.705976",
     "status": "completed"
    },
    "tags": []
   },
   "outputs": [
    {
     "data": {
      "image/png": "[encoded data removed]",
      "text/plain": [
       "<Figure size 720x360 with 1 Axes>"
      ]
     },
     "metadata": {},
     "output_type": "display_data"
    }
   ],
   "source": [
    "ax3 = data_df.loc[1:, 'Q5'].value_counts().plot(kind=\"pie\", figsize=(10, 5))"
   ]
  },
  {
   "cell_type": "markdown",
   "id": "3b883077",
   "metadata": {
    "papermill": {
     "duration": 0.011431,
     "end_time": "2022-10-15T19:12:57.853187",
     "exception": false,
     "start_time": "2022-10-15T19:12:57.841756",
     "status": "completed"
    },
    "tags": []
   },
   "source": [
    "# How students prefer to learn DS and ML"
   ]
  },
  {
   "cell_type": "code",
   "execution_count": 8,
   "id": "edec2c14",
   "metadata": {
    "execution": {
     "iopub.execute_input": "2022-10-15T19:12:57.879276Z",
     "iopub.status.busy": "2022-10-15T19:12:57.878272Z",
     "iopub.status.idle": "2022-10-15T19:12:57.910500Z",
     "shell.execute_reply": "2022-10-15T19:12:57.909354Z"
    },
    "papermill": {
     "duration": 0.048933,
     "end_time": "2022-10-15T19:12:57.913676",
     "exception": false,
     "start_time": "2022-10-15T19:12:57.864743",
     "status": "completed"
    },
    "tags": []
   },
   "outputs": [
    {
     "data": {
      "text/html": [
       "<div>\n",
       "<style scoped>\n",
       "    .dataframe tbody tr th:only-of-type {\n",
       "        vertical-align: middle;\n",
       "    }\n",
       "\n",
       "    .dataframe tbody tr th {\n",
       "        vertical-align: top;\n",
       "    }\n",
       "\n",
       "    .dataframe thead th {\n",
       "        text-align: right;\n",
       "    }\n",
       "</style>\n",
       "<table border=\"1\" class=\"dataframe\">\n",
       "  <thead>\n",
       "    <tr style=\"text-align: right;\">\n",
       "      <th></th>\n",
       "      <th>Q5</th>\n",
       "      <th>Q6_1</th>\n",
       "      <th>Q6_2</th>\n",
       "      <th>Q6_3</th>\n",
       "      <th>Q6_4</th>\n",
       "      <th>Q6_5</th>\n",
       "      <th>Q6_6</th>\n",
       "      <th>Q6_7</th>\n",
       "      <th>Q6_8</th>\n",
       "      <th>Q6_9</th>\n",
       "      <th>Q6_10</th>\n",
       "      <th>Q6_11</th>\n",
       "      <th>Q6_12</th>\n",
       "    </tr>\n",
       "  </thead>\n",
       "  <tbody>\n",
       "    <tr>\n",
       "      <th>0</th>\n",
       "      <td>Are you currently a student? (high school, uni...</td>\n",
       "      <td>On which platforms have you begun or completed...</td>\n",
       "      <td>On which platforms have you begun or completed...</td>\n",
       "      <td>On which platforms have you begun or completed...</td>\n",
       "      <td>On which platforms have you begun or completed...</td>\n",
       "      <td>On which platforms have you begun or completed...</td>\n",
       "      <td>On which platforms have you begun or completed...</td>\n",
       "      <td>On which platforms have you begun or completed...</td>\n",
       "      <td>On which platforms have you begun or completed...</td>\n",
       "      <td>On which platforms have you begun or completed...</td>\n",
       "      <td>On which platforms have you begun or completed...</td>\n",
       "      <td>On which platforms have you begun or completed...</td>\n",
       "      <td>On which platforms have you begun or completed...</td>\n",
       "    </tr>\n",
       "    <tr>\n",
       "      <th>1</th>\n",
       "      <td>No</td>\n",
       "      <td>NaN</td>\n",
       "      <td>NaN</td>\n",
       "      <td>NaN</td>\n",
       "      <td>NaN</td>\n",
       "      <td>NaN</td>\n",
       "      <td>NaN</td>\n",
       "      <td>NaN</td>\n",
       "      <td>NaN</td>\n",
       "      <td>NaN</td>\n",
       "      <td>NaN</td>\n",
       "      <td>NaN</td>\n",
       "      <td>Other</td>\n",
       "    </tr>\n",
       "    <tr>\n",
       "      <th>2</th>\n",
       "      <td>No</td>\n",
       "      <td>NaN</td>\n",
       "      <td>NaN</td>\n",
       "      <td>NaN</td>\n",
       "      <td>NaN</td>\n",
       "      <td>NaN</td>\n",
       "      <td>NaN</td>\n",
       "      <td>NaN</td>\n",
       "      <td>NaN</td>\n",
       "      <td>NaN</td>\n",
       "      <td>University Courses (resulting in a university ...</td>\n",
       "      <td>NaN</td>\n",
       "      <td>NaN</td>\n",
       "    </tr>\n",
       "    <tr>\n",
       "      <th>3</th>\n",
       "      <td>Yes</td>\n",
       "      <td>Coursera</td>\n",
       "      <td>edX</td>\n",
       "      <td>NaN</td>\n",
       "      <td>DataCamp</td>\n",
       "      <td>NaN</td>\n",
       "      <td>Udacity</td>\n",
       "      <td>Udemy</td>\n",
       "      <td>LinkedIn Learning</td>\n",
       "      <td>NaN</td>\n",
       "      <td>University Courses (resulting in a university ...</td>\n",
       "      <td>NaN</td>\n",
       "      <td>NaN</td>\n",
       "    </tr>\n",
       "    <tr>\n",
       "      <th>4</th>\n",
       "      <td>No</td>\n",
       "      <td>Coursera</td>\n",
       "      <td>NaN</td>\n",
       "      <td>Kaggle Learn Courses</td>\n",
       "      <td>NaN</td>\n",
       "      <td>NaN</td>\n",
       "      <td>NaN</td>\n",
       "      <td>Udemy</td>\n",
       "      <td>NaN</td>\n",
       "      <td>NaN</td>\n",
       "      <td>NaN</td>\n",
       "      <td>NaN</td>\n",
       "      <td>Other</td>\n",
       "    </tr>\n",
       "  </tbody>\n",
       "</table>\n",
       "</div>"
      ],
      "text/plain": [
       "                                                  Q5  \\\n",
       "0  Are you currently a student? (high school, uni...   \n",
       "1                                                 No   \n",
       "2                                                 No   \n",
       "3                                                Yes   \n",
       "4                                                 No   \n",
       "\n",
       "                                                Q6_1  \\\n",
       "0  On which platforms have you begun or completed...   \n",
       "1                                                NaN   \n",
       "2                                                NaN   \n",
       "3                                           Coursera   \n",
       "4                                           Coursera   \n",
       "\n",
       "                                                Q6_2  \\\n",
       "0  On which platforms have you begun or completed...   \n",
       "1                                                NaN   \n",
       "2                                                NaN   \n",
       "3                                                edX   \n",
       "4                                                NaN   \n",
       "\n",
       "                                                Q6_3  \\\n",
       "0  On which platforms have you begun or completed...   \n",
       "1                                                NaN   \n",
       "2                                                NaN   \n",
       "3                                                NaN   \n",
       "4                               Kaggle Learn Courses   \n",
       "\n",
       "                                                Q6_4  \\\n",
       "0  On which platforms have you begun or completed...   \n",
       "1                                                NaN   \n",
       "2                                                NaN   \n",
       "3                                           DataCamp   \n",
       "4                                                NaN   \n",
       "\n",
       "                                                Q6_5  \\\n",
       "0  On which platforms have you begun or completed...   \n",
       "1                                                NaN   \n",
       "2                                                NaN   \n",
       "3                                                NaN   \n",
       "4                                                NaN   \n",
       "\n",
       "                                                Q6_6  \\\n",
       "0  On which platforms have you begun or completed...   \n",
       "1                                                NaN   \n",
       "2                                                NaN   \n",
       "3                                            Udacity   \n",
       "4                                                NaN   \n",
       "\n",
       "                                                Q6_7  \\\n",
       "0  On which platforms have you begun or completed...   \n",
       "1                                                NaN   \n",
       "2                                                NaN   \n",
       "3                                              Udemy   \n",
       "4                                              Udemy   \n",
       "\n",
       "                                                Q6_8  \\\n",
       "0  On which platforms have you begun or completed...   \n",
       "1                                                NaN   \n",
       "2                                                NaN   \n",
       "3                                  LinkedIn Learning   \n",
       "4                                                NaN   \n",
       "\n",
       "                                                Q6_9  \\\n",
       "0  On which platforms have you begun or completed...   \n",
       "1                                                NaN   \n",
       "2                                                NaN   \n",
       "3                                                NaN   \n",
       "4                                                NaN   \n",
       "\n",
       "                                               Q6_10  \\\n",
       "0  On which platforms have you begun or completed...   \n",
       "1                                                NaN   \n",
       "2  University Courses (resulting in a university ...   \n",
       "3  University Courses (resulting in a university ...   \n",
       "4                                                NaN   \n",
       "\n",
       "                                               Q6_11  \\\n",
       "0  On which platforms have you begun or completed...   \n",
       "1                                                NaN   \n",
       "2                                                NaN   \n",
       "3                                                NaN   \n",
       "4                                                NaN   \n",
       "\n",
       "                                               Q6_12  \n",
       "0  On which platforms have you begun or completed...  \n",
       "1                                              Other  \n",
       "2                                                NaN  \n",
       "3                                                NaN  \n",
       "4                                              Other  "
      ]
     },
     "execution_count": 8,
     "metadata": {},
     "output_type": "execute_result"
    }
   ],
   "source": [
    "ml_prefer = data_df.loc[:,'Q5':'Q6_12'] \n",
    "ml_prefer.head()"
   ]
  },
  {
   "cell_type": "code",
   "execution_count": 9,
   "id": "c1a18178",
   "metadata": {
    "execution": {
     "iopub.execute_input": "2022-10-15T19:12:57.926354Z",
     "iopub.status.busy": "2022-10-15T19:12:57.925835Z",
     "iopub.status.idle": "2022-10-15T19:12:57.946444Z",
     "shell.execute_reply": "2022-10-15T19:12:57.945629Z"
    },
    "papermill": {
     "duration": 0.028621,
     "end_time": "2022-10-15T19:12:57.948602",
     "exception": false,
     "start_time": "2022-10-15T19:12:57.919981",
     "status": "completed"
    },
    "tags": []
   },
   "outputs": [],
   "source": [
    "students = ml_prefer.loc[(ml_prefer['Q5'] == 'Yes'),'Q6_1':].apply(pd.value_counts).fillna(0).astype(int)\n",
    "students = students.sum(axis=1)"
   ]
  },
  {
   "cell_type": "code",
   "execution_count": 10,
   "id": "72c3bae0",
   "metadata": {
    "execution": {
     "iopub.execute_input": "2022-10-15T19:12:57.960948Z",
     "iopub.status.busy": "2022-10-15T19:12:57.960668Z",
     "iopub.status.idle": "2022-10-15T19:12:58.175093Z",
     "shell.execute_reply": "2022-10-15T19:12:58.174174Z"
    },
    "papermill": {
     "duration": 0.222835,
     "end_time": "2022-10-15T19:12:58.177296",
     "exception": false,
     "start_time": "2022-10-15T19:12:57.954461",
     "status": "completed"
    },
    "tags": []
   },
   "outputs": [
    {
     "data": {
      "image/png": "[encoded data removed]",
      "text/plain": [
       "<Figure size 720x360 with 1 Axes>"
      ]
     },
     "metadata": {
      "needs_background": "light"
     },
     "output_type": "display_data"
    }
   ],
   "source": [
    "plt.figure(figsize=(10,5))\n",
    "ax4 = sns.barplot(x=students.values, y=students.index, palette='viridis', alpha=0.5)\n",
    "plt.xlabel('Number of respondents', fontsize=12)\n",
    "plt.ylabel('learning Platforms', fontsize=12)\n",
    "plt.title(\"Popular learning platforms for students\", fontsize=15)\n",
    "plt.show()"
   ]
  },
  {
   "cell_type": "code",
   "execution_count": null,
   "id": "b51e9a29",
   "metadata": {
    "papermill": {
     "duration": 0.005438,
     "end_time": "2022-10-15T19:12:58.188673",
     "exception": false,
     "start_time": "2022-10-15T19:12:58.183235",
     "status": "completed"
    },
    "tags": []
   },
   "outputs": [],
   "source": []
  }
 ],
 "metadata": {
  "kernelspec": {
   "display_name": "Python 3",
   "language": "python",
   "name": "python3"
  },
  "language_info": {
   "codemirror_mode": {
    "name": "ipython",
    "version": 3
   },
   "file_extension": ".py",
   "mimetype": "text/x-python",
   "name": "python",
   "nbconvert_exporter": "python",
   "pygments_lexer": "ipython3",
   "version": "3.7.12"
  },
  "papermill": {
   "default_parameters": {},
   "duration": 11.183674,
   "end_time": "2022-10-15T19:12:58.815041",
   "environment_variables": {},
   "exception": null,
   "input_path": "__notebook__.ipynb",
   "output_path": "__notebook__.ipynb",
   "parameters": {},
   "start_time": "2022-10-15T19:12:47.631367",
   "version": "2.3.4"
  }
 },
 "nbformat": 4,
 "nbformat_minor": 5
}
