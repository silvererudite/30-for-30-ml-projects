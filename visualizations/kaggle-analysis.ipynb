{
 "cells": [
  {
   "cell_type": "code",
   "execution_count": 1,
   "id": "6ab587ea",
   "metadata": {
    "_cell_guid": "b1076dfc-b9ad-4769-8c92-a6c4dae69d19",
    "_uuid": "8f2839f25d086af736a60e9eeb907d3b93b6e0e5",
    "execution": {
     "iopub.execute_input": "2022-10-15T19:31:24.606192Z",
     "iopub.status.busy": "2022-10-15T19:31:24.605688Z",
     "iopub.status.idle": "2022-10-15T19:31:25.644173Z",
     "shell.execute_reply": "2022-10-15T19:31:25.643009Z"
    },
    "papermill": {
     "duration": 1.04871,
     "end_time": "2022-10-15T19:31:25.647039",
     "exception": false,
     "start_time": "2022-10-15T19:31:24.598329",
     "status": "completed"
    },
    "tags": []
   },
   "outputs": [],
   "source": [
    "import numpy as np\n",
    "import pandas as pd \n",
    "import os\n",
    "import matplotlib.pyplot as plt\n",
    "import seaborn as sns\n",
    "color = sns.color_palette()\n",
    "%matplotlib inline\n",
    "\n",
    "import plotly.offline as py\n",
    "import plotly.graph_objs as go\n",
    "import plotly.tools as tls"
   ]
  },
  {
   "cell_type": "code",
   "execution_count": 2,
   "id": "04f9fa3e",
   "metadata": {
    "execution": {
     "iopub.execute_input": "2022-10-15T19:31:25.658061Z",
     "iopub.status.busy": "2022-10-15T19:31:25.657654Z",
     "iopub.status.idle": "2022-10-15T19:31:25.662852Z",
     "shell.execute_reply": "2022-10-15T19:31:25.661715Z"
    },
    "papermill": {
     "duration": 0.013202,
     "end_time": "2022-10-15T19:31:25.665160",
     "exception": false,
     "start_time": "2022-10-15T19:31:25.651958",
     "status": "completed"
    },
    "tags": []
   },
   "outputs": [],
   "source": [
    "DATA_DIR = \"../input/kaggle-survey-2022/\""
   ]
  },
  {
   "cell_type": "code",
   "execution_count": 3,
   "id": "a32f9fbe",
   "metadata": {
    "execution": {
     "iopub.execute_input": "2022-10-15T19:31:25.675908Z",
     "iopub.status.busy": "2022-10-15T19:31:25.675546Z",
     "iopub.status.idle": "2022-10-15T19:31:25.686749Z",
     "shell.execute_reply": "2022-10-15T19:31:25.685621Z"
    },
    "papermill": {
     "duration": 0.019589,
     "end_time": "2022-10-15T19:31:25.689173",
     "exception": false,
     "start_time": "2022-10-15T19:31:25.669584",
     "status": "completed"
    },
    "tags": []
   },
   "outputs": [
    {
     "data": {
      "text/plain": [
       "['Supplementary Data', 'kaggle_survey_2022_responses.csv']"
      ]
     },
     "execution_count": 3,
     "metadata": {},
     "output_type": "execute_result"
    }
   ],
   "source": [
    "os.listdir(DATA_DIR)"
   ]
  },
  {
   "cell_type": "code",
   "execution_count": 4,
   "id": "35821bf8",
   "metadata": {
    "execution": {
     "iopub.execute_input": "2022-10-15T19:31:25.699594Z",
     "iopub.status.busy": "2022-10-15T19:31:25.699226Z",
     "iopub.status.idle": "2022-10-15T19:31:26.908619Z",
     "shell.execute_reply": "2022-10-15T19:31:26.907439Z"
    },
    "papermill": {
     "duration": 1.219995,
     "end_time": "2022-10-15T19:31:26.913614",
     "exception": false,
     "start_time": "2022-10-15T19:31:25.693619",
     "status": "completed"
    },
    "tags": []
   },
   "outputs": [
    {
     "name": "stderr",
     "output_type": "stream",
     "text": [
      "/opt/conda/lib/python3.7/site-packages/IPython/core/interactiveshell.py:3552: DtypeWarning:\n",
      "\n",
      "Columns (0,208,225,255,257,260,270,271,277) have mixed types.Specify dtype option on import or set low_memory=False.\n",
      "\n"
     ]
    },
    {
     "data": {
      "text/html": [
       "<div>\n",
       "<style scoped>\n",
       "    .dataframe tbody tr th:only-of-type {\n",
       "        vertical-align: middle;\n",
       "    }\n",
       "\n",
       "    .dataframe tbody tr th {\n",
       "        vertical-align: top;\n",
       "    }\n",
       "\n",
       "    .dataframe thead th {\n",
       "        text-align: right;\n",
       "    }\n",
       "</style>\n",
       "<table border=\"1\" class=\"dataframe\">\n",
       "  <thead>\n",
       "    <tr style=\"text-align: right;\">\n",
       "      <th></th>\n",
       "      <th>Duration (in seconds)</th>\n",
       "      <th>Q2</th>\n",
       "      <th>Q3</th>\n",
       "      <th>Q4</th>\n",
       "      <th>Q5</th>\n",
       "      <th>Q6_1</th>\n",
       "      <th>Q6_2</th>\n",
       "      <th>Q6_3</th>\n",
       "      <th>Q6_4</th>\n",
       "      <th>Q6_5</th>\n",
       "      <th>...</th>\n",
       "      <th>Q44_3</th>\n",
       "      <th>Q44_4</th>\n",
       "      <th>Q44_5</th>\n",
       "      <th>Q44_6</th>\n",
       "      <th>Q44_7</th>\n",
       "      <th>Q44_8</th>\n",
       "      <th>Q44_9</th>\n",
       "      <th>Q44_10</th>\n",
       "      <th>Q44_11</th>\n",
       "      <th>Q44_12</th>\n",
       "    </tr>\n",
       "  </thead>\n",
       "  <tbody>\n",
       "    <tr>\n",
       "      <th>0</th>\n",
       "      <td>Duration (in seconds)</td>\n",
       "      <td>What is your age (# years)?</td>\n",
       "      <td>What is your gender? - Selected Choice</td>\n",
       "      <td>In which country do you currently reside?</td>\n",
       "      <td>Are you currently a student? (high school, uni...</td>\n",
       "      <td>On which platforms have you begun or completed...</td>\n",
       "      <td>On which platforms have you begun or completed...</td>\n",
       "      <td>On which platforms have you begun or completed...</td>\n",
       "      <td>On which platforms have you begun or completed...</td>\n",
       "      <td>On which platforms have you begun or completed...</td>\n",
       "      <td>...</td>\n",
       "      <td>Who/what are your favorite media sources that ...</td>\n",
       "      <td>Who/what are your favorite media sources that ...</td>\n",
       "      <td>Who/what are your favorite media sources that ...</td>\n",
       "      <td>Who/what are your favorite media sources that ...</td>\n",
       "      <td>Who/what are your favorite media sources that ...</td>\n",
       "      <td>Who/what are your favorite media sources that ...</td>\n",
       "      <td>Who/what are your favorite media sources that ...</td>\n",
       "      <td>Who/what are your favorite media sources that ...</td>\n",
       "      <td>Who/what are your favorite media sources that ...</td>\n",
       "      <td>Who/what are your favorite media sources that ...</td>\n",
       "    </tr>\n",
       "    <tr>\n",
       "      <th>1</th>\n",
       "      <td>121</td>\n",
       "      <td>30-34</td>\n",
       "      <td>Man</td>\n",
       "      <td>India</td>\n",
       "      <td>No</td>\n",
       "      <td>NaN</td>\n",
       "      <td>NaN</td>\n",
       "      <td>NaN</td>\n",
       "      <td>NaN</td>\n",
       "      <td>NaN</td>\n",
       "      <td>...</td>\n",
       "      <td>NaN</td>\n",
       "      <td>NaN</td>\n",
       "      <td>NaN</td>\n",
       "      <td>NaN</td>\n",
       "      <td>NaN</td>\n",
       "      <td>NaN</td>\n",
       "      <td>NaN</td>\n",
       "      <td>NaN</td>\n",
       "      <td>NaN</td>\n",
       "      <td>NaN</td>\n",
       "    </tr>\n",
       "    <tr>\n",
       "      <th>2</th>\n",
       "      <td>462</td>\n",
       "      <td>30-34</td>\n",
       "      <td>Man</td>\n",
       "      <td>Algeria</td>\n",
       "      <td>No</td>\n",
       "      <td>NaN</td>\n",
       "      <td>NaN</td>\n",
       "      <td>NaN</td>\n",
       "      <td>NaN</td>\n",
       "      <td>NaN</td>\n",
       "      <td>...</td>\n",
       "      <td>NaN</td>\n",
       "      <td>NaN</td>\n",
       "      <td>NaN</td>\n",
       "      <td>NaN</td>\n",
       "      <td>NaN</td>\n",
       "      <td>NaN</td>\n",
       "      <td>NaN</td>\n",
       "      <td>NaN</td>\n",
       "      <td>NaN</td>\n",
       "      <td>NaN</td>\n",
       "    </tr>\n",
       "    <tr>\n",
       "      <th>3</th>\n",
       "      <td>293</td>\n",
       "      <td>18-21</td>\n",
       "      <td>Man</td>\n",
       "      <td>Egypt</td>\n",
       "      <td>Yes</td>\n",
       "      <td>Coursera</td>\n",
       "      <td>edX</td>\n",
       "      <td>NaN</td>\n",
       "      <td>DataCamp</td>\n",
       "      <td>NaN</td>\n",
       "      <td>...</td>\n",
       "      <td>NaN</td>\n",
       "      <td>Kaggle (notebooks, forums, etc)</td>\n",
       "      <td>NaN</td>\n",
       "      <td>YouTube (Kaggle YouTube, Cloud AI Adventures, ...</td>\n",
       "      <td>Podcasts (Chai Time Data Science, O’Reilly Dat...</td>\n",
       "      <td>NaN</td>\n",
       "      <td>NaN</td>\n",
       "      <td>NaN</td>\n",
       "      <td>NaN</td>\n",
       "      <td>NaN</td>\n",
       "    </tr>\n",
       "    <tr>\n",
       "      <th>4</th>\n",
       "      <td>851</td>\n",
       "      <td>55-59</td>\n",
       "      <td>Man</td>\n",
       "      <td>France</td>\n",
       "      <td>No</td>\n",
       "      <td>Coursera</td>\n",
       "      <td>NaN</td>\n",
       "      <td>Kaggle Learn Courses</td>\n",
       "      <td>NaN</td>\n",
       "      <td>NaN</td>\n",
       "      <td>...</td>\n",
       "      <td>NaN</td>\n",
       "      <td>Kaggle (notebooks, forums, etc)</td>\n",
       "      <td>Course Forums (forums.fast.ai, Coursera forums...</td>\n",
       "      <td>NaN</td>\n",
       "      <td>NaN</td>\n",
       "      <td>Blogs (Towards Data Science, Analytics Vidhya,...</td>\n",
       "      <td>NaN</td>\n",
       "      <td>NaN</td>\n",
       "      <td>NaN</td>\n",
       "      <td>NaN</td>\n",
       "    </tr>\n",
       "  </tbody>\n",
       "</table>\n",
       "<p>5 rows × 296 columns</p>\n",
       "</div>"
      ],
      "text/plain": [
       "   Duration (in seconds)                           Q2  \\\n",
       "0  Duration (in seconds)  What is your age (# years)?   \n",
       "1                    121                        30-34   \n",
       "2                    462                        30-34   \n",
       "3                    293                        18-21   \n",
       "4                    851                        55-59   \n",
       "\n",
       "                                       Q3  \\\n",
       "0  What is your gender? - Selected Choice   \n",
       "1                                     Man   \n",
       "2                                     Man   \n",
       "3                                     Man   \n",
       "4                                     Man   \n",
       "\n",
       "                                          Q4  \\\n",
       "0  In which country do you currently reside?   \n",
       "1                                      India   \n",
       "2                                    Algeria   \n",
       "3                                      Egypt   \n",
       "4                                     France   \n",
       "\n",
       "                                                  Q5  \\\n",
       "0  Are you currently a student? (high school, uni...   \n",
       "1                                                 No   \n",
       "2                                                 No   \n",
       "3                                                Yes   \n",
       "4                                                 No   \n",
       "\n",
       "                                                Q6_1  \\\n",
       "0  On which platforms have you begun or completed...   \n",
       "1                                                NaN   \n",
       "2                                                NaN   \n",
       "3                                           Coursera   \n",
       "4                                           Coursera   \n",
       "\n",
       "                                                Q6_2  \\\n",
       "0  On which platforms have you begun or completed...   \n",
       "1                                                NaN   \n",
       "2                                                NaN   \n",
       "3                                                edX   \n",
       "4                                                NaN   \n",
       "\n",
       "                                                Q6_3  \\\n",
       "0  On which platforms have you begun or completed...   \n",
       "1                                                NaN   \n",
       "2                                                NaN   \n",
       "3                                                NaN   \n",
       "4                               Kaggle Learn Courses   \n",
       "\n",
       "                                                Q6_4  \\\n",
       "0  On which platforms have you begun or completed...   \n",
       "1                                                NaN   \n",
       "2                                                NaN   \n",
       "3                                           DataCamp   \n",
       "4                                                NaN   \n",
       "\n",
       "                                                Q6_5  ...  \\\n",
       "0  On which platforms have you begun or completed...  ...   \n",
       "1                                                NaN  ...   \n",
       "2                                                NaN  ...   \n",
       "3                                                NaN  ...   \n",
       "4                                                NaN  ...   \n",
       "\n",
       "                                               Q44_3  \\\n",
       "0  Who/what are your favorite media sources that ...   \n",
       "1                                                NaN   \n",
       "2                                                NaN   \n",
       "3                                                NaN   \n",
       "4                                                NaN   \n",
       "\n",
       "                                               Q44_4  \\\n",
       "0  Who/what are your favorite media sources that ...   \n",
       "1                                                NaN   \n",
       "2                                                NaN   \n",
       "3                    Kaggle (notebooks, forums, etc)   \n",
       "4                    Kaggle (notebooks, forums, etc)   \n",
       "\n",
       "                                               Q44_5  \\\n",
       "0  Who/what are your favorite media sources that ...   \n",
       "1                                                NaN   \n",
       "2                                                NaN   \n",
       "3                                                NaN   \n",
       "4  Course Forums (forums.fast.ai, Coursera forums...   \n",
       "\n",
       "                                               Q44_6  \\\n",
       "0  Who/what are your favorite media sources that ...   \n",
       "1                                                NaN   \n",
       "2                                                NaN   \n",
       "3  YouTube (Kaggle YouTube, Cloud AI Adventures, ...   \n",
       "4                                                NaN   \n",
       "\n",
       "                                               Q44_7  \\\n",
       "0  Who/what are your favorite media sources that ...   \n",
       "1                                                NaN   \n",
       "2                                                NaN   \n",
       "3  Podcasts (Chai Time Data Science, O’Reilly Dat...   \n",
       "4                                                NaN   \n",
       "\n",
       "                                               Q44_8  \\\n",
       "0  Who/what are your favorite media sources that ...   \n",
       "1                                                NaN   \n",
       "2                                                NaN   \n",
       "3                                                NaN   \n",
       "4  Blogs (Towards Data Science, Analytics Vidhya,...   \n",
       "\n",
       "                                               Q44_9  \\\n",
       "0  Who/what are your favorite media sources that ...   \n",
       "1                                                NaN   \n",
       "2                                                NaN   \n",
       "3                                                NaN   \n",
       "4                                                NaN   \n",
       "\n",
       "                                              Q44_10  \\\n",
       "0  Who/what are your favorite media sources that ...   \n",
       "1                                                NaN   \n",
       "2                                                NaN   \n",
       "3                                                NaN   \n",
       "4                                                NaN   \n",
       "\n",
       "                                              Q44_11  \\\n",
       "0  Who/what are your favorite media sources that ...   \n",
       "1                                                NaN   \n",
       "2                                                NaN   \n",
       "3                                                NaN   \n",
       "4                                                NaN   \n",
       "\n",
       "                                              Q44_12  \n",
       "0  Who/what are your favorite media sources that ...  \n",
       "1                                                NaN  \n",
       "2                                                NaN  \n",
       "3                                                NaN  \n",
       "4                                                NaN  \n",
       "\n",
       "[5 rows x 296 columns]"
      ]
     },
     "execution_count": 4,
     "metadata": {},
     "output_type": "execute_result"
    }
   ],
   "source": [
    "data_df = pd.read_csv(DATA_DIR+'kaggle_survey_2022_responses.csv')\n",
    "data_df.head()"
   ]
  },
  {
   "cell_type": "markdown",
   "id": "36eeffc7",
   "metadata": {
    "papermill": {
     "duration": 0.004853,
     "end_time": "2022-10-15T19:31:26.923950",
     "exception": false,
     "start_time": "2022-10-15T19:31:26.919097",
     "status": "completed"
    },
    "tags": []
   },
   "source": [
    "1. Countries representing most DL/Ml developers\n",
    "2. Most representative age group\n",
    "3. how many students vs professionals\n",
    "4. How students prefer to learn DS and ML\n",
    "5. How professionals prefer to learn DS and ML\n",
    "6. Programming language students prefer\n",
    "7. programming language that professionals prefer\n",
    "8. frameworks that students prefer vs professionals\n",
    "9. What idustry is utilizing ML most, how they use ML , Q 24, 27, 28\n",
    "10. Which countries have most DS and ML professionals and students\n"
   ]
  },
  {
   "cell_type": "markdown",
   "id": "24584517",
   "metadata": {
    "papermill": {
     "duration": 0.004663,
     "end_time": "2022-10-15T19:31:26.934103",
     "exception": false,
     "start_time": "2022-10-15T19:31:26.929440",
     "status": "completed"
    },
    "tags": []
   },
   "source": [
    "# Top 10 Countries representing most DL/Ml developers"
   ]
  },
  {
   "cell_type": "code",
   "execution_count": 5,
   "id": "f551dba5",
   "metadata": {
    "execution": {
     "iopub.execute_input": "2022-10-15T19:31:26.945881Z",
     "iopub.status.busy": "2022-10-15T19:31:26.945482Z",
     "iopub.status.idle": "2022-10-15T19:31:27.235800Z",
     "shell.execute_reply": "2022-10-15T19:31:27.234692Z"
    },
    "papermill": {
     "duration": 0.299161,
     "end_time": "2022-10-15T19:31:27.238288",
     "exception": false,
     "start_time": "2022-10-15T19:31:26.939127",
     "status": "completed"
    },
    "tags": []
   },
   "outputs": [
    {
     "data": {
      "image/png": "[encoded data removed]",
      "text/plain": [
       "<Figure size 864x576 with 1 Axes>"
      ]
     },
     "metadata": {
      "needs_background": "light"
     },
     "output_type": "display_data"
    }
   ],
   "source": [
    "#ax = data_df.loc[1:, 'Q4'].value_counts().plot(kind=\"bar\", figsize=(10, 5))\n",
    "d = pd.DataFrame(data_df.loc[1:, 'Q4'].value_counts().nlargest(10))\n",
    "plt.figure(figsize=(12,8))\n",
    "sns.barplot(x=d['Q4'], y=d.index, alpha=0.8)\n",
    "plt.xlabel('Number of respondents', fontsize=12)\n",
    "plt.ylabel('Country', fontsize=12)\n",
    "plt.title(\"Country wise number of respondents\", fontsize=15)\n",
    "plt.show()"
   ]
  },
  {
   "cell_type": "markdown",
   "id": "a67f3f1d",
   "metadata": {
    "papermill": {
     "duration": 0.005119,
     "end_time": "2022-10-15T19:31:27.248880",
     "exception": false,
     "start_time": "2022-10-15T19:31:27.243761",
     "status": "completed"
    },
    "tags": []
   },
   "source": [
    "# Most representative age group"
   ]
  },
  {
   "cell_type": "code",
   "execution_count": 6,
   "id": "3cac2616",
   "metadata": {
    "execution": {
     "iopub.execute_input": "2022-10-15T19:31:27.261455Z",
     "iopub.status.busy": "2022-10-15T19:31:27.261017Z",
     "iopub.status.idle": "2022-10-15T19:31:27.523769Z",
     "shell.execute_reply": "2022-10-15T19:31:27.522554Z"
    },
    "papermill": {
     "duration": 0.271813,
     "end_time": "2022-10-15T19:31:27.526135",
     "exception": false,
     "start_time": "2022-10-15T19:31:27.254322",
     "status": "completed"
    },
    "tags": []
   },
   "outputs": [
    {
     "data": {
      "image/png": "[encoded data removed]",
      "text/plain": [
       "<Figure size 864x576 with 1 Axes>"
      ]
     },
     "metadata": {
      "needs_background": "light"
     },
     "output_type": "display_data"
    }
   ],
   "source": [
    "age_group = pd.DataFrame(data_df.loc[1:, 'Q2'].value_counts())\n",
    "plt.figure(figsize=(12,8))\n",
    "sns.barplot(x=age_group.index, y=age_group['Q2'], palette='viridis')\n",
    "plt.xlabel('Age Group', fontsize=12)\n",
    "plt.ylabel('Number of respondents', fontsize=12)\n",
    "plt.title(\"Age wise number of respondents\", fontsize=15)\n",
    "plt.show()"
   ]
  },
  {
   "cell_type": "markdown",
   "id": "39287a65",
   "metadata": {
    "papermill": {
     "duration": 0.005833,
     "end_time": "2022-10-15T19:31:27.537972",
     "exception": false,
     "start_time": "2022-10-15T19:31:27.532139",
     "status": "completed"
    },
    "tags": []
   },
   "source": [
    "# How many students vs professionals"
   ]
  },
  {
   "cell_type": "code",
   "execution_count": 7,
   "id": "405f32f9",
   "metadata": {
    "execution": {
     "iopub.execute_input": "2022-10-15T19:31:27.551743Z",
     "iopub.status.busy": "2022-10-15T19:31:27.550951Z",
     "iopub.status.idle": "2022-10-15T19:31:27.671658Z",
     "shell.execute_reply": "2022-10-15T19:31:27.670469Z"
    },
    "papermill": {
     "duration": 0.13144,
     "end_time": "2022-10-15T19:31:27.675252",
     "exception": false,
     "start_time": "2022-10-15T19:31:27.543812",
     "status": "completed"
    },
    "tags": []
   },
   "outputs": [
    {
     "data": {
      "image/png": "[encoded data removed]",
      "text/plain": [
       "<Figure size 720x360 with 1 Axes>"
      ]
     },
     "metadata": {},
     "output_type": "display_data"
    }
   ],
   "source": [
    "ax3 = data_df.loc[1:, 'Q5'].value_counts().plot(kind=\"pie\", figsize=(10, 5))"
   ]
  },
  {
   "cell_type": "markdown",
   "id": "f1dde901",
   "metadata": {
    "papermill": {
     "duration": 0.00981,
     "end_time": "2022-10-15T19:31:27.695187",
     "exception": false,
     "start_time": "2022-10-15T19:31:27.685377",
     "status": "completed"
    },
    "tags": []
   },
   "source": [
    "# How students prefer to learn DS and ML"
   ]
  },
  {
   "cell_type": "code",
   "execution_count": 8,
   "id": "804e8411",
   "metadata": {
    "execution": {
     "iopub.execute_input": "2022-10-15T19:31:27.717982Z",
     "iopub.status.busy": "2022-10-15T19:31:27.717162Z",
     "iopub.status.idle": "2022-10-15T19:31:27.746815Z",
     "shell.execute_reply": "2022-10-15T19:31:27.745595Z"
    },
    "papermill": {
     "duration": 0.047646,
     "end_time": "2022-10-15T19:31:27.753255",
     "exception": false,
     "start_time": "2022-10-15T19:31:27.705609",
     "status": "completed"
    },
    "tags": []
   },
   "outputs": [
    {
     "data": {
      "text/html": [
       "<div>\n",
       "<style scoped>\n",
       "    .dataframe tbody tr th:only-of-type {\n",
       "        vertical-align: middle;\n",
       "    }\n",
       "\n",
       "    .dataframe tbody tr th {\n",
       "        vertical-align: top;\n",
       "    }\n",
       "\n",
       "    .dataframe thead th {\n",
       "        text-align: right;\n",
       "    }\n",
       "</style>\n",
       "<table border=\"1\" class=\"dataframe\">\n",
       "  <thead>\n",
       "    <tr style=\"text-align: right;\">\n",
       "      <th></th>\n",
       "      <th>Q5</th>\n",
       "      <th>Q6_1</th>\n",
       "      <th>Q6_2</th>\n",
       "      <th>Q6_3</th>\n",
       "      <th>Q6_4</th>\n",
       "      <th>Q6_5</th>\n",
       "      <th>Q6_6</th>\n",
       "      <th>Q6_7</th>\n",
       "      <th>Q6_8</th>\n",
       "      <th>Q6_9</th>\n",
       "      <th>Q6_10</th>\n",
       "      <th>Q6_11</th>\n",
       "      <th>Q6_12</th>\n",
       "    </tr>\n",
       "  </thead>\n",
       "  <tbody>\n",
       "    <tr>\n",
       "      <th>0</th>\n",
       "      <td>Are you currently a student? (high school, uni...</td>\n",
       "      <td>On which platforms have you begun or completed...</td>\n",
       "      <td>On which platforms have you begun or completed...</td>\n",
       "      <td>On which platforms have you begun or completed...</td>\n",
       "      <td>On which platforms have you begun or completed...</td>\n",
       "      <td>On which platforms have you begun or completed...</td>\n",
       "      <td>On which platforms have you begun or completed...</td>\n",
       "      <td>On which platforms have you begun or completed...</td>\n",
       "      <td>On which platforms have you begun or completed...</td>\n",
       "      <td>On which platforms have you begun or completed...</td>\n",
       "      <td>On which platforms have you begun or completed...</td>\n",
       "      <td>On which platforms have you begun or completed...</td>\n",
       "      <td>On which platforms have you begun or completed...</td>\n",
       "    </tr>\n",
       "    <tr>\n",
       "      <th>1</th>\n",
       "      <td>No</td>\n",
       "      <td>NaN</td>\n",
       "      <td>NaN</td>\n",
       "      <td>NaN</td>\n",
       "      <td>NaN</td>\n",
       "      <td>NaN</td>\n",
       "      <td>NaN</td>\n",
       "      <td>NaN</td>\n",
       "      <td>NaN</td>\n",
       "      <td>NaN</td>\n",
       "      <td>NaN</td>\n",
       "      <td>NaN</td>\n",
       "      <td>Other</td>\n",
       "    </tr>\n",
       "    <tr>\n",
       "      <th>2</th>\n",
       "      <td>No</td>\n",
       "      <td>NaN</td>\n",
       "      <td>NaN</td>\n",
       "      <td>NaN</td>\n",
       "      <td>NaN</td>\n",
       "      <td>NaN</td>\n",
       "      <td>NaN</td>\n",
       "      <td>NaN</td>\n",
       "      <td>NaN</td>\n",
       "      <td>NaN</td>\n",
       "      <td>University Courses (resulting in a university ...</td>\n",
       "      <td>NaN</td>\n",
       "      <td>NaN</td>\n",
       "    </tr>\n",
       "    <tr>\n",
       "      <th>3</th>\n",
       "      <td>Yes</td>\n",
       "      <td>Coursera</td>\n",
       "      <td>edX</td>\n",
       "      <td>NaN</td>\n",
       "      <td>DataCamp</td>\n",
       "      <td>NaN</td>\n",
       "      <td>Udacity</td>\n",
       "      <td>Udemy</td>\n",
       "      <td>LinkedIn Learning</td>\n",
       "      <td>NaN</td>\n",
       "      <td>University Courses (resulting in a university ...</td>\n",
       "      <td>NaN</td>\n",
       "      <td>NaN</td>\n",
       "    </tr>\n",
       "    <tr>\n",
       "      <th>4</th>\n",
       "      <td>No</td>\n",
       "      <td>Coursera</td>\n",
       "      <td>NaN</td>\n",
       "      <td>Kaggle Learn Courses</td>\n",
       "      <td>NaN</td>\n",
       "      <td>NaN</td>\n",
       "      <td>NaN</td>\n",
       "      <td>Udemy</td>\n",
       "      <td>NaN</td>\n",
       "      <td>NaN</td>\n",
       "      <td>NaN</td>\n",
       "      <td>NaN</td>\n",
       "      <td>Other</td>\n",
       "    </tr>\n",
       "  </tbody>\n",
       "</table>\n",
       "</div>"
      ],
      "text/plain": [
       "                                                  Q5  \\\n",
       "0  Are you currently a student? (high school, uni...   \n",
       "1                                                 No   \n",
       "2                                                 No   \n",
       "3                                                Yes   \n",
       "4                                                 No   \n",
       "\n",
       "                                                Q6_1  \\\n",
       "0  On which platforms have you begun or completed...   \n",
       "1                                                NaN   \n",
       "2                                                NaN   \n",
       "3                                           Coursera   \n",
       "4                                           Coursera   \n",
       "\n",
       "                                                Q6_2  \\\n",
       "0  On which platforms have you begun or completed...   \n",
       "1                                                NaN   \n",
       "2                                                NaN   \n",
       "3                                                edX   \n",
       "4                                                NaN   \n",
       "\n",
       "                                                Q6_3  \\\n",
       "0  On which platforms have you begun or completed...   \n",
       "1                                                NaN   \n",
       "2                                                NaN   \n",
       "3                                                NaN   \n",
       "4                               Kaggle Learn Courses   \n",
       "\n",
       "                                                Q6_4  \\\n",
       "0  On which platforms have you begun or completed...   \n",
       "1                                                NaN   \n",
       "2                                                NaN   \n",
       "3                                           DataCamp   \n",
       "4                                                NaN   \n",
       "\n",
       "                                                Q6_5  \\\n",
       "0  On which platforms have you begun or completed...   \n",
       "1                                                NaN   \n",
       "2                                                NaN   \n",
       "3                                                NaN   \n",
       "4                                                NaN   \n",
       "\n",
       "                                                Q6_6  \\\n",
       "0  On which platforms have you begun or completed...   \n",
       "1                                                NaN   \n",
       "2                                                NaN   \n",
       "3                                            Udacity   \n",
       "4                                                NaN   \n",
       "\n",
       "                                                Q6_7  \\\n",
       "0  On which platforms have you begun or completed...   \n",
       "1                                                NaN   \n",
       "2                                                NaN   \n",
       "3                                              Udemy   \n",
       "4                                              Udemy   \n",
       "\n",
       "                                                Q6_8  \\\n",
       "0  On which platforms have you begun or completed...   \n",
       "1                                                NaN   \n",
       "2                                                NaN   \n",
       "3                                  LinkedIn Learning   \n",
       "4                                                NaN   \n",
       "\n",
       "                                                Q6_9  \\\n",
       "0  On which platforms have you begun or completed...   \n",
       "1                                                NaN   \n",
       "2                                                NaN   \n",
       "3                                                NaN   \n",
       "4                                                NaN   \n",
       "\n",
       "                                               Q6_10  \\\n",
       "0  On which platforms have you begun or completed...   \n",
       "1                                                NaN   \n",
       "2  University Courses (resulting in a university ...   \n",
       "3  University Courses (resulting in a university ...   \n",
       "4                                                NaN   \n",
       "\n",
       "                                               Q6_11  \\\n",
       "0  On which platforms have you begun or completed...   \n",
       "1                                                NaN   \n",
       "2                                                NaN   \n",
       "3                                                NaN   \n",
       "4                                                NaN   \n",
       "\n",
       "                                               Q6_12  \n",
       "0  On which platforms have you begun or completed...  \n",
       "1                                              Other  \n",
       "2                                                NaN  \n",
       "3                                                NaN  \n",
       "4                                              Other  "
      ]
     },
     "execution_count": 8,
     "metadata": {},
     "output_type": "execute_result"
    }
   ],
   "source": [
    "ml_prefer = data_df.loc[:,'Q5':'Q6_12'] \n",
    "ml_prefer.head()"
   ]
  },
  {
   "cell_type": "code",
   "execution_count": 9,
   "id": "b42fb61f",
   "metadata": {
    "execution": {
     "iopub.execute_input": "2022-10-15T19:31:27.772156Z",
     "iopub.status.busy": "2022-10-15T19:31:27.771405Z",
     "iopub.status.idle": "2022-10-15T19:31:27.816573Z",
     "shell.execute_reply": "2022-10-15T19:31:27.815678Z"
    },
    "papermill": {
     "duration": 0.055635,
     "end_time": "2022-10-15T19:31:27.819164",
     "exception": false,
     "start_time": "2022-10-15T19:31:27.763529",
     "status": "completed"
    },
    "tags": []
   },
   "outputs": [],
   "source": [
    "students = ml_prefer.loc[(ml_prefer['Q5'] == 'Yes'),'Q6_1':].apply(pd.value_counts).fillna(0).astype(int)\n",
    "students = students.sum(axis=1)\n",
    "\n",
    "pros = ml_prefer.loc[(ml_prefer['Q5'] == 'No'),'Q6_1':].apply(pd.value_counts).fillna(0).astype(int)\n",
    "pros = pros.sum(axis=1)"
   ]
  },
  {
   "cell_type": "code",
   "execution_count": 10,
   "id": "1ddd85a4",
   "metadata": {
    "execution": {
     "iopub.execute_input": "2022-10-15T19:31:27.835216Z",
     "iopub.status.busy": "2022-10-15T19:31:27.834777Z",
     "iopub.status.idle": "2022-10-15T19:31:28.251437Z",
     "shell.execute_reply": "2022-10-15T19:31:28.250398Z"
    },
    "papermill": {
     "duration": 0.428086,
     "end_time": "2022-10-15T19:31:28.253867",
     "exception": false,
     "start_time": "2022-10-15T19:31:27.825781",
     "status": "completed"
    },
    "tags": []
   },
   "outputs": [
    {
     "data": {
      "text/plain": [
       "Text(0.5, 1.0, 'Popular learning platforms for professionals')"
      ]
     },
     "execution_count": 10,
     "metadata": {},
     "output_type": "execute_result"
    },
    {
     "data": {
      "image/png": "[encoded data removed]",
      "text/plain": [
       "<Figure size 432x288 with 2 Axes>"
      ]
     },
     "metadata": {
      "needs_background": "light"
     },
     "output_type": "display_data"
    }
   ],
   "source": [
    "fig, axes = plt.subplots(1, 2, sharey=True)\n",
    "sns.barplot(x=students.values, y=students.index, palette=['grey' if (x < max(students.values)) else 'red' for x in students.values ], alpha=0.5, ax=axes[0])\n",
    "plt.xlabel('Number of respondents', fontsize=12)\n",
    "plt.ylabel('learning Platforms', fontsize=12)\n",
    "plt.title(\"Popular learning platforms for students\", fontsize=15)\n",
    "\n",
    "sns.barplot(x=pros.values, y=pros.index, palette=['grey' if (x < max(pros.values)) else 'red' for x in pros.values], alpha=0.5, ax=axes[1])\n",
    "plt.xlabel('Number of respondents', fontsize=12)\n",
    "#plt.ylabel('learning Platforms', fontsize=12)\n",
    "plt.title(\"Popular learning platforms for professionals\", fontsize=15)"
   ]
  },
  {
   "cell_type": "code",
   "execution_count": null,
   "id": "39e5d5c8",
   "metadata": {
    "papermill": {
     "duration": 0.006762,
     "end_time": "2022-10-15T19:31:28.267942",
     "exception": false,
     "start_time": "2022-10-15T19:31:28.261180",
     "status": "completed"
    },
    "tags": []
   },
   "outputs": [],
   "source": []
  },
  {
   "cell_type": "code",
   "execution_count": null,
   "id": "ca92cac9",
   "metadata": {
    "papermill": {
     "duration": 0.006802,
     "end_time": "2022-10-15T19:31:28.281740",
     "exception": false,
     "start_time": "2022-10-15T19:31:28.274938",
     "status": "completed"
    },
    "tags": []
   },
   "outputs": [],
   "source": []
  }
 ],
 "metadata": {
  "kernelspec": {
   "display_name": "Python 3",
   "language": "python",
   "name": "python3"
  },
  "language_info": {
   "codemirror_mode": {
    "name": "ipython",
    "version": 3
   },
   "file_extension": ".py",
   "mimetype": "text/x-python",
   "name": "python",
   "nbconvert_exporter": "python",
   "pygments_lexer": "ipython3",
   "version": "3.7.12"
  },
  "papermill": {
   "default_parameters": {},
   "duration": 14.180741,
   "end_time": "2022-10-15T19:31:29.010773",
   "environment_variables": {},
   "exception": null,
   "input_path": "__notebook__.ipynb",
   "output_path": "__notebook__.ipynb",
   "parameters": {},
   "start_time": "2022-10-15T19:31:14.830032",
   "version": "2.3.4"
  }
 },
 "nbformat": 4,
 "nbformat_minor": 5
}
