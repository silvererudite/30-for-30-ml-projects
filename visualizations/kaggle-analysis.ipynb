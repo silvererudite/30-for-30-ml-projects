{
 "cells": [
  {
   "cell_type": "code",
   "execution_count": 1,
   "id": "16d580f8",
   "metadata": {
    "_cell_guid": "b1076dfc-b9ad-4769-8c92-a6c4dae69d19",
    "_uuid": "8f2839f25d086af736a60e9eeb907d3b93b6e0e5",
    "execution": {
     "iopub.execute_input": "2022-10-17T09:01:56.107707Z",
     "iopub.status.busy": "2022-10-17T09:01:56.106971Z",
     "iopub.status.idle": "2022-10-17T09:01:57.385674Z",
     "shell.execute_reply": "2022-10-17T09:01:57.384557Z"
    },
    "papermill": {
     "duration": 1.297812,
     "end_time": "2022-10-17T09:01:57.388730",
     "exception": false,
     "start_time": "2022-10-17T09:01:56.090918",
     "status": "completed"
    },
    "tags": []
   },
   "outputs": [],
   "source": [
    "import numpy as np\n",
    "import pandas as pd \n",
    "import os\n",
    "import matplotlib.pyplot as plt\n",
    "import seaborn as sns\n",
    "color = sns.color_palette()\n",
    "%matplotlib inline\n",
    "\n",
    "import plotly.offline as py\n",
    "import plotly.graph_objs as go\n",
    "import plotly.tools as tls"
   ]
  },
  {
   "cell_type": "code",
   "execution_count": 2,
   "id": "9576384c",
   "metadata": {
    "execution": {
     "iopub.execute_input": "2022-10-17T09:01:57.405686Z",
     "iopub.status.busy": "2022-10-17T09:01:57.405199Z",
     "iopub.status.idle": "2022-10-17T09:01:57.411538Z",
     "shell.execute_reply": "2022-10-17T09:01:57.410219Z"
    },
    "papermill": {
     "duration": 0.018029,
     "end_time": "2022-10-17T09:01:57.414309",
     "exception": false,
     "start_time": "2022-10-17T09:01:57.396280",
     "status": "completed"
    },
    "tags": []
   },
   "outputs": [],
   "source": [
    "DATA_DIR = \"../input/kaggle-survey-2022/\""
   ]
  },
  {
   "cell_type": "code",
   "execution_count": 3,
   "id": "1218a92c",
   "metadata": {
    "execution": {
     "iopub.execute_input": "2022-10-17T09:01:57.430629Z",
     "iopub.status.busy": "2022-10-17T09:01:57.430165Z",
     "iopub.status.idle": "2022-10-17T09:01:57.440805Z",
     "shell.execute_reply": "2022-10-17T09:01:57.439279Z"
    },
    "papermill": {
     "duration": 0.02192,
     "end_time": "2022-10-17T09:01:57.443494",
     "exception": false,
     "start_time": "2022-10-17T09:01:57.421574",
     "status": "completed"
    },
    "tags": []
   },
   "outputs": [
    {
     "data": {
      "text/plain": [
       "['Supplementary Data', 'kaggle_survey_2022_responses.csv']"
      ]
     },
     "execution_count": 3,
     "metadata": {},
     "output_type": "execute_result"
    }
   ],
   "source": [
    "os.listdir(DATA_DIR)"
   ]
  },
  {
   "cell_type": "code",
   "execution_count": 4,
   "id": "42b33a7b",
   "metadata": {
    "execution": {
     "iopub.execute_input": "2022-10-17T09:01:57.461126Z",
     "iopub.status.busy": "2022-10-17T09:01:57.460711Z",
     "iopub.status.idle": "2022-10-17T09:01:58.721832Z",
     "shell.execute_reply": "2022-10-17T09:01:58.720137Z"
    },
    "papermill": {
     "duration": 1.274427,
     "end_time": "2022-10-17T09:01:58.725827",
     "exception": false,
     "start_time": "2022-10-17T09:01:57.451400",
     "status": "completed"
    },
    "tags": []
   },
   "outputs": [
    {
     "name": "stderr",
     "output_type": "stream",
     "text": [
      "/opt/conda/lib/python3.7/site-packages/IPython/core/interactiveshell.py:3552: DtypeWarning:\n",
      "\n",
      "Columns (0,208,225,255,257,260,270,271,277) have mixed types.Specify dtype option on import or set low_memory=False.\n",
      "\n"
     ]
    },
    {
     "data": {
      "text/html": [
       "<div>\n",
       "<style scoped>\n",
       "    .dataframe tbody tr th:only-of-type {\n",
       "        vertical-align: middle;\n",
       "    }\n",
       "\n",
       "    .dataframe tbody tr th {\n",
       "        vertical-align: top;\n",
       "    }\n",
       "\n",
       "    .dataframe thead th {\n",
       "        text-align: right;\n",
       "    }\n",
       "</style>\n",
       "<table border=\"1\" class=\"dataframe\">\n",
       "  <thead>\n",
       "    <tr style=\"text-align: right;\">\n",
       "      <th></th>\n",
       "      <th>Duration (in seconds)</th>\n",
       "      <th>Q2</th>\n",
       "      <th>Q3</th>\n",
       "      <th>Q4</th>\n",
       "      <th>Q5</th>\n",
       "      <th>Q6_1</th>\n",
       "      <th>Q6_2</th>\n",
       "      <th>Q6_3</th>\n",
       "      <th>Q6_4</th>\n",
       "      <th>Q6_5</th>\n",
       "      <th>...</th>\n",
       "      <th>Q44_3</th>\n",
       "      <th>Q44_4</th>\n",
       "      <th>Q44_5</th>\n",
       "      <th>Q44_6</th>\n",
       "      <th>Q44_7</th>\n",
       "      <th>Q44_8</th>\n",
       "      <th>Q44_9</th>\n",
       "      <th>Q44_10</th>\n",
       "      <th>Q44_11</th>\n",
       "      <th>Q44_12</th>\n",
       "    </tr>\n",
       "  </thead>\n",
       "  <tbody>\n",
       "    <tr>\n",
       "      <th>0</th>\n",
       "      <td>Duration (in seconds)</td>\n",
       "      <td>What is your age (# years)?</td>\n",
       "      <td>What is your gender? - Selected Choice</td>\n",
       "      <td>In which country do you currently reside?</td>\n",
       "      <td>Are you currently a student? (high school, uni...</td>\n",
       "      <td>On which platforms have you begun or completed...</td>\n",
       "      <td>On which platforms have you begun or completed...</td>\n",
       "      <td>On which platforms have you begun or completed...</td>\n",
       "      <td>On which platforms have you begun or completed...</td>\n",
       "      <td>On which platforms have you begun or completed...</td>\n",
       "      <td>...</td>\n",
       "      <td>Who/what are your favorite media sources that ...</td>\n",
       "      <td>Who/what are your favorite media sources that ...</td>\n",
       "      <td>Who/what are your favorite media sources that ...</td>\n",
       "      <td>Who/what are your favorite media sources that ...</td>\n",
       "      <td>Who/what are your favorite media sources that ...</td>\n",
       "      <td>Who/what are your favorite media sources that ...</td>\n",
       "      <td>Who/what are your favorite media sources that ...</td>\n",
       "      <td>Who/what are your favorite media sources that ...</td>\n",
       "      <td>Who/what are your favorite media sources that ...</td>\n",
       "      <td>Who/what are your favorite media sources that ...</td>\n",
       "    </tr>\n",
       "    <tr>\n",
       "      <th>1</th>\n",
       "      <td>121</td>\n",
       "      <td>30-34</td>\n",
       "      <td>Man</td>\n",
       "      <td>India</td>\n",
       "      <td>No</td>\n",
       "      <td>NaN</td>\n",
       "      <td>NaN</td>\n",
       "      <td>NaN</td>\n",
       "      <td>NaN</td>\n",
       "      <td>NaN</td>\n",
       "      <td>...</td>\n",
       "      <td>NaN</td>\n",
       "      <td>NaN</td>\n",
       "      <td>NaN</td>\n",
       "      <td>NaN</td>\n",
       "      <td>NaN</td>\n",
       "      <td>NaN</td>\n",
       "      <td>NaN</td>\n",
       "      <td>NaN</td>\n",
       "      <td>NaN</td>\n",
       "      <td>NaN</td>\n",
       "    </tr>\n",
       "    <tr>\n",
       "      <th>2</th>\n",
       "      <td>462</td>\n",
       "      <td>30-34</td>\n",
       "      <td>Man</td>\n",
       "      <td>Algeria</td>\n",
       "      <td>No</td>\n",
       "      <td>NaN</td>\n",
       "      <td>NaN</td>\n",
       "      <td>NaN</td>\n",
       "      <td>NaN</td>\n",
       "      <td>NaN</td>\n",
       "      <td>...</td>\n",
       "      <td>NaN</td>\n",
       "      <td>NaN</td>\n",
       "      <td>NaN</td>\n",
       "      <td>NaN</td>\n",
       "      <td>NaN</td>\n",
       "      <td>NaN</td>\n",
       "      <td>NaN</td>\n",
       "      <td>NaN</td>\n",
       "      <td>NaN</td>\n",
       "      <td>NaN</td>\n",
       "    </tr>\n",
       "    <tr>\n",
       "      <th>3</th>\n",
       "      <td>293</td>\n",
       "      <td>18-21</td>\n",
       "      <td>Man</td>\n",
       "      <td>Egypt</td>\n",
       "      <td>Yes</td>\n",
       "      <td>Coursera</td>\n",
       "      <td>edX</td>\n",
       "      <td>NaN</td>\n",
       "      <td>DataCamp</td>\n",
       "      <td>NaN</td>\n",
       "      <td>...</td>\n",
       "      <td>NaN</td>\n",
       "      <td>Kaggle (notebooks, forums, etc)</td>\n",
       "      <td>NaN</td>\n",
       "      <td>YouTube (Kaggle YouTube, Cloud AI Adventures, ...</td>\n",
       "      <td>Podcasts (Chai Time Data Science, O’Reilly Dat...</td>\n",
       "      <td>NaN</td>\n",
       "      <td>NaN</td>\n",
       "      <td>NaN</td>\n",
       "      <td>NaN</td>\n",
       "      <td>NaN</td>\n",
       "    </tr>\n",
       "    <tr>\n",
       "      <th>4</th>\n",
       "      <td>851</td>\n",
       "      <td>55-59</td>\n",
       "      <td>Man</td>\n",
       "      <td>France</td>\n",
       "      <td>No</td>\n",
       "      <td>Coursera</td>\n",
       "      <td>NaN</td>\n",
       "      <td>Kaggle Learn Courses</td>\n",
       "      <td>NaN</td>\n",
       "      <td>NaN</td>\n",
       "      <td>...</td>\n",
       "      <td>NaN</td>\n",
       "      <td>Kaggle (notebooks, forums, etc)</td>\n",
       "      <td>Course Forums (forums.fast.ai, Coursera forums...</td>\n",
       "      <td>NaN</td>\n",
       "      <td>NaN</td>\n",
       "      <td>Blogs (Towards Data Science, Analytics Vidhya,...</td>\n",
       "      <td>NaN</td>\n",
       "      <td>NaN</td>\n",
       "      <td>NaN</td>\n",
       "      <td>NaN</td>\n",
       "    </tr>\n",
       "  </tbody>\n",
       "</table>\n",
       "<p>5 rows × 296 columns</p>\n",
       "</div>"
      ],
      "text/plain": [
       "   Duration (in seconds)                           Q2  \\\n",
       "0  Duration (in seconds)  What is your age (# years)?   \n",
       "1                    121                        30-34   \n",
       "2                    462                        30-34   \n",
       "3                    293                        18-21   \n",
       "4                    851                        55-59   \n",
       "\n",
       "                                       Q3  \\\n",
       "0  What is your gender? - Selected Choice   \n",
       "1                                     Man   \n",
       "2                                     Man   \n",
       "3                                     Man   \n",
       "4                                     Man   \n",
       "\n",
       "                                          Q4  \\\n",
       "0  In which country do you currently reside?   \n",
       "1                                      India   \n",
       "2                                    Algeria   \n",
       "3                                      Egypt   \n",
       "4                                     France   \n",
       "\n",
       "                                                  Q5  \\\n",
       "0  Are you currently a student? (high school, uni...   \n",
       "1                                                 No   \n",
       "2                                                 No   \n",
       "3                                                Yes   \n",
       "4                                                 No   \n",
       "\n",
       "                                                Q6_1  \\\n",
       "0  On which platforms have you begun or completed...   \n",
       "1                                                NaN   \n",
       "2                                                NaN   \n",
       "3                                           Coursera   \n",
       "4                                           Coursera   \n",
       "\n",
       "                                                Q6_2  \\\n",
       "0  On which platforms have you begun or completed...   \n",
       "1                                                NaN   \n",
       "2                                                NaN   \n",
       "3                                                edX   \n",
       "4                                                NaN   \n",
       "\n",
       "                                                Q6_3  \\\n",
       "0  On which platforms have you begun or completed...   \n",
       "1                                                NaN   \n",
       "2                                                NaN   \n",
       "3                                                NaN   \n",
       "4                               Kaggle Learn Courses   \n",
       "\n",
       "                                                Q6_4  \\\n",
       "0  On which platforms have you begun or completed...   \n",
       "1                                                NaN   \n",
       "2                                                NaN   \n",
       "3                                           DataCamp   \n",
       "4                                                NaN   \n",
       "\n",
       "                                                Q6_5  ...  \\\n",
       "0  On which platforms have you begun or completed...  ...   \n",
       "1                                                NaN  ...   \n",
       "2                                                NaN  ...   \n",
       "3                                                NaN  ...   \n",
       "4                                                NaN  ...   \n",
       "\n",
       "                                               Q44_3  \\\n",
       "0  Who/what are your favorite media sources that ...   \n",
       "1                                                NaN   \n",
       "2                                                NaN   \n",
       "3                                                NaN   \n",
       "4                                                NaN   \n",
       "\n",
       "                                               Q44_4  \\\n",
       "0  Who/what are your favorite media sources that ...   \n",
       "1                                                NaN   \n",
       "2                                                NaN   \n",
       "3                    Kaggle (notebooks, forums, etc)   \n",
       "4                    Kaggle (notebooks, forums, etc)   \n",
       "\n",
       "                                               Q44_5  \\\n",
       "0  Who/what are your favorite media sources that ...   \n",
       "1                                                NaN   \n",
       "2                                                NaN   \n",
       "3                                                NaN   \n",
       "4  Course Forums (forums.fast.ai, Coursera forums...   \n",
       "\n",
       "                                               Q44_6  \\\n",
       "0  Who/what are your favorite media sources that ...   \n",
       "1                                                NaN   \n",
       "2                                                NaN   \n",
       "3  YouTube (Kaggle YouTube, Cloud AI Adventures, ...   \n",
       "4                                                NaN   \n",
       "\n",
       "                                               Q44_7  \\\n",
       "0  Who/what are your favorite media sources that ...   \n",
       "1                                                NaN   \n",
       "2                                                NaN   \n",
       "3  Podcasts (Chai Time Data Science, O’Reilly Dat...   \n",
       "4                                                NaN   \n",
       "\n",
       "                                               Q44_8  \\\n",
       "0  Who/what are your favorite media sources that ...   \n",
       "1                                                NaN   \n",
       "2                                                NaN   \n",
       "3                                                NaN   \n",
       "4  Blogs (Towards Data Science, Analytics Vidhya,...   \n",
       "\n",
       "                                               Q44_9  \\\n",
       "0  Who/what are your favorite media sources that ...   \n",
       "1                                                NaN   \n",
       "2                                                NaN   \n",
       "3                                                NaN   \n",
       "4                                                NaN   \n",
       "\n",
       "                                              Q44_10  \\\n",
       "0  Who/what are your favorite media sources that ...   \n",
       "1                                                NaN   \n",
       "2                                                NaN   \n",
       "3                                                NaN   \n",
       "4                                                NaN   \n",
       "\n",
       "                                              Q44_11  \\\n",
       "0  Who/what are your favorite media sources that ...   \n",
       "1                                                NaN   \n",
       "2                                                NaN   \n",
       "3                                                NaN   \n",
       "4                                                NaN   \n",
       "\n",
       "                                              Q44_12  \n",
       "0  Who/what are your favorite media sources that ...  \n",
       "1                                                NaN  \n",
       "2                                                NaN  \n",
       "3                                                NaN  \n",
       "4                                                NaN  \n",
       "\n",
       "[5 rows x 296 columns]"
      ]
     },
     "execution_count": 4,
     "metadata": {},
     "output_type": "execute_result"
    }
   ],
   "source": [
    "data_df = pd.read_csv(DATA_DIR+'kaggle_survey_2022_responses.csv')\n",
    "data_df.head()"
   ]
  },
  {
   "cell_type": "markdown",
   "id": "35b93822",
   "metadata": {
    "papermill": {
     "duration": 0.007412,
     "end_time": "2022-10-17T09:01:58.741567",
     "exception": false,
     "start_time": "2022-10-17T09:01:58.734155",
     "status": "completed"
    },
    "tags": []
   },
   "source": [
    "1. Countries representing most DL/Ml developers\n",
    "10. Which countries have most DS and ML professionals and students\n",
    "2. Most representative age group\n",
    "3. how many students vs professionals\n",
    "4. How students prefer to learn DS and ML\n",
    "5. How professionals prefer to learn DS and ML\n",
    "6. Programming language students prefer\n",
    "7. programming language that professionals prefer\n",
    "8. frameworks that students prefer vs professionals\n",
    "9. What idustry is utilizing ML most, how they use ML , Q 24, 27, 28\n",
    "\n"
   ]
  },
  {
   "cell_type": "markdown",
   "id": "94967ed0",
   "metadata": {
    "papermill": {
     "duration": 0.007435,
     "end_time": "2022-10-17T09:01:58.756781",
     "exception": false,
     "start_time": "2022-10-17T09:01:58.749346",
     "status": "completed"
    },
    "tags": []
   },
   "source": [
    "# Top 10 Countries representing most DL/Ml developers"
   ]
  },
  {
   "cell_type": "code",
   "execution_count": 5,
   "id": "6b03e73c",
   "metadata": {
    "execution": {
     "iopub.execute_input": "2022-10-17T09:01:58.778404Z",
     "iopub.status.busy": "2022-10-17T09:01:58.777947Z",
     "iopub.status.idle": "2022-10-17T09:01:59.099894Z",
     "shell.execute_reply": "2022-10-17T09:01:59.098680Z"
    },
    "papermill": {
     "duration": 0.33482,
     "end_time": "2022-10-17T09:01:59.102856",
     "exception": false,
     "start_time": "2022-10-17T09:01:58.768036",
     "status": "completed"
    },
    "tags": []
   },
   "outputs": [
    {
     "data": {
      "image/png": "[encoded data removed]",
      "text/plain": [
       "<Figure size 864x576 with 1 Axes>"
      ]
     },
     "metadata": {
      "needs_background": "light"
     },
     "output_type": "display_data"
    }
   ],
   "source": [
    "#ax = data_df.loc[1:, 'Q4'].value_counts().plot(kind=\"bar\", figsize=(10, 5))\n",
    "d = pd.DataFrame(data_df.loc[1:, 'Q4'].value_counts().nlargest(10))\n",
    "plt.figure(figsize=(12,8))\n",
    "sns.barplot(x=d['Q4'], y=d.index, palette='viridis', alpha=0.5)\n",
    "plt.xlabel('Number of respondents', fontsize=12)\n",
    "plt.ylabel('Country', fontsize=12)\n",
    "plt.title(\"Country wise number of respondents\", fontsize=15)\n",
    "plt.show()"
   ]
  },
  {
   "cell_type": "markdown",
   "id": "930f226f",
   "metadata": {
    "papermill": {
     "duration": 0.008702,
     "end_time": "2022-10-17T09:01:59.120889",
     "exception": false,
     "start_time": "2022-10-17T09:01:59.112187",
     "status": "completed"
    },
    "tags": []
   },
   "source": [
    "# Which country has most students vs professionals"
   ]
  },
  {
   "cell_type": "code",
   "execution_count": 6,
   "id": "ec8eb5c4",
   "metadata": {
    "collapsed": true,
    "execution": {
     "iopub.execute_input": "2022-10-17T09:01:59.140387Z",
     "iopub.status.busy": "2022-10-17T09:01:59.139955Z",
     "iopub.status.idle": "2022-10-17T09:01:59.157268Z",
     "shell.execute_reply": "2022-10-17T09:01:59.155800Z"
    },
    "jupyter": {
     "outputs_hidden": true
    },
    "papermill": {
     "duration": 0.030558,
     "end_time": "2022-10-17T09:01:59.160232",
     "exception": false,
     "start_time": "2022-10-17T09:01:59.129674",
     "status": "completed"
    },
    "tags": []
   },
   "outputs": [
    {
     "data": {
      "text/plain": [
       "India                                                   4967\n",
       "United States of America                                 924\n",
       "Other                                                    708\n",
       "Nigeria                                                  482\n",
       "Brazil                                                   437\n",
       "Pakistan                                                 418\n",
       "China                                                    290\n",
       "Egypt                                                    240\n",
       "Indonesia                                                228\n",
       "Mexico                                                   192\n",
       "Bangladesh                                               182\n",
       "Turkey                                                   175\n",
       "Russia                                                   160\n",
       "Colombia                                                 137\n",
       "Viet Nam                                                 135\n",
       "Kenya                                                    134\n",
       "Morocco                                                  119\n",
       "Argentina                                                110\n",
       "South Korea                                              104\n",
       "Tunisia                                                   96\n",
       "Canada                                                    87\n",
       "United Kingdom of Great Britain and Northern Ireland      87\n",
       "Japan                                                     86\n",
       "Spain                                                     80\n",
       "France                                                    74\n",
       "Iran, Islamic Republic of...                              74\n",
       "Peru                                                      73\n",
       "Taiwan                                                    70\n",
       "Ghana                                                     68\n",
       "South Africa                                              58\n",
       "Ethiopia                                                  57\n",
       "Australia                                                 56\n",
       "Nepal                                                     54\n",
       "Italy                                                     54\n",
       "Thailand                                                  53\n",
       "Chile                                                     50\n",
       "Cameroon                                                  50\n",
       "Philippines                                               47\n",
       "Algeria                                                   46\n",
       "Sri Lanka                                                 43\n",
       "Ecuador                                                   40\n",
       "Ukraine                                                   40\n",
       "Portugal                                                  34\n",
       "Israel                                                    33\n",
       "Malaysia                                                  33\n",
       "Germany                                                   32\n",
       "Zimbabwe                                                  32\n",
       "Saudi Arabia                                              32\n",
       "Poland                                                    29\n",
       "I do not wish to disclose my location                     23\n",
       "Singapore                                                 22\n",
       "Romania                                                   21\n",
       "United Arab Emirates                                      20\n",
       "Ireland                                                   17\n",
       "Hong Kong (S.A.R.)                                        17\n",
       "Netherlands                                               13\n",
       "Czech Republic                                            10\n",
       "Belgium                                                    8\n",
       "Name: Q4, dtype: int64"
      ]
     },
     "execution_count": 6,
     "metadata": {},
     "output_type": "execute_result"
    }
   ],
   "source": [
    "students_countries = data_df.loc[(data_df['Q5'] == 'Yes'),'Q4'].value_counts()\n",
    "students_countries"
   ]
  },
  {
   "cell_type": "code",
   "execution_count": 7,
   "id": "4854c176",
   "metadata": {
    "collapsed": true,
    "execution": {
     "iopub.execute_input": "2022-10-17T09:01:59.180464Z",
     "iopub.status.busy": "2022-10-17T09:01:59.180028Z",
     "iopub.status.idle": "2022-10-17T09:01:59.194426Z",
     "shell.execute_reply": "2022-10-17T09:01:59.193171Z"
    },
    "jupyter": {
     "outputs_hidden": true
    },
    "papermill": {
     "duration": 0.028117,
     "end_time": "2022-10-17T09:01:59.197304",
     "exception": false,
     "start_time": "2022-10-17T09:01:59.169187",
     "status": "completed"
    },
    "tags": []
   },
   "outputs": [
    {
     "data": {
      "text/plain": [
       "India                                                   3825\n",
       "United States of America                                1996\n",
       "Other                                                    722\n",
       "Japan                                                    470\n",
       "Brazil                                                   396\n",
       "Nigeria                                                  249\n",
       "South Korea                                              213\n",
       "Pakistan                                                 202\n",
       "France                                                   188\n",
       "Mexico                                                   188\n",
       "Spain                                                    177\n",
       "Taiwan                                                   172\n",
       "United Kingdom of Great Britain and Northern Ireland     171\n",
       "Canada                                                   170\n",
       "Turkey                                                   170\n",
       "Russia                                                   164\n",
       "China                                                    163\n",
       "Indonesia                                                148\n",
       "Egypt                                                    143\n",
       "Italy                                                    128\n",
       "Colombia                                                 119\n",
       "Netherlands                                               95\n",
       "Argentina                                                 94\n",
       "Australia                                                 86\n",
       "Poland                                                    84\n",
       "Thailand                                                  79\n",
       "Viet Nam                                                  77\n",
       "United Arab Emirates                                      74\n",
       "Bangladesh                                                69\n",
       "Israel                                                    69\n",
       "Germany                                                   67\n",
       "Kenya                                                     67\n",
       "Chile                                                     65\n",
       "Philippines                                               61\n",
       "Morocco                                                   58\n",
       "Portugal                                                  53\n",
       "Saudi Arabia                                              52\n",
       "South Africa                                              51\n",
       "Peru                                                      48\n",
       "Iran, Islamic Republic of...                              46\n",
       "Singapore                                                 46\n",
       "Belgium                                                   43\n",
       "Ethiopia                                                  41\n",
       "Malaysia                                                  41\n",
       "Hong Kong (S.A.R.)                                        41\n",
       "Czech Republic                                            39\n",
       "Ghana                                                     39\n",
       "Ukraine                                                   39\n",
       "Ireland                                                   36\n",
       "Sri Lanka                                                 34\n",
       "Romania                                                   29\n",
       "Tunisia                                                   29\n",
       "Zimbabwe                                                  22\n",
       "Nepal                                                     21\n",
       "I do not wish to disclose my location                     19\n",
       "Cameroon                                                  18\n",
       "Algeria                                                   16\n",
       "Ecuador                                                   14\n",
       "Name: Q4, dtype: int64"
      ]
     },
     "execution_count": 7,
     "metadata": {},
     "output_type": "execute_result"
    }
   ],
   "source": [
    "pros_countries = data_df.loc[(data_df['Q5'] == 'No'),'Q4'].value_counts()\n",
    "pros_countries"
   ]
  },
  {
   "cell_type": "code",
   "execution_count": 8,
   "id": "fba72881",
   "metadata": {
    "execution": {
     "iopub.execute_input": "2022-10-17T09:01:59.217718Z",
     "iopub.status.busy": "2022-10-17T09:01:59.217235Z",
     "iopub.status.idle": "2022-10-17T09:01:59.227784Z",
     "shell.execute_reply": "2022-10-17T09:01:59.226710Z"
    },
    "papermill": {
     "duration": 0.024039,
     "end_time": "2022-10-17T09:01:59.230317",
     "exception": false,
     "start_time": "2022-10-17T09:01:59.206278",
     "status": "completed"
    },
    "tags": []
   },
   "outputs": [],
   "source": [
    "LOCDATA=\"\"\"COUNTRY,GDP (BILLIONS),CODE\n",
    "Afghanistan,21.71,AFG\n",
    "Albania,13.40,ALB\n",
    "Algeria,227.80,DZA\n",
    "American Samoa,0.75,ASM\n",
    "Andorra,4.80,AND\n",
    "Angola,131.40,AGO\n",
    "Anguilla,0.18,AIA\n",
    "Antigua and Barbuda,1.24,ATG\n",
    "Argentina,536.20,ARG\n",
    "Armenia,10.88,ARM\n",
    "Aruba,2.52,ABW\n",
    "Australia,1483.00,AUS\n",
    "Austria,436.10,AUT\n",
    "Azerbaijan,77.91,AZE\n",
    "\"Bahamas, The\",8.65,BHM\n",
    "Bahrain,34.05,BHR\n",
    "Bangladesh,186.60,BGD\n",
    "Barbados,4.28,BRB\n",
    "Belarus,75.25,BLR\n",
    "Belgium,527.80,BEL\n",
    "Belize,1.67,BLZ\n",
    "Benin,9.24,BEN\n",
    "Bermuda,5.20,BMU\n",
    "Bhutan,2.09,BTN\n",
    "Bolivia,34.08,BOL\n",
    "Bosnia and Herzegovina,19.55,BIH\n",
    "Botswana,16.30,BWA\n",
    "Brazil,2244.00,BRA\n",
    "British Virgin Islands,1.10,VGB\n",
    "Brunei,17.43,BRN\n",
    "Bulgaria,55.08,BGR\n",
    "Burkina Faso,13.38,BFA\n",
    "Burma,65.29,MMR\n",
    "Burundi,3.04,BDI\n",
    "Cabo Verde,1.98,CPV\n",
    "Cambodia,16.90,KHM\n",
    "Cameroon,32.16,CMR\n",
    "Canada,1794.00,CAN\n",
    "Cayman Islands,2.25,CYM\n",
    "Central African Republic,1.73,CAF\n",
    "Chad,15.84,TCD\n",
    "Chile,264.10,CHL\n",
    "\"People 's Republic of China\",10360.00,CHN\n",
    "Colombia,400.10,COL\n",
    "Comoros,0.72,COM\n",
    "\"Congo, Democratic Republic of the\",32.67,COD\n",
    "\"Congo, Republic of the\",14.11,COG\n",
    "Cook Islands,0.18,COK\n",
    "Costa Rica,50.46,CRI\n",
    "Cote d'Ivoire,33.96,CIV\n",
    "Croatia,57.18,HRV\n",
    "Cuba,77.15,CUB\n",
    "Curacao,5.60,CUW\n",
    "Cyprus,21.34,CYP\n",
    "Czech Republic,205.60,CZE\n",
    "Denmark,347.20,DNK\n",
    "Djibouti,1.58,DJI\n",
    "Dominica,0.51,DMA\n",
    "Dominican Republic,64.05,DOM\n",
    "Ecuador,100.50,ECU\n",
    "Egypt,284.90,EGY\n",
    "El Salvador,25.14,SLV\n",
    "Equatorial Guinea,15.40,GNQ\n",
    "Eritrea,3.87,ERI\n",
    "Estonia,26.36,EST\n",
    "Ethiopia,49.86,ETH\n",
    "Falkland Islands (Islas Malvinas),0.16,FLK\n",
    "Faroe Islands,2.32,FRO\n",
    "Fiji,4.17,FJI\n",
    "Finland,276.30,FIN\n",
    "France,2902.00,FRA\n",
    "French Polynesia,7.15,PYF\n",
    "Gabon,20.68,GAB\n",
    "\"Gambia, The\",0.92,GMB\n",
    "Georgia,16.13,GEO\n",
    "Germany,3820.00,DEU\n",
    "Ghana,35.48,GHA\n",
    "Gibraltar,1.85,GIB\n",
    "Greece,246.40,GRC\n",
    "Greenland,2.16,GRL\n",
    "Grenada,0.84,GRD\n",
    "Guam,4.60,GUM\n",
    "Guatemala,58.30,GTM\n",
    "Guernsey,2.74,GGY\n",
    "Guinea-Bissau,1.04,GNB\n",
    "Guinea,6.77,GIN\n",
    "Guyana,3.14,GUY\n",
    "Haiti,8.92,HTI\n",
    "Honduras,19.37,HND\n",
    "Hong Kong,292.70,HKG\n",
    "Hungary,129.70,HUN\n",
    "Iceland,16.20,ISL\n",
    "India,2048.00,IND\n",
    "Indonesia,856.10,IDN\n",
    "Iran,402.70,IRN\n",
    "Iraq,232.20,IRQ\n",
    "Ireland,245.80,IRL\n",
    "Isle of Man,4.08,IMN\n",
    "Israel,305.00,ISR\n",
    "Italy,2129.00,ITA\n",
    "Jamaica,13.92,JAM\n",
    "Japan,4770.00,JPN\n",
    "Jersey,5.77,JEY\n",
    "Jordan,36.55,JOR\n",
    "Kazakhstan,225.60,KAZ\n",
    "Kenya,62.72,KEN\n",
    "Kiribati,0.16,KIR\n",
    "\"Korea, North\",28.00,PRK\n",
    "\"Korea, South\",1410.00,KOR\n",
    "Kosovo,5.99,KSV\n",
    "Kuwait,179.30,KWT\n",
    "Kyrgyzstan,7.65,KGZ\n",
    "Laos,11.71,LAO\n",
    "Latvia,32.82,LVA\n",
    "Lebanon,47.50,LBN\n",
    "Lesotho,2.46,LSO\n",
    "Liberia,2.07,LBR\n",
    "Libya,49.34,LBY\n",
    "Liechtenstein,5.11,LIE\n",
    "Lithuania,48.72,LTU\n",
    "Luxembourg,63.93,LUX\n",
    "Macau,51.68,MAC\n",
    "Macedonia,10.92,MKD\n",
    "Madagascar,11.19,MDG\n",
    "Malawi,4.41,MWI\n",
    "Malaysia,336.90,MYS\n",
    "Maldives,2.41,MDV\n",
    "Mali,12.04,MLI\n",
    "Malta,10.57,MLT\n",
    "Marshall Islands,0.18,MHL\n",
    "Mauritania,4.29,MRT\n",
    "Mauritius,12.72,MUS\n",
    "Mexico,1296.00,MEX\n",
    "\"Micronesia, Federated States of\",0.34,FSM\n",
    "Moldova,7.74,MDA\n",
    "Monaco,6.06,MCO\n",
    "Mongolia,11.73,MNG\n",
    "Montenegro,4.66,MNE\n",
    "Morocco,112.60,MAR\n",
    "Mozambique,16.59,MOZ\n",
    "Namibia,13.11,NAM\n",
    "Nepal,19.64,NPL\n",
    "Netherlands,880.40,NLD\n",
    "New Caledonia,11.10,NCL\n",
    "New Zealand,201.00,NZL\n",
    "Nicaragua,11.85,NIC\n",
    "Nigeria,594.30,NGA\n",
    "Niger,8.29,NER\n",
    "Niue,0.01,NIU\n",
    "Northern Mariana Islands,1.23,MNP\n",
    "Norway,511.60,NOR\n",
    "Oman,80.54,OMN\n",
    "Pakistan,237.50,PAK\n",
    "Palau,0.65,PLW\n",
    "Panama,44.69,PAN\n",
    "Papua New Guinea,16.10,PNG\n",
    "Paraguay,31.30,PRY\n",
    "Peru,208.20,PER\n",
    "Philippines,284.60,PHL\n",
    "Poland,552.20,POL\n",
    "Portugal,228.20,PRT\n",
    "Puerto Rico,93.52,PRI\n",
    "Qatar,212.00,QAT\n",
    "Romania,199.00,ROU\n",
    "Russia,2057.00,RUS\n",
    "Rwanda,8.00,RWA\n",
    "Saint Kitts and Nevis,0.81,KNA\n",
    "Saint Lucia,1.35,LCA\n",
    "Saint Martin,0.56,MAF\n",
    "Saint Pierre and Miquelon,0.22,SPM\n",
    "Saint Vincent and the Grenadines,0.75,VCT\n",
    "Samoa,0.83,WSM\n",
    "San Marino,1.86,SMR\n",
    "Sao Tome and Principe,0.36,STP\n",
    "Saudi Arabia,777.90,SAU\n",
    "Senegal,15.88,SEN\n",
    "Serbia,42.65,SRB\n",
    "Seychelles,1.47,SYC\n",
    "Sierra Leone,5.41,SLE\n",
    "Singapore,307.90,SGP\n",
    "Sint Maarten,304.10,SXM\n",
    "Slovakia,99.75,SVK\n",
    "Slovenia,49.93,SVN\n",
    "Solomon Islands,1.16,SLB\n",
    "Somalia,2.37,SOM\n",
    "South Africa,341.20,ZAF\n",
    "South Sudan,11.89,SSD\n",
    "Spain,1400.00,ESP\n",
    "Sri Lanka,71.57,LKA\n",
    "Sudan,70.03,SDN\n",
    "Suriname,5.27,SUR\n",
    "Swaziland,3.84,SWZ\n",
    "Sweden,559.10,SWE\n",
    "Switzerland,679.00,CHE\n",
    "Syria,64.70,SYR\n",
    "Taiwan,529.50,TWN\n",
    "Tajikistan,9.16,TJK\n",
    "Tanzania,36.62,TZA\n",
    "Thailand,373.80,THA\n",
    "Timor-Leste,4.51,TLS\n",
    "Togo,4.84,TGO\n",
    "Tonga,0.49,TON\n",
    "Trinidad and Tobago,29.63,TTO\n",
    "Tunisia,49.12,TUN\n",
    "Turkey,813.30,TUR\n",
    "Turkmenistan,43.50,TKM\n",
    "Tuvalu,0.04,TUV\n",
    "Uganda,26.09,UGA\n",
    "Ukraine,134.90,UKR\n",
    "United Arab Emirates,416.40,ARE\n",
    "United Kingdom,2848.00,GBR\n",
    "United States,17420.00,USA\n",
    "Uruguay,55.60,URY\n",
    "Uzbekistan,63.08,UZB\n",
    "Vanuatu,0.82,VUT\n",
    "Venezuela,209.20,VEN\n",
    "Vietnam,187.80,VNM\n",
    "Virgin Islands,5.08,VGB\n",
    "West Bank,6.64,WBG\n",
    "Yemen,45.45,YEM\n",
    "Zambia,25.61,ZMB\n",
    "Zimbabwe,13.74,ZWE\n",
    "    \"\"\"\n",
    "\n",
    "with open(\"location_map.csv\", \"w\") as ofile:\n",
    "    ofile.write(LOCDATA)"
   ]
  },
  {
   "cell_type": "code",
   "execution_count": 9,
   "id": "e2a3f603",
   "metadata": {
    "execution": {
     "iopub.execute_input": "2022-10-17T09:01:59.250519Z",
     "iopub.status.busy": "2022-10-17T09:01:59.249814Z",
     "iopub.status.idle": "2022-10-17T09:01:59.283160Z",
     "shell.execute_reply": "2022-10-17T09:01:59.281771Z"
    },
    "papermill": {
     "duration": 0.046819,
     "end_time": "2022-10-17T09:01:59.286130",
     "exception": false,
     "start_time": "2022-10-17T09:01:59.239311",
     "status": "completed"
    },
    "tags": []
   },
   "outputs": [],
   "source": [
    "loc_df = pd.read_csv(\"./location_map.csv\")\n",
    "new_df = pd.merge(data_df[[\"Q4\",\"Q5\"]], loc_df, left_on=\"Q4\", right_on=\"COUNTRY\")\n",
    "new_df = new_df.groupby([\"Q5\", \"CODE\"])[\"Q4\"].aggregate('count').reset_index()\n",
    "new_df.columns = [\"IsStudent\", \"CCode\", \"Count\"]\n"
   ]
  },
  {
   "cell_type": "code",
   "execution_count": 10,
   "id": "04d2f48b",
   "metadata": {
    "execution": {
     "iopub.execute_input": "2022-10-17T09:01:59.306968Z",
     "iopub.status.busy": "2022-10-17T09:01:59.306512Z",
     "iopub.status.idle": "2022-10-17T09:02:02.032846Z",
     "shell.execute_reply": "2022-10-17T09:02:02.031502Z"
    },
    "papermill": {
     "duration": 2.740192,
     "end_time": "2022-10-17T09:02:02.035561",
     "exception": false,
     "start_time": "2022-10-17T09:01:59.295369",
     "status": "completed"
    },
    "tags": []
   },
   "outputs": [
    {
     "data": {
      "text/html": [
       "        <script type=\"text/javascript\">\n",
       "        window.PlotlyConfig = {MathJaxConfig: 'local'};\n",
       "        if (window.MathJax && window.MathJax.Hub && window.MathJax.Hub.Config) {window.MathJax.Hub.Config({SVG: {font: \"STIX-Web\"}});}\n",
       "        if (typeof require !== 'undefined') {\n",
       "        require.undef(\"plotly\");\n",
       "        requirejs.config({\n",
       "            paths: {\n",
       "                'plotly': ['https://cdn.plot.ly/plotly-2.14.0.min']\n",
       "            }\n",
       "        });\n",
       "        require(['plotly'], function(Plotly) {\n",
       "            window._Plotly = Plotly;\n",
       "        });\n",
       "        }\n",
       "        </script>\n",
       "        "
      ]
     },
     "metadata": {},
     "output_type": "display_data"
    },
    {
     "data": {
      "text/html": [
       "<div>                            <div id=\"dad2167b-fd78-401d-ad06-6429b0605f36\" class=\"plotly-graph-div\" style=\"height:525px; width:100%;\"></div>            <script type=\"text/javascript\">                require([\"plotly\"], function(Plotly) {                    window.PLOTLYENV=window.PLOTLYENV || {};                                    if (document.getElementById(\"dad2167b-fd78-401d-ad06-6429b0605f36\")) {                    Plotly.newPlot(                        \"dad2167b-fd78-401d-ad06-6429b0605f36\",                        [{\"geo\":\"geo\",\"hovertemplate\":\"<b>%{hovertext}</b><br><br>IsStudent=No<br>Count=%{marker.size}<br>CCode=%{location}<extra></extra>\",\"hovertext\":[74.0,94.0,86.0,43.0,69.0,396.0,170.0,65.0,18.0,119.0,39.0,67.0,16.0,14.0,143.0,177.0,41.0,188.0,39.0,148.0,3825.0,36.0,69.0,128.0,470.0,67.0,34.0,58.0,188.0,41.0,249.0,95.0,21.0,202.0,48.0,61.0,84.0,53.0,29.0,164.0,52.0,46.0,79.0,29.0,170.0,172.0,39.0,51.0,22.0],\"legendgroup\":\"No\",\"locations\":[\"ARE\",\"ARG\",\"AUS\",\"BEL\",\"BGD\",\"BRA\",\"CAN\",\"CHL\",\"CMR\",\"COL\",\"CZE\",\"DEU\",\"DZA\",\"ECU\",\"EGY\",\"ESP\",\"ETH\",\"FRA\",\"GHA\",\"IDN\",\"IND\",\"IRL\",\"ISR\",\"ITA\",\"JPN\",\"KEN\",\"LKA\",\"MAR\",\"MEX\",\"MYS\",\"NGA\",\"NLD\",\"NPL\",\"PAK\",\"PER\",\"PHL\",\"POL\",\"PRT\",\"ROU\",\"RUS\",\"SAU\",\"SGP\",\"THA\",\"TUN\",\"TUR\",\"TWN\",\"UKR\",\"ZAF\",\"ZWE\"],\"marker\":{\"color\":\"Blue\",\"size\":[74,94,86,43,69,396,170,65,18,119,39,67,16,14,143,177,41,188,39,148,3825,36,69,128,470,67,34,58,188,41,249,95,21,202,48,61,84,53,29,164,52,46,79,29,170,172,39,51,22],\"sizemode\":\"area\",\"sizeref\":12.4175,\"symbol\":\"circle\"},\"mode\":\"markers\",\"name\":\"No\",\"showlegend\":true,\"type\":\"scattergeo\"},{\"geo\":\"geo\",\"hovertemplate\":\"<b>%{hovertext}</b><br><br>IsStudent=Yes<br>Count=%{marker.size}<br>CCode=%{location}<extra></extra>\",\"hovertext\":[20.0,110.0,56.0,8.0,182.0,437.0,87.0,50.0,50.0,137.0,10.0,32.0,46.0,40.0,240.0,80.0,57.0,74.0,68.0,228.0,4967.0,17.0,33.0,54.0,86.0,134.0,43.0,119.0,192.0,33.0,482.0,13.0,54.0,418.0,73.0,47.0,29.0,34.0,21.0,160.0,32.0,22.0,53.0,96.0,175.0,70.0,40.0,58.0,32.0],\"legendgroup\":\"Yes\",\"locations\":[\"ARE\",\"ARG\",\"AUS\",\"BEL\",\"BGD\",\"BRA\",\"CAN\",\"CHL\",\"CMR\",\"COL\",\"CZE\",\"DEU\",\"DZA\",\"ECU\",\"EGY\",\"ESP\",\"ETH\",\"FRA\",\"GHA\",\"IDN\",\"IND\",\"IRL\",\"ISR\",\"ITA\",\"JPN\",\"KEN\",\"LKA\",\"MAR\",\"MEX\",\"MYS\",\"NGA\",\"NLD\",\"NPL\",\"PAK\",\"PER\",\"PHL\",\"POL\",\"PRT\",\"ROU\",\"RUS\",\"SAU\",\"SGP\",\"THA\",\"TUN\",\"TUR\",\"TWN\",\"UKR\",\"ZAF\",\"ZWE\"],\"marker\":{\"color\":\"Yellow\",\"size\":[20,110,56,8,182,437,87,50,50,137,10,32,46,40,240,80,57,74,68,228,4967,17,33,54,86,134,43,119,192,33,482,13,54,418,73,47,29,34,21,160,32,22,53,96,175,70,40,58,32],\"sizemode\":\"area\",\"sizeref\":12.4175,\"symbol\":\"circle\"},\"mode\":\"markers\",\"name\":\"Yes\",\"showlegend\":true,\"type\":\"scattergeo\"}],                        {\"template\":{\"data\":{\"histogram2dcontour\":[{\"type\":\"histogram2dcontour\",\"colorbar\":{\"outlinewidth\":0,\"ticks\":\"\"},\"colorscale\":[[0.0,\"#0d0887\"],[0.1111111111111111,\"#46039f\"],[0.2222222222222222,\"#7201a8\"],[0.3333333333333333,\"#9c179e\"],[0.4444444444444444,\"#bd3786\"],[0.5555555555555556,\"#d8576b\"],[0.6666666666666666,\"#ed7953\"],[0.7777777777777778,\"#fb9f3a\"],[0.8888888888888888,\"#fdca26\"],[1.0,\"#f0f921\"]]}],\"choropleth\":[{\"type\":\"choropleth\",\"colorbar\":{\"outlinewidth\":0,\"ticks\":\"\"}}],\"histogram2d\":[{\"type\":\"histogram2d\",\"colorbar\":{\"outlinewidth\":0,\"ticks\":\"\"},\"colorscale\":[[0.0,\"#0d0887\"],[0.1111111111111111,\"#46039f\"],[0.2222222222222222,\"#7201a8\"],[0.3333333333333333,\"#9c179e\"],[0.4444444444444444,\"#bd3786\"],[0.5555555555555556,\"#d8576b\"],[0.6666666666666666,\"#ed7953\"],[0.7777777777777778,\"#fb9f3a\"],[0.8888888888888888,\"#fdca26\"],[1.0,\"#f0f921\"]]}],\"heatmap\":[{\"type\":\"heatmap\",\"colorbar\":{\"outlinewidth\":0,\"ticks\":\"\"},\"colorscale\":[[0.0,\"#0d0887\"],[0.1111111111111111,\"#46039f\"],[0.2222222222222222,\"#7201a8\"],[0.3333333333333333,\"#9c179e\"],[0.4444444444444444,\"#bd3786\"],[0.5555555555555556,\"#d8576b\"],[0.6666666666666666,\"#ed7953\"],[0.7777777777777778,\"#fb9f3a\"],[0.8888888888888888,\"#fdca26\"],[1.0,\"#f0f921\"]]}],\"heatmapgl\":[{\"type\":\"heatmapgl\",\"colorbar\":{\"outlinewidth\":0,\"ticks\":\"\"},\"colorscale\":[[0.0,\"#0d0887\"],[0.1111111111111111,\"#46039f\"],[0.2222222222222222,\"#7201a8\"],[0.3333333333333333,\"#9c179e\"],[0.4444444444444444,\"#bd3786\"],[0.5555555555555556,\"#d8576b\"],[0.6666666666666666,\"#ed7953\"],[0.7777777777777778,\"#fb9f3a\"],[0.8888888888888888,\"#fdca26\"],[1.0,\"#f0f921\"]]}],\"contourcarpet\":[{\"type\":\"contourcarpet\",\"colorbar\":{\"outlinewidth\":0,\"ticks\":\"\"}}],\"contour\":[{\"type\":\"contour\",\"colorbar\":{\"outlinewidth\":0,\"ticks\":\"\"},\"colorscale\":[[0.0,\"#0d0887\"],[0.1111111111111111,\"#46039f\"],[0.2222222222222222,\"#7201a8\"],[0.3333333333333333,\"#9c179e\"],[0.4444444444444444,\"#bd3786\"],[0.5555555555555556,\"#d8576b\"],[0.6666666666666666,\"#ed7953\"],[0.7777777777777778,\"#fb9f3a\"],[0.8888888888888888,\"#fdca26\"],[1.0,\"#f0f921\"]]}],\"surface\":[{\"type\":\"surface\",\"colorbar\":{\"outlinewidth\":0,\"ticks\":\"\"},\"colorscale\":[[0.0,\"#0d0887\"],[0.1111111111111111,\"#46039f\"],[0.2222222222222222,\"#7201a8\"],[0.3333333333333333,\"#9c179e\"],[0.4444444444444444,\"#bd3786\"],[0.5555555555555556,\"#d8576b\"],[0.6666666666666666,\"#ed7953\"],[0.7777777777777778,\"#fb9f3a\"],[0.8888888888888888,\"#fdca26\"],[1.0,\"#f0f921\"]]}],\"mesh3d\":[{\"type\":\"mesh3d\",\"colorbar\":{\"outlinewidth\":0,\"ticks\":\"\"}}],\"scatter\":[{\"fillpattern\":{\"fillmode\":\"overlay\",\"size\":10,\"solidity\":0.2},\"type\":\"scatter\"}],\"parcoords\":[{\"type\":\"parcoords\",\"line\":{\"colorbar\":{\"outlinewidth\":0,\"ticks\":\"\"}}}],\"scatterpolargl\":[{\"type\":\"scatterpolargl\",\"marker\":{\"colorbar\":{\"outlinewidth\":0,\"ticks\":\"\"}}}],\"bar\":[{\"error_x\":{\"color\":\"#2a3f5f\"},\"error_y\":{\"color\":\"#2a3f5f\"},\"marker\":{\"line\":{\"color\":\"#E5ECF6\",\"width\":0.5},\"pattern\":{\"fillmode\":\"overlay\",\"size\":10,\"solidity\":0.2}},\"type\":\"bar\"}],\"scattergeo\":[{\"type\":\"scattergeo\",\"marker\":{\"colorbar\":{\"outlinewidth\":0,\"ticks\":\"\"}}}],\"scatterpolar\":[{\"type\":\"scatterpolar\",\"marker\":{\"colorbar\":{\"outlinewidth\":0,\"ticks\":\"\"}}}],\"histogram\":[{\"marker\":{\"pattern\":{\"fillmode\":\"overlay\",\"size\":10,\"solidity\":0.2}},\"type\":\"histogram\"}],\"scattergl\":[{\"type\":\"scattergl\",\"marker\":{\"colorbar\":{\"outlinewidth\":0,\"ticks\":\"\"}}}],\"scatter3d\":[{\"type\":\"scatter3d\",\"line\":{\"colorbar\":{\"outlinewidth\":0,\"ticks\":\"\"}},\"marker\":{\"colorbar\":{\"outlinewidth\":0,\"ticks\":\"\"}}}],\"scattermapbox\":[{\"type\":\"scattermapbox\",\"marker\":{\"colorbar\":{\"outlinewidth\":0,\"ticks\":\"\"}}}],\"scatterternary\":[{\"type\":\"scatterternary\",\"marker\":{\"colorbar\":{\"outlinewidth\":0,\"ticks\":\"\"}}}],\"scattercarpet\":[{\"type\":\"scattercarpet\",\"marker\":{\"colorbar\":{\"outlinewidth\":0,\"ticks\":\"\"}}}],\"carpet\":[{\"aaxis\":{\"endlinecolor\":\"#2a3f5f\",\"gridcolor\":\"white\",\"linecolor\":\"white\",\"minorgridcolor\":\"white\",\"startlinecolor\":\"#2a3f5f\"},\"baxis\":{\"endlinecolor\":\"#2a3f5f\",\"gridcolor\":\"white\",\"linecolor\":\"white\",\"minorgridcolor\":\"white\",\"startlinecolor\":\"#2a3f5f\"},\"type\":\"carpet\"}],\"table\":[{\"cells\":{\"fill\":{\"color\":\"#EBF0F8\"},\"line\":{\"color\":\"white\"}},\"header\":{\"fill\":{\"color\":\"#C8D4E3\"},\"line\":{\"color\":\"white\"}},\"type\":\"table\"}],\"barpolar\":[{\"marker\":{\"line\":{\"color\":\"#E5ECF6\",\"width\":0.5},\"pattern\":{\"fillmode\":\"overlay\",\"size\":10,\"solidity\":0.2}},\"type\":\"barpolar\"}],\"pie\":[{\"automargin\":true,\"type\":\"pie\"}]},\"layout\":{\"autotypenumbers\":\"strict\",\"colorway\":[\"#636efa\",\"#EF553B\",\"#00cc96\",\"#ab63fa\",\"#FFA15A\",\"#19d3f3\",\"#FF6692\",\"#B6E880\",\"#FF97FF\",\"#FECB52\"],\"font\":{\"color\":\"#2a3f5f\"},\"hovermode\":\"closest\",\"hoverlabel\":{\"align\":\"left\"},\"paper_bgcolor\":\"white\",\"plot_bgcolor\":\"#E5ECF6\",\"polar\":{\"bgcolor\":\"#E5ECF6\",\"angularaxis\":{\"gridcolor\":\"white\",\"linecolor\":\"white\",\"ticks\":\"\"},\"radialaxis\":{\"gridcolor\":\"white\",\"linecolor\":\"white\",\"ticks\":\"\"}},\"ternary\":{\"bgcolor\":\"#E5ECF6\",\"aaxis\":{\"gridcolor\":\"white\",\"linecolor\":\"white\",\"ticks\":\"\"},\"baxis\":{\"gridcolor\":\"white\",\"linecolor\":\"white\",\"ticks\":\"\"},\"caxis\":{\"gridcolor\":\"white\",\"linecolor\":\"white\",\"ticks\":\"\"}},\"coloraxis\":{\"colorbar\":{\"outlinewidth\":0,\"ticks\":\"\"}},\"colorscale\":{\"sequential\":[[0.0,\"#0d0887\"],[0.1111111111111111,\"#46039f\"],[0.2222222222222222,\"#7201a8\"],[0.3333333333333333,\"#9c179e\"],[0.4444444444444444,\"#bd3786\"],[0.5555555555555556,\"#d8576b\"],[0.6666666666666666,\"#ed7953\"],[0.7777777777777778,\"#fb9f3a\"],[0.8888888888888888,\"#fdca26\"],[1.0,\"#f0f921\"]],\"sequentialminus\":[[0.0,\"#0d0887\"],[0.1111111111111111,\"#46039f\"],[0.2222222222222222,\"#7201a8\"],[0.3333333333333333,\"#9c179e\"],[0.4444444444444444,\"#bd3786\"],[0.5555555555555556,\"#d8576b\"],[0.6666666666666666,\"#ed7953\"],[0.7777777777777778,\"#fb9f3a\"],[0.8888888888888888,\"#fdca26\"],[1.0,\"#f0f921\"]],\"diverging\":[[0,\"#8e0152\"],[0.1,\"#c51b7d\"],[0.2,\"#de77ae\"],[0.3,\"#f1b6da\"],[0.4,\"#fde0ef\"],[0.5,\"#f7f7f7\"],[0.6,\"#e6f5d0\"],[0.7,\"#b8e186\"],[0.8,\"#7fbc41\"],[0.9,\"#4d9221\"],[1,\"#276419\"]]},\"xaxis\":{\"gridcolor\":\"white\",\"linecolor\":\"white\",\"ticks\":\"\",\"title\":{\"standoff\":15},\"zerolinecolor\":\"white\",\"automargin\":true,\"zerolinewidth\":2},\"yaxis\":{\"gridcolor\":\"white\",\"linecolor\":\"white\",\"ticks\":\"\",\"title\":{\"standoff\":15},\"zerolinecolor\":\"white\",\"automargin\":true,\"zerolinewidth\":2},\"scene\":{\"xaxis\":{\"backgroundcolor\":\"#E5ECF6\",\"gridcolor\":\"white\",\"linecolor\":\"white\",\"showbackground\":true,\"ticks\":\"\",\"zerolinecolor\":\"white\",\"gridwidth\":2},\"yaxis\":{\"backgroundcolor\":\"#E5ECF6\",\"gridcolor\":\"white\",\"linecolor\":\"white\",\"showbackground\":true,\"ticks\":\"\",\"zerolinecolor\":\"white\",\"gridwidth\":2},\"zaxis\":{\"backgroundcolor\":\"#E5ECF6\",\"gridcolor\":\"white\",\"linecolor\":\"white\",\"showbackground\":true,\"ticks\":\"\",\"zerolinecolor\":\"white\",\"gridwidth\":2}},\"shapedefaults\":{\"line\":{\"color\":\"#2a3f5f\"}},\"annotationdefaults\":{\"arrowcolor\":\"#2a3f5f\",\"arrowhead\":0,\"arrowwidth\":1},\"geo\":{\"bgcolor\":\"white\",\"landcolor\":\"#E5ECF6\",\"subunitcolor\":\"white\",\"showland\":true,\"showlakes\":true,\"lakecolor\":\"white\"},\"title\":{\"x\":0.05},\"mapbox\":{\"style\":\"light\"}}},\"geo\":{\"domain\":{\"x\":[0.0,1.0],\"y\":[0.0,1.0]},\"center\":{}},\"legend\":{\"title\":{\"text\":\"IsStudent\"},\"tracegroupgap\":0,\"itemsizing\":\"constant\"},\"margin\":{\"t\":60}},                        {\"responsive\": true}                    ).then(function(){\n",
       "                            \n",
       "var gd = document.getElementById('dad2167b-fd78-401d-ad06-6429b0605f36');\n",
       "var x = new MutationObserver(function (mutations, observer) {{\n",
       "        var display = window.getComputedStyle(gd).display;\n",
       "        if (!display || display === 'none') {{\n",
       "            console.log([gd, 'removed!']);\n",
       "            Plotly.purge(gd);\n",
       "            observer.disconnect();\n",
       "        }}\n",
       "}});\n",
       "\n",
       "// Listen for the removal of the full notebook cells\n",
       "var notebookContainer = gd.closest('#notebook-container');\n",
       "if (notebookContainer) {{\n",
       "    x.observe(notebookContainer, {childList: true});\n",
       "}}\n",
       "\n",
       "// Listen for the clearing of the current output cell\n",
       "var outputEl = gd.closest('.output');\n",
       "if (outputEl) {{\n",
       "    x.observe(outputEl, {childList: true});\n",
       "}}\n",
       "\n",
       "                        })                };                });            </script>        </div>"
      ]
     },
     "metadata": {},
     "output_type": "display_data"
    }
   ],
   "source": [
    "import plotly.express as px\n",
    "fig = px.scatter_geo(new_df, locations=\"CCode\", color=\"IsStudent\",color_discrete_map={\n",
    "                \"No\": \"Blue\",\n",
    "                \"Yes\": \"Yellow\"},\n",
    "                     hover_name=\"Count\", size=\"Count\"\n",
    "                     )\n",
    "# fig.update_traces(marker=dict(opacity=0.5),\n",
    "#                   selector=dict(mode='markers'))\n",
    "\n",
    "fig.show()\n"
   ]
  },
  {
   "cell_type": "markdown",
   "id": "26bb2566",
   "metadata": {
    "papermill": {
     "duration": 0.008853,
     "end_time": "2022-10-17T09:02:02.054136",
     "exception": false,
     "start_time": "2022-10-17T09:02:02.045283",
     "status": "completed"
    },
    "tags": []
   },
   "source": [
    "# Most representative age group"
   ]
  },
  {
   "cell_type": "code",
   "execution_count": 11,
   "id": "c67fb7ca",
   "metadata": {
    "execution": {
     "iopub.execute_input": "2022-10-17T09:02:02.074511Z",
     "iopub.status.busy": "2022-10-17T09:02:02.073740Z",
     "iopub.status.idle": "2022-10-17T09:02:02.362300Z",
     "shell.execute_reply": "2022-10-17T09:02:02.361086Z"
    },
    "papermill": {
     "duration": 0.301745,
     "end_time": "2022-10-17T09:02:02.364871",
     "exception": false,
     "start_time": "2022-10-17T09:02:02.063126",
     "status": "completed"
    },
    "tags": []
   },
   "outputs": [
    {
     "data": {
      "image/png": "[encoded data removed]",
      "text/plain": [
       "<Figure size 864x576 with 1 Axes>"
      ]
     },
     "metadata": {
      "needs_background": "light"
     },
     "output_type": "display_data"
    }
   ],
   "source": [
    "age_group = pd.DataFrame(data_df.loc[1:, 'Q2'].value_counts())\n",
    "plt.figure(figsize=(12,8))\n",
    "sns.barplot(x=age_group.index, y=age_group['Q2'], palette='viridis', alpha=0.8)\n",
    "plt.xlabel('Age Group', fontsize=12)\n",
    "plt.ylabel('Number of respondents', fontsize=12)\n",
    "plt.title(\"Age wise number of respondents\", fontsize=15)\n",
    "plt.show()"
   ]
  },
  {
   "cell_type": "markdown",
   "id": "3b4e40cf",
   "metadata": {
    "papermill": {
     "duration": 0.0092,
     "end_time": "2022-10-17T09:02:02.384201",
     "exception": false,
     "start_time": "2022-10-17T09:02:02.375001",
     "status": "completed"
    },
    "tags": []
   },
   "source": [
    "# How many students vs professionals"
   ]
  },
  {
   "cell_type": "code",
   "execution_count": 12,
   "id": "01407587",
   "metadata": {
    "execution": {
     "iopub.execute_input": "2022-10-17T09:02:02.406523Z",
     "iopub.status.busy": "2022-10-17T09:02:02.405333Z",
     "iopub.status.idle": "2022-10-17T09:02:02.529236Z",
     "shell.execute_reply": "2022-10-17T09:02:02.527017Z"
    },
    "papermill": {
     "duration": 0.14122,
     "end_time": "2022-10-17T09:02:02.534925",
     "exception": false,
     "start_time": "2022-10-17T09:02:02.393705",
     "status": "completed"
    },
    "tags": []
   },
   "outputs": [
    {
     "data": {
      "image/png": "[encoded data removed]",
      "text/plain": [
       "<Figure size 720x360 with 1 Axes>"
      ]
     },
     "metadata": {},
     "output_type": "display_data"
    }
   ],
   "source": [
    "ax3 = data_df.loc[1:, 'Q5'].value_counts().plot(kind=\"pie\", figsize=(10, 5))"
   ]
  },
  {
   "cell_type": "markdown",
   "id": "57ae60cb",
   "metadata": {
    "papermill": {
     "duration": 0.025299,
     "end_time": "2022-10-17T09:02:02.586163",
     "exception": false,
     "start_time": "2022-10-17T09:02:02.560864",
     "status": "completed"
    },
    "tags": []
   },
   "source": [
    "# How students prefer to learn DS and ML"
   ]
  },
  {
   "cell_type": "code",
   "execution_count": 13,
   "id": "c63bdce7",
   "metadata": {
    "execution": {
     "iopub.execute_input": "2022-10-17T09:02:02.620825Z",
     "iopub.status.busy": "2022-10-17T09:02:02.620047Z",
     "iopub.status.idle": "2022-10-17T09:02:02.640639Z",
     "shell.execute_reply": "2022-10-17T09:02:02.639627Z"
    },
    "papermill": {
     "duration": 0.034793,
     "end_time": "2022-10-17T09:02:02.643434",
     "exception": false,
     "start_time": "2022-10-17T09:02:02.608641",
     "status": "completed"
    },
    "tags": []
   },
   "outputs": [
    {
     "data": {
      "text/html": [
       "<div>\n",
       "<style scoped>\n",
       "    .dataframe tbody tr th:only-of-type {\n",
       "        vertical-align: middle;\n",
       "    }\n",
       "\n",
       "    .dataframe tbody tr th {\n",
       "        vertical-align: top;\n",
       "    }\n",
       "\n",
       "    .dataframe thead th {\n",
       "        text-align: right;\n",
       "    }\n",
       "</style>\n",
       "<table border=\"1\" class=\"dataframe\">\n",
       "  <thead>\n",
       "    <tr style=\"text-align: right;\">\n",
       "      <th></th>\n",
       "      <th>Q5</th>\n",
       "      <th>Q6_1</th>\n",
       "      <th>Q6_2</th>\n",
       "      <th>Q6_3</th>\n",
       "      <th>Q6_4</th>\n",
       "      <th>Q6_5</th>\n",
       "      <th>Q6_6</th>\n",
       "      <th>Q6_7</th>\n",
       "      <th>Q6_8</th>\n",
       "      <th>Q6_9</th>\n",
       "      <th>Q6_10</th>\n",
       "      <th>Q6_11</th>\n",
       "      <th>Q6_12</th>\n",
       "    </tr>\n",
       "  </thead>\n",
       "  <tbody>\n",
       "    <tr>\n",
       "      <th>0</th>\n",
       "      <td>Are you currently a student? (high school, uni...</td>\n",
       "      <td>On which platforms have you begun or completed...</td>\n",
       "      <td>On which platforms have you begun or completed...</td>\n",
       "      <td>On which platforms have you begun or completed...</td>\n",
       "      <td>On which platforms have you begun or completed...</td>\n",
       "      <td>On which platforms have you begun or completed...</td>\n",
       "      <td>On which platforms have you begun or completed...</td>\n",
       "      <td>On which platforms have you begun or completed...</td>\n",
       "      <td>On which platforms have you begun or completed...</td>\n",
       "      <td>On which platforms have you begun or completed...</td>\n",
       "      <td>On which platforms have you begun or completed...</td>\n",
       "      <td>On which platforms have you begun or completed...</td>\n",
       "      <td>On which platforms have you begun or completed...</td>\n",
       "    </tr>\n",
       "    <tr>\n",
       "      <th>1</th>\n",
       "      <td>No</td>\n",
       "      <td>NaN</td>\n",
       "      <td>NaN</td>\n",
       "      <td>NaN</td>\n",
       "      <td>NaN</td>\n",
       "      <td>NaN</td>\n",
       "      <td>NaN</td>\n",
       "      <td>NaN</td>\n",
       "      <td>NaN</td>\n",
       "      <td>NaN</td>\n",
       "      <td>NaN</td>\n",
       "      <td>NaN</td>\n",
       "      <td>Other</td>\n",
       "    </tr>\n",
       "    <tr>\n",
       "      <th>2</th>\n",
       "      <td>No</td>\n",
       "      <td>NaN</td>\n",
       "      <td>NaN</td>\n",
       "      <td>NaN</td>\n",
       "      <td>NaN</td>\n",
       "      <td>NaN</td>\n",
       "      <td>NaN</td>\n",
       "      <td>NaN</td>\n",
       "      <td>NaN</td>\n",
       "      <td>NaN</td>\n",
       "      <td>University Courses (resulting in a university ...</td>\n",
       "      <td>NaN</td>\n",
       "      <td>NaN</td>\n",
       "    </tr>\n",
       "    <tr>\n",
       "      <th>3</th>\n",
       "      <td>Yes</td>\n",
       "      <td>Coursera</td>\n",
       "      <td>edX</td>\n",
       "      <td>NaN</td>\n",
       "      <td>DataCamp</td>\n",
       "      <td>NaN</td>\n",
       "      <td>Udacity</td>\n",
       "      <td>Udemy</td>\n",
       "      <td>LinkedIn Learning</td>\n",
       "      <td>NaN</td>\n",
       "      <td>University Courses (resulting in a university ...</td>\n",
       "      <td>NaN</td>\n",
       "      <td>NaN</td>\n",
       "    </tr>\n",
       "    <tr>\n",
       "      <th>4</th>\n",
       "      <td>No</td>\n",
       "      <td>Coursera</td>\n",
       "      <td>NaN</td>\n",
       "      <td>Kaggle Learn Courses</td>\n",
       "      <td>NaN</td>\n",
       "      <td>NaN</td>\n",
       "      <td>NaN</td>\n",
       "      <td>Udemy</td>\n",
       "      <td>NaN</td>\n",
       "      <td>NaN</td>\n",
       "      <td>NaN</td>\n",
       "      <td>NaN</td>\n",
       "      <td>Other</td>\n",
       "    </tr>\n",
       "  </tbody>\n",
       "</table>\n",
       "</div>"
      ],
      "text/plain": [
       "                                                  Q5  \\\n",
       "0  Are you currently a student? (high school, uni...   \n",
       "1                                                 No   \n",
       "2                                                 No   \n",
       "3                                                Yes   \n",
       "4                                                 No   \n",
       "\n",
       "                                                Q6_1  \\\n",
       "0  On which platforms have you begun or completed...   \n",
       "1                                                NaN   \n",
       "2                                                NaN   \n",
       "3                                           Coursera   \n",
       "4                                           Coursera   \n",
       "\n",
       "                                                Q6_2  \\\n",
       "0  On which platforms have you begun or completed...   \n",
       "1                                                NaN   \n",
       "2                                                NaN   \n",
       "3                                                edX   \n",
       "4                                                NaN   \n",
       "\n",
       "                                                Q6_3  \\\n",
       "0  On which platforms have you begun or completed...   \n",
       "1                                                NaN   \n",
       "2                                                NaN   \n",
       "3                                                NaN   \n",
       "4                               Kaggle Learn Courses   \n",
       "\n",
       "                                                Q6_4  \\\n",
       "0  On which platforms have you begun or completed...   \n",
       "1                                                NaN   \n",
       "2                                                NaN   \n",
       "3                                           DataCamp   \n",
       "4                                                NaN   \n",
       "\n",
       "                                                Q6_5  \\\n",
       "0  On which platforms have you begun or completed...   \n",
       "1                                                NaN   \n",
       "2                                                NaN   \n",
       "3                                                NaN   \n",
       "4                                                NaN   \n",
       "\n",
       "                                                Q6_6  \\\n",
       "0  On which platforms have you begun or completed...   \n",
       "1                                                NaN   \n",
       "2                                                NaN   \n",
       "3                                            Udacity   \n",
       "4                                                NaN   \n",
       "\n",
       "                                                Q6_7  \\\n",
       "0  On which platforms have you begun or completed...   \n",
       "1                                                NaN   \n",
       "2                                                NaN   \n",
       "3                                              Udemy   \n",
       "4                                              Udemy   \n",
       "\n",
       "                                                Q6_8  \\\n",
       "0  On which platforms have you begun or completed...   \n",
       "1                                                NaN   \n",
       "2                                                NaN   \n",
       "3                                  LinkedIn Learning   \n",
       "4                                                NaN   \n",
       "\n",
       "                                                Q6_9  \\\n",
       "0  On which platforms have you begun or completed...   \n",
       "1                                                NaN   \n",
       "2                                                NaN   \n",
       "3                                                NaN   \n",
       "4                                                NaN   \n",
       "\n",
       "                                               Q6_10  \\\n",
       "0  On which platforms have you begun or completed...   \n",
       "1                                                NaN   \n",
       "2  University Courses (resulting in a university ...   \n",
       "3  University Courses (resulting in a university ...   \n",
       "4                                                NaN   \n",
       "\n",
       "                                               Q6_11  \\\n",
       "0  On which platforms have you begun or completed...   \n",
       "1                                                NaN   \n",
       "2                                                NaN   \n",
       "3                                                NaN   \n",
       "4                                                NaN   \n",
       "\n",
       "                                               Q6_12  \n",
       "0  On which platforms have you begun or completed...  \n",
       "1                                              Other  \n",
       "2                                                NaN  \n",
       "3                                                NaN  \n",
       "4                                              Other  "
      ]
     },
     "execution_count": 13,
     "metadata": {},
     "output_type": "execute_result"
    }
   ],
   "source": [
    "ml_prefer = data_df.loc[:,'Q5':'Q6_12'] \n",
    "\n",
    "ml_prefer.head()"
   ]
  },
  {
   "cell_type": "code",
   "execution_count": 14,
   "id": "a2064fc1",
   "metadata": {
    "execution": {
     "iopub.execute_input": "2022-10-17T09:02:02.666287Z",
     "iopub.status.busy": "2022-10-17T09:02:02.665512Z",
     "iopub.status.idle": "2022-10-17T09:02:02.712996Z",
     "shell.execute_reply": "2022-10-17T09:02:02.711681Z"
    },
    "papermill": {
     "duration": 0.062618,
     "end_time": "2022-10-17T09:02:02.716549",
     "exception": false,
     "start_time": "2022-10-17T09:02:02.653931",
     "status": "completed"
    },
    "tags": []
   },
   "outputs": [],
   "source": [
    "students = ml_prefer.loc[(ml_prefer['Q5'] == 'Yes'),'Q6_1':].apply(pd.value_counts).fillna(0).astype(int)\n",
    "students = students.sum(axis=1)\n",
    "\n",
    "pros = ml_prefer.loc[(ml_prefer['Q5'] == 'No'),'Q6_1':].apply(pd.value_counts).fillna(0).astype(int)\n",
    "pros = pros.sum(axis=1)"
   ]
  },
  {
   "cell_type": "code",
   "execution_count": 15,
   "id": "38d8c49f",
   "metadata": {
    "execution": {
     "iopub.execute_input": "2022-10-17T09:02:02.739074Z",
     "iopub.status.busy": "2022-10-17T09:02:02.738603Z",
     "iopub.status.idle": "2022-10-17T09:02:02.746447Z",
     "shell.execute_reply": "2022-10-17T09:02:02.745492Z"
    },
    "papermill": {
     "duration": 0.021684,
     "end_time": "2022-10-17T09:02:02.748866",
     "exception": false,
     "start_time": "2022-10-17T09:02:02.727182",
     "status": "completed"
    },
    "tags": []
   },
   "outputs": [
    {
     "data": {
      "text/plain": [
       "Cloud-certification programs (direct from AWS, Azure, GCP, or similar)     846\n",
       "Coursera                                                                  4520\n",
       "DataCamp                                                                  1761\n",
       "Fast.ai                                                                    346\n",
       "Kaggle Learn Courses                                                      3330\n",
       "LinkedIn Learning                                                         1346\n",
       "None                                                                      1310\n",
       "Other                                                                     2623\n",
       "Udacity                                                                    950\n",
       "Udemy                                                                     2842\n",
       "University Courses (resulting in a university degree)                     4234\n",
       "edX                                                                       1029\n",
       "dtype: int64"
      ]
     },
     "execution_count": 15,
     "metadata": {},
     "output_type": "execute_result"
    }
   ],
   "source": [
    "students"
   ]
  },
  {
   "cell_type": "code",
   "execution_count": 16,
   "id": "cc42db74",
   "metadata": {
    "execution": {
     "iopub.execute_input": "2022-10-17T09:02:02.772310Z",
     "iopub.status.busy": "2022-10-17T09:02:02.771522Z",
     "iopub.status.idle": "2022-10-17T09:02:02.776066Z",
     "shell.execute_reply": "2022-10-17T09:02:02.774748Z"
    },
    "papermill": {
     "duration": 0.019155,
     "end_time": "2022-10-17T09:02:02.778783",
     "exception": false,
     "start_time": "2022-10-17T09:02:02.759628",
     "status": "completed"
    },
    "tags": []
   },
   "outputs": [],
   "source": [
    "#ml_prefer = ml_prefer.iloc[1:,:].fillna(0)\n",
    "# ml_prefer.iloc[1:,1:] = (ml_prefer.iloc[1:,1:].notnull()).astype('int')\n",
    "# ml_prefer"
   ]
  },
  {
   "cell_type": "code",
   "execution_count": 17,
   "id": "eafa9a84",
   "metadata": {
    "execution": {
     "iopub.execute_input": "2022-10-17T09:02:02.802365Z",
     "iopub.status.busy": "2022-10-17T09:02:02.801080Z",
     "iopub.status.idle": "2022-10-17T09:02:03.127708Z",
     "shell.execute_reply": "2022-10-17T09:02:03.126681Z"
    },
    "papermill": {
     "duration": 0.341132,
     "end_time": "2022-10-17T09:02:03.130299",
     "exception": false,
     "start_time": "2022-10-17T09:02:02.789167",
     "status": "completed"
    },
    "tags": []
   },
   "outputs": [
    {
     "data": {
      "text/plain": [
       "<Figure size 864x576 with 0 Axes>"
      ]
     },
     "metadata": {},
     "output_type": "display_data"
    },
    {
     "data": {
      "image/png": "[encoded data removed]",
      "text/plain": [
       "<Figure size 432x288 with 1 Axes>"
      ]
     },
     "metadata": {
      "needs_background": "light"
     },
     "output_type": "display_data"
    }
   ],
   "source": [
    "plt.figure(figsize=(12,8))\n",
    "x = np.arange(len(students)) \n",
    "width = 0.35  # the width of the bars\n",
    "\n",
    "fig, ax = plt.subplots()\n",
    "rects1 = ax.bar(x - width/2, students, width, label='Students', color='#fde725')\n",
    "rects2 = ax.bar(x + width/2, pros, width, label='Professionals', color='#3b528b')\n",
    "\n",
    "\n",
    "ax.set_ylabel('Number of respondents')\n",
    "ax.set_title('learning Platforms used by students and professionals')\n",
    "ax.set_xticks(x, students.index)\n",
    "plt.xticks(rotation=90)\n",
    "ax.legend()\n",
    "\n",
    "plt.show()"
   ]
  },
  {
   "cell_type": "code",
   "execution_count": 18,
   "id": "abb59abc",
   "metadata": {
    "execution": {
     "iopub.execute_input": "2022-10-17T09:02:03.155653Z",
     "iopub.status.busy": "2022-10-17T09:02:03.154436Z",
     "iopub.status.idle": "2022-10-17T09:02:03.178886Z",
     "shell.execute_reply": "2022-10-17T09:02:03.177437Z"
    },
    "papermill": {
     "duration": 0.039968,
     "end_time": "2022-10-17T09:02:03.182209",
     "exception": false,
     "start_time": "2022-10-17T09:02:03.142241",
     "status": "completed"
    },
    "tags": []
   },
   "outputs": [
    {
     "name": "stderr",
     "output_type": "stream",
     "text": [
      "/opt/conda/lib/python3.7/site-packages/ipykernel_launcher.py:2: SettingWithCopyWarning:\n",
      "\n",
      "\n",
      "A value is trying to be set on a copy of a slice from a DataFrame.\n",
      "Try using .loc[row_indexer,col_indexer] = value instead\n",
      "\n",
      "See the caveats in the documentation: https://pandas.pydata.org/pandas-docs/stable/user_guide/indexing.html#returning-a-view-versus-a-copy\n",
      "\n"
     ]
    },
    {
     "data": {
      "text/html": [
       "<div>\n",
       "<style scoped>\n",
       "    .dataframe tbody tr th:only-of-type {\n",
       "        vertical-align: middle;\n",
       "    }\n",
       "\n",
       "    .dataframe tbody tr th {\n",
       "        vertical-align: top;\n",
       "    }\n",
       "\n",
       "    .dataframe thead th {\n",
       "        text-align: right;\n",
       "    }\n",
       "</style>\n",
       "<table border=\"1\" class=\"dataframe\">\n",
       "  <thead>\n",
       "    <tr style=\"text-align: right;\">\n",
       "      <th></th>\n",
       "      <th>Q12_1</th>\n",
       "      <th>Q12_2</th>\n",
       "      <th>Q12_3</th>\n",
       "      <th>Q12_4</th>\n",
       "      <th>Q12_5</th>\n",
       "      <th>Q12_6</th>\n",
       "      <th>Q12_7</th>\n",
       "      <th>Q12_8</th>\n",
       "      <th>Q12_9</th>\n",
       "      <th>Q12_10</th>\n",
       "      <th>Q12_11</th>\n",
       "      <th>Q12_12</th>\n",
       "      <th>Q12_13</th>\n",
       "      <th>Q12_14</th>\n",
       "      <th>Q12_15</th>\n",
       "      <th>Q5</th>\n",
       "    </tr>\n",
       "  </thead>\n",
       "  <tbody>\n",
       "    <tr>\n",
       "      <th>0</th>\n",
       "      <td>What programming languages do you use on a reg...</td>\n",
       "      <td>What programming languages do you use on a reg...</td>\n",
       "      <td>What programming languages do you use on a reg...</td>\n",
       "      <td>What programming languages do you use on a reg...</td>\n",
       "      <td>What programming languages do you use on a reg...</td>\n",
       "      <td>What programming languages do you use on a reg...</td>\n",
       "      <td>What programming languages do you use on a reg...</td>\n",
       "      <td>What programming languages do you use on a reg...</td>\n",
       "      <td>What programming languages do you use on a reg...</td>\n",
       "      <td>What programming languages do you use on a reg...</td>\n",
       "      <td>What programming languages do you use on a reg...</td>\n",
       "      <td>What programming languages do you use on a reg...</td>\n",
       "      <td>What programming languages do you use on a reg...</td>\n",
       "      <td>What programming languages do you use on a reg...</td>\n",
       "      <td>What programming languages do you use on a reg...</td>\n",
       "      <td>Are you currently a student? (high school, uni...</td>\n",
       "    </tr>\n",
       "    <tr>\n",
       "      <th>1</th>\n",
       "      <td>NaN</td>\n",
       "      <td>NaN</td>\n",
       "      <td>NaN</td>\n",
       "      <td>NaN</td>\n",
       "      <td>NaN</td>\n",
       "      <td>NaN</td>\n",
       "      <td>NaN</td>\n",
       "      <td>NaN</td>\n",
       "      <td>NaN</td>\n",
       "      <td>NaN</td>\n",
       "      <td>NaN</td>\n",
       "      <td>NaN</td>\n",
       "      <td>NaN</td>\n",
       "      <td>NaN</td>\n",
       "      <td>NaN</td>\n",
       "      <td>No</td>\n",
       "    </tr>\n",
       "    <tr>\n",
       "      <th>2</th>\n",
       "      <td>NaN</td>\n",
       "      <td>NaN</td>\n",
       "      <td>NaN</td>\n",
       "      <td>NaN</td>\n",
       "      <td>NaN</td>\n",
       "      <td>NaN</td>\n",
       "      <td>Java</td>\n",
       "      <td>NaN</td>\n",
       "      <td>NaN</td>\n",
       "      <td>NaN</td>\n",
       "      <td>NaN</td>\n",
       "      <td>NaN</td>\n",
       "      <td>NaN</td>\n",
       "      <td>NaN</td>\n",
       "      <td>NaN</td>\n",
       "      <td>No</td>\n",
       "    </tr>\n",
       "    <tr>\n",
       "      <th>3</th>\n",
       "      <td>Python</td>\n",
       "      <td>NaN</td>\n",
       "      <td>SQL</td>\n",
       "      <td>C</td>\n",
       "      <td>NaN</td>\n",
       "      <td>NaN</td>\n",
       "      <td>NaN</td>\n",
       "      <td>NaN</td>\n",
       "      <td>NaN</td>\n",
       "      <td>NaN</td>\n",
       "      <td>MATLAB</td>\n",
       "      <td>NaN</td>\n",
       "      <td>NaN</td>\n",
       "      <td>NaN</td>\n",
       "      <td>NaN</td>\n",
       "      <td>Yes</td>\n",
       "    </tr>\n",
       "    <tr>\n",
       "      <th>4</th>\n",
       "      <td>Python</td>\n",
       "      <td>NaN</td>\n",
       "      <td>SQL</td>\n",
       "      <td>NaN</td>\n",
       "      <td>NaN</td>\n",
       "      <td>NaN</td>\n",
       "      <td>NaN</td>\n",
       "      <td>NaN</td>\n",
       "      <td>Bash</td>\n",
       "      <td>NaN</td>\n",
       "      <td>NaN</td>\n",
       "      <td>NaN</td>\n",
       "      <td>NaN</td>\n",
       "      <td>NaN</td>\n",
       "      <td>NaN</td>\n",
       "      <td>No</td>\n",
       "    </tr>\n",
       "  </tbody>\n",
       "</table>\n",
       "</div>"
      ],
      "text/plain": [
       "                                               Q12_1  \\\n",
       "0  What programming languages do you use on a reg...   \n",
       "1                                                NaN   \n",
       "2                                                NaN   \n",
       "3                                             Python   \n",
       "4                                             Python   \n",
       "\n",
       "                                               Q12_2  \\\n",
       "0  What programming languages do you use on a reg...   \n",
       "1                                                NaN   \n",
       "2                                                NaN   \n",
       "3                                                NaN   \n",
       "4                                                NaN   \n",
       "\n",
       "                                               Q12_3  \\\n",
       "0  What programming languages do you use on a reg...   \n",
       "1                                                NaN   \n",
       "2                                                NaN   \n",
       "3                                                SQL   \n",
       "4                                                SQL   \n",
       "\n",
       "                                               Q12_4  \\\n",
       "0  What programming languages do you use on a reg...   \n",
       "1                                                NaN   \n",
       "2                                                NaN   \n",
       "3                                                  C   \n",
       "4                                                NaN   \n",
       "\n",
       "                                               Q12_5  \\\n",
       "0  What programming languages do you use on a reg...   \n",
       "1                                                NaN   \n",
       "2                                                NaN   \n",
       "3                                                NaN   \n",
       "4                                                NaN   \n",
       "\n",
       "                                               Q12_6  \\\n",
       "0  What programming languages do you use on a reg...   \n",
       "1                                                NaN   \n",
       "2                                                NaN   \n",
       "3                                                NaN   \n",
       "4                                                NaN   \n",
       "\n",
       "                                               Q12_7  \\\n",
       "0  What programming languages do you use on a reg...   \n",
       "1                                                NaN   \n",
       "2                                               Java   \n",
       "3                                                NaN   \n",
       "4                                                NaN   \n",
       "\n",
       "                                               Q12_8  \\\n",
       "0  What programming languages do you use on a reg...   \n",
       "1                                                NaN   \n",
       "2                                                NaN   \n",
       "3                                                NaN   \n",
       "4                                                NaN   \n",
       "\n",
       "                                               Q12_9  \\\n",
       "0  What programming languages do you use on a reg...   \n",
       "1                                                NaN   \n",
       "2                                                NaN   \n",
       "3                                                NaN   \n",
       "4                                               Bash   \n",
       "\n",
       "                                              Q12_10  \\\n",
       "0  What programming languages do you use on a reg...   \n",
       "1                                                NaN   \n",
       "2                                                NaN   \n",
       "3                                                NaN   \n",
       "4                                                NaN   \n",
       "\n",
       "                                              Q12_11  \\\n",
       "0  What programming languages do you use on a reg...   \n",
       "1                                                NaN   \n",
       "2                                                NaN   \n",
       "3                                             MATLAB   \n",
       "4                                                NaN   \n",
       "\n",
       "                                              Q12_12  \\\n",
       "0  What programming languages do you use on a reg...   \n",
       "1                                                NaN   \n",
       "2                                                NaN   \n",
       "3                                                NaN   \n",
       "4                                                NaN   \n",
       "\n",
       "                                              Q12_13  \\\n",
       "0  What programming languages do you use on a reg...   \n",
       "1                                                NaN   \n",
       "2                                                NaN   \n",
       "3                                                NaN   \n",
       "4                                                NaN   \n",
       "\n",
       "                                              Q12_14  \\\n",
       "0  What programming languages do you use on a reg...   \n",
       "1                                                NaN   \n",
       "2                                                NaN   \n",
       "3                                                NaN   \n",
       "4                                                NaN   \n",
       "\n",
       "                                              Q12_15  \\\n",
       "0  What programming languages do you use on a reg...   \n",
       "1                                                NaN   \n",
       "2                                                NaN   \n",
       "3                                                NaN   \n",
       "4                                                NaN   \n",
       "\n",
       "                                                  Q5  \n",
       "0  Are you currently a student? (high school, uni...  \n",
       "1                                                 No  \n",
       "2                                                 No  \n",
       "3                                                Yes  \n",
       "4                                                 No  "
      ]
     },
     "execution_count": 18,
     "metadata": {},
     "output_type": "execute_result"
    }
   ],
   "source": [
    "progLang_prefer = data_df.loc[:,'Q12_1':'Q12_15']\n",
    "progLang_prefer['Q5'] = data_df['Q5']\n",
    "\n",
    "progLang_prefer.head()"
   ]
  },
  {
   "cell_type": "code",
   "execution_count": 19,
   "id": "b28ea64c",
   "metadata": {
    "execution": {
     "iopub.execute_input": "2022-10-17T09:02:03.208949Z",
     "iopub.status.busy": "2022-10-17T09:02:03.208552Z",
     "iopub.status.idle": "2022-10-17T09:02:03.269309Z",
     "shell.execute_reply": "2022-10-17T09:02:03.267861Z"
    },
    "papermill": {
     "duration": 0.077274,
     "end_time": "2022-10-17T09:02:03.272315",
     "exception": false,
     "start_time": "2022-10-17T09:02:03.195041",
     "status": "completed"
    },
    "tags": []
   },
   "outputs": [],
   "source": [
    "students_plang = progLang_prefer.loc[(progLang_prefer['Q5'] == 'Yes'),'Q12_1':'Q12_15'].apply(pd.value_counts).fillna(0).astype(int)\n",
    "students_plang = students_plang.sum(axis=1)\n",
    "\n",
    "pros_plang = progLang_prefer.loc[(progLang_prefer['Q5'] == 'No'),'Q12_1':'Q12_15'].apply(pd.value_counts).fillna(0).astype(int)\n",
    "pros_plang = pros_plang.sum(axis=1)"
   ]
  },
  {
   "cell_type": "code",
   "execution_count": 20,
   "id": "73876253",
   "metadata": {
    "execution": {
     "iopub.execute_input": "2022-10-17T09:02:03.298379Z",
     "iopub.status.busy": "2022-10-17T09:02:03.297913Z",
     "iopub.status.idle": "2022-10-17T09:02:03.306716Z",
     "shell.execute_reply": "2022-10-17T09:02:03.305241Z"
    },
    "papermill": {
     "duration": 0.02576,
     "end_time": "2022-10-17T09:02:03.309737",
     "exception": false,
     "start_time": "2022-10-17T09:02:03.283977",
     "status": "completed"
    },
    "tags": []
   },
   "outputs": [
    {
     "data": {
      "text/plain": [
       "Bash           535\n",
       "C             2474\n",
       "C#             673\n",
       "C++           2967\n",
       "Go             120\n",
       "Java          2322\n",
       "Javascript    1788\n",
       "Julia          134\n",
       "MATLAB        1412\n",
       "None            86\n",
       "Other          465\n",
       "PHP            808\n",
       "Python        9393\n",
       "R             2197\n",
       "SQL           4267\n",
       "dtype: int64"
      ]
     },
     "execution_count": 20,
     "metadata": {},
     "output_type": "execute_result"
    }
   ],
   "source": [
    "students_plang"
   ]
  },
  {
   "cell_type": "code",
   "execution_count": 21,
   "id": "50d2097c",
   "metadata": {
    "execution": {
     "iopub.execute_input": "2022-10-17T09:02:03.336386Z",
     "iopub.status.busy": "2022-10-17T09:02:03.335433Z",
     "iopub.status.idle": "2022-10-17T09:02:03.343145Z",
     "shell.execute_reply": "2022-10-17T09:02:03.341791Z"
    },
    "papermill": {
     "duration": 0.023433,
     "end_time": "2022-10-17T09:02:03.345778",
     "exception": false,
     "start_time": "2022-10-17T09:02:03.322345",
     "status": "completed"
    },
    "tags": []
   },
   "outputs": [
    {
     "data": {
      "text/plain": [
       "Bash          1139\n",
       "C             1327\n",
       "C#             800\n",
       "C++           1582\n",
       "Go             202\n",
       "Java          1540\n",
       "Javascript    1701\n",
       "Julia          162\n",
       "MATLAB        1029\n",
       "None           170\n",
       "Other          877\n",
       "PHP            635\n",
       "Python        9260\n",
       "R             2374\n",
       "SQL           5353\n",
       "dtype: int64"
      ]
     },
     "execution_count": 21,
     "metadata": {},
     "output_type": "execute_result"
    }
   ],
   "source": [
    "pros_plang"
   ]
  },
  {
   "cell_type": "code",
   "execution_count": 22,
   "id": "33db702f",
   "metadata": {
    "execution": {
     "iopub.execute_input": "2022-10-17T09:02:03.372358Z",
     "iopub.status.busy": "2022-10-17T09:02:03.371388Z",
     "iopub.status.idle": "2022-10-17T09:02:03.683370Z",
     "shell.execute_reply": "2022-10-17T09:02:03.682272Z"
    },
    "papermill": {
     "duration": 0.32816,
     "end_time": "2022-10-17T09:02:03.686083",
     "exception": false,
     "start_time": "2022-10-17T09:02:03.357923",
     "status": "completed"
    },
    "tags": []
   },
   "outputs": [
    {
     "data": {
      "text/plain": [
       "<Figure size 864x576 with 0 Axes>"
      ]
     },
     "metadata": {},
     "output_type": "display_data"
    },
    {
     "data": {
      "image/png": "[encoded data removed]",
      "text/plain": [
       "<Figure size 432x288 with 1 Axes>"
      ]
     },
     "metadata": {
      "needs_background": "light"
     },
     "output_type": "display_data"
    }
   ],
   "source": [
    "plt.figure(figsize=(12,8))\n",
    "x = np.arange(len(students_plang)) \n",
    "width = 0.35 \n",
    "\n",
    "fig, ax = plt.subplots()\n",
    "rects1 = ax.bar(x - width/2, students_plang, width, label='Students', color='#3b528b')\n",
    "rects2 = ax.bar(x + width/2, pros_plang, width, label='Professionals', color='#fde725')\n",
    "\n",
    "\n",
    "ax.set_ylabel('Number of respondents')\n",
    "ax.set_title('Programming Languages preferred by students and professionals')\n",
    "ax.set_xticks(x, students_plang.index)\n",
    "plt.xticks(rotation=90)\n",
    "ax.legend()\n",
    "\n",
    "plt.show()"
   ]
  },
  {
   "cell_type": "code",
   "execution_count": null,
   "id": "a725fc96",
   "metadata": {
    "papermill": {
     "duration": 0.011909,
     "end_time": "2022-10-17T09:02:03.710611",
     "exception": false,
     "start_time": "2022-10-17T09:02:03.698702",
     "status": "completed"
    },
    "tags": []
   },
   "outputs": [],
   "source": []
  }
 ],
 "metadata": {
  "kernelspec": {
   "display_name": "Python 3",
   "language": "python",
   "name": "python3"
  },
  "language_info": {
   "codemirror_mode": {
    "name": "ipython",
    "version": 3
   },
   "file_extension": ".py",
   "mimetype": "text/x-python",
   "name": "python",
   "nbconvert_exporter": "python",
   "pygments_lexer": "ipython3",
   "version": "3.7.12"
  },
  "papermill": {
   "default_parameters": {},
   "duration": 19.086405,
   "end_time": "2022-10-17T09:02:04.747010",
   "environment_variables": {},
   "exception": null,
   "input_path": "__notebook__.ipynb",
   "output_path": "__notebook__.ipynb",
   "parameters": {},
   "start_time": "2022-10-17T09:01:45.660605",
   "version": "2.3.4"
  }
 },
 "nbformat": 4,
 "nbformat_minor": 5
}
