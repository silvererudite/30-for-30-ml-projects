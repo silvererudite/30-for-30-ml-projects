{
 "cells": [
  {
   "cell_type": "code",
   "execution_count": 1,
   "id": "50450e8d",
   "metadata": {
    "_cell_guid": "b1076dfc-b9ad-4769-8c92-a6c4dae69d19",
    "_uuid": "8f2839f25d086af736a60e9eeb907d3b93b6e0e5",
    "execution": {
     "iopub.execute_input": "2022-05-11T13:28:49.955987Z",
     "iopub.status.busy": "2022-05-11T13:28:49.955479Z",
     "iopub.status.idle": "2022-05-11T13:28:49.966930Z",
     "shell.execute_reply": "2022-05-11T13:28:49.965994Z"
    },
    "papermill": {
     "duration": 0.03627,
     "end_time": "2022-05-11T13:28:49.968866",
     "exception": false,
     "start_time": "2022-05-11T13:28:49.932596",
     "status": "completed"
    },
    "tags": []
   },
   "outputs": [
    {
     "name": "stdout",
     "output_type": "stream",
     "text": [
      "/kaggle/input/tabular-playground-series-may-2022/sample_submission.csv\n",
      "/kaggle/input/tabular-playground-series-may-2022/train.csv\n",
      "/kaggle/input/tabular-playground-series-may-2022/test.csv\n"
     ]
    }
   ],
   "source": [
    "# This Python 3 environment comes with many helpful analytics libraries installed\n",
    "# It is defined by the kaggle/python Docker image: https://github.com/kaggle/docker-python\n",
    "# For example, here's several helpful packages to load\n",
    "\n",
    "import numpy as np # linear algebra\n",
    "import pandas as pd # data processing, CSV file I/O (e.g. pd.read_csv)\n",
    "\n",
    "# Input data files are available in the read-only \"../input/\" directory\n",
    "# For example, running this (by clicking run or pressing Shift+Enter) will list all files under the input directory\n",
    "\n",
    "import os\n",
    "for dirname, _, filenames in os.walk('/kaggle/input'):\n",
    "    for filename in filenames:\n",
    "        print(os.path.join(dirname, filename))\n",
    "\n",
    "# You can write up to 20GB to the current directory (/kaggle/working/) that gets preserved as output when you create a version using \"Save & Run All\" \n",
    "# You can also write temporary files to /kaggle/temp/, but they won't be saved outside of the current session"
   ]
  },
  {
   "cell_type": "code",
   "execution_count": 2,
   "id": "65ac25b4",
   "metadata": {
    "collapsed": true,
    "execution": {
     "iopub.execute_input": "2022-05-11T13:28:50.011832Z",
     "iopub.status.busy": "2022-05-11T13:28:50.010985Z",
     "iopub.status.idle": "2022-05-11T13:28:50.015172Z",
     "shell.execute_reply": "2022-05-11T13:28:50.014584Z"
    },
    "jupyter": {
     "outputs_hidden": true
    },
    "papermill": {
     "duration": 0.027024,
     "end_time": "2022-05-11T13:28:50.016872",
     "exception": false,
     "start_time": "2022-05-11T13:28:49.989848",
     "status": "completed"
    },
    "tags": []
   },
   "outputs": [],
   "source": [
    "# pip install tensorflow_decision_forests"
   ]
  },
  {
   "cell_type": "code",
   "execution_count": 3,
   "id": "0aa507c7",
   "metadata": {
    "execution": {
     "iopub.execute_input": "2022-05-11T13:28:50.060192Z",
     "iopub.status.busy": "2022-05-11T13:28:50.059635Z",
     "iopub.status.idle": "2022-05-11T13:29:09.977902Z",
     "shell.execute_reply": "2022-05-11T13:29:09.977228Z"
    },
    "papermill": {
     "duration": 19.941703,
     "end_time": "2022-05-11T13:29:09.979901",
     "exception": false,
     "start_time": "2022-05-11T13:28:50.038198",
     "status": "completed"
    },
    "tags": []
   },
   "outputs": [],
   "source": [
    "import tensorflow as tf\n",
    "#import tensorflow_decision_forests as tfdf\n",
    "import seaborn as sns\n",
    "import matplotlib.pyplot as plt\n",
    "sns.set_theme(style=\"ticks\", color_codes=True)\n",
    "from sklearn.decomposition import PCA\n",
    "from sklearn.preprocessing import StandardScaler\n",
    "from mpl_toolkits.mplot3d import Axes3D\n",
    "from sklearn.manifold import TSNE\n",
    "from umap import UMAP"
   ]
  },
  {
   "cell_type": "code",
   "execution_count": 4,
   "id": "c181f4dd",
   "metadata": {
    "execution": {
     "iopub.execute_input": "2022-05-11T13:29:10.022480Z",
     "iopub.status.busy": "2022-05-11T13:29:10.022208Z",
     "iopub.status.idle": "2022-05-11T13:29:17.793644Z",
     "shell.execute_reply": "2022-05-11T13:29:17.792728Z"
    },
    "papermill": {
     "duration": 7.794815,
     "end_time": "2022-05-11T13:29:17.795742",
     "exception": false,
     "start_time": "2022-05-11T13:29:10.000927",
     "status": "completed"
    },
    "tags": []
   },
   "outputs": [
    {
     "data": {
      "text/html": [
       "<div>\n",
       "<style scoped>\n",
       "    .dataframe tbody tr th:only-of-type {\n",
       "        vertical-align: middle;\n",
       "    }\n",
       "\n",
       "    .dataframe tbody tr th {\n",
       "        vertical-align: top;\n",
       "    }\n",
       "\n",
       "    .dataframe thead th {\n",
       "        text-align: right;\n",
       "    }\n",
       "</style>\n",
       "<table border=\"1\" class=\"dataframe\">\n",
       "  <thead>\n",
       "    <tr style=\"text-align: right;\">\n",
       "      <th></th>\n",
       "      <th>id</th>\n",
       "      <th>f_00</th>\n",
       "      <th>f_01</th>\n",
       "      <th>f_02</th>\n",
       "      <th>f_03</th>\n",
       "      <th>f_04</th>\n",
       "      <th>f_05</th>\n",
       "      <th>f_06</th>\n",
       "      <th>f_07</th>\n",
       "      <th>f_08</th>\n",
       "      <th>...</th>\n",
       "      <th>f_22</th>\n",
       "      <th>f_23</th>\n",
       "      <th>f_24</th>\n",
       "      <th>f_25</th>\n",
       "      <th>f_26</th>\n",
       "      <th>f_27</th>\n",
       "      <th>f_28</th>\n",
       "      <th>f_29</th>\n",
       "      <th>f_30</th>\n",
       "      <th>target</th>\n",
       "    </tr>\n",
       "  </thead>\n",
       "  <tbody>\n",
       "    <tr>\n",
       "      <th>0</th>\n",
       "      <td>0</td>\n",
       "      <td>-1.373246</td>\n",
       "      <td>0.238887</td>\n",
       "      <td>-0.243376</td>\n",
       "      <td>0.567405</td>\n",
       "      <td>-0.647715</td>\n",
       "      <td>0.839326</td>\n",
       "      <td>0.113133</td>\n",
       "      <td>1</td>\n",
       "      <td>5</td>\n",
       "      <td>...</td>\n",
       "      <td>-2.540739</td>\n",
       "      <td>0.766952</td>\n",
       "      <td>-2.730628</td>\n",
       "      <td>-0.208177</td>\n",
       "      <td>1.363402</td>\n",
       "      <td>ABABDADBAB</td>\n",
       "      <td>67.609153</td>\n",
       "      <td>0</td>\n",
       "      <td>0</td>\n",
       "      <td>0</td>\n",
       "    </tr>\n",
       "    <tr>\n",
       "      <th>1</th>\n",
       "      <td>1</td>\n",
       "      <td>1.697021</td>\n",
       "      <td>-1.710322</td>\n",
       "      <td>-2.230332</td>\n",
       "      <td>-0.545661</td>\n",
       "      <td>1.113173</td>\n",
       "      <td>-1.552175</td>\n",
       "      <td>0.447825</td>\n",
       "      <td>1</td>\n",
       "      <td>3</td>\n",
       "      <td>...</td>\n",
       "      <td>2.278315</td>\n",
       "      <td>-0.633658</td>\n",
       "      <td>-1.217077</td>\n",
       "      <td>-3.782194</td>\n",
       "      <td>-0.058316</td>\n",
       "      <td>ACACCADCEB</td>\n",
       "      <td>377.096415</td>\n",
       "      <td>0</td>\n",
       "      <td>0</td>\n",
       "      <td>1</td>\n",
       "    </tr>\n",
       "    <tr>\n",
       "      <th>2</th>\n",
       "      <td>2</td>\n",
       "      <td>1.681726</td>\n",
       "      <td>0.616746</td>\n",
       "      <td>-1.027689</td>\n",
       "      <td>0.810492</td>\n",
       "      <td>-0.609086</td>\n",
       "      <td>0.113965</td>\n",
       "      <td>-0.708660</td>\n",
       "      <td>1</td>\n",
       "      <td>0</td>\n",
       "      <td>...</td>\n",
       "      <td>-1.385775</td>\n",
       "      <td>-0.520558</td>\n",
       "      <td>-0.009121</td>\n",
       "      <td>2.788536</td>\n",
       "      <td>-3.703488</td>\n",
       "      <td>AAAEABCKAD</td>\n",
       "      <td>-195.599702</td>\n",
       "      <td>0</td>\n",
       "      <td>2</td>\n",
       "      <td>1</td>\n",
       "    </tr>\n",
       "    <tr>\n",
       "      <th>3</th>\n",
       "      <td>3</td>\n",
       "      <td>-0.118172</td>\n",
       "      <td>-0.587835</td>\n",
       "      <td>-0.804638</td>\n",
       "      <td>2.086822</td>\n",
       "      <td>0.371005</td>\n",
       "      <td>-0.128831</td>\n",
       "      <td>-0.282575</td>\n",
       "      <td>3</td>\n",
       "      <td>2</td>\n",
       "      <td>...</td>\n",
       "      <td>0.572594</td>\n",
       "      <td>-1.653213</td>\n",
       "      <td>1.686035</td>\n",
       "      <td>-2.533098</td>\n",
       "      <td>-0.608601</td>\n",
       "      <td>BDBBAACBCB</td>\n",
       "      <td>210.826205</td>\n",
       "      <td>0</td>\n",
       "      <td>0</td>\n",
       "      <td>1</td>\n",
       "    </tr>\n",
       "    <tr>\n",
       "      <th>4</th>\n",
       "      <td>4</td>\n",
       "      <td>1.148481</td>\n",
       "      <td>-0.176567</td>\n",
       "      <td>-0.664871</td>\n",
       "      <td>-1.101343</td>\n",
       "      <td>0.467875</td>\n",
       "      <td>0.500117</td>\n",
       "      <td>0.407515</td>\n",
       "      <td>3</td>\n",
       "      <td>3</td>\n",
       "      <td>...</td>\n",
       "      <td>-3.912929</td>\n",
       "      <td>-1.430366</td>\n",
       "      <td>2.127649</td>\n",
       "      <td>-3.306784</td>\n",
       "      <td>4.371371</td>\n",
       "      <td>BDBCBBCHFE</td>\n",
       "      <td>-217.211798</td>\n",
       "      <td>0</td>\n",
       "      <td>1</td>\n",
       "      <td>1</td>\n",
       "    </tr>\n",
       "  </tbody>\n",
       "</table>\n",
       "<p>5 rows × 33 columns</p>\n",
       "</div>"
      ],
      "text/plain": [
       "   id      f_00      f_01      f_02      f_03      f_04      f_05      f_06  \\\n",
       "0   0 -1.373246  0.238887 -0.243376  0.567405 -0.647715  0.839326  0.113133   \n",
       "1   1  1.697021 -1.710322 -2.230332 -0.545661  1.113173 -1.552175  0.447825   \n",
       "2   2  1.681726  0.616746 -1.027689  0.810492 -0.609086  0.113965 -0.708660   \n",
       "3   3 -0.118172 -0.587835 -0.804638  2.086822  0.371005 -0.128831 -0.282575   \n",
       "4   4  1.148481 -0.176567 -0.664871 -1.101343  0.467875  0.500117  0.407515   \n",
       "\n",
       "   f_07  f_08  ...      f_22      f_23      f_24      f_25      f_26  \\\n",
       "0     1     5  ... -2.540739  0.766952 -2.730628 -0.208177  1.363402   \n",
       "1     1     3  ...  2.278315 -0.633658 -1.217077 -3.782194 -0.058316   \n",
       "2     1     0  ... -1.385775 -0.520558 -0.009121  2.788536 -3.703488   \n",
       "3     3     2  ...  0.572594 -1.653213  1.686035 -2.533098 -0.608601   \n",
       "4     3     3  ... -3.912929 -1.430366  2.127649 -3.306784  4.371371   \n",
       "\n",
       "         f_27        f_28  f_29  f_30  target  \n",
       "0  ABABDADBAB   67.609153     0     0       0  \n",
       "1  ACACCADCEB  377.096415     0     0       1  \n",
       "2  AAAEABCKAD -195.599702     0     2       1  \n",
       "3  BDBBAACBCB  210.826205     0     0       1  \n",
       "4  BDBCBBCHFE -217.211798     0     1       1  \n",
       "\n",
       "[5 rows x 33 columns]"
      ]
     },
     "execution_count": 4,
     "metadata": {},
     "output_type": "execute_result"
    }
   ],
   "source": [
    "df = pd.read_csv('/kaggle/input/tabular-playground-series-may-2022/train.csv')\n",
    "df.head()"
   ]
  },
  {
   "cell_type": "code",
   "execution_count": 5,
   "id": "7423ec57",
   "metadata": {
    "execution": {
     "iopub.execute_input": "2022-05-11T13:29:17.839179Z",
     "iopub.status.busy": "2022-05-11T13:29:17.838902Z",
     "iopub.status.idle": "2022-05-11T13:29:17.965110Z",
     "shell.execute_reply": "2022-05-11T13:29:17.964082Z"
    },
    "papermill": {
     "duration": 0.150324,
     "end_time": "2022-05-11T13:29:17.967103",
     "exception": false,
     "start_time": "2022-05-11T13:29:17.816779",
     "status": "completed"
    },
    "tags": []
   },
   "outputs": [
    {
     "name": "stdout",
     "output_type": "stream",
     "text": [
      "<class 'pandas.core.frame.DataFrame'>\n",
      "RangeIndex: 900000 entries, 0 to 899999\n",
      "Data columns (total 33 columns):\n",
      " #   Column  Non-Null Count   Dtype  \n",
      "---  ------  --------------   -----  \n",
      " 0   id      900000 non-null  int64  \n",
      " 1   f_00    900000 non-null  float64\n",
      " 2   f_01    900000 non-null  float64\n",
      " 3   f_02    900000 non-null  float64\n",
      " 4   f_03    900000 non-null  float64\n",
      " 5   f_04    900000 non-null  float64\n",
      " 6   f_05    900000 non-null  float64\n",
      " 7   f_06    900000 non-null  float64\n",
      " 8   f_07    900000 non-null  int64  \n",
      " 9   f_08    900000 non-null  int64  \n",
      " 10  f_09    900000 non-null  int64  \n",
      " 11  f_10    900000 non-null  int64  \n",
      " 12  f_11    900000 non-null  int64  \n",
      " 13  f_12    900000 non-null  int64  \n",
      " 14  f_13    900000 non-null  int64  \n",
      " 15  f_14    900000 non-null  int64  \n",
      " 16  f_15    900000 non-null  int64  \n",
      " 17  f_16    900000 non-null  int64  \n",
      " 18  f_17    900000 non-null  int64  \n",
      " 19  f_18    900000 non-null  int64  \n",
      " 20  f_19    900000 non-null  float64\n",
      " 21  f_20    900000 non-null  float64\n",
      " 22  f_21    900000 non-null  float64\n",
      " 23  f_22    900000 non-null  float64\n",
      " 24  f_23    900000 non-null  float64\n",
      " 25  f_24    900000 non-null  float64\n",
      " 26  f_25    900000 non-null  float64\n",
      " 27  f_26    900000 non-null  float64\n",
      " 28  f_27    900000 non-null  object \n",
      " 29  f_28    900000 non-null  float64\n",
      " 30  f_29    900000 non-null  int64  \n",
      " 31  f_30    900000 non-null  int64  \n",
      " 32  target  900000 non-null  int64  \n",
      "dtypes: float64(16), int64(16), object(1)\n",
      "memory usage: 226.6+ MB\n"
     ]
    }
   ],
   "source": [
    "df.info()"
   ]
  },
  {
   "cell_type": "code",
   "execution_count": 6,
   "id": "7a865ba6",
   "metadata": {
    "execution": {
     "iopub.execute_input": "2022-05-11T13:29:18.011489Z",
     "iopub.status.busy": "2022-05-11T13:29:18.010935Z",
     "iopub.status.idle": "2022-05-11T13:29:18.108104Z",
     "shell.execute_reply": "2022-05-11T13:29:18.107346Z"
    },
    "papermill": {
     "duration": 0.121039,
     "end_time": "2022-05-11T13:29:18.110095",
     "exception": false,
     "start_time": "2022-05-11T13:29:17.989056",
     "status": "completed"
    },
    "tags": []
   },
   "outputs": [
    {
     "data": {
      "text/plain": [
       "id        0\n",
       "f_16      0\n",
       "f_30      0\n",
       "f_29      0\n",
       "f_28      0\n",
       "f_27      0\n",
       "f_26      0\n",
       "f_25      0\n",
       "f_24      0\n",
       "f_23      0\n",
       "f_22      0\n",
       "f_21      0\n",
       "f_20      0\n",
       "f_19      0\n",
       "f_18      0\n",
       "f_17      0\n",
       "f_15      0\n",
       "f_00      0\n",
       "f_14      0\n",
       "f_13      0\n",
       "f_12      0\n",
       "f_11      0\n",
       "f_10      0\n",
       "f_09      0\n",
       "f_08      0\n",
       "f_07      0\n",
       "f_06      0\n",
       "f_05      0\n",
       "f_04      0\n",
       "f_03      0\n",
       "f_02      0\n",
       "f_01      0\n",
       "target    0\n",
       "dtype: int64"
      ]
     },
     "execution_count": 6,
     "metadata": {},
     "output_type": "execute_result"
    }
   ],
   "source": [
    "df.isnull().sum().sort_values(ascending=False)"
   ]
  },
  {
   "cell_type": "code",
   "execution_count": 7,
   "id": "534edb65",
   "metadata": {
    "execution": {
     "iopub.execute_input": "2022-05-11T13:29:18.155992Z",
     "iopub.status.busy": "2022-05-11T13:29:18.155739Z",
     "iopub.status.idle": "2022-05-11T13:29:18.161770Z",
     "shell.execute_reply": "2022-05-11T13:29:18.160867Z"
    },
    "papermill": {
     "duration": 0.03018,
     "end_time": "2022-05-11T13:29:18.163470",
     "exception": false,
     "start_time": "2022-05-11T13:29:18.133290",
     "status": "completed"
    },
    "tags": []
   },
   "outputs": [
    {
     "data": {
      "text/plain": [
       "Index(['id', 'f_00', 'f_01', 'f_02', 'f_03', 'f_04', 'f_05', 'f_06', 'f_07',\n",
       "       'f_08', 'f_09', 'f_10', 'f_11', 'f_12', 'f_13', 'f_14', 'f_15', 'f_16',\n",
       "       'f_17', 'f_18', 'f_19', 'f_20', 'f_21', 'f_22', 'f_23', 'f_24', 'f_25',\n",
       "       'f_26', 'f_27', 'f_28', 'f_29', 'f_30', 'target'],\n",
       "      dtype='object')"
      ]
     },
     "execution_count": 7,
     "metadata": {},
     "output_type": "execute_result"
    }
   ],
   "source": [
    "df.columns"
   ]
  },
  {
   "cell_type": "markdown",
   "id": "581fe75d",
   "metadata": {
    "papermill": {
     "duration": 0.021455,
     "end_time": "2022-05-11T13:29:18.206238",
     "exception": false,
     "start_time": "2022-05-11T13:29:18.184783",
     "status": "completed"
    },
    "tags": []
   },
   "source": [
    "## Exploratory analysis on the data"
   ]
  },
  {
   "cell_type": "code",
   "execution_count": 8,
   "id": "360ee438",
   "metadata": {
    "execution": {
     "iopub.execute_input": "2022-05-11T13:29:18.250967Z",
     "iopub.status.busy": "2022-05-11T13:29:18.250695Z",
     "iopub.status.idle": "2022-05-11T13:29:21.215380Z",
     "shell.execute_reply": "2022-05-11T13:29:21.214400Z"
    },
    "papermill": {
     "duration": 2.989842,
     "end_time": "2022-05-11T13:29:21.217589",
     "exception": false,
     "start_time": "2022-05-11T13:29:18.227747",
     "status": "completed"
    },
    "tags": []
   },
   "outputs": [
    {
     "data": {
      "image/png": "[encoded data removed]",
      "text/plain": [
       "<Figure size 432x288 with 2 Axes>"
      ]
     },
     "metadata": {},
     "output_type": "display_data"
    }
   ],
   "source": [
    "heatmap = sns.heatmap(df.corr(), cmap=\"YlGnBu\")\n",
    "plt.show()"
   ]
  },
  {
   "cell_type": "markdown",
   "id": "3bb8a9d3",
   "metadata": {
    "papermill": {
     "duration": 0.024606,
     "end_time": "2022-05-11T13:29:21.264836",
     "exception": false,
     "start_time": "2022-05-11T13:29:21.240230",
     "status": "completed"
    },
    "tags": []
   },
   "source": [
    "## Explore the data distribution of all numerical features"
   ]
  },
  {
   "cell_type": "code",
   "execution_count": 9,
   "id": "fe46fd3a",
   "metadata": {
    "execution": {
     "iopub.execute_input": "2022-05-11T13:29:21.311609Z",
     "iopub.status.busy": "2022-05-11T13:29:21.310982Z",
     "iopub.status.idle": "2022-05-11T13:29:22.545907Z",
     "shell.execute_reply": "2022-05-11T13:29:22.545072Z"
    },
    "papermill": {
     "duration": 1.260963,
     "end_time": "2022-05-11T13:29:22.548211",
     "exception": false,
     "start_time": "2022-05-11T13:29:21.287248",
     "status": "completed"
    },
    "tags": []
   },
   "outputs": [
    {
     "data": {
      "image/png": "[encoded data removed]",
      "text/plain": [
       "<Figure size 432x288 with 1 Axes>"
      ]
     },
     "metadata": {},
     "output_type": "display_data"
    }
   ],
   "source": [
    "columns = ['f_00', 'f_01', 'f_02', 'f_03', 'f_04', 'f_05', 'f_06', 'f_07',\n",
    "       'f_08', 'f_09', 'f_10', 'f_11', 'f_12', 'f_13', 'f_14', 'f_15', 'f_16',\n",
    "       'f_17', 'f_18', 'f_19', 'f_20', 'f_21', 'f_22', 'f_23', 'f_24', 'f_25',\n",
    "       'f_26', 'f_28', 'f_29', 'f_30']\n",
    "for col in columns:\n",
    "    plt.hist(df[col], alpha=0.5)"
   ]
  },
  {
   "cell_type": "code",
   "execution_count": 10,
   "id": "81d02794",
   "metadata": {
    "execution": {
     "iopub.execute_input": "2022-05-11T13:29:22.597483Z",
     "iopub.status.busy": "2022-05-11T13:29:22.597190Z",
     "iopub.status.idle": "2022-05-11T13:29:22.723578Z",
     "shell.execute_reply": "2022-05-11T13:29:22.722877Z"
    },
    "papermill": {
     "duration": 0.152855,
     "end_time": "2022-05-11T13:29:22.725249",
     "exception": false,
     "start_time": "2022-05-11T13:29:22.572394",
     "status": "completed"
    },
    "tags": []
   },
   "outputs": [
    {
     "data": {
      "text/html": [
       "<div>\n",
       "<style scoped>\n",
       "    .dataframe tbody tr th:only-of-type {\n",
       "        vertical-align: middle;\n",
       "    }\n",
       "\n",
       "    .dataframe tbody tr th {\n",
       "        vertical-align: top;\n",
       "    }\n",
       "\n",
       "    .dataframe thead th {\n",
       "        text-align: right;\n",
       "    }\n",
       "</style>\n",
       "<table border=\"1\" class=\"dataframe\">\n",
       "  <thead>\n",
       "    <tr style=\"text-align: right;\">\n",
       "      <th></th>\n",
       "      <th>f_00</th>\n",
       "      <th>f_01</th>\n",
       "      <th>f_02</th>\n",
       "      <th>f_03</th>\n",
       "      <th>f_04</th>\n",
       "      <th>f_05</th>\n",
       "      <th>f_06</th>\n",
       "      <th>f_07</th>\n",
       "      <th>f_08</th>\n",
       "      <th>f_09</th>\n",
       "      <th>...</th>\n",
       "      <th>f_20</th>\n",
       "      <th>f_21</th>\n",
       "      <th>f_22</th>\n",
       "      <th>f_23</th>\n",
       "      <th>f_24</th>\n",
       "      <th>f_25</th>\n",
       "      <th>f_26</th>\n",
       "      <th>f_28</th>\n",
       "      <th>f_29</th>\n",
       "      <th>f_30</th>\n",
       "    </tr>\n",
       "  </thead>\n",
       "  <tbody>\n",
       "    <tr>\n",
       "      <th>0</th>\n",
       "      <td>-1.373246</td>\n",
       "      <td>0.238887</td>\n",
       "      <td>-0.243376</td>\n",
       "      <td>0.567405</td>\n",
       "      <td>-0.647715</td>\n",
       "      <td>0.839326</td>\n",
       "      <td>0.113133</td>\n",
       "      <td>1</td>\n",
       "      <td>5</td>\n",
       "      <td>1</td>\n",
       "      <td>...</td>\n",
       "      <td>-0.919717</td>\n",
       "      <td>3.058541</td>\n",
       "      <td>-2.540739</td>\n",
       "      <td>0.766952</td>\n",
       "      <td>-2.730628</td>\n",
       "      <td>-0.208177</td>\n",
       "      <td>1.363402</td>\n",
       "      <td>67.609153</td>\n",
       "      <td>0</td>\n",
       "      <td>0</td>\n",
       "    </tr>\n",
       "    <tr>\n",
       "      <th>1</th>\n",
       "      <td>1.697021</td>\n",
       "      <td>-1.710322</td>\n",
       "      <td>-2.230332</td>\n",
       "      <td>-0.545661</td>\n",
       "      <td>1.113173</td>\n",
       "      <td>-1.552175</td>\n",
       "      <td>0.447825</td>\n",
       "      <td>1</td>\n",
       "      <td>3</td>\n",
       "      <td>4</td>\n",
       "      <td>...</td>\n",
       "      <td>-1.075434</td>\n",
       "      <td>2.179050</td>\n",
       "      <td>2.278315</td>\n",
       "      <td>-0.633658</td>\n",
       "      <td>-1.217077</td>\n",
       "      <td>-3.782194</td>\n",
       "      <td>-0.058316</td>\n",
       "      <td>377.096415</td>\n",
       "      <td>0</td>\n",
       "      <td>0</td>\n",
       "    </tr>\n",
       "    <tr>\n",
       "      <th>2</th>\n",
       "      <td>1.681726</td>\n",
       "      <td>0.616746</td>\n",
       "      <td>-1.027689</td>\n",
       "      <td>0.810492</td>\n",
       "      <td>-0.609086</td>\n",
       "      <td>0.113965</td>\n",
       "      <td>-0.708660</td>\n",
       "      <td>1</td>\n",
       "      <td>0</td>\n",
       "      <td>2</td>\n",
       "      <td>...</td>\n",
       "      <td>-3.485342</td>\n",
       "      <td>-0.784235</td>\n",
       "      <td>-1.385775</td>\n",
       "      <td>-0.520558</td>\n",
       "      <td>-0.009121</td>\n",
       "      <td>2.788536</td>\n",
       "      <td>-3.703488</td>\n",
       "      <td>-195.599702</td>\n",
       "      <td>0</td>\n",
       "      <td>2</td>\n",
       "    </tr>\n",
       "    <tr>\n",
       "      <th>3</th>\n",
       "      <td>-0.118172</td>\n",
       "      <td>-0.587835</td>\n",
       "      <td>-0.804638</td>\n",
       "      <td>2.086822</td>\n",
       "      <td>0.371005</td>\n",
       "      <td>-0.128831</td>\n",
       "      <td>-0.282575</td>\n",
       "      <td>3</td>\n",
       "      <td>2</td>\n",
       "      <td>1</td>\n",
       "      <td>...</td>\n",
       "      <td>-2.100177</td>\n",
       "      <td>-2.343819</td>\n",
       "      <td>0.572594</td>\n",
       "      <td>-1.653213</td>\n",
       "      <td>1.686035</td>\n",
       "      <td>-2.533098</td>\n",
       "      <td>-0.608601</td>\n",
       "      <td>210.826205</td>\n",
       "      <td>0</td>\n",
       "      <td>0</td>\n",
       "    </tr>\n",
       "    <tr>\n",
       "      <th>4</th>\n",
       "      <td>1.148481</td>\n",
       "      <td>-0.176567</td>\n",
       "      <td>-0.664871</td>\n",
       "      <td>-1.101343</td>\n",
       "      <td>0.467875</td>\n",
       "      <td>0.500117</td>\n",
       "      <td>0.407515</td>\n",
       "      <td>3</td>\n",
       "      <td>3</td>\n",
       "      <td>0</td>\n",
       "      <td>...</td>\n",
       "      <td>0.605033</td>\n",
       "      <td>1.133665</td>\n",
       "      <td>-3.912929</td>\n",
       "      <td>-1.430366</td>\n",
       "      <td>2.127649</td>\n",
       "      <td>-3.306784</td>\n",
       "      <td>4.371371</td>\n",
       "      <td>-217.211798</td>\n",
       "      <td>0</td>\n",
       "      <td>1</td>\n",
       "    </tr>\n",
       "  </tbody>\n",
       "</table>\n",
       "<p>5 rows × 30 columns</p>\n",
       "</div>"
      ],
      "text/plain": [
       "       f_00      f_01      f_02      f_03      f_04      f_05      f_06  f_07  \\\n",
       "0 -1.373246  0.238887 -0.243376  0.567405 -0.647715  0.839326  0.113133     1   \n",
       "1  1.697021 -1.710322 -2.230332 -0.545661  1.113173 -1.552175  0.447825     1   \n",
       "2  1.681726  0.616746 -1.027689  0.810492 -0.609086  0.113965 -0.708660     1   \n",
       "3 -0.118172 -0.587835 -0.804638  2.086822  0.371005 -0.128831 -0.282575     3   \n",
       "4  1.148481 -0.176567 -0.664871 -1.101343  0.467875  0.500117  0.407515     3   \n",
       "\n",
       "   f_08  f_09  ...      f_20      f_21      f_22      f_23      f_24  \\\n",
       "0     5     1  ... -0.919717  3.058541 -2.540739  0.766952 -2.730628   \n",
       "1     3     4  ... -1.075434  2.179050  2.278315 -0.633658 -1.217077   \n",
       "2     0     2  ... -3.485342 -0.784235 -1.385775 -0.520558 -0.009121   \n",
       "3     2     1  ... -2.100177 -2.343819  0.572594 -1.653213  1.686035   \n",
       "4     3     0  ...  0.605033  1.133665 -3.912929 -1.430366  2.127649   \n",
       "\n",
       "       f_25      f_26        f_28  f_29  f_30  \n",
       "0 -0.208177  1.363402   67.609153     0     0  \n",
       "1 -3.782194 -0.058316  377.096415     0     0  \n",
       "2  2.788536 -3.703488 -195.599702     0     2  \n",
       "3 -2.533098 -0.608601  210.826205     0     0  \n",
       "4 -3.306784  4.371371 -217.211798     0     1  \n",
       "\n",
       "[5 rows x 30 columns]"
      ]
     },
     "execution_count": 10,
     "metadata": {},
     "output_type": "execute_result"
    }
   ],
   "source": [
    "df_numerical = df.drop(['id','f_27','target'], axis = 1)\n",
    "y = df['target']\n",
    "df_numerical.head()"
   ]
  },
  {
   "cell_type": "code",
   "execution_count": 11,
   "id": "768e8e8b",
   "metadata": {
    "execution": {
     "iopub.execute_input": "2022-05-11T13:29:22.775476Z",
     "iopub.status.busy": "2022-05-11T13:29:22.774727Z",
     "iopub.status.idle": "2022-05-11T13:29:31.917790Z",
     "shell.execute_reply": "2022-05-11T13:29:31.916192Z"
    },
    "papermill": {
     "duration": 9.17355,
     "end_time": "2022-05-11T13:29:31.922736",
     "exception": false,
     "start_time": "2022-05-11T13:29:22.749186",
     "status": "completed"
    },
    "tags": []
   },
   "outputs": [],
   "source": [
    "def convert_PCA(features):\n",
    "    X = StandardScaler().fit_transform(features)\n",
    "    pca = PCA(n_components=2)\n",
    "    principalComponents = pca.fit_transform(X)\n",
    "    \n",
    "    return principalComponents\n",
    "pca = convert_PCA(df_numerical)\n",
    "pca_df = pd.DataFrame(data = pca\n",
    "                 , columns = ['principal component 1', 'principal component 2'])"
   ]
  },
  {
   "cell_type": "code",
   "execution_count": 12,
   "id": "406f0e70",
   "metadata": {
    "execution": {
     "iopub.execute_input": "2022-05-11T13:29:31.979940Z",
     "iopub.status.busy": "2022-05-11T13:29:31.979522Z",
     "iopub.status.idle": "2022-05-11T13:29:31.989271Z",
     "shell.execute_reply": "2022-05-11T13:29:31.988411Z"
    },
    "papermill": {
     "duration": 0.039898,
     "end_time": "2022-05-11T13:29:31.991430",
     "exception": false,
     "start_time": "2022-05-11T13:29:31.951532",
     "status": "completed"
    },
    "tags": []
   },
   "outputs": [],
   "source": [
    "pca_df['target'] = y"
   ]
  },
  {
   "cell_type": "code",
   "execution_count": 13,
   "id": "2234f788",
   "metadata": {
    "collapsed": true,
    "execution": {
     "iopub.execute_input": "2022-05-11T13:29:32.070203Z",
     "iopub.status.busy": "2022-05-11T13:29:32.069591Z",
     "iopub.status.idle": "2022-05-11T13:29:32.073055Z",
     "shell.execute_reply": "2022-05-11T13:29:32.072523Z"
    },
    "jupyter": {
     "outputs_hidden": true
    },
    "papermill": {
     "duration": 0.04638,
     "end_time": "2022-05-11T13:29:32.075403",
     "exception": false,
     "start_time": "2022-05-11T13:29:32.029023",
     "status": "completed"
    },
    "tags": []
   },
   "outputs": [],
   "source": [
    "# def convert_UMAP(features):\n",
    "#     embedded_X = TSNE(n_components=2, learning_rate=50)\n",
    "#     tsne_features = embedded_X.fit_transform(features)\n",
    "    \n",
    "#     return tsne_features\n",
    "# tsne = convert_TSNE(df_numerical)\n",
    "# pca_df['tsne-2d-one'] = tsne[:,0]\n",
    "# pca_df['tsne-2d-two'] = tsne[:,1] "
   ]
  },
  {
   "cell_type": "code",
   "execution_count": 14,
   "id": "428c13cb",
   "metadata": {
    "execution": {
     "iopub.execute_input": "2022-05-11T13:29:32.156051Z",
     "iopub.status.busy": "2022-05-11T13:29:32.155504Z",
     "iopub.status.idle": "2022-05-11T13:30:09.016927Z",
     "shell.execute_reply": "2022-05-11T13:30:09.016114Z"
    },
    "papermill": {
     "duration": 36.934489,
     "end_time": "2022-05-11T13:30:09.049627",
     "exception": false,
     "start_time": "2022-05-11T13:29:32.115138",
     "status": "completed"
    },
    "tags": []
   },
   "outputs": [
    {
     "data": {
      "text/plain": [
       "<AxesSubplot:xlabel='principal component 1', ylabel='principal component 2'>"
      ]
     },
     "execution_count": 14,
     "metadata": {},
     "output_type": "execute_result"
    },
    {
     "data": {
      "image/png": "[encoded data removed]",
      "text/plain": [
       "<Figure size 432x288 with 1 Axes>"
      ]
     },
     "metadata": {},
     "output_type": "display_data"
    }
   ],
   "source": [
    "sns.scatterplot(data=pca_df, x='principal component 1', y= 'principal component 2', hue=\"target\", palette=\"deep\")"
   ]
  },
  {
   "cell_type": "code",
   "execution_count": 15,
   "id": "3a94eb11",
   "metadata": {
    "execution": {
     "iopub.execute_input": "2022-05-11T13:30:09.110211Z",
     "iopub.status.busy": "2022-05-11T13:30:09.109741Z",
     "iopub.status.idle": "2022-05-11T13:30:09.113864Z",
     "shell.execute_reply": "2022-05-11T13:30:09.113199Z"
    },
    "papermill": {
     "duration": 0.036706,
     "end_time": "2022-05-11T13:30:09.115715",
     "exception": false,
     "start_time": "2022-05-11T13:30:09.079009",
     "status": "completed"
    },
    "tags": []
   },
   "outputs": [],
   "source": [
    "# reducer = UMAP(n_neighbors=100, n_components=2, n_epochs=1000, \n",
    "#                 min_dist=0.5, local_connectivity=2, random_state=42,\n",
    "#               )\n",
    "# X_reduced = reducer.fit_transform(df_numerical, y)\n",
    "# arr_concat=np.concatenate((X_reduced, y_copy.values.reshape(y.shape[0],1)), axis=1)\n",
    "#     # Create a Pandas dataframe using the above array\n",
    "# df_umap=pd.DataFrame(arr_concat, columns=['x', 'y', 'label'])\n",
    "#     # Convert label data type from float to integer\n"
   ]
  },
  {
   "cell_type": "code",
   "execution_count": 16,
   "id": "cb67e62e",
   "metadata": {
    "execution": {
     "iopub.execute_input": "2022-05-11T13:30:09.176556Z",
     "iopub.status.busy": "2022-05-11T13:30:09.176000Z",
     "iopub.status.idle": "2022-05-11T13:30:09.180334Z",
     "shell.execute_reply": "2022-05-11T13:30:09.179578Z"
    },
    "papermill": {
     "duration": 0.03698,
     "end_time": "2022-05-11T13:30:09.182288",
     "exception": false,
     "start_time": "2022-05-11T13:30:09.145308",
     "status": "completed"
    },
    "tags": []
   },
   "outputs": [],
   "source": [
    "# sns.scatterplot(data=df_umap, x='x', y= 'y', hue=\"label\", palette=\"deep\")"
   ]
  },
  {
   "cell_type": "markdown",
   "id": "e3bafd69",
   "metadata": {
    "papermill": {
     "duration": 0.031678,
     "end_time": "2022-05-11T13:30:09.244176",
     "exception": false,
     "start_time": "2022-05-11T13:30:09.212498",
     "status": "completed"
    },
    "tags": []
   },
   "source": [
    "## Visualize relationship between pairs"
   ]
  },
  {
   "cell_type": "code",
   "execution_count": 17,
   "id": "21edaa43",
   "metadata": {
    "execution": {
     "iopub.execute_input": "2022-05-11T13:30:09.305544Z",
     "iopub.status.busy": "2022-05-11T13:30:09.305264Z",
     "iopub.status.idle": "2022-05-11T13:30:09.308109Z",
     "shell.execute_reply": "2022-05-11T13:30:09.307523Z"
    },
    "papermill": {
     "duration": 0.035593,
     "end_time": "2022-05-11T13:30:09.309903",
     "exception": false,
     "start_time": "2022-05-11T13:30:09.274310",
     "status": "completed"
    },
    "tags": []
   },
   "outputs": [],
   "source": [
    "# pair_df = df[['f_00', 'f_01', 'f_02', 'f_03','target']]\n",
    "# sns.pairplot(pair_df, hue='target', size=5)"
   ]
  },
  {
   "cell_type": "code",
   "execution_count": null,
   "id": "c829694e",
   "metadata": {
    "papermill": {
     "duration": 0.02992,
     "end_time": "2022-05-11T13:30:09.370193",
     "exception": false,
     "start_time": "2022-05-11T13:30:09.340273",
     "status": "completed"
    },
    "tags": []
   },
   "outputs": [],
   "source": []
  },
  {
   "cell_type": "code",
   "execution_count": 18,
   "id": "d7411f06",
   "metadata": {
    "execution": {
     "iopub.execute_input": "2022-05-11T13:30:09.432227Z",
     "iopub.status.busy": "2022-05-11T13:30:09.431976Z",
     "iopub.status.idle": "2022-05-11T13:30:09.435515Z",
     "shell.execute_reply": "2022-05-11T13:30:09.434647Z"
    },
    "papermill": {
     "duration": 0.03654,
     "end_time": "2022-05-11T13:30:09.437469",
     "exception": false,
     "start_time": "2022-05-11T13:30:09.400929",
     "status": "completed"
    },
    "tags": []
   },
   "outputs": [],
   "source": [
    "# Split the dataset into a training and a testing dataset.\n",
    "\n",
    "# def split_dataset(dataset, test_ratio=0.10):\n",
    "#   \"\"\"Splits a panda dataframe in two.\"\"\"\n",
    "#   test_indices = np.random.rand(len(dataset)) < test_ratio\n",
    "#   return dataset[~test_indices], dataset[test_indices]\n",
    "\n",
    "\n",
    "# train_ds_pd, test_ds_pd = split_dataset(df)\n",
    "# print(\"{} examples in training, {} examples for testing.\".format(\n",
    "#     len(train_ds_pd), len(test_ds_pd)))"
   ]
  },
  {
   "cell_type": "code",
   "execution_count": 19,
   "id": "6eb7d3ae",
   "metadata": {
    "execution": {
     "iopub.execute_input": "2022-05-11T13:30:09.499937Z",
     "iopub.status.busy": "2022-05-11T13:30:09.499656Z",
     "iopub.status.idle": "2022-05-11T13:30:09.502726Z",
     "shell.execute_reply": "2022-05-11T13:30:09.502183Z"
    },
    "papermill": {
     "duration": 0.036518,
     "end_time": "2022-05-11T13:30:09.504605",
     "exception": false,
     "start_time": "2022-05-11T13:30:09.468087",
     "status": "completed"
    },
    "tags": []
   },
   "outputs": [],
   "source": [
    "# train_ds = tfdf.keras.pd_dataframe_to_tf_dataset(train_ds_pd, label=\"target\")\n",
    "# test_ds = tfdf.keras.pd_dataframe_to_tf_dataset(test_ds_pd, label=\"target\")"
   ]
  },
  {
   "cell_type": "code",
   "execution_count": 20,
   "id": "cf54f831",
   "metadata": {
    "execution": {
     "iopub.execute_input": "2022-05-11T13:30:09.566822Z",
     "iopub.status.busy": "2022-05-11T13:30:09.566423Z",
     "iopub.status.idle": "2022-05-11T13:30:09.570032Z",
     "shell.execute_reply": "2022-05-11T13:30:09.569148Z"
    },
    "papermill": {
     "duration": 0.036762,
     "end_time": "2022-05-11T13:30:09.571862",
     "exception": false,
     "start_time": "2022-05-11T13:30:09.535100",
     "status": "completed"
    },
    "tags": []
   },
   "outputs": [],
   "source": [
    "# # Specify the model.\n",
    "# model_1 = tfdf.keras.RandomForestModel()\n",
    "\n",
    "# # Optionally, add evaluation metrics.\n",
    "# model_1.compile(\n",
    "#      metrics=[tf.keras.metrics.AUC()])\n",
    "\n",
    "# # Train the model.\n",
    "# model_1.fit(x=train_ds)"
   ]
  },
  {
   "cell_type": "code",
   "execution_count": 21,
   "id": "f184ec27",
   "metadata": {
    "execution": {
     "iopub.execute_input": "2022-05-11T13:30:09.634690Z",
     "iopub.status.busy": "2022-05-11T13:30:09.634146Z",
     "iopub.status.idle": "2022-05-11T13:30:09.637208Z",
     "shell.execute_reply": "2022-05-11T13:30:09.636631Z"
    },
    "papermill": {
     "duration": 0.036816,
     "end_time": "2022-05-11T13:30:09.639061",
     "exception": false,
     "start_time": "2022-05-11T13:30:09.602245",
     "status": "completed"
    },
    "tags": []
   },
   "outputs": [],
   "source": [
    "# evaluation = model_1.evaluate(test_ds, return_dict=True)\n",
    "# print()\n",
    "\n",
    "# for name, value in evaluation.items():\n",
    "#   print(f\"{name}: {value:.4f}\")"
   ]
  },
  {
   "cell_type": "code",
   "execution_count": 22,
   "id": "9ca260bf",
   "metadata": {
    "execution": {
     "iopub.execute_input": "2022-05-11T13:30:09.705594Z",
     "iopub.status.busy": "2022-05-11T13:30:09.705103Z",
     "iopub.status.idle": "2022-05-11T13:30:09.708104Z",
     "shell.execute_reply": "2022-05-11T13:30:09.707529Z"
    },
    "papermill": {
     "duration": 0.039614,
     "end_time": "2022-05-11T13:30:09.709869",
     "exception": false,
     "start_time": "2022-05-11T13:30:09.670255",
     "status": "completed"
    },
    "tags": []
   },
   "outputs": [],
   "source": [
    "# updated_test = pd.read_csv('/kaggle/input/tabular-playground-series-may-2022/test.csv')\n",
    "# test = tfdf.keras.pd_dataframe_to_tf_dataset(updated_test)\n",
    "# preds = model_1.predict(test)"
   ]
  },
  {
   "cell_type": "code",
   "execution_count": 23,
   "id": "b3ca7efc",
   "metadata": {
    "execution": {
     "iopub.execute_input": "2022-05-11T13:30:09.769894Z",
     "iopub.status.busy": "2022-05-11T13:30:09.769464Z",
     "iopub.status.idle": "2022-05-11T13:30:09.772393Z",
     "shell.execute_reply": "2022-05-11T13:30:09.771657Z"
    },
    "papermill": {
     "duration": 0.034933,
     "end_time": "2022-05-11T13:30:09.774007",
     "exception": false,
     "start_time": "2022-05-11T13:30:09.739074",
     "status": "completed"
    },
    "tags": []
   },
   "outputs": [],
   "source": [
    "# submission = pd.read_csv('/kaggle/input/tabular-playground-series-may-2022/sample_submission.csv')\n",
    "# submission['target'] = preds"
   ]
  },
  {
   "cell_type": "code",
   "execution_count": 24,
   "id": "0d1a48f6",
   "metadata": {
    "execution": {
     "iopub.execute_input": "2022-05-11T13:30:09.834848Z",
     "iopub.status.busy": "2022-05-11T13:30:09.834393Z",
     "iopub.status.idle": "2022-05-11T13:30:09.837309Z",
     "shell.execute_reply": "2022-05-11T13:30:09.836714Z"
    },
    "papermill": {
     "duration": 0.03558,
     "end_time": "2022-05-11T13:30:09.839037",
     "exception": false,
     "start_time": "2022-05-11T13:30:09.803457",
     "status": "completed"
    },
    "tags": []
   },
   "outputs": [],
   "source": [
    "# submission.to_csv('submission.csv', header=True, index=False)"
   ]
  }
 ],
 "metadata": {
  "kernelspec": {
   "display_name": "Python 3",
   "language": "python",
   "name": "python3"
  },
  "language_info": {
   "codemirror_mode": {
    "name": "ipython",
    "version": 3
   },
   "file_extension": ".py",
   "mimetype": "text/x-python",
   "name": "python",
   "nbconvert_exporter": "python",
   "pygments_lexer": "ipython3",
   "version": "3.7.12"
  },
  "papermill": {
   "default_parameters": {},
   "duration": 91.548835,
   "end_time": "2022-05-11T13:30:13.035728",
   "environment_variables": {},
   "exception": null,
   "input_path": "__notebook__.ipynb",
   "output_path": "__notebook__.ipynb",
   "parameters": {},
   "start_time": "2022-05-11T13:28:41.486893",
   "version": "2.3.4"
  }
 },
 "nbformat": 4,
 "nbformat_minor": 5
}
