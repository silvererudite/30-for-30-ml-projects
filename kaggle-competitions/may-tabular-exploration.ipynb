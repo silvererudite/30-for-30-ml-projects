{
 "cells": [
  {
   "cell_type": "code",
   "execution_count": 1,
   "id": "98b70c5c",
   "metadata": {
    "_cell_guid": "b1076dfc-b9ad-4769-8c92-a6c4dae69d19",
    "_uuid": "8f2839f25d086af736a60e9eeb907d3b93b6e0e5",
    "collapsed": true,
    "execution": {
     "iopub.execute_input": "2022-05-02T17:57:37.866504Z",
     "iopub.status.busy": "2022-05-02T17:57:37.865569Z",
     "iopub.status.idle": "2022-05-02T17:57:37.879551Z",
     "shell.execute_reply": "2022-05-02T17:57:37.878654Z"
    },
    "jupyter": {
     "outputs_hidden": true
    },
    "papermill": {
     "duration": 0.02993,
     "end_time": "2022-05-02T17:57:37.882916",
     "exception": false,
     "start_time": "2022-05-02T17:57:37.852986",
     "status": "completed"
    },
    "tags": []
   },
   "outputs": [
    {
     "name": "stdout",
     "output_type": "stream",
     "text": [
      "/kaggle/input/tabular-playground-series-may-2022/sample_submission.csv\n",
      "/kaggle/input/tabular-playground-series-may-2022/train.csv\n",
      "/kaggle/input/tabular-playground-series-may-2022/test.csv\n"
     ]
    }
   ],
   "source": [
    "# This Python 3 environment comes with many helpful analytics libraries installed\n",
    "# It is defined by the kaggle/python Docker image: https://github.com/kaggle/docker-python\n",
    "# For example, here's several helpful packages to load\n",
    "\n",
    "import numpy as np # linear algebra\n",
    "import pandas as pd # data processing, CSV file I/O (e.g. pd.read_csv)\n",
    "\n",
    "# Input data files are available in the read-only \"../input/\" directory\n",
    "# For example, running this (by clicking run or pressing Shift+Enter) will list all files under the input directory\n",
    "\n",
    "import os\n",
    "for dirname, _, filenames in os.walk('/kaggle/input'):\n",
    "    for filename in filenames:\n",
    "        print(os.path.join(dirname, filename))\n",
    "\n",
    "# You can write up to 20GB to the current directory (/kaggle/working/) that gets preserved as output when you create a version using \"Save & Run All\" \n",
    "# You can also write temporary files to /kaggle/temp/, but they won't be saved outside of the current session"
   ]
  },
  {
   "cell_type": "code",
   "execution_count": 2,
   "id": "d6119b44",
   "metadata": {
    "execution": {
     "iopub.execute_input": "2022-05-02T17:57:37.913053Z",
     "iopub.status.busy": "2022-05-02T17:57:37.912328Z",
     "iopub.status.idle": "2022-05-02T17:57:38.980546Z",
     "shell.execute_reply": "2022-05-02T17:57:38.979603Z"
    },
    "papermill": {
     "duration": 1.085895,
     "end_time": "2022-05-02T17:57:38.982857",
     "exception": false,
     "start_time": "2022-05-02T17:57:37.896962",
     "status": "completed"
    },
    "tags": []
   },
   "outputs": [],
   "source": [
    "import seaborn as sns\n",
    "import matplotlib.pyplot as plt"
   ]
  },
  {
   "cell_type": "code",
   "execution_count": 3,
   "id": "828b2d49",
   "metadata": {
    "execution": {
     "iopub.execute_input": "2022-05-02T17:57:39.004520Z",
     "iopub.status.busy": "2022-05-02T17:57:39.004187Z",
     "iopub.status.idle": "2022-05-02T17:57:46.524561Z",
     "shell.execute_reply": "2022-05-02T17:57:46.523725Z"
    },
    "papermill": {
     "duration": 7.534187,
     "end_time": "2022-05-02T17:57:46.526576",
     "exception": false,
     "start_time": "2022-05-02T17:57:38.992389",
     "status": "completed"
    },
    "tags": []
   },
   "outputs": [
    {
     "data": {
      "text/html": [
       "<div>\n",
       "<style scoped>\n",
       "    .dataframe tbody tr th:only-of-type {\n",
       "        vertical-align: middle;\n",
       "    }\n",
       "\n",
       "    .dataframe tbody tr th {\n",
       "        vertical-align: top;\n",
       "    }\n",
       "\n",
       "    .dataframe thead th {\n",
       "        text-align: right;\n",
       "    }\n",
       "</style>\n",
       "<table border=\"1\" class=\"dataframe\">\n",
       "  <thead>\n",
       "    <tr style=\"text-align: right;\">\n",
       "      <th></th>\n",
       "      <th>id</th>\n",
       "      <th>f_00</th>\n",
       "      <th>f_01</th>\n",
       "      <th>f_02</th>\n",
       "      <th>f_03</th>\n",
       "      <th>f_04</th>\n",
       "      <th>f_05</th>\n",
       "      <th>f_06</th>\n",
       "      <th>f_07</th>\n",
       "      <th>f_08</th>\n",
       "      <th>...</th>\n",
       "      <th>f_22</th>\n",
       "      <th>f_23</th>\n",
       "      <th>f_24</th>\n",
       "      <th>f_25</th>\n",
       "      <th>f_26</th>\n",
       "      <th>f_27</th>\n",
       "      <th>f_28</th>\n",
       "      <th>f_29</th>\n",
       "      <th>f_30</th>\n",
       "      <th>target</th>\n",
       "    </tr>\n",
       "  </thead>\n",
       "  <tbody>\n",
       "    <tr>\n",
       "      <th>0</th>\n",
       "      <td>0</td>\n",
       "      <td>-1.373246</td>\n",
       "      <td>0.238887</td>\n",
       "      <td>-0.243376</td>\n",
       "      <td>0.567405</td>\n",
       "      <td>-0.647715</td>\n",
       "      <td>0.839326</td>\n",
       "      <td>0.113133</td>\n",
       "      <td>1</td>\n",
       "      <td>5</td>\n",
       "      <td>...</td>\n",
       "      <td>-2.540739</td>\n",
       "      <td>0.766952</td>\n",
       "      <td>-2.730628</td>\n",
       "      <td>-0.208177</td>\n",
       "      <td>1.363402</td>\n",
       "      <td>ABABDADBAB</td>\n",
       "      <td>67.609153</td>\n",
       "      <td>0</td>\n",
       "      <td>0</td>\n",
       "      <td>0</td>\n",
       "    </tr>\n",
       "    <tr>\n",
       "      <th>1</th>\n",
       "      <td>1</td>\n",
       "      <td>1.697021</td>\n",
       "      <td>-1.710322</td>\n",
       "      <td>-2.230332</td>\n",
       "      <td>-0.545661</td>\n",
       "      <td>1.113173</td>\n",
       "      <td>-1.552175</td>\n",
       "      <td>0.447825</td>\n",
       "      <td>1</td>\n",
       "      <td>3</td>\n",
       "      <td>...</td>\n",
       "      <td>2.278315</td>\n",
       "      <td>-0.633658</td>\n",
       "      <td>-1.217077</td>\n",
       "      <td>-3.782194</td>\n",
       "      <td>-0.058316</td>\n",
       "      <td>ACACCADCEB</td>\n",
       "      <td>377.096415</td>\n",
       "      <td>0</td>\n",
       "      <td>0</td>\n",
       "      <td>1</td>\n",
       "    </tr>\n",
       "    <tr>\n",
       "      <th>2</th>\n",
       "      <td>2</td>\n",
       "      <td>1.681726</td>\n",
       "      <td>0.616746</td>\n",
       "      <td>-1.027689</td>\n",
       "      <td>0.810492</td>\n",
       "      <td>-0.609086</td>\n",
       "      <td>0.113965</td>\n",
       "      <td>-0.708660</td>\n",
       "      <td>1</td>\n",
       "      <td>0</td>\n",
       "      <td>...</td>\n",
       "      <td>-1.385775</td>\n",
       "      <td>-0.520558</td>\n",
       "      <td>-0.009121</td>\n",
       "      <td>2.788536</td>\n",
       "      <td>-3.703488</td>\n",
       "      <td>AAAEABCKAD</td>\n",
       "      <td>-195.599702</td>\n",
       "      <td>0</td>\n",
       "      <td>2</td>\n",
       "      <td>1</td>\n",
       "    </tr>\n",
       "    <tr>\n",
       "      <th>3</th>\n",
       "      <td>3</td>\n",
       "      <td>-0.118172</td>\n",
       "      <td>-0.587835</td>\n",
       "      <td>-0.804638</td>\n",
       "      <td>2.086822</td>\n",
       "      <td>0.371005</td>\n",
       "      <td>-0.128831</td>\n",
       "      <td>-0.282575</td>\n",
       "      <td>3</td>\n",
       "      <td>2</td>\n",
       "      <td>...</td>\n",
       "      <td>0.572594</td>\n",
       "      <td>-1.653213</td>\n",
       "      <td>1.686035</td>\n",
       "      <td>-2.533098</td>\n",
       "      <td>-0.608601</td>\n",
       "      <td>BDBBAACBCB</td>\n",
       "      <td>210.826205</td>\n",
       "      <td>0</td>\n",
       "      <td>0</td>\n",
       "      <td>1</td>\n",
       "    </tr>\n",
       "    <tr>\n",
       "      <th>4</th>\n",
       "      <td>4</td>\n",
       "      <td>1.148481</td>\n",
       "      <td>-0.176567</td>\n",
       "      <td>-0.664871</td>\n",
       "      <td>-1.101343</td>\n",
       "      <td>0.467875</td>\n",
       "      <td>0.500117</td>\n",
       "      <td>0.407515</td>\n",
       "      <td>3</td>\n",
       "      <td>3</td>\n",
       "      <td>...</td>\n",
       "      <td>-3.912929</td>\n",
       "      <td>-1.430366</td>\n",
       "      <td>2.127649</td>\n",
       "      <td>-3.306784</td>\n",
       "      <td>4.371371</td>\n",
       "      <td>BDBCBBCHFE</td>\n",
       "      <td>-217.211798</td>\n",
       "      <td>0</td>\n",
       "      <td>1</td>\n",
       "      <td>1</td>\n",
       "    </tr>\n",
       "  </tbody>\n",
       "</table>\n",
       "<p>5 rows × 33 columns</p>\n",
       "</div>"
      ],
      "text/plain": [
       "   id      f_00      f_01      f_02      f_03      f_04      f_05      f_06  \\\n",
       "0   0 -1.373246  0.238887 -0.243376  0.567405 -0.647715  0.839326  0.113133   \n",
       "1   1  1.697021 -1.710322 -2.230332 -0.545661  1.113173 -1.552175  0.447825   \n",
       "2   2  1.681726  0.616746 -1.027689  0.810492 -0.609086  0.113965 -0.708660   \n",
       "3   3 -0.118172 -0.587835 -0.804638  2.086822  0.371005 -0.128831 -0.282575   \n",
       "4   4  1.148481 -0.176567 -0.664871 -1.101343  0.467875  0.500117  0.407515   \n",
       "\n",
       "   f_07  f_08  ...      f_22      f_23      f_24      f_25      f_26  \\\n",
       "0     1     5  ... -2.540739  0.766952 -2.730628 -0.208177  1.363402   \n",
       "1     1     3  ...  2.278315 -0.633658 -1.217077 -3.782194 -0.058316   \n",
       "2     1     0  ... -1.385775 -0.520558 -0.009121  2.788536 -3.703488   \n",
       "3     3     2  ...  0.572594 -1.653213  1.686035 -2.533098 -0.608601   \n",
       "4     3     3  ... -3.912929 -1.430366  2.127649 -3.306784  4.371371   \n",
       "\n",
       "         f_27        f_28  f_29  f_30  target  \n",
       "0  ABABDADBAB   67.609153     0     0       0  \n",
       "1  ACACCADCEB  377.096415     0     0       1  \n",
       "2  AAAEABCKAD -195.599702     0     2       1  \n",
       "3  BDBBAACBCB  210.826205     0     0       1  \n",
       "4  BDBCBBCHFE -217.211798     0     1       1  \n",
       "\n",
       "[5 rows x 33 columns]"
      ]
     },
     "execution_count": 3,
     "metadata": {},
     "output_type": "execute_result"
    }
   ],
   "source": [
    "df = pd.read_csv('/kaggle/input/tabular-playground-series-may-2022/train.csv')\n",
    "df.head()"
   ]
  },
  {
   "cell_type": "code",
   "execution_count": 4,
   "id": "15674ac2",
   "metadata": {
    "collapsed": true,
    "execution": {
     "iopub.execute_input": "2022-05-02T17:57:46.547421Z",
     "iopub.status.busy": "2022-05-02T17:57:46.547122Z",
     "iopub.status.idle": "2022-05-02T17:57:46.658389Z",
     "shell.execute_reply": "2022-05-02T17:57:46.657418Z"
    },
    "jupyter": {
     "outputs_hidden": true
    },
    "papermill": {
     "duration": 0.125004,
     "end_time": "2022-05-02T17:57:46.661298",
     "exception": false,
     "start_time": "2022-05-02T17:57:46.536294",
     "status": "completed"
    },
    "tags": []
   },
   "outputs": [
    {
     "name": "stdout",
     "output_type": "stream",
     "text": [
      "<class 'pandas.core.frame.DataFrame'>\n",
      "RangeIndex: 900000 entries, 0 to 899999\n",
      "Data columns (total 33 columns):\n",
      " #   Column  Non-Null Count   Dtype  \n",
      "---  ------  --------------   -----  \n",
      " 0   id      900000 non-null  int64  \n",
      " 1   f_00    900000 non-null  float64\n",
      " 2   f_01    900000 non-null  float64\n",
      " 3   f_02    900000 non-null  float64\n",
      " 4   f_03    900000 non-null  float64\n",
      " 5   f_04    900000 non-null  float64\n",
      " 6   f_05    900000 non-null  float64\n",
      " 7   f_06    900000 non-null  float64\n",
      " 8   f_07    900000 non-null  int64  \n",
      " 9   f_08    900000 non-null  int64  \n",
      " 10  f_09    900000 non-null  int64  \n",
      " 11  f_10    900000 non-null  int64  \n",
      " 12  f_11    900000 non-null  int64  \n",
      " 13  f_12    900000 non-null  int64  \n",
      " 14  f_13    900000 non-null  int64  \n",
      " 15  f_14    900000 non-null  int64  \n",
      " 16  f_15    900000 non-null  int64  \n",
      " 17  f_16    900000 non-null  int64  \n",
      " 18  f_17    900000 non-null  int64  \n",
      " 19  f_18    900000 non-null  int64  \n",
      " 20  f_19    900000 non-null  float64\n",
      " 21  f_20    900000 non-null  float64\n",
      " 22  f_21    900000 non-null  float64\n",
      " 23  f_22    900000 non-null  float64\n",
      " 24  f_23    900000 non-null  float64\n",
      " 25  f_24    900000 non-null  float64\n",
      " 26  f_25    900000 non-null  float64\n",
      " 27  f_26    900000 non-null  float64\n",
      " 28  f_27    900000 non-null  object \n",
      " 29  f_28    900000 non-null  float64\n",
      " 30  f_29    900000 non-null  int64  \n",
      " 31  f_30    900000 non-null  int64  \n",
      " 32  target  900000 non-null  int64  \n",
      "dtypes: float64(16), int64(16), object(1)\n",
      "memory usage: 226.6+ MB\n"
     ]
    }
   ],
   "source": [
    "df.info()"
   ]
  },
  {
   "cell_type": "code",
   "execution_count": 5,
   "id": "ae756c61",
   "metadata": {
    "collapsed": true,
    "execution": {
     "iopub.execute_input": "2022-05-02T17:57:46.683709Z",
     "iopub.status.busy": "2022-05-02T17:57:46.683446Z",
     "iopub.status.idle": "2022-05-02T17:57:46.774447Z",
     "shell.execute_reply": "2022-05-02T17:57:46.773551Z"
    },
    "jupyter": {
     "outputs_hidden": true
    },
    "papermill": {
     "duration": 0.103913,
     "end_time": "2022-05-02T17:57:46.776370",
     "exception": false,
     "start_time": "2022-05-02T17:57:46.672457",
     "status": "completed"
    },
    "tags": []
   },
   "outputs": [
    {
     "data": {
      "text/plain": [
       "id        0\n",
       "f_16      0\n",
       "f_30      0\n",
       "f_29      0\n",
       "f_28      0\n",
       "f_27      0\n",
       "f_26      0\n",
       "f_25      0\n",
       "f_24      0\n",
       "f_23      0\n",
       "f_22      0\n",
       "f_21      0\n",
       "f_20      0\n",
       "f_19      0\n",
       "f_18      0\n",
       "f_17      0\n",
       "f_15      0\n",
       "f_00      0\n",
       "f_14      0\n",
       "f_13      0\n",
       "f_12      0\n",
       "f_11      0\n",
       "f_10      0\n",
       "f_09      0\n",
       "f_08      0\n",
       "f_07      0\n",
       "f_06      0\n",
       "f_05      0\n",
       "f_04      0\n",
       "f_03      0\n",
       "f_02      0\n",
       "f_01      0\n",
       "target    0\n",
       "dtype: int64"
      ]
     },
     "execution_count": 5,
     "metadata": {},
     "output_type": "execute_result"
    }
   ],
   "source": [
    "df.isnull().sum().sort_values(ascending=False)"
   ]
  },
  {
   "cell_type": "markdown",
   "id": "f252a88f",
   "metadata": {
    "papermill": {
     "duration": 0.009765,
     "end_time": "2022-05-02T17:57:46.796668",
     "exception": false,
     "start_time": "2022-05-02T17:57:46.786903",
     "status": "completed"
    },
    "tags": []
   },
   "source": [
    "## Exploratory analysis on the data"
   ]
  },
  {
   "cell_type": "code",
   "execution_count": 6,
   "id": "4e5a7f7a",
   "metadata": {
    "execution": {
     "iopub.execute_input": "2022-05-02T17:57:46.818884Z",
     "iopub.status.busy": "2022-05-02T17:57:46.818148Z",
     "iopub.status.idle": "2022-05-02T17:57:49.780638Z",
     "shell.execute_reply": "2022-05-02T17:57:49.779823Z"
    },
    "papermill": {
     "duration": 2.975407,
     "end_time": "2022-05-02T17:57:49.782502",
     "exception": false,
     "start_time": "2022-05-02T17:57:46.807095",
     "status": "completed"
    },
    "tags": []
   },
   "outputs": [
    {
     "data": {
      "image/png": "[encoded data removed]",
      "text/plain": [
       "<Figure size 432x288 with 2 Axes>"
      ]
     },
     "metadata": {
      "needs_background": "light"
     },
     "output_type": "display_data"
    }
   ],
   "source": [
    "heatmap = sns.heatmap(df.corr(), cmap=\"YlGnBu\")\n",
    "plt.show()"
   ]
  },
  {
   "cell_type": "markdown",
   "id": "45480a93",
   "metadata": {
    "papermill": {
     "duration": 0.011303,
     "end_time": "2022-05-02T17:57:49.805047",
     "exception": false,
     "start_time": "2022-05-02T17:57:49.793744",
     "status": "completed"
    },
    "tags": []
   },
   "source": [
    "## randomly select few columns and see the performance"
   ]
  },
  {
   "cell_type": "code",
   "execution_count": 7,
   "id": "aafa9821",
   "metadata": {
    "execution": {
     "iopub.execute_input": "2022-05-02T17:57:49.828854Z",
     "iopub.status.busy": "2022-05-02T17:57:49.828307Z",
     "iopub.status.idle": "2022-05-02T17:57:49.838634Z",
     "shell.execute_reply": "2022-05-02T17:57:49.838074Z"
    },
    "papermill": {
     "duration": 0.024725,
     "end_time": "2022-05-02T17:57:49.840748",
     "exception": false,
     "start_time": "2022-05-02T17:57:49.816023",
     "status": "completed"
    },
    "tags": []
   },
   "outputs": [],
   "source": [
    "df_random = df[['id','f_00','f_07','f_30']]\n",
    "label = df['target']"
   ]
  },
  {
   "cell_type": "code",
   "execution_count": 8,
   "id": "fbd88660",
   "metadata": {
    "execution": {
     "iopub.execute_input": "2022-05-02T17:57:49.864605Z",
     "iopub.status.busy": "2022-05-02T17:57:49.864208Z",
     "iopub.status.idle": "2022-05-02T17:57:50.222377Z",
     "shell.execute_reply": "2022-05-02T17:57:50.221537Z"
    },
    "papermill": {
     "duration": 0.372574,
     "end_time": "2022-05-02T17:57:50.224508",
     "exception": false,
     "start_time": "2022-05-02T17:57:49.851934",
     "status": "completed"
    },
    "tags": []
   },
   "outputs": [
    {
     "data": {
      "text/plain": [
       "<AxesSubplot:ylabel='Frequency'>"
      ]
     },
     "execution_count": 8,
     "metadata": {},
     "output_type": "execute_result"
    },
    {
     "data": {
      "image/png": "[encoded data removed]",
      "text/plain": [
       "<Figure size 432x288 with 1 Axes>"
      ]
     },
     "metadata": {
      "needs_background": "light"
     },
     "output_type": "display_data"
    }
   ],
   "source": [
    "df_random.plot(x=\"id\",y=\"f_30\", kind=\"hist\")"
   ]
  },
  {
   "cell_type": "code",
   "execution_count": null,
   "id": "a3c5f58b",
   "metadata": {
    "papermill": {
     "duration": 0.011721,
     "end_time": "2022-05-02T17:57:50.248338",
     "exception": false,
     "start_time": "2022-05-02T17:57:50.236617",
     "status": "completed"
    },
    "tags": []
   },
   "outputs": [],
   "source": []
  }
 ],
 "metadata": {
  "kernelspec": {
   "display_name": "Python 3",
   "language": "python",
   "name": "python3"
  },
  "language_info": {
   "codemirror_mode": {
    "name": "ipython",
    "version": 3
   },
   "file_extension": ".py",
   "mimetype": "text/x-python",
   "name": "python",
   "nbconvert_exporter": "python",
   "pygments_lexer": "ipython3",
   "version": "3.7.12"
  },
  "papermill": {
   "default_parameters": {},
   "duration": 21.754045,
   "end_time": "2022-05-02T17:57:50.982327",
   "environment_variables": {},
   "exception": null,
   "input_path": "__notebook__.ipynb",
   "output_path": "__notebook__.ipynb",
   "parameters": {},
   "start_time": "2022-05-02T17:57:29.228282",
   "version": "2.3.4"
  }
 },
 "nbformat": 4,
 "nbformat_minor": 5
}
