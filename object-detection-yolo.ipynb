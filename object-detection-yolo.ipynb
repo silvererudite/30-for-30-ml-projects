{
 "cells": [
  {
   "cell_type": "markdown",
   "metadata": {},
   "source": [
    "* this notebook is part of the assignment from Course 4 of Deeplearning specialization"
   ]
  },
  {
   "cell_type": "code",
   "execution_count": 1,
   "metadata": {},
   "outputs": [],
   "source": [
    "import argparse\n",
    "import os\n",
    "import matplotlib.pyplot as plt\n",
    "from matplotlib.pyplot import imshow\n",
    "import scipy.io\n",
    "import scipy.misc\n",
    "import numpy as np\n",
    "import pandas as pd\n",
    "import PIL\n",
    "from PIL import ImageFont, ImageDraw, Image\n",
    "import tensorflow as tf\n",
    "from tensorflow.python.framework.ops import EagerTensor\n",
    "\n",
    "from tensorflow.keras.models import load_model\n",
    "from yad2k.models.keras_yolo import yolo_head\n",
    "from yad2k.utils.utils import draw_boxes, get_colors_for_classes, scale_boxes, read_classes, read_anchors, preprocess_image\n",
    "\n",
    "%matplotlib inline"
   ]
  },
  {
   "cell_type": "code",
   "execution_count": 2,
   "metadata": {},
   "outputs": [],
   "source": [
    "def yolo_filter_boxes(boxes, box_confidence, box_class_probs, threshold = 0.6):\n",
    "    \"\"\"Filters YOLO boxes by thresholding on object and class confidence.\n",
    "    \n",
    "    Arguments:\n",
    "        boxes -- tensor of shape (19, 19, 5, 4)\n",
    "        box_confidence -- tensor of shape (19, 19, 5, 1)\n",
    "        box_class_probs -- tensor of shape (19, 19, 5, 80)\n",
    "        threshold -- real value, if [ highest class probability score < threshold],\n",
    "                     then get rid of the corresponding box\n",
    "\n",
    "    Returns:\n",
    "        scores -- tensor of shape (None,), containing the class probability score for selected boxes\n",
    "        boxes -- tensor of shape (None, 4), containing (b_x, b_y, b_h, b_w) coordinates of selected boxes\n",
    "        classes -- tensor of shape (None,), containing the index of the class detected by the selected boxes\n",
    "\n",
    "    Note: \"None\" is here because you don't know the exact number of selected boxes, as it depends on the threshold. \n",
    "    For example, the actual output size of scores would be (10,) if there are 10 boxes.\n",
    "    \"\"\"\n",
    "    \n",
    "    x = 10\n",
    "    y = tf.constant(100)\n",
    "    \n",
    "    b_scores = box_class_probs * box_confidence\n",
    "\n",
    "    b_classes = tf.math.argmax(b_scores, axis=-1)\n",
    "    b_class_scores = tf.math.reduce_max(b_scores, axis=-1)\n",
    "\n",
    "    b_filters = (b_class_scores >= threshold)\n",
    "\n",
    "    scores = tf.boolean_mask(b_class_scores, b_filters)\n",
    "    boxes = tf.boolean_mask(boxes, b_filters)\n",
    "    classes = tf.boolean_mask(b_classes, b_filters)\n",
    "\n",
    "    return scores, boxes, classes"
   ]
  },
  {
   "cell_type": "code",
   "execution_count": 3,
   "metadata": {},
   "outputs": [
    {
     "name": "stdout",
     "output_type": "stream",
     "text": [
      "scores[2] = 9.270486\n",
      "boxes[2] = [ 4.6399336  3.2303846  4.431282  -2.202031 ]\n",
      "classes[2] = 8\n",
      "scores.shape = (1789,)\n",
      "boxes.shape = (1789, 4)\n",
      "classes.shape = (1789,)\n",
      "\u001b[92m All tests passed!\n"
     ]
    }
   ],
   "source": [
    "tf.random.set_seed(10)\n",
    "box_confidence = tf.random.normal([19, 19, 5, 1], mean=1, stddev=4, seed = 1)\n",
    "boxes = tf.random.normal([19, 19, 5, 4], mean=1, stddev=4, seed = 1)\n",
    "box_class_probs = tf.random.normal([19, 19, 5, 80], mean=1, stddev=4, seed = 1)\n",
    "scores, boxes, classes = yolo_filter_boxes(boxes, box_confidence, box_class_probs, threshold = 0.5)\n",
    "print(\"scores[2] = \" + str(scores[2].numpy()))\n",
    "print(\"boxes[2] = \" + str(boxes[2].numpy()))\n",
    "print(\"classes[2] = \" + str(classes[2].numpy()))\n",
    "print(\"scores.shape = \" + str(scores.shape))\n",
    "print(\"boxes.shape = \" + str(boxes.shape))\n",
    "print(\"classes.shape = \" + str(classes.shape))\n",
    "\n",
    "assert type(scores) == EagerTensor, \"Use tensorflow functions\"\n",
    "assert type(boxes) == EagerTensor, \"Use tensorflow functions\"\n",
    "assert type(classes) == EagerTensor, \"Use tensorflow functions\"\n",
    "\n",
    "assert scores.shape == (1789,), \"Wrong shape in scores\"\n",
    "assert boxes.shape == (1789, 4), \"Wrong shape in boxes\"\n",
    "assert classes.shape == (1789,), \"Wrong shape in classes\"\n",
    "\n",
    "assert np.isclose(scores[2].numpy(), 9.270486), \"Values are wrong on scores\"\n",
    "assert np.allclose(boxes[2].numpy(), [4.6399336, 3.2303846, 4.431282, -2.202031]), \"Values are wrong on boxes\"\n",
    "assert classes[2].numpy() == 8, \"Values are wrong on classes\"\n",
    "\n",
    "print(\"\\033[92m All tests passed!\")"
   ]
  },
  {
   "cell_type": "markdown",
   "metadata": {},
   "source": [
    "# Non-Max suppression"
   ]
  },
  {
   "cell_type": "code",
   "execution_count": 6,
   "metadata": {},
   "outputs": [],
   "source": [
    "def iou(box1, box2):\n",
    "    \"\"\"Implement the intersection over union (IoU) between box1 and box2\n",
    "    \n",
    "    Arguments:\n",
    "    box1 -- first box, list object with coordinates (box1_x1, box1_y1, box1_x2, box_1_y2)\n",
    "    box2 -- second box, list object with coordinates (box2_x1, box2_y1, box2_x2, box2_y2)\n",
    "    \"\"\"\n",
    "\n",
    "\n",
    "    (box1_x1, box1_y1, box1_x2, box1_y2) = box1\n",
    "    (box2_x1, box2_y1, box2_x2, box2_y2) = box2\n",
    "\n",
    "    # YOUR CODE STARTS HERE\n",
    "    max_x1 = max(box1_x1, box2_x1)\n",
    "    max_x2 = min(box1_x2, box2_x2)\n",
    "\n",
    "    max_y1 = max(box1_y1, box2_y1)\n",
    "    max_y2 = min(box1_y2, box2_y2)\n",
    "\n",
    "    inter_area = max(max_y2-max_y1, 0) * max(max_x2-max_x1, 0)\n",
    "    box1_area = (box1_x2-box1_x1)*((box1_y2-box1_y1))\n",
    "    box2_area = (box2_x2-box2_x1)*((box2_y2-box2_y1))\n",
    "    union_area = box1_area + box2_area - inter_area\n",
    "\n",
    "    return inter_area/union_area"
   ]
  },
  {
   "cell_type": "code",
   "execution_count": 7,
   "metadata": {},
   "outputs": [
    {
     "name": "stdout",
     "output_type": "stream",
     "text": [
      "iou for intersecting boxes = 0.14285714285714285\n",
      "iou for non-intersecting boxes = 0.0\n",
      "iou for boxes that only touch at vertices = 0.0\n",
      "iou for boxes that only touch at edges = 0.0\n",
      "\u001b[92m All tests passed!\n"
     ]
    }
   ],
   "source": [
    "## Test case 1: boxes intersect\n",
    "box1 = (2, 1, 4, 3)\n",
    "box2 = (1, 2, 3, 4)\n",
    "\n",
    "print(\"iou for intersecting boxes = \" + str(iou(box1, box2)))\n",
    "assert iou(box1, box2) < 1, \"The intersection area must be always smaller or equal than the union area.\"\n",
    "assert np.isclose(iou(box1, box2), 0.14285714), \"Wrong value. Check your implementation. Problem with intersecting boxes\"\n",
    "\n",
    "## Test case 2: boxes do not intersect\n",
    "box1 = (1,2,3,4)\n",
    "box2 = (5,6,7,8)\n",
    "print(\"iou for non-intersecting boxes = \" + str(iou(box1,box2)))\n",
    "assert iou(box1, box2) == 0, \"Intersection must be 0\"\n",
    "\n",
    "## Test case 3: boxes intersect at vertices only\n",
    "box1 = (1,1,2,2)\n",
    "box2 = (2,2,3,3)\n",
    "print(\"iou for boxes that only touch at vertices = \" + str(iou(box1,box2)))\n",
    "assert iou(box1, box2) == 0, \"Intersection at vertices must be 0\"\n",
    "\n",
    "## Test case 4: boxes intersect at edge only\n",
    "box1 = (1,1,3,3)\n",
    "box2 = (2,3,3,4)\n",
    "print(\"iou for boxes that only touch at edges = \" + str(iou(box1,box2)))\n",
    "assert iou(box1, box2) == 0, \"Intersection at edges must be 0\"\n",
    "\n",
    "print(\"\\033[92m All tests passed!\")"
   ]
  },
  {
   "cell_type": "code",
   "execution_count": null,
   "metadata": {},
   "outputs": [],
   "source": [
    "def yolo_non_max_suppression(scores, boxes, classes, max_boxes = 10, iou_threshold = 0.5):\n",
    "    \"\"\"\n",
    "    Applies Non-max suppression (NMS) to set of boxes\n",
    "    \n",
    "    Arguments:\n",
    "    scores -- tensor of shape (None,), output of yolo_filter_boxes()\n",
    "    boxes -- tensor of shape (None, 4), output of yolo_filter_boxes() that have been scaled to the image size (see later)\n",
    "    classes -- tensor of shape (None,), output of yolo_filter_boxes()\n",
    "    max_boxes -- integer, maximum number of predicted boxes you'd like\n",
    "    iou_threshold -- real value, \"intersection over union\" threshold used for NMS filtering\n",
    "    \n",
    "    Returns:\n",
    "    scores -- tensor of shape (, None), predicted score for each box\n",
    "    boxes -- tensor of shape (4, None), predicted box coordinates\n",
    "    classes -- tensor of shape (, None), predicted class for each box\n",
    "    \n",
    "    Note: The \"None\" dimension of the output tensors has obviously to be less than max_boxes. Note also that this\n",
    "    function will transpose the shapes of scores, boxes, classes. This is made for convenience.\n",
    "    \"\"\""
   ]
  }
 ],
 "metadata": {
  "kernelspec": {
   "display_name": "Python 3.9.11 ('env': venv)",
   "language": "python",
   "name": "python3"
  },
  "language_info": {
   "codemirror_mode": {
    "name": "ipython",
    "version": 3
   },
   "file_extension": ".py",
   "mimetype": "text/x-python",
   "name": "python",
   "nbconvert_exporter": "python",
   "pygments_lexer": "ipython3",
   "version": "3.9.11"
  },
  "orig_nbformat": 4,
  "vscode": {
   "interpreter": {
    "hash": "f7c3a54a9154ab0113f48d48b1eef31653434e6001d3e1c35c5f0767e2012325"
   }
  }
 },
 "nbformat": 4,
 "nbformat_minor": 2
}
