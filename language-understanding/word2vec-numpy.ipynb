{
 "cells": [
  {
   "cell_type": "code",
   "execution_count": 1,
   "id": "03d80b79",
   "metadata": {
    "_cell_guid": "b1076dfc-b9ad-4769-8c92-a6c4dae69d19",
    "_uuid": "8f2839f25d086af736a60e9eeb907d3b93b6e0e5",
    "execution": {
     "iopub.execute_input": "2023-01-17T13:19:04.676758Z",
     "iopub.status.busy": "2023-01-17T13:19:04.675395Z",
     "iopub.status.idle": "2023-01-17T13:19:08.557041Z",
     "shell.execute_reply": "2023-01-17T13:19:08.555580Z"
    },
    "papermill": {
     "duration": 3.893843,
     "end_time": "2023-01-17T13:19:08.560777",
     "exception": false,
     "start_time": "2023-01-17T13:19:04.666934",
     "status": "completed"
    },
    "tags": []
   },
   "outputs": [],
   "source": [
    "import numpy as np # linear algebra\n",
    "import pandas as pd # data processing, CSV file I/O (e.g. pd.read_csv)\n",
    "import os\n",
    "from nltk.tokenize import word_tokenize\n",
    "import torch\n",
    "import torch.nn as nn\n",
    "import torch.optim as optim\n",
    "from torch.autograd import Variable\n",
    "import matplotlib.pyplot as plt"
   ]
  },
  {
   "cell_type": "code",
   "execution_count": 2,
   "id": "1c4769de",
   "metadata": {
    "execution": {
     "iopub.execute_input": "2023-01-17T13:19:08.574975Z",
     "iopub.status.busy": "2023-01-17T13:19:08.573606Z",
     "iopub.status.idle": "2023-01-17T13:19:08.580387Z",
     "shell.execute_reply": "2023-01-17T13:19:08.579018Z"
    },
    "papermill": {
     "duration": 0.016569,
     "end_time": "2023-01-17T13:19:08.583101",
     "exception": false,
     "start_time": "2023-01-17T13:19:08.566532",
     "status": "completed"
    },
    "tags": []
   },
   "outputs": [],
   "source": [
    "dtype = torch.FloatTensor"
   ]
  },
  {
   "cell_type": "code",
   "execution_count": 3,
   "id": "4c7c145d",
   "metadata": {
    "execution": {
     "iopub.execute_input": "2023-01-17T13:19:08.596054Z",
     "iopub.status.busy": "2023-01-17T13:19:08.595549Z",
     "iopub.status.idle": "2023-01-17T13:19:08.601539Z",
     "shell.execute_reply": "2023-01-17T13:19:08.600237Z"
    },
    "papermill": {
     "duration": 0.015516,
     "end_time": "2023-01-17T13:19:08.604014",
     "exception": false,
     "start_time": "2023-01-17T13:19:08.588498",
     "status": "completed"
    },
    "tags": []
   },
   "outputs": [],
   "source": [
    "sentences = [ \"i like dog\", \"i like cat\", \"i like animal\", \n",
    "              \"dog cat animal\", \"apple cat dog like\", \"dog fish milk like\",\n",
    "              \"dog cat eyes like\", \"i like apple\", \"apple i hate\",\n",
    "              \"apple i movie\", \"book music like\", \"cat dog hate\", \"cat dog like\"]"
   ]
  },
  {
   "cell_type": "markdown",
   "id": "2029dce7",
   "metadata": {
    "papermill": {
     "duration": 0.004891,
     "end_time": "2023-01-17T13:19:08.614121",
     "exception": false,
     "start_time": "2023-01-17T13:19:08.609230",
     "status": "completed"
    },
    "tags": []
   },
   "source": [
    "# Tokenize text"
   ]
  },
  {
   "cell_type": "code",
   "execution_count": 4,
   "id": "89c24d0e",
   "metadata": {
    "execution": {
     "iopub.execute_input": "2023-01-17T13:19:08.626456Z",
     "iopub.status.busy": "2023-01-17T13:19:08.625864Z",
     "iopub.status.idle": "2023-01-17T13:19:08.631942Z",
     "shell.execute_reply": "2023-01-17T13:19:08.630620Z"
    },
    "papermill": {
     "duration": 0.015282,
     "end_time": "2023-01-17T13:19:08.634647",
     "exception": false,
     "start_time": "2023-01-17T13:19:08.619365",
     "status": "completed"
    },
    "tags": []
   },
   "outputs": [],
   "source": [
    "word_sequence = \" \".join(sentences).split()"
   ]
  },
  {
   "cell_type": "code",
   "execution_count": 5,
   "id": "b9d4467f",
   "metadata": {
    "execution": {
     "iopub.execute_input": "2023-01-17T13:19:08.647697Z",
     "iopub.status.busy": "2023-01-17T13:19:08.646753Z",
     "iopub.status.idle": "2023-01-17T13:19:08.652830Z",
     "shell.execute_reply": "2023-01-17T13:19:08.651897Z"
    },
    "papermill": {
     "duration": 0.015625,
     "end_time": "2023-01-17T13:19:08.655533",
     "exception": false,
     "start_time": "2023-01-17T13:19:08.639908",
     "status": "completed"
    },
    "tags": []
   },
   "outputs": [],
   "source": [
    "word_tokens = list(set(word_sequence))"
   ]
  },
  {
   "cell_type": "markdown",
   "id": "4a4bc075",
   "metadata": {
    "papermill": {
     "duration": 0.004758,
     "end_time": "2023-01-17T13:19:08.665641",
     "exception": false,
     "start_time": "2023-01-17T13:19:08.660883",
     "status": "completed"
    },
    "tags": []
   },
   "source": [
    "# Build word dict"
   ]
  },
  {
   "cell_type": "code",
   "execution_count": 6,
   "id": "a0da140d",
   "metadata": {
    "execution": {
     "iopub.execute_input": "2023-01-17T13:19:08.679444Z",
     "iopub.status.busy": "2023-01-17T13:19:08.678554Z",
     "iopub.status.idle": "2023-01-17T13:19:08.684784Z",
     "shell.execute_reply": "2023-01-17T13:19:08.683316Z"
    },
    "papermill": {
     "duration": 0.016116,
     "end_time": "2023-01-17T13:19:08.687440",
     "exception": false,
     "start_time": "2023-01-17T13:19:08.671324",
     "status": "completed"
    },
    "tags": []
   },
   "outputs": [],
   "source": [
    "word_dict = { word:i for i, word in enumerate(word_tokens)}"
   ]
  },
  {
   "cell_type": "code",
   "execution_count": 7,
   "id": "133eaede",
   "metadata": {
    "execution": {
     "iopub.execute_input": "2023-01-17T13:19:08.700164Z",
     "iopub.status.busy": "2023-01-17T13:19:08.699643Z",
     "iopub.status.idle": "2023-01-17T13:19:08.705246Z",
     "shell.execute_reply": "2023-01-17T13:19:08.703921Z"
    },
    "papermill": {
     "duration": 0.015414,
     "end_time": "2023-01-17T13:19:08.708157",
     "exception": false,
     "start_time": "2023-01-17T13:19:08.692743",
     "status": "completed"
    },
    "tags": []
   },
   "outputs": [],
   "source": [
    "batch_size = 20  # To show 2 dim embedding graph\n",
    "embedding_size = 2  # To show 2 dim embedding graph\n",
    "voc_size = len(word_tokens)"
   ]
  },
  {
   "cell_type": "code",
   "execution_count": 8,
   "id": "2e845496",
   "metadata": {
    "execution": {
     "iopub.execute_input": "2023-01-17T13:19:08.721194Z",
     "iopub.status.busy": "2023-01-17T13:19:08.720064Z",
     "iopub.status.idle": "2023-01-17T13:19:08.728762Z",
     "shell.execute_reply": "2023-01-17T13:19:08.727360Z"
    },
    "papermill": {
     "duration": 0.019849,
     "end_time": "2023-01-17T13:19:08.733245",
     "exception": false,
     "start_time": "2023-01-17T13:19:08.713396",
     "status": "completed"
    },
    "tags": []
   },
   "outputs": [
    {
     "name": "stdout",
     "output_type": "stream",
     "text": [
      "Input word : \n",
      "like 11\n",
      "Context words : \n",
      "i dog\n",
      "[12, 10]\n"
     ]
    }
   ],
   "source": [
    "# input word\n",
    "j = 1\n",
    "print(\"Input word : \")\n",
    "print(word_sequence[j], word_dict[word_sequence[j]])\n",
    "\n",
    "# context words\n",
    "print(\"Context words : \")\n",
    "print(word_sequence[j - 1], word_sequence[j + 1])\n",
    "print([word_dict[word_sequence[j - 1]], word_dict[word_sequence[j + 1]]])"
   ]
  },
  {
   "cell_type": "code",
   "execution_count": 9,
   "id": "4a9cd840",
   "metadata": {
    "execution": {
     "iopub.execute_input": "2023-01-17T13:19:08.747982Z",
     "iopub.status.busy": "2023-01-17T13:19:08.747458Z",
     "iopub.status.idle": "2023-01-17T13:19:08.953505Z",
     "shell.execute_reply": "2023-01-17T13:19:08.952101Z"
    },
    "papermill": {
     "duration": 0.216136,
     "end_time": "2023-01-17T13:19:08.956558",
     "exception": false,
     "start_time": "2023-01-17T13:19:08.740422",
     "status": "completed"
    },
    "tags": []
   },
   "outputs": [
    {
     "data": {
      "text/plain": [
       "[[11, 12], [11, 10], [10, 11], [10, 12], [12, 10], [12, 11]]"
      ]
     },
     "execution_count": 9,
     "metadata": {},
     "output_type": "execute_result"
    }
   ],
   "source": [
    "# Make skip gram of one size window\n",
    "skip_grams = []\n",
    "for i in range(1, len(word_sequence) - 1):\n",
    "    input = word_dict[word_sequence[i]]\n",
    "    context = [word_dict[word_sequence[i - 1]], word_dict[word_sequence[i + 1]]]\n",
    "\n",
    "    for w in context:\n",
    "        skip_grams.append([input, w])\n",
    "\n",
    "\n",
    "#lets plot some data\n",
    "skip_grams[:6]"
   ]
  },
  {
   "cell_type": "code",
   "execution_count": 10,
   "id": "3b866360",
   "metadata": {
    "execution": {
     "iopub.execute_input": "2023-01-17T13:19:08.970008Z",
     "iopub.status.busy": "2023-01-17T13:19:08.969288Z",
     "iopub.status.idle": "2023-01-17T13:19:08.985267Z",
     "shell.execute_reply": "2023-01-17T13:19:08.983887Z"
    },
    "papermill": {
     "duration": 0.02595,
     "end_time": "2023-01-17T13:19:08.988039",
     "exception": false,
     "start_time": "2023-01-17T13:19:08.962089",
     "status": "completed"
    },
    "tags": []
   },
   "outputs": [
    {
     "data": {
      "text/plain": [
       "([array([0., 0., 0., 0., 0., 0., 0., 0., 0., 0., 0., 1., 0.]),\n",
       "  array([0., 0., 0., 0., 0., 0., 0., 0., 0., 0., 0., 0., 1.]),\n",
       "  array([0., 0., 0., 0., 0., 0., 0., 0., 0., 0., 1., 0., 0.])],\n",
       " [12, 10, 12])"
      ]
     },
     "execution_count": 10,
     "metadata": {},
     "output_type": "execute_result"
    }
   ],
   "source": [
    "np.random.seed(172)\n",
    "def random_batch(data, size):\n",
    "    random_inputs = []\n",
    "    random_labels = []\n",
    "    random_index = np.random.choice(range(len(data)), size, replace=False)\n",
    "    for i in random_index:\n",
    "        random_inputs.append(np.eye(voc_size)[data[i][0]])  # input\n",
    "        random_labels.append(data[i][1])  # context word\n",
    "    return random_inputs, random_labels\n",
    "random_batch(skip_grams[:6], size=3)  "
   ]
  },
  {
   "cell_type": "code",
   "execution_count": 11,
   "id": "33781a10",
   "metadata": {
    "execution": {
     "iopub.execute_input": "2023-01-17T13:19:09.001656Z",
     "iopub.status.busy": "2023-01-17T13:19:09.001191Z",
     "iopub.status.idle": "2023-01-17T13:19:09.010269Z",
     "shell.execute_reply": "2023-01-17T13:19:09.008701Z"
    },
    "papermill": {
     "duration": 0.019165,
     "end_time": "2023-01-17T13:19:09.013192",
     "exception": false,
     "start_time": "2023-01-17T13:19:08.994027",
     "status": "completed"
    },
    "tags": []
   },
   "outputs": [],
   "source": [
    "class Word2Vec(nn.Module):\n",
    "    def __init__(self):\n",
    "        super(Word2Vec, self).__init__()\n",
    "        # parameters between -1 and + 1\n",
    "        self.W = nn.Parameter(-2 * torch.rand(voc_size, embedding_size) + 1).type(dtype) # voc_size -> embedding_size Weight\n",
    "        self.V = nn.Parameter(-2 * torch.rand(embedding_size, voc_size) + 1).type(dtype) # embedding_size -> voc_size Weight\n",
    "    def forward(self, X):\n",
    "        hidden_layer = torch.matmul(X, self.W) # hidden_layer : [batch_size, embedding_size]\n",
    "        output_layer = torch.matmul(hidden_layer, self.V) # output_layer : [batch_size, voc_size]\n",
    "        #return output_layer \n",
    "        return output_layer"
   ]
  },
  {
   "cell_type": "code",
   "execution_count": 12,
   "id": "a01aee23",
   "metadata": {
    "execution": {
     "iopub.execute_input": "2023-01-17T13:19:09.028234Z",
     "iopub.status.busy": "2023-01-17T13:19:09.026594Z",
     "iopub.status.idle": "2023-01-17T13:19:09.039391Z",
     "shell.execute_reply": "2023-01-17T13:19:09.038239Z"
    },
    "papermill": {
     "duration": 0.023942,
     "end_time": "2023-01-17T13:19:09.042776",
     "exception": false,
     "start_time": "2023-01-17T13:19:09.018834",
     "status": "completed"
    },
    "tags": []
   },
   "outputs": [],
   "source": [
    "model = Word2Vec()\n",
    "# Set the model in train mode\n",
    "model.train()\n",
    "\n",
    "criterion = nn.CrossEntropyLoss() # Softmax (for multi-class classification problems) is already included\n",
    "optimizer = optim.Adam(model.parameters(), lr=0.001)"
   ]
  },
  {
   "cell_type": "code",
   "execution_count": 13,
   "id": "9a2efcfe",
   "metadata": {
    "execution": {
     "iopub.execute_input": "2023-01-17T13:19:09.056425Z",
     "iopub.status.busy": "2023-01-17T13:19:09.055915Z",
     "iopub.status.idle": "2023-01-17T13:19:12.214334Z",
     "shell.execute_reply": "2023-01-17T13:19:12.212179Z"
    },
    "papermill": {
     "duration": 3.170269,
     "end_time": "2023-01-17T13:19:12.218677",
     "exception": false,
     "start_time": "2023-01-17T13:19:09.048408",
     "status": "completed"
    },
    "tags": []
   },
   "outputs": [
    {
     "name": "stderr",
     "output_type": "stream",
     "text": [
      "/opt/conda/lib/python3.7/site-packages/ipykernel_launcher.py:7: UserWarning: Creating a tensor from a list of numpy.ndarrays is extremely slow. Please consider converting the list to a single numpy.ndarray with numpy.array() before converting to a tensor. (Triggered internally at  ../torch/csrc/utils/tensor_new.cpp:210.)\n",
      "  import sys\n"
     ]
    },
    {
     "name": "stdout",
     "output_type": "stream",
     "text": [
      "Epoch: 1000 cost = 2.238925\n",
      "Epoch: 2000 cost = 1.908845\n",
      "Epoch: 3000 cost = 1.841595\n",
      "Epoch: 4000 cost = 1.946872\n",
      "Epoch: 5000 cost = 1.955889\n"
     ]
    }
   ],
   "source": [
    "# Training\n",
    "for epoch in range(5000):\n",
    "\n",
    "    input_batch, target_batch = random_batch(skip_grams, batch_size)\n",
    "\n",
    "    # new_tensor(data, dtype=None, device=None, requires_grad=False)\n",
    "    input_batch = torch.Tensor(input_batch)\n",
    "    target_batch = torch.LongTensor(target_batch)\n",
    "\n",
    "    optimizer.zero_grad()\n",
    "    output = model(input_batch)\n",
    "\n",
    "    # output : [batch_size, voc_size], target_batch : [batch_size] (LongTensor, not one-hot)\n",
    "    loss = criterion(output, target_batch)\n",
    "    if (epoch + 1)%1000 == 0:\n",
    "        print('Epoch:', '%04d' % (epoch + 1), 'cost =', '{:.6f}'.format(loss))\n",
    "\n",
    "    loss.backward()\n",
    "    optimizer.step()"
   ]
  },
  {
   "cell_type": "code",
   "execution_count": 14,
   "id": "d4af2d87",
   "metadata": {
    "execution": {
     "iopub.execute_input": "2023-01-17T13:19:12.234444Z",
     "iopub.status.busy": "2023-01-17T13:19:12.233928Z",
     "iopub.status.idle": "2023-01-17T13:19:12.244465Z",
     "shell.execute_reply": "2023-01-17T13:19:12.241918Z"
    },
    "papermill": {
     "duration": 0.022704,
     "end_time": "2023-01-17T13:19:12.248904",
     "exception": false,
     "start_time": "2023-01-17T13:19:12.226200",
     "status": "completed"
    },
    "tags": []
   },
   "outputs": [
    {
     "name": "stdout",
     "output_type": "stream",
     "text": [
      "tensor([[-0.7868, -3.1684],\n",
      "        [-2.6984,  0.5906],\n",
      "        [ 0.2001, -1.3972],\n",
      "        [ 1.8704,  1.9498],\n",
      "        [-0.2106, -2.7836],\n",
      "        [ 0.1352, -1.1965],\n",
      "        [ 1.1232, -0.1939],\n",
      "        [ 0.4504,  0.7401],\n",
      "        [-1.6695, -0.0618],\n",
      "        [ 0.8087, -1.8583],\n",
      "        [-0.6793, -1.4004],\n",
      "        [ 1.3361, -1.0274],\n",
      "        [-0.6535, -0.9179]])\n"
     ]
    }
   ],
   "source": [
    "# Learned W\n",
    "W, _= model.parameters()\n",
    "print(W.detach())"
   ]
  },
  {
   "cell_type": "code",
   "execution_count": 15,
   "id": "6bf54f03",
   "metadata": {
    "execution": {
     "iopub.execute_input": "2023-01-17T13:19:12.264342Z",
     "iopub.status.busy": "2023-01-17T13:19:12.263861Z",
     "iopub.status.idle": "2023-01-17T13:19:12.702529Z",
     "shell.execute_reply": "2023-01-17T13:19:12.701130Z"
    },
    "papermill": {
     "duration": 0.450627,
     "end_time": "2023-01-17T13:19:12.706296",
     "exception": false,
     "start_time": "2023-01-17T13:19:12.255669",
     "status": "completed"
    },
    "tags": []
   },
   "outputs": [
    {
     "data": {
      "image/png": "[encoded data removed]",
      "text/plain": [
       "<Figure size 432x288 with 1 Axes>"
      ]
     },
     "metadata": {
      "needs_background": "light"
     },
     "output_type": "display_data"
    }
   ],
   "source": [
    "for i, word in enumerate(word_tokens):\n",
    "    W, _= model.parameters()\n",
    "    W = W.detach()\n",
    "    x,y = float(W[i][0]), float(W[i][1])\n",
    "    plt.scatter(x, y)\n",
    "    plt.annotate(word, xy=(x, y), xytext=(5, 2), textcoords='offset points', ha='right', va='bottom')\n",
    "plt.show()"
   ]
  },
  {
   "cell_type": "code",
   "execution_count": null,
   "id": "c6c67ddd",
   "metadata": {
    "papermill": {
     "duration": 0.006027,
     "end_time": "2023-01-17T13:19:12.719514",
     "exception": false,
     "start_time": "2023-01-17T13:19:12.713487",
     "status": "completed"
    },
    "tags": []
   },
   "outputs": [],
   "source": []
  }
 ],
 "metadata": {
  "kernelspec": {
   "display_name": "Python 3",
   "language": "python",
   "name": "python3"
  },
  "language_info": {
   "codemirror_mode": {
    "name": "ipython",
    "version": 3
   },
   "file_extension": ".py",
   "mimetype": "text/x-python",
   "name": "python",
   "nbconvert_exporter": "python",
   "pygments_lexer": "ipython3",
   "version": "3.7.12"
  },
  "papermill": {
   "default_parameters": {},
   "duration": 20.451278,
   "end_time": "2023-01-17T13:19:14.053359",
   "environment_variables": {},
   "exception": null,
   "input_path": "__notebook__.ipynb",
   "output_path": "__notebook__.ipynb",
   "parameters": {},
   "start_time": "2023-01-17T13:18:53.602081",
   "version": "2.3.4"
  }
 },
 "nbformat": 4,
 "nbformat_minor": 5
}
