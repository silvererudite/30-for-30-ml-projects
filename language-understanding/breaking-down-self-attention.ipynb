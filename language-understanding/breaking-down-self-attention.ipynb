{
 "cells": [
  {
   "cell_type": "code",
   "execution_count": 1,
   "id": "5298c4c9",
   "metadata": {
    "_cell_guid": "b1076dfc-b9ad-4769-8c92-a6c4dae69d19",
    "_uuid": "8f2839f25d086af736a60e9eeb907d3b93b6e0e5",
    "execution": {
     "iopub.execute_input": "2023-02-13T19:25:26.238119Z",
     "iopub.status.busy": "2023-02-13T19:25:26.237631Z",
     "iopub.status.idle": "2023-02-13T19:25:28.028297Z",
     "shell.execute_reply": "2023-02-13T19:25:28.027006Z"
    },
    "papermill": {
     "duration": 1.802391,
     "end_time": "2023-02-13T19:25:28.031778",
     "exception": false,
     "start_time": "2023-02-13T19:25:26.229387",
     "status": "completed"
    },
    "tags": []
   },
   "outputs": [],
   "source": [
    "# This Python 3 environment comes with many helpful analytics libraries installed\n",
    "# It is defined by the kaggle/python Docker image: https://github.com/kaggle/docker-python\n",
    "# For example, here's several helpful packages to load\n",
    "\n",
    "import numpy as np # linear algebra\n",
    "import pandas as pd # data processing, CSV file I/O (e.g. pd.read_csv)\n",
    "\n",
    "# Input data files are available in the read-only \"../input/\" directory\n",
    "# For example, running this (by clicking run or pressing Shift+Enter) will list all files under the input directory\n",
    "\n",
    "import os\n",
    "import torch\n",
    "import torch.nn as nn"
   ]
  },
  {
   "cell_type": "code",
   "execution_count": 2,
   "id": "3bd3b2a6",
   "metadata": {
    "execution": {
     "iopub.execute_input": "2023-02-13T19:25:28.044819Z",
     "iopub.status.busy": "2023-02-13T19:25:28.044250Z",
     "iopub.status.idle": "2023-02-13T19:25:28.049204Z",
     "shell.execute_reply": "2023-02-13T19:25:28.048059Z"
    },
    "papermill": {
     "duration": 0.014201,
     "end_time": "2023-02-13T19:25:28.051611",
     "exception": false,
     "start_time": "2023-02-13T19:25:28.037410",
     "status": "completed"
    },
    "tags": []
   },
   "outputs": [],
   "source": [
    "sentence = \"strength is the only hierarchy\""
   ]
  },
  {
   "cell_type": "code",
   "execution_count": 3,
   "id": "40149be8",
   "metadata": {
    "execution": {
     "iopub.execute_input": "2023-02-13T19:25:28.064010Z",
     "iopub.status.busy": "2023-02-13T19:25:28.063397Z",
     "iopub.status.idle": "2023-02-13T19:25:28.067991Z",
     "shell.execute_reply": "2023-02-13T19:25:28.067221Z"
    },
    "papermill": {
     "duration": 0.013198,
     "end_time": "2023-02-13T19:25:28.070043",
     "exception": false,
     "start_time": "2023-02-13T19:25:28.056845",
     "status": "completed"
    },
    "tags": []
   },
   "outputs": [],
   "source": [
    "tokens = sentence.split(\" \")"
   ]
  },
  {
   "cell_type": "code",
   "execution_count": 4,
   "id": "1856d0fe",
   "metadata": {
    "execution": {
     "iopub.execute_input": "2023-02-13T19:25:28.082445Z",
     "iopub.status.busy": "2023-02-13T19:25:28.081793Z",
     "iopub.status.idle": "2023-02-13T19:25:28.086670Z",
     "shell.execute_reply": "2023-02-13T19:25:28.085950Z"
    },
    "papermill": {
     "duration": 0.013835,
     "end_time": "2023-02-13T19:25:28.089015",
     "exception": false,
     "start_time": "2023-02-13T19:25:28.075180",
     "status": "completed"
    },
    "tags": []
   },
   "outputs": [],
   "source": [
    "word_2int = {word: i for i, word in enumerate(tokens)}"
   ]
  },
  {
   "cell_type": "code",
   "execution_count": 5,
   "id": "bcf18094",
   "metadata": {
    "execution": {
     "iopub.execute_input": "2023-02-13T19:25:28.100881Z",
     "iopub.status.busy": "2023-02-13T19:25:28.100499Z",
     "iopub.status.idle": "2023-02-13T19:25:28.105402Z",
     "shell.execute_reply": "2023-02-13T19:25:28.104372Z"
    },
    "papermill": {
     "duration": 0.013453,
     "end_time": "2023-02-13T19:25:28.107653",
     "exception": false,
     "start_time": "2023-02-13T19:25:28.094200",
     "status": "completed"
    },
    "tags": []
   },
   "outputs": [],
   "source": [
    "sequence = [word_2int[token] for token in tokens]"
   ]
  },
  {
   "cell_type": "code",
   "execution_count": 6,
   "id": "ded6e0ab",
   "metadata": {
    "execution": {
     "iopub.execute_input": "2023-02-13T19:25:28.120158Z",
     "iopub.status.busy": "2023-02-13T19:25:28.119482Z",
     "iopub.status.idle": "2023-02-13T19:25:28.128849Z",
     "shell.execute_reply": "2023-02-13T19:25:28.127710Z"
    },
    "papermill": {
     "duration": 0.018509,
     "end_time": "2023-02-13T19:25:28.131205",
     "exception": false,
     "start_time": "2023-02-13T19:25:28.112696",
     "status": "completed"
    },
    "tags": []
   },
   "outputs": [
    {
     "data": {
      "text/plain": [
       "[0, 1, 2, 3, 4]"
      ]
     },
     "execution_count": 6,
     "metadata": {},
     "output_type": "execute_result"
    }
   ],
   "source": [
    "sequence"
   ]
  },
  {
   "cell_type": "code",
   "execution_count": 7,
   "id": "d5503679",
   "metadata": {
    "execution": {
     "iopub.execute_input": "2023-02-13T19:25:28.143576Z",
     "iopub.status.busy": "2023-02-13T19:25:28.143180Z",
     "iopub.status.idle": "2023-02-13T19:25:28.160539Z",
     "shell.execute_reply": "2023-02-13T19:25:28.159562Z"
    },
    "papermill": {
     "duration": 0.02639,
     "end_time": "2023-02-13T19:25:28.163030",
     "exception": false,
     "start_time": "2023-02-13T19:25:28.136640",
     "status": "completed"
    },
    "tags": []
   },
   "outputs": [],
   "source": [
    "n, d= 5, 5\n",
    "embedding = nn.Embedding(n, d, max_norm=True)\n",
    "idx = torch.tensor(sequence)\n",
    "b = embedding(idx)"
   ]
  },
  {
   "cell_type": "code",
   "execution_count": 8,
   "id": "e9471437",
   "metadata": {
    "execution": {
     "iopub.execute_input": "2023-02-13T19:25:28.175294Z",
     "iopub.status.busy": "2023-02-13T19:25:28.174869Z",
     "iopub.status.idle": "2023-02-13T19:25:28.180029Z",
     "shell.execute_reply": "2023-02-13T19:25:28.178906Z"
    },
    "papermill": {
     "duration": 0.013881,
     "end_time": "2023-02-13T19:25:28.182224",
     "exception": false,
     "start_time": "2023-02-13T19:25:28.168343",
     "status": "completed"
    },
    "tags": []
   },
   "outputs": [],
   "source": [
    "b = b.detach()"
   ]
  },
  {
   "cell_type": "code",
   "execution_count": 9,
   "id": "7e712d23",
   "metadata": {
    "execution": {
     "iopub.execute_input": "2023-02-13T19:25:28.194485Z",
     "iopub.status.busy": "2023-02-13T19:25:28.194085Z",
     "iopub.status.idle": "2023-02-13T19:25:28.199755Z",
     "shell.execute_reply": "2023-02-13T19:25:28.198696Z"
    },
    "papermill": {
     "duration": 0.014516,
     "end_time": "2023-02-13T19:25:28.202072",
     "exception": false,
     "start_time": "2023-02-13T19:25:28.187556",
     "status": "completed"
    },
    "tags": []
   },
   "outputs": [],
   "source": [
    "embeds = b.clone().detach()"
   ]
  },
  {
   "cell_type": "code",
   "execution_count": 10,
   "id": "112b590a",
   "metadata": {
    "execution": {
     "iopub.execute_input": "2023-02-13T19:25:28.214269Z",
     "iopub.status.busy": "2023-02-13T19:25:28.213842Z",
     "iopub.status.idle": "2023-02-13T19:25:28.220665Z",
     "shell.execute_reply": "2023-02-13T19:25:28.219921Z"
    },
    "papermill": {
     "duration": 0.015299,
     "end_time": "2023-02-13T19:25:28.222740",
     "exception": false,
     "start_time": "2023-02-13T19:25:28.207441",
     "status": "completed"
    },
    "tags": []
   },
   "outputs": [
    {
     "data": {
      "text/plain": [
       "tensor([ 0.1196, -0.7460,  0.1474,  0.5925, -0.2376])"
      ]
     },
     "execution_count": 10,
     "metadata": {},
     "output_type": "execute_result"
    }
   ],
   "source": [
    "b[0]"
   ]
  },
  {
   "cell_type": "code",
   "execution_count": 11,
   "id": "266e5e95",
   "metadata": {
    "execution": {
     "iopub.execute_input": "2023-02-13T19:25:28.235616Z",
     "iopub.status.busy": "2023-02-13T19:25:28.235259Z",
     "iopub.status.idle": "2023-02-13T19:25:28.243787Z",
     "shell.execute_reply": "2023-02-13T19:25:28.242347Z"
    },
    "papermill": {
     "duration": 0.017774,
     "end_time": "2023-02-13T19:25:28.246197",
     "exception": false,
     "start_time": "2023-02-13T19:25:28.228423",
     "status": "completed"
    },
    "tags": []
   },
   "outputs": [
    {
     "name": "stderr",
     "output_type": "stream",
     "text": [
      "/opt/conda/lib/python3.7/site-packages/ipykernel_launcher.py:1: UserWarning: The use of `x.T` on tensors of dimension other than 2 to reverse their shape is deprecated and it will throw an error in a future release. Consider `x.mT` to transpose batches of matricesor `x.permute(*torch.arange(x.ndim - 1, -1, -1))` to reverse the dimensions of a tensor. (Triggered internally at  ../aten/src/ATen/native/TensorShape.cpp:2318.)\n",
      "  \"\"\"Entry point for launching an IPython kernel.\n"
     ]
    },
    {
     "data": {
      "text/plain": [
       "-0.0031811018"
      ]
     },
     "execution_count": 11,
     "metadata": {},
     "output_type": "execute_result"
    }
   ],
   "source": [
    "np.dot(b[0].T , embeds[1])"
   ]
  },
  {
   "cell_type": "code",
   "execution_count": 12,
   "id": "2598b609",
   "metadata": {
    "execution": {
     "iopub.execute_input": "2023-02-13T19:25:28.259532Z",
     "iopub.status.busy": "2023-02-13T19:25:28.258714Z",
     "iopub.status.idle": "2023-02-13T19:25:28.266296Z",
     "shell.execute_reply": "2023-02-13T19:25:28.265200Z"
    },
    "papermill": {
     "duration": 0.016662,
     "end_time": "2023-02-13T19:25:28.268454",
     "exception": false,
     "start_time": "2023-02-13T19:25:28.251792",
     "status": "completed"
    },
    "tags": []
   },
   "outputs": [],
   "source": [
    "ai = []\n",
    "for i, x in enumerate(b):\n",
    "    arr = []\n",
    "    for j, y in enumerate(embeds):\n",
    "        arr.append(np.dot(x.T, y))\n",
    "    ai.append(arr)"
   ]
  },
  {
   "cell_type": "code",
   "execution_count": 13,
   "id": "a91d714c",
   "metadata": {
    "execution": {
     "iopub.execute_input": "2023-02-13T19:25:28.281274Z",
     "iopub.status.busy": "2023-02-13T19:25:28.280795Z",
     "iopub.status.idle": "2023-02-13T19:25:28.289325Z",
     "shell.execute_reply": "2023-02-13T19:25:28.287947Z"
    },
    "papermill": {
     "duration": 0.017535,
     "end_time": "2023-02-13T19:25:28.291645",
     "exception": false,
     "start_time": "2023-02-13T19:25:28.274110",
     "status": "completed"
    },
    "tags": []
   },
   "outputs": [
    {
     "data": {
      "text/plain": [
       "[[0.9999999, -0.0031811018, 0.17912538, 0.56732464, -0.5504806],\n",
       " [-0.0031811018, 0.9999999, 0.61803585, 0.40151975, 0.26140693],\n",
       " [0.17912538, 0.61803585, 0.99999994, 0.1182069, 0.61695135],\n",
       " [0.56732464, 0.40151975, 0.1182069, 0.9999998, -0.58394384],\n",
       " [-0.5504806, 0.26140693, 0.61695135, -0.58394384, 0.99999994]]"
      ]
     },
     "execution_count": 13,
     "metadata": {},
     "output_type": "execute_result"
    }
   ],
   "source": [
    "ai"
   ]
  },
  {
   "cell_type": "code",
   "execution_count": 14,
   "id": "ff461406",
   "metadata": {
    "execution": {
     "iopub.execute_input": "2023-02-13T19:25:28.304567Z",
     "iopub.status.busy": "2023-02-13T19:25:28.304159Z",
     "iopub.status.idle": "2023-02-13T19:25:28.308468Z",
     "shell.execute_reply": "2023-02-13T19:25:28.307661Z"
    },
    "papermill": {
     "duration": 0.013262,
     "end_time": "2023-02-13T19:25:28.310596",
     "exception": false,
     "start_time": "2023-02-13T19:25:28.297334",
     "status": "completed"
    },
    "tags": []
   },
   "outputs": [],
   "source": [
    "ai = np.array(ai)"
   ]
  },
  {
   "cell_type": "code",
   "execution_count": 15,
   "id": "19d12dd8",
   "metadata": {
    "execution": {
     "iopub.execute_input": "2023-02-13T19:25:28.324084Z",
     "iopub.status.busy": "2023-02-13T19:25:28.323638Z",
     "iopub.status.idle": "2023-02-13T19:25:28.329333Z",
     "shell.execute_reply": "2023-02-13T19:25:28.328158Z"
    },
    "papermill": {
     "duration": 0.015057,
     "end_time": "2023-02-13T19:25:28.331478",
     "exception": false,
     "start_time": "2023-02-13T19:25:28.316421",
     "status": "completed"
    },
    "tags": []
   },
   "outputs": [],
   "source": [
    "ai = np.exp(ai)/np.exp(ai).sum(axis=1)[:,None]"
   ]
  },
  {
   "cell_type": "code",
   "execution_count": 16,
   "id": "f6dda05e",
   "metadata": {
    "execution": {
     "iopub.execute_input": "2023-02-13T19:25:28.344930Z",
     "iopub.status.busy": "2023-02-13T19:25:28.344535Z",
     "iopub.status.idle": "2023-02-13T19:25:28.351712Z",
     "shell.execute_reply": "2023-02-13T19:25:28.350510Z"
    },
    "papermill": {
     "duration": 0.016481,
     "end_time": "2023-02-13T19:25:28.354007",
     "exception": false,
     "start_time": "2023-02-13T19:25:28.337526",
     "status": "completed"
    },
    "tags": []
   },
   "outputs": [
    {
     "data": {
      "text/plain": [
       "array([[0.3748583 , 0.13746467, 0.16495514, 0.24319722, 0.07952468],\n",
       "       [0.11919118, 0.32502753, 0.22183764, 0.1786502 , 0.1552935 ],\n",
       "       [0.13672899, 0.21206889, 0.31071475, 0.1286483 , 0.21183902],\n",
       "       [0.23025487, 0.1950746 , 0.14694661, 0.35490924, 0.07281474],\n",
       "       [0.08232682, 0.18541276, 0.2645761 , 0.07961749, 0.38806686]],\n",
       "      dtype=float32)"
      ]
     },
     "execution_count": 16,
     "metadata": {},
     "output_type": "execute_result"
    }
   ],
   "source": [
    "ai"
   ]
  },
  {
   "cell_type": "code",
   "execution_count": 17,
   "id": "b5a2f76a",
   "metadata": {
    "execution": {
     "iopub.execute_input": "2023-02-13T19:25:28.367539Z",
     "iopub.status.busy": "2023-02-13T19:25:28.367128Z",
     "iopub.status.idle": "2023-02-13T19:25:28.374612Z",
     "shell.execute_reply": "2023-02-13T19:25:28.373550Z"
    },
    "papermill": {
     "duration": 0.017026,
     "end_time": "2023-02-13T19:25:28.376993",
     "exception": false,
     "start_time": "2023-02-13T19:25:28.359967",
     "status": "completed"
    },
    "tags": []
   },
   "outputs": [
    {
     "data": {
      "text/plain": [
       "1.0"
      ]
     },
     "execution_count": 17,
     "metadata": {},
     "output_type": "execute_result"
    }
   ],
   "source": [
    "np.sum(ai[1])"
   ]
  },
  {
   "cell_type": "code",
   "execution_count": 18,
   "id": "e025d542",
   "metadata": {
    "execution": {
     "iopub.execute_input": "2023-02-13T19:25:28.391513Z",
     "iopub.status.busy": "2023-02-13T19:25:28.390765Z",
     "iopub.status.idle": "2023-02-13T19:25:28.399022Z",
     "shell.execute_reply": "2023-02-13T19:25:28.397746Z"
    },
    "papermill": {
     "duration": 0.018261,
     "end_time": "2023-02-13T19:25:28.401120",
     "exception": false,
     "start_time": "2023-02-13T19:25:28.382859",
     "status": "completed"
    },
    "tags": []
   },
   "outputs": [],
   "source": [
    "A = np.matmul(ai, embeds)"
   ]
  },
  {
   "cell_type": "code",
   "execution_count": 19,
   "id": "be5f624f",
   "metadata": {
    "execution": {
     "iopub.execute_input": "2023-02-13T19:25:28.414606Z",
     "iopub.status.busy": "2023-02-13T19:25:28.414243Z",
     "iopub.status.idle": "2023-02-13T19:25:28.421342Z",
     "shell.execute_reply": "2023-02-13T19:25:28.420132Z"
    },
    "papermill": {
     "duration": 0.01658,
     "end_time": "2023-02-13T19:25:28.423583",
     "exception": false,
     "start_time": "2023-02-13T19:25:28.407003",
     "status": "completed"
    },
    "tags": []
   },
   "outputs": [
    {
     "data": {
      "text/plain": [
       "tensor([[ 0.1029, -0.5849,  0.1425, -0.0263, -0.1859],\n",
       "        [ 0.0716, -0.4334,  0.0548, -0.3886, -0.2697],\n",
       "        [ 0.0051, -0.4284, -0.0788, -0.3810, -0.2749],\n",
       "        [ 0.1323, -0.5606,  0.2225, -0.1432, -0.1487],\n",
       "        [-0.0900, -0.2954, -0.2105, -0.4822, -0.2855]])"
      ]
     },
     "execution_count": 19,
     "metadata": {},
     "output_type": "execute_result"
    }
   ],
   "source": [
    "A"
   ]
  },
  {
   "cell_type": "code",
   "execution_count": null,
   "id": "6345e818",
   "metadata": {
    "papermill": {
     "duration": 0.00559,
     "end_time": "2023-02-13T19:25:28.435073",
     "exception": false,
     "start_time": "2023-02-13T19:25:28.429483",
     "status": "completed"
    },
    "tags": []
   },
   "outputs": [],
   "source": []
  }
 ],
 "metadata": {
  "kernelspec": {
   "display_name": "Python 3",
   "language": "python",
   "name": "python3"
  },
  "language_info": {
   "codemirror_mode": {
    "name": "ipython",
    "version": 3
   },
   "file_extension": ".py",
   "mimetype": "text/x-python",
   "name": "python",
   "nbconvert_exporter": "python",
   "pygments_lexer": "ipython3",
   "version": "3.7.12"
  },
  "papermill": {
   "default_parameters": {},
   "duration": 14.14422,
   "end_time": "2023-02-13T19:25:31.868435",
   "environment_variables": {},
   "exception": null,
   "input_path": "__notebook__.ipynb",
   "output_path": "__notebook__.ipynb",
   "parameters": {},
   "start_time": "2023-02-13T19:25:17.724215",
   "version": "2.3.4"
  }
 },
 "nbformat": 4,
 "nbformat_minor": 5
}
