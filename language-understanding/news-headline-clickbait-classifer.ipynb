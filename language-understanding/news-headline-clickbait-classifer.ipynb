{
 "cells": [
  {
   "cell_type": "code",
   "execution_count": 1,
   "id": "72ce2cd1",
   "metadata": {
    "_cell_guid": "b1076dfc-b9ad-4769-8c92-a6c4dae69d19",
    "_uuid": "8f2839f25d086af736a60e9eeb907d3b93b6e0e5",
    "execution": {
     "iopub.execute_input": "2022-10-21T16:08:44.892825Z",
     "iopub.status.busy": "2022-10-21T16:08:44.892314Z",
     "iopub.status.idle": "2022-10-21T16:08:46.742837Z",
     "shell.execute_reply": "2022-10-21T16:08:46.741389Z"
    },
    "papermill": {
     "duration": 1.863969,
     "end_time": "2022-10-21T16:08:46.745852",
     "exception": false,
     "start_time": "2022-10-21T16:08:44.881883",
     "status": "completed"
    },
    "tags": []
   },
   "outputs": [],
   "source": [
    "import numpy as np \n",
    "import pandas as pd \n",
    "import nltk   \n",
    "import matplotlib.pyplot as plt           \n",
    "import random \n",
    "import os\n",
    "from collections import Counter \n",
    "from sklearn.model_selection import train_test_split\n",
    "from sklearn.linear_model import LogisticRegression"
   ]
  },
  {
   "cell_type": "code",
   "execution_count": 2,
   "id": "1c683509",
   "metadata": {
    "execution": {
     "iopub.execute_input": "2022-10-21T16:08:46.763037Z",
     "iopub.status.busy": "2022-10-21T16:08:46.762596Z",
     "iopub.status.idle": "2022-10-21T16:08:46.767439Z",
     "shell.execute_reply": "2022-10-21T16:08:46.766389Z"
    },
    "papermill": {
     "duration": 0.016642,
     "end_time": "2022-10-21T16:08:46.770059",
     "exception": false,
     "start_time": "2022-10-21T16:08:46.753417",
     "status": "completed"
    },
    "tags": []
   },
   "outputs": [],
   "source": [
    "DATA_DIR = \"../input/clickbait-dataset/\""
   ]
  },
  {
   "cell_type": "code",
   "execution_count": 3,
   "id": "cdd1b635",
   "metadata": {
    "execution": {
     "iopub.execute_input": "2022-10-21T16:08:46.787256Z",
     "iopub.status.busy": "2022-10-21T16:08:46.786519Z",
     "iopub.status.idle": "2022-10-21T16:08:46.893288Z",
     "shell.execute_reply": "2022-10-21T16:08:46.891945Z"
    },
    "papermill": {
     "duration": 0.118426,
     "end_time": "2022-10-21T16:08:46.895912",
     "exception": false,
     "start_time": "2022-10-21T16:08:46.777486",
     "status": "completed"
    },
    "tags": []
   },
   "outputs": [
    {
     "data": {
      "text/html": [
       "<div>\n",
       "<style scoped>\n",
       "    .dataframe tbody tr th:only-of-type {\n",
       "        vertical-align: middle;\n",
       "    }\n",
       "\n",
       "    .dataframe tbody tr th {\n",
       "        vertical-align: top;\n",
       "    }\n",
       "\n",
       "    .dataframe thead th {\n",
       "        text-align: right;\n",
       "    }\n",
       "</style>\n",
       "<table border=\"1\" class=\"dataframe\">\n",
       "  <thead>\n",
       "    <tr style=\"text-align: right;\">\n",
       "      <th></th>\n",
       "      <th>headline</th>\n",
       "      <th>clickbait</th>\n",
       "    </tr>\n",
       "  </thead>\n",
       "  <tbody>\n",
       "    <tr>\n",
       "      <th>0</th>\n",
       "      <td>Should I Get Bings</td>\n",
       "      <td>1</td>\n",
       "    </tr>\n",
       "    <tr>\n",
       "      <th>1</th>\n",
       "      <td>Which TV Female Friend Group Do You Belong In</td>\n",
       "      <td>1</td>\n",
       "    </tr>\n",
       "    <tr>\n",
       "      <th>2</th>\n",
       "      <td>The New \"Star Wars: The Force Awakens\" Trailer...</td>\n",
       "      <td>1</td>\n",
       "    </tr>\n",
       "    <tr>\n",
       "      <th>3</th>\n",
       "      <td>This Vine Of New York On \"Celebrity Big Brothe...</td>\n",
       "      <td>1</td>\n",
       "    </tr>\n",
       "    <tr>\n",
       "      <th>4</th>\n",
       "      <td>A Couple Did A Stunning Photo Shoot With Their...</td>\n",
       "      <td>1</td>\n",
       "    </tr>\n",
       "  </tbody>\n",
       "</table>\n",
       "</div>"
      ],
      "text/plain": [
       "                                            headline  clickbait\n",
       "0                                 Should I Get Bings          1\n",
       "1      Which TV Female Friend Group Do You Belong In          1\n",
       "2  The New \"Star Wars: The Force Awakens\" Trailer...          1\n",
       "3  This Vine Of New York On \"Celebrity Big Brothe...          1\n",
       "4  A Couple Did A Stunning Photo Shoot With Their...          1"
      ]
     },
     "execution_count": 3,
     "metadata": {},
     "output_type": "execute_result"
    }
   ],
   "source": [
    "data_df = pd.read_csv(DATA_DIR + 'clickbait_data.csv')\n",
    "data_df.head()"
   ]
  },
  {
   "cell_type": "code",
   "execution_count": 4,
   "id": "8bfe251b",
   "metadata": {
    "execution": {
     "iopub.execute_input": "2022-10-21T16:08:46.913176Z",
     "iopub.status.busy": "2022-10-21T16:08:46.912752Z",
     "iopub.status.idle": "2022-10-21T16:08:46.930845Z",
     "shell.execute_reply": "2022-10-21T16:08:46.929569Z"
    },
    "papermill": {
     "duration": 0.029443,
     "end_time": "2022-10-21T16:08:46.933256",
     "exception": false,
     "start_time": "2022-10-21T16:08:46.903813",
     "status": "completed"
    },
    "tags": []
   },
   "outputs": [
    {
     "data": {
      "text/plain": [
       "((16001, 2), (15999, 2))"
      ]
     },
     "execution_count": 4,
     "metadata": {},
     "output_type": "execute_result"
    }
   ],
   "source": [
    "data_df.loc[data_df['clickbait']==0].shape, data_df.loc[data_df['clickbait']==1].shape"
   ]
  },
  {
   "cell_type": "code",
   "execution_count": 5,
   "id": "15479342",
   "metadata": {
    "execution": {
     "iopub.execute_input": "2022-10-21T16:08:46.950375Z",
     "iopub.status.busy": "2022-10-21T16:08:46.949950Z",
     "iopub.status.idle": "2022-10-21T16:08:46.956161Z",
     "shell.execute_reply": "2022-10-21T16:08:46.955100Z"
    },
    "papermill": {
     "duration": 0.017496,
     "end_time": "2022-10-21T16:08:46.958409",
     "exception": false,
     "start_time": "2022-10-21T16:08:46.940913",
     "status": "completed"
    },
    "tags": []
   },
   "outputs": [],
   "source": [
    "import re                                  # library for regular expression operations\n",
    "import string                              # for string operations\n",
    "\n",
    "from nltk.corpus import stopwords          # module for stop words that come with NLTK\n",
    "from nltk.stem import PorterStemmer        # module for stemming\n",
    "from nltk.tokenize import TweetTokenizer   # module for tokenizing strings"
   ]
  },
  {
   "cell_type": "markdown",
   "id": "244cfefc",
   "metadata": {
    "papermill": {
     "duration": 0.008879,
     "end_time": "2022-10-21T16:08:46.975040",
     "exception": false,
     "start_time": "2022-10-21T16:08:46.966161",
     "status": "completed"
    },
    "tags": []
   },
   "source": [
    "# Preprocessing"
   ]
  },
  {
   "cell_type": "markdown",
   "id": "559158d1",
   "metadata": {
    "papermill": {
     "duration": 0.00738,
     "end_time": "2022-10-21T16:08:46.989872",
     "exception": false,
     "start_time": "2022-10-21T16:08:46.982492",
     "status": "completed"
    },
    "tags": []
   },
   "source": [
    "## Tokenizing"
   ]
  },
  {
   "cell_type": "code",
   "execution_count": 6,
   "id": "9d5959ce",
   "metadata": {
    "execution": {
     "iopub.execute_input": "2022-10-21T16:08:47.006883Z",
     "iopub.status.busy": "2022-10-21T16:08:47.006434Z",
     "iopub.status.idle": "2022-10-21T16:08:49.576339Z",
     "shell.execute_reply": "2022-10-21T16:08:49.575144Z"
    },
    "papermill": {
     "duration": 2.581528,
     "end_time": "2022-10-21T16:08:49.578835",
     "exception": false,
     "start_time": "2022-10-21T16:08:46.997307",
     "status": "completed"
    },
    "tags": []
   },
   "outputs": [
    {
     "data": {
      "text/html": [
       "<div>\n",
       "<style scoped>\n",
       "    .dataframe tbody tr th:only-of-type {\n",
       "        vertical-align: middle;\n",
       "    }\n",
       "\n",
       "    .dataframe tbody tr th {\n",
       "        vertical-align: top;\n",
       "    }\n",
       "\n",
       "    .dataframe thead th {\n",
       "        text-align: right;\n",
       "    }\n",
       "</style>\n",
       "<table border=\"1\" class=\"dataframe\">\n",
       "  <thead>\n",
       "    <tr style=\"text-align: right;\">\n",
       "      <th></th>\n",
       "      <th>headline</th>\n",
       "      <th>clickbait</th>\n",
       "    </tr>\n",
       "  </thead>\n",
       "  <tbody>\n",
       "    <tr>\n",
       "      <th>0</th>\n",
       "      <td>[should, i, get, bings]</td>\n",
       "      <td>1</td>\n",
       "    </tr>\n",
       "    <tr>\n",
       "      <th>1</th>\n",
       "      <td>[which, tv, female, friend, group, do, you, be...</td>\n",
       "      <td>1</td>\n",
       "    </tr>\n",
       "    <tr>\n",
       "      <th>2</th>\n",
       "      <td>[the, new, \", star, wars, :, the, force, awake...</td>\n",
       "      <td>1</td>\n",
       "    </tr>\n",
       "    <tr>\n",
       "      <th>3</th>\n",
       "      <td>[this, vine, of, new, york, on, \", celebrity, ...</td>\n",
       "      <td>1</td>\n",
       "    </tr>\n",
       "    <tr>\n",
       "      <th>4</th>\n",
       "      <td>[a, couple, did, a, stunning, photo, shoot, wi...</td>\n",
       "      <td>1</td>\n",
       "    </tr>\n",
       "  </tbody>\n",
       "</table>\n",
       "</div>"
      ],
      "text/plain": [
       "                                            headline  clickbait\n",
       "0                            [should, i, get, bings]          1\n",
       "1  [which, tv, female, friend, group, do, you, be...          1\n",
       "2  [the, new, \", star, wars, :, the, force, awake...          1\n",
       "3  [this, vine, of, new, york, on, \", celebrity, ...          1\n",
       "4  [a, couple, did, a, stunning, photo, shoot, wi...          1"
      ]
     },
     "execution_count": 6,
     "metadata": {},
     "output_type": "execute_result"
    }
   ],
   "source": [
    "tokenizer = TweetTokenizer(preserve_case=False, strip_handles=True,\n",
    "                               reduce_len=True)\n",
    "\n",
    "# tokenize headlines\n",
    "data_df['headline'] = data_df['headline'].apply(tokenizer.tokenize)\n",
    "\n",
    "data_df.head()"
   ]
  },
  {
   "cell_type": "markdown",
   "id": "905695a3",
   "metadata": {
    "papermill": {
     "duration": 0.007491,
     "end_time": "2022-10-21T16:08:49.594091",
     "exception": false,
     "start_time": "2022-10-21T16:08:49.586600",
     "status": "completed"
    },
    "tags": []
   },
   "source": [
    "## Removing Punctuation and lower-casing"
   ]
  },
  {
   "cell_type": "code",
   "execution_count": 7,
   "id": "dfd8e6d7",
   "metadata": {
    "execution": {
     "iopub.execute_input": "2022-10-21T16:08:49.611500Z",
     "iopub.status.busy": "2022-10-21T16:08:49.611076Z",
     "iopub.status.idle": "2022-10-21T16:08:49.624441Z",
     "shell.execute_reply": "2022-10-21T16:08:49.622962Z"
    },
    "papermill": {
     "duration": 0.02525,
     "end_time": "2022-10-21T16:08:49.627205",
     "exception": false,
     "start_time": "2022-10-21T16:08:49.601955",
     "status": "completed"
    },
    "tags": []
   },
   "outputs": [],
   "source": [
    "stopwords_english = set(stopwords.words('english'))\n",
    "def clean_words(headline):\n",
    "    return [\n",
    "    word for word in headline\n",
    "    if word.lower() not in stopwords_english\n",
    "]  "
   ]
  },
  {
   "cell_type": "code",
   "execution_count": 8,
   "id": "d7f5bd6d",
   "metadata": {
    "execution": {
     "iopub.execute_input": "2022-10-21T16:08:49.644424Z",
     "iopub.status.busy": "2022-10-21T16:08:49.644019Z",
     "iopub.status.idle": "2022-10-21T16:08:49.888338Z",
     "shell.execute_reply": "2022-10-21T16:08:49.887054Z"
    },
    "papermill": {
     "duration": 0.256145,
     "end_time": "2022-10-21T16:08:49.891165",
     "exception": false,
     "start_time": "2022-10-21T16:08:49.635020",
     "status": "completed"
    },
    "tags": []
   },
   "outputs": [],
   "source": [
    "data_df['headline'] = data_df['headline'].apply(clean_words)"
   ]
  },
  {
   "cell_type": "code",
   "execution_count": 9,
   "id": "ce46ac62",
   "metadata": {
    "execution": {
     "iopub.execute_input": "2022-10-21T16:08:49.909627Z",
     "iopub.status.busy": "2022-10-21T16:08:49.909224Z",
     "iopub.status.idle": "2022-10-21T16:08:49.922101Z",
     "shell.execute_reply": "2022-10-21T16:08:49.920738Z"
    },
    "papermill": {
     "duration": 0.025366,
     "end_time": "2022-10-21T16:08:49.924568",
     "exception": false,
     "start_time": "2022-10-21T16:08:49.899202",
     "status": "completed"
    },
    "tags": []
   },
   "outputs": [
    {
     "data": {
      "text/html": [
       "<div>\n",
       "<style scoped>\n",
       "    .dataframe tbody tr th:only-of-type {\n",
       "        vertical-align: middle;\n",
       "    }\n",
       "\n",
       "    .dataframe tbody tr th {\n",
       "        vertical-align: top;\n",
       "    }\n",
       "\n",
       "    .dataframe thead th {\n",
       "        text-align: right;\n",
       "    }\n",
       "</style>\n",
       "<table border=\"1\" class=\"dataframe\">\n",
       "  <thead>\n",
       "    <tr style=\"text-align: right;\">\n",
       "      <th></th>\n",
       "      <th>headline</th>\n",
       "      <th>clickbait</th>\n",
       "    </tr>\n",
       "  </thead>\n",
       "  <tbody>\n",
       "    <tr>\n",
       "      <th>0</th>\n",
       "      <td>[get, bings]</td>\n",
       "      <td>1</td>\n",
       "    </tr>\n",
       "    <tr>\n",
       "      <th>1</th>\n",
       "      <td>[tv, female, friend, group, belong]</td>\n",
       "      <td>1</td>\n",
       "    </tr>\n",
       "    <tr>\n",
       "      <th>2</th>\n",
       "      <td>[new, \", star, wars, :, force, awakens, \", tra...</td>\n",
       "      <td>1</td>\n",
       "    </tr>\n",
       "    <tr>\n",
       "      <th>3</th>\n",
       "      <td>[vine, new, york, \", celebrity, big, brother, ...</td>\n",
       "      <td>1</td>\n",
       "    </tr>\n",
       "    <tr>\n",
       "      <th>4</th>\n",
       "      <td>[couple, stunning, photo, shoot, baby, learnin...</td>\n",
       "      <td>1</td>\n",
       "    </tr>\n",
       "  </tbody>\n",
       "</table>\n",
       "</div>"
      ],
      "text/plain": [
       "                                            headline  clickbait\n",
       "0                                       [get, bings]          1\n",
       "1                [tv, female, friend, group, belong]          1\n",
       "2  [new, \", star, wars, :, force, awakens, \", tra...          1\n",
       "3  [vine, new, york, \", celebrity, big, brother, ...          1\n",
       "4  [couple, stunning, photo, shoot, baby, learnin...          1"
      ]
     },
     "execution_count": 9,
     "metadata": {},
     "output_type": "execute_result"
    }
   ],
   "source": [
    "data_df.head()"
   ]
  },
  {
   "cell_type": "markdown",
   "id": "ac6781de",
   "metadata": {
    "papermill": {
     "duration": 0.007532,
     "end_time": "2022-10-21T16:08:49.940229",
     "exception": false,
     "start_time": "2022-10-21T16:08:49.932697",
     "status": "completed"
    },
    "tags": []
   },
   "source": [
    "## Stemming"
   ]
  },
  {
   "cell_type": "code",
   "execution_count": 10,
   "id": "1f111cd6",
   "metadata": {
    "execution": {
     "iopub.execute_input": "2022-10-21T16:08:49.957875Z",
     "iopub.status.busy": "2022-10-21T16:08:49.957403Z",
     "iopub.status.idle": "2022-10-21T16:08:49.963390Z",
     "shell.execute_reply": "2022-10-21T16:08:49.962231Z"
    },
    "papermill": {
     "duration": 0.017513,
     "end_time": "2022-10-21T16:08:49.965654",
     "exception": false,
     "start_time": "2022-10-21T16:08:49.948141",
     "status": "completed"
    },
    "tags": []
   },
   "outputs": [],
   "source": [
    "stemmer = PorterStemmer()\n",
    "def words_stems(headline):\n",
    "    return [\n",
    "    stemmer.stem(word) for word in headline\n",
    "]  "
   ]
  },
  {
   "cell_type": "code",
   "execution_count": 11,
   "id": "47b36a80",
   "metadata": {
    "execution": {
     "iopub.execute_input": "2022-10-21T16:08:49.983336Z",
     "iopub.status.busy": "2022-10-21T16:08:49.982790Z",
     "iopub.status.idle": "2022-10-21T16:08:55.505660Z",
     "shell.execute_reply": "2022-10-21T16:08:55.504369Z"
    },
    "papermill": {
     "duration": 5.534901,
     "end_time": "2022-10-21T16:08:55.508556",
     "exception": false,
     "start_time": "2022-10-21T16:08:49.973655",
     "status": "completed"
    },
    "tags": []
   },
   "outputs": [],
   "source": [
    "data_df['headline'] = data_df['headline'].apply(words_stems)"
   ]
  },
  {
   "cell_type": "code",
   "execution_count": 12,
   "id": "0b7ae8d1",
   "metadata": {
    "execution": {
     "iopub.execute_input": "2022-10-21T16:08:55.527386Z",
     "iopub.status.busy": "2022-10-21T16:08:55.526611Z",
     "iopub.status.idle": "2022-10-21T16:08:55.539081Z",
     "shell.execute_reply": "2022-10-21T16:08:55.537868Z"
    },
    "papermill": {
     "duration": 0.024053,
     "end_time": "2022-10-21T16:08:55.541325",
     "exception": false,
     "start_time": "2022-10-21T16:08:55.517272",
     "status": "completed"
    },
    "tags": []
   },
   "outputs": [
    {
     "data": {
      "text/html": [
       "<div>\n",
       "<style scoped>\n",
       "    .dataframe tbody tr th:only-of-type {\n",
       "        vertical-align: middle;\n",
       "    }\n",
       "\n",
       "    .dataframe tbody tr th {\n",
       "        vertical-align: top;\n",
       "    }\n",
       "\n",
       "    .dataframe thead th {\n",
       "        text-align: right;\n",
       "    }\n",
       "</style>\n",
       "<table border=\"1\" class=\"dataframe\">\n",
       "  <thead>\n",
       "    <tr style=\"text-align: right;\">\n",
       "      <th></th>\n",
       "      <th>headline</th>\n",
       "      <th>clickbait</th>\n",
       "    </tr>\n",
       "  </thead>\n",
       "  <tbody>\n",
       "    <tr>\n",
       "      <th>0</th>\n",
       "      <td>[get, bing]</td>\n",
       "      <td>1</td>\n",
       "    </tr>\n",
       "    <tr>\n",
       "      <th>1</th>\n",
       "      <td>[tv, femal, friend, group, belong]</td>\n",
       "      <td>1</td>\n",
       "    </tr>\n",
       "    <tr>\n",
       "      <th>2</th>\n",
       "      <td>[new, \", star, war, :, forc, awaken, \", traile...</td>\n",
       "      <td>1</td>\n",
       "    </tr>\n",
       "    <tr>\n",
       "      <th>3</th>\n",
       "      <td>[vine, new, york, \", celebr, big, brother, \", ...</td>\n",
       "      <td>1</td>\n",
       "    </tr>\n",
       "    <tr>\n",
       "      <th>4</th>\n",
       "      <td>[coupl, stun, photo, shoot, babi, learn, inope...</td>\n",
       "      <td>1</td>\n",
       "    </tr>\n",
       "  </tbody>\n",
       "</table>\n",
       "</div>"
      ],
      "text/plain": [
       "                                            headline  clickbait\n",
       "0                                        [get, bing]          1\n",
       "1                 [tv, femal, friend, group, belong]          1\n",
       "2  [new, \", star, war, :, forc, awaken, \", traile...          1\n",
       "3  [vine, new, york, \", celebr, big, brother, \", ...          1\n",
       "4  [coupl, stun, photo, shoot, babi, learn, inope...          1"
      ]
     },
     "execution_count": 12,
     "metadata": {},
     "output_type": "execute_result"
    }
   ],
   "source": [
    "data_df.head()"
   ]
  },
  {
   "cell_type": "code",
   "execution_count": 13,
   "id": "99ed6814",
   "metadata": {
    "execution": {
     "iopub.execute_input": "2022-10-21T16:08:55.559747Z",
     "iopub.status.busy": "2022-10-21T16:08:55.559045Z",
     "iopub.status.idle": "2022-10-21T16:08:55.566146Z",
     "shell.execute_reply": "2022-10-21T16:08:55.564919Z"
    },
    "papermill": {
     "duration": 0.019159,
     "end_time": "2022-10-21T16:08:55.568572",
     "exception": false,
     "start_time": "2022-10-21T16:08:55.549413",
     "status": "completed"
    },
    "tags": []
   },
   "outputs": [
    {
     "data": {
      "text/plain": [
       "(32000, 2)"
      ]
     },
     "execution_count": 13,
     "metadata": {},
     "output_type": "execute_result"
    }
   ],
   "source": [
    "data_df.shape"
   ]
  },
  {
   "cell_type": "markdown",
   "id": "ab912067",
   "metadata": {
    "papermill": {
     "duration": 0.008381,
     "end_time": "2022-10-21T16:08:55.585146",
     "exception": false,
     "start_time": "2022-10-21T16:08:55.576765",
     "status": "completed"
    },
    "tags": []
   },
   "source": [
    "# Building word-frequency dictionary"
   ]
  },
  {
   "cell_type": "code",
   "execution_count": 14,
   "id": "6b0402d2",
   "metadata": {
    "execution": {
     "iopub.execute_input": "2022-10-21T16:08:55.604089Z",
     "iopub.status.busy": "2022-10-21T16:08:55.603321Z",
     "iopub.status.idle": "2022-10-21T16:08:55.611853Z",
     "shell.execute_reply": "2022-10-21T16:08:55.610748Z"
    },
    "papermill": {
     "duration": 0.0209,
     "end_time": "2022-10-21T16:08:55.614463",
     "exception": false,
     "start_time": "2022-10-21T16:08:55.593563",
     "status": "completed"
    },
    "tags": []
   },
   "outputs": [],
   "source": [
    "bait_words = data_df.loc[data_df['clickbait'] == 1]\n",
    "normal_words = data_df.loc[data_df['clickbait'] == 0]"
   ]
  },
  {
   "cell_type": "code",
   "execution_count": 15,
   "id": "e74a4e50",
   "metadata": {
    "execution": {
     "iopub.execute_input": "2022-10-21T16:08:55.636256Z",
     "iopub.status.busy": "2022-10-21T16:08:55.635260Z",
     "iopub.status.idle": "2022-10-21T16:08:55.702094Z",
     "shell.execute_reply": "2022-10-21T16:08:55.700879Z"
    },
    "papermill": {
     "duration": 0.081042,
     "end_time": "2022-10-21T16:08:55.704862",
     "exception": false,
     "start_time": "2022-10-21T16:08:55.623820",
     "status": "completed"
    },
    "tags": []
   },
   "outputs": [],
   "source": [
    "bait_freq = dict(Counter([val for sublist in bait_words['headline'] for val in sublist]))\n",
    "normal_freq = dict(Counter([val for sublist in normal_words['headline'] for val in sublist]))\n",
    "    "
   ]
  },
  {
   "cell_type": "code",
   "execution_count": 16,
   "id": "d4fc16b3",
   "metadata": {
    "execution": {
     "iopub.execute_input": "2022-10-21T16:08:55.726589Z",
     "iopub.status.busy": "2022-10-21T16:08:55.726181Z",
     "iopub.status.idle": "2022-10-21T16:08:55.733106Z",
     "shell.execute_reply": "2022-10-21T16:08:55.731769Z"
    },
    "papermill": {
     "duration": 0.019467,
     "end_time": "2022-10-21T16:08:55.735448",
     "exception": false,
     "start_time": "2022-10-21T16:08:55.715981",
     "status": "completed"
    },
    "tags": []
   },
   "outputs": [],
   "source": [
    "baits = random.sample(list(bait_freq), 10)\n",
    "normal = random.sample(list(normal_freq), 10)\n"
   ]
  },
  {
   "cell_type": "code",
   "execution_count": 17,
   "id": "c36cad11",
   "metadata": {
    "execution": {
     "iopub.execute_input": "2022-10-21T16:08:55.754505Z",
     "iopub.status.busy": "2022-10-21T16:08:55.754095Z",
     "iopub.status.idle": "2022-10-21T16:08:56.004456Z",
     "shell.execute_reply": "2022-10-21T16:08:56.003221Z"
    },
    "papermill": {
     "duration": 0.263292,
     "end_time": "2022-10-21T16:08:56.007350",
     "exception": false,
     "start_time": "2022-10-21T16:08:55.744058",
     "status": "completed"
    },
    "tags": []
   },
   "outputs": [
    {
     "data": {
      "image/png": "[encoded data removed]",
      "text/plain": [
       "<Figure size 576x576 with 1 Axes>"
      ]
     },
     "metadata": {
      "needs_background": "light"
     },
     "output_type": "display_data"
    }
   ],
   "source": [
    "fig, ax = plt.subplots(figsize = (8, 8))\n",
    "\n",
    "# convert positive raw counts to logarithmic scale. we add 1 to avoid log(0)\n",
    "x = np.log([bait_freq[k] for k in baits])  \n",
    "\n",
    "# do the same for the negative counts\n",
    "y = np.log([normal_freq[x]+ 1 for x in normal]) \n",
    "\n",
    "data = list(zip(baits, normal))\n",
    "# Plot a dot for each pair of words\n",
    "ax.scatter(x, y)  \n",
    "\n",
    "# assign axis labels\n",
    "plt.xlabel(\"ClickBait words\")\n",
    "plt.ylabel(\"Normal Words\")\n",
    "\n",
    "# Add the word as the label at the same position as you added the points just before\n",
    "for i in range(len(data)):\n",
    "    ax.annotate(data[i][0], (x[i], y[i]), fontsize=12)\n",
    "\n",
    "ax.plot([0, 9], [0, 9], color = 'red') # Plot the red line that divides the 2 areas.\n",
    "plt.show()"
   ]
  },
  {
   "cell_type": "markdown",
   "id": "3ea1b72c",
   "metadata": {
    "papermill": {
     "duration": 0.008647,
     "end_time": "2022-10-21T16:08:56.025211",
     "exception": false,
     "start_time": "2022-10-21T16:08:56.016564",
     "status": "completed"
    },
    "tags": []
   },
   "source": [
    "# Extracting Features"
   ]
  },
  {
   "cell_type": "code",
   "execution_count": 18,
   "id": "593eae3a",
   "metadata": {
    "execution": {
     "iopub.execute_input": "2022-10-21T16:08:56.044947Z",
     "iopub.status.busy": "2022-10-21T16:08:56.044218Z",
     "iopub.status.idle": "2022-10-21T16:08:56.053736Z",
     "shell.execute_reply": "2022-10-21T16:08:56.052567Z"
    },
    "papermill": {
     "duration": 0.022419,
     "end_time": "2022-10-21T16:08:56.056387",
     "exception": false,
     "start_time": "2022-10-21T16:08:56.033968",
     "status": "completed"
    },
    "tags": []
   },
   "outputs": [],
   "source": [
    "data_df['bias'] = 1\n",
    "data_df['bait'] = 0\n",
    "data_df['normal'] = 0"
   ]
  },
  {
   "cell_type": "code",
   "execution_count": 19,
   "id": "f20bb352",
   "metadata": {
    "execution": {
     "iopub.execute_input": "2022-10-21T16:08:56.077255Z",
     "iopub.status.busy": "2022-10-21T16:08:56.076437Z",
     "iopub.status.idle": "2022-10-21T16:08:56.083367Z",
     "shell.execute_reply": "2022-10-21T16:08:56.082006Z"
    },
    "papermill": {
     "duration": 0.020176,
     "end_time": "2022-10-21T16:08:56.086050",
     "exception": false,
     "start_time": "2022-10-21T16:08:56.065874",
     "status": "completed"
    },
    "tags": []
   },
   "outputs": [],
   "source": [
    "def count_bait(headline):\n",
    "    count = 0\n",
    "    for word in headline:\n",
    "        if word in bait_freq:\n",
    "            count += bait_freq[word]\n",
    "    return count\n",
    "def count_normal(headline):\n",
    "    count = 0\n",
    "    for word in headline:\n",
    "        if word in normal_freq:\n",
    "            count += normal_freq[word]\n",
    "    return count"
   ]
  },
  {
   "cell_type": "code",
   "execution_count": 20,
   "id": "c08d177a",
   "metadata": {
    "execution": {
     "iopub.execute_input": "2022-10-21T16:08:56.107155Z",
     "iopub.status.busy": "2022-10-21T16:08:56.106741Z",
     "iopub.status.idle": "2022-10-21T16:08:56.248489Z",
     "shell.execute_reply": "2022-10-21T16:08:56.247158Z"
    },
    "papermill": {
     "duration": 0.155272,
     "end_time": "2022-10-21T16:08:56.251226",
     "exception": false,
     "start_time": "2022-10-21T16:08:56.095954",
     "status": "completed"
    },
    "tags": []
   },
   "outputs": [],
   "source": [
    "data_df['bait'] = data_df['headline'].apply(count_bait)\n",
    "data_df['normal'] = data_df['headline'].apply(count_normal)"
   ]
  },
  {
   "cell_type": "code",
   "execution_count": 21,
   "id": "8bb12e53",
   "metadata": {
    "execution": {
     "iopub.execute_input": "2022-10-21T16:08:56.270636Z",
     "iopub.status.busy": "2022-10-21T16:08:56.270156Z",
     "iopub.status.idle": "2022-10-21T16:08:56.284963Z",
     "shell.execute_reply": "2022-10-21T16:08:56.283771Z"
    },
    "papermill": {
     "duration": 0.027269,
     "end_time": "2022-10-21T16:08:56.287411",
     "exception": false,
     "start_time": "2022-10-21T16:08:56.260142",
     "status": "completed"
    },
    "tags": []
   },
   "outputs": [
    {
     "data": {
      "text/html": [
       "<div>\n",
       "<style scoped>\n",
       "    .dataframe tbody tr th:only-of-type {\n",
       "        vertical-align: middle;\n",
       "    }\n",
       "\n",
       "    .dataframe tbody tr th {\n",
       "        vertical-align: top;\n",
       "    }\n",
       "\n",
       "    .dataframe thead th {\n",
       "        text-align: right;\n",
       "    }\n",
       "</style>\n",
       "<table border=\"1\" class=\"dataframe\">\n",
       "  <thead>\n",
       "    <tr style=\"text-align: right;\">\n",
       "      <th></th>\n",
       "      <th>headline</th>\n",
       "      <th>clickbait</th>\n",
       "      <th>bias</th>\n",
       "      <th>bait</th>\n",
       "      <th>normal</th>\n",
       "    </tr>\n",
       "  </thead>\n",
       "  <tbody>\n",
       "    <tr>\n",
       "      <th>0</th>\n",
       "      <td>[get, bing]</td>\n",
       "      <td>1</td>\n",
       "      <td>1</td>\n",
       "      <td>394</td>\n",
       "      <td>113</td>\n",
       "    </tr>\n",
       "    <tr>\n",
       "      <th>1</th>\n",
       "      <td>[tv, femal, friend, group, belong]</td>\n",
       "      <td>1</td>\n",
       "      <td>1</td>\n",
       "      <td>480</td>\n",
       "      <td>230</td>\n",
       "    </tr>\n",
       "    <tr>\n",
       "      <th>2</th>\n",
       "      <td>[new, \", star, war, :, forc, awaken, \", traile...</td>\n",
       "      <td>1</td>\n",
       "      <td>1</td>\n",
       "      <td>11009</td>\n",
       "      <td>2716</td>\n",
       "    </tr>\n",
       "    <tr>\n",
       "      <th>3</th>\n",
       "      <td>[vine, new, york, \", celebr, big, brother, \", ...</td>\n",
       "      <td>1</td>\n",
       "      <td>1</td>\n",
       "      <td>10651</td>\n",
       "      <td>1864</td>\n",
       "    </tr>\n",
       "    <tr>\n",
       "      <th>4</th>\n",
       "      <td>[coupl, stun, photo, shoot, babi, learn, inope...</td>\n",
       "      <td>1</td>\n",
       "      <td>1</td>\n",
       "      <td>718</td>\n",
       "      <td>185</td>\n",
       "    </tr>\n",
       "  </tbody>\n",
       "</table>\n",
       "</div>"
      ],
      "text/plain": [
       "                                            headline  clickbait  bias   bait  \\\n",
       "0                                        [get, bing]          1     1    394   \n",
       "1                 [tv, femal, friend, group, belong]          1     1    480   \n",
       "2  [new, \", star, war, :, forc, awaken, \", traile...          1     1  11009   \n",
       "3  [vine, new, york, \", celebr, big, brother, \", ...          1     1  10651   \n",
       "4  [coupl, stun, photo, shoot, babi, learn, inope...          1     1    718   \n",
       "\n",
       "   normal  \n",
       "0     113  \n",
       "1     230  \n",
       "2    2716  \n",
       "3    1864  \n",
       "4     185  "
      ]
     },
     "execution_count": 21,
     "metadata": {},
     "output_type": "execute_result"
    }
   ],
   "source": [
    "data_df.head()"
   ]
  },
  {
   "cell_type": "code",
   "execution_count": 22,
   "id": "24b51948",
   "metadata": {
    "execution": {
     "iopub.execute_input": "2022-10-21T16:08:56.308499Z",
     "iopub.status.busy": "2022-10-21T16:08:56.307715Z",
     "iopub.status.idle": "2022-10-21T16:08:56.318853Z",
     "shell.execute_reply": "2022-10-21T16:08:56.317648Z"
    },
    "papermill": {
     "duration": 0.024248,
     "end_time": "2022-10-21T16:08:56.321198",
     "exception": false,
     "start_time": "2022-10-21T16:08:56.296950",
     "status": "completed"
    },
    "tags": []
   },
   "outputs": [],
   "source": [
    "train_df = data_df[['clickbait', 'bias', 'bait', 'normal']]\n",
    "X = train_df.drop(['clickbait'], axis=1)\n",
    "y = train_df['clickbait']"
   ]
  },
  {
   "cell_type": "code",
   "execution_count": 23,
   "id": "d25473c5",
   "metadata": {
    "execution": {
     "iopub.execute_input": "2022-10-21T16:08:56.343739Z",
     "iopub.status.busy": "2022-10-21T16:08:56.343029Z",
     "iopub.status.idle": "2022-10-21T16:08:56.354839Z",
     "shell.execute_reply": "2022-10-21T16:08:56.353657Z"
    },
    "papermill": {
     "duration": 0.02642,
     "end_time": "2022-10-21T16:08:56.357509",
     "exception": false,
     "start_time": "2022-10-21T16:08:56.331089",
     "status": "completed"
    },
    "tags": []
   },
   "outputs": [],
   "source": [
    "X_train, X_test, y_train, y_test = train_test_split(\n",
    "    X, y, test_size=0.1, random_state=42)"
   ]
  },
  {
   "cell_type": "code",
   "execution_count": 24,
   "id": "a20bc7a9",
   "metadata": {
    "execution": {
     "iopub.execute_input": "2022-10-21T16:08:56.377925Z",
     "iopub.status.busy": "2022-10-21T16:08:56.377254Z",
     "iopub.status.idle": "2022-10-21T16:08:56.519101Z",
     "shell.execute_reply": "2022-10-21T16:08:56.517420Z"
    },
    "papermill": {
     "duration": 0.156781,
     "end_time": "2022-10-21T16:08:56.523599",
     "exception": false,
     "start_time": "2022-10-21T16:08:56.366818",
     "status": "completed"
    },
    "tags": []
   },
   "outputs": [],
   "source": [
    "clf = LogisticRegression(random_state=1234).fit(X_train, y_train)"
   ]
  },
  {
   "cell_type": "code",
   "execution_count": 25,
   "id": "9d76cabd",
   "metadata": {
    "execution": {
     "iopub.execute_input": "2022-10-21T16:08:56.571779Z",
     "iopub.status.busy": "2022-10-21T16:08:56.571059Z",
     "iopub.status.idle": "2022-10-21T16:08:56.591230Z",
     "shell.execute_reply": "2022-10-21T16:08:56.589618Z"
    },
    "papermill": {
     "duration": 0.048847,
     "end_time": "2022-10-21T16:08:56.595489",
     "exception": false,
     "start_time": "2022-10-21T16:08:56.546642",
     "status": "completed"
    },
    "tags": []
   },
   "outputs": [
    {
     "data": {
      "text/plain": [
       "0.8596875"
      ]
     },
     "execution_count": 25,
     "metadata": {},
     "output_type": "execute_result"
    }
   ],
   "source": [
    "clf.score(X_test, y_test)"
   ]
  },
  {
   "cell_type": "code",
   "execution_count": null,
   "id": "41e82a85",
   "metadata": {
    "papermill": {
     "duration": 0.022568,
     "end_time": "2022-10-21T16:08:56.640969",
     "exception": false,
     "start_time": "2022-10-21T16:08:56.618401",
     "status": "completed"
    },
    "tags": []
   },
   "outputs": [],
   "source": []
  }
 ],
 "metadata": {
  "kernelspec": {
   "display_name": "Python 3",
   "language": "python",
   "name": "python3"
  },
  "language_info": {
   "codemirror_mode": {
    "name": "ipython",
    "version": 3
   },
   "file_extension": ".py",
   "mimetype": "text/x-python",
   "name": "python",
   "nbconvert_exporter": "python",
   "pygments_lexer": "ipython3",
   "version": "3.7.12"
  },
  "papermill": {
   "default_parameters": {},
   "duration": 24.270573,
   "end_time": "2022-10-21T16:09:00.098367",
   "environment_variables": {},
   "exception": null,
   "input_path": "__notebook__.ipynb",
   "output_path": "__notebook__.ipynb",
   "parameters": {},
   "start_time": "2022-10-21T16:08:35.827794",
   "version": "2.3.4"
  }
 },
 "nbformat": 4,
 "nbformat_minor": 5
}
