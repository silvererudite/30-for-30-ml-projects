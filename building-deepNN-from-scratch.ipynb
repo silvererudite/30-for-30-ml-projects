{
 "cells": [
  {
   "cell_type": "code",
   "execution_count": 1,
   "metadata": {},
   "outputs": [],
   "source": [
    "import numpy as np\n",
    "import h5py\n",
    "import matplotlib.pyplot as plt\n",
    "from testCases_v4a import *\n",
    "from dnn_utils_v2 import sigmoid, sigmoid_backward, relu, relu_backward\n",
    "\n",
    "%matplotlib inline\n",
    "plt.rcParams['figure.figsize'] = (5.0, 4.0) # set default size of plots\n",
    "plt.rcParams['image.interpolation'] = 'nearest'\n",
    "plt.rcParams['image.cmap'] = 'gray'\n",
    "\n",
    "%load_ext autoreload\n",
    "%autoreload 2\n",
    "\n",
    "np.random.seed(1)"
   ]
  },
  {
   "cell_type": "code",
   "execution_count": 2,
   "metadata": {},
   "outputs": [],
   "source": [
    "def initialize_parameters(n_x, n_h, n_y):\n",
    "    \"\"\"\n",
    "    Argument:\n",
    "    n_x -- size of the input layer\n",
    "    n_h -- size of the hidden layer\n",
    "    n_y -- size of the output layer\n",
    "    \n",
    "    Returns:\n",
    "    parameters -- python dictionary containing your parameters:\n",
    "                    W1 -- weight matrix of shape (n_h, n_x)\n",
    "                    b1 -- bias vector of shape (n_h, 1)\n",
    "                    W2 -- weight matrix of shape (n_y, n_h)\n",
    "                    b2 -- bias vector of shape (n_y, 1)\n",
    "    \"\"\"\n",
    "    np.random.seed(1)\n",
    "    W1 = np.random.randn(n_h,n_x) * 0.01\n",
    "    b1 = np.zeros((n_h,1))\n",
    "    W2 = np.random.randn(n_y,n_h) * 0.01\n",
    "    b2 = np.zeros((n_y,1))\n",
    "\n",
    "    assert(W1.shape == (n_h, n_x))\n",
    "    assert(b1.shape == (n_h, 1))\n",
    "    assert(W2.shape == (n_y, n_h))\n",
    "    assert(b2.shape == (n_y, 1))\n",
    "    \n",
    "    parameters = {\"W1\": W1,\n",
    "                  \"b1\": b1,\n",
    "                  \"W2\": W2,\n",
    "                  \"b2\": b2}\n",
    "    \n",
    "    return parameters    \n"
   ]
  },
  {
   "cell_type": "code",
   "execution_count": 3,
   "metadata": {},
   "outputs": [
    {
     "name": "stdout",
     "output_type": "stream",
     "text": [
      "W1 = [[ 0.01624345 -0.00611756 -0.00528172]\n",
      " [-0.01072969  0.00865408 -0.02301539]]\n",
      "b1 = [[0.]\n",
      " [0.]]\n",
      "W2 = [[ 0.01744812 -0.00761207]]\n",
      "b2 = [[0.]]\n"
     ]
    }
   ],
   "source": [
    "parameters = initialize_parameters(3,2,1)\n",
    "print(\"W1 = \" + str(parameters[\"W1\"]))\n",
    "print(\"b1 = \" + str(parameters[\"b1\"]))\n",
    "print(\"W2 = \" + str(parameters[\"W2\"]))\n",
    "print(\"b2 = \" + str(parameters[\"b2\"]))"
   ]
  },
  {
   "cell_type": "code",
   "execution_count": 4,
   "metadata": {},
   "outputs": [],
   "source": [
    "def initialize_parameters_deep(layer_dims):\n",
    "  \"\"\"\n",
    "  Arguments:\n",
    "  layer_dims -- python array (list) containing the dimensions of each layer in our network\n",
    "  \n",
    "  Returns:\n",
    "  parameters -- python dictionary containing your parameters \"W1\", \"b1\", ..., \"WL\", \"bL\":\n",
    "                  Wl -- weight matrix of shape (layer_dims[l], layer_dims[l-1])\n",
    "                  bl -- bias vector of shape (layer_dims[l], 1)\n",
    "  \"\"\"\n",
    "  np.random.seed(3)\n",
    "  parameters = {}\n",
    "  for l in range(1, len(layer_dims)):\n",
    "    parameters[\"W\"+str(l)] = np.random.randn(layer_dims[l],layer_dims[l-1]) * 0.01\n",
    "    parameters[\"b\"+str(l)] = np.zeros((layer_dims[l],1))\n",
    "  assert(parameters['W' + str(l)].shape == (layer_dims[l], layer_dims[l-1]))\n",
    "  assert(parameters['b' + str(l)].shape == (layer_dims[l], 1))\n",
    "\n",
    "  return parameters\n",
    "    "
   ]
  },
  {
   "cell_type": "code",
   "execution_count": 5,
   "metadata": {},
   "outputs": [
    {
     "name": "stdout",
     "output_type": "stream",
     "text": [
      "W1 = [[ 0.01788628  0.0043651   0.00096497 -0.01863493 -0.00277388]\n",
      " [-0.00354759 -0.00082741 -0.00627001 -0.00043818 -0.00477218]\n",
      " [-0.01313865  0.00884622  0.00881318  0.01709573  0.00050034]\n",
      " [-0.00404677 -0.0054536  -0.01546477  0.00982367 -0.01101068]]\n",
      "b1 = [[0.]\n",
      " [0.]\n",
      " [0.]\n",
      " [0.]]\n",
      "W2 = [[-0.01185047 -0.0020565   0.01486148  0.00236716]\n",
      " [-0.01023785 -0.00712993  0.00625245 -0.00160513]\n",
      " [-0.00768836 -0.00230031  0.00745056  0.01976111]]\n",
      "b2 = [[0.]\n",
      " [0.]\n",
      " [0.]]\n"
     ]
    }
   ],
   "source": [
    "parameters = initialize_parameters_deep([5,4,3])\n",
    "print(\"W1 = \" + str(parameters[\"W1\"]))\n",
    "print(\"b1 = \" + str(parameters[\"b1\"]))\n",
    "print(\"W2 = \" + str(parameters[\"W2\"]))\n",
    "print(\"b2 = \" + str(parameters[\"b2\"]))"
   ]
  },
  {
   "cell_type": "code",
   "execution_count": 6,
   "metadata": {},
   "outputs": [],
   "source": [
    "def linear_forward(A, W, b):\n",
    "  \"\"\"\n",
    "  Implement the linear part of a layer's forward propagation.\n",
    "\n",
    "  Arguments:\n",
    "  A -- activations from previous layer (or input data): (size of previous layer, number of examples)\n",
    "  W -- weights matrix: numpy array of shape (size of current layer, size of previous layer)\n",
    "  b -- bias vector, numpy array of shape (size of the current layer, 1)\n",
    "\n",
    "  Returns:\n",
    "  Z -- the input of the activation function, also called pre-activation parameter \n",
    "  cache -- a python tuple containing \"A\", \"W\" and \"b\" ; stored for computing the backward pass efficiently\n",
    "  \"\"\"\n",
    "  Z = np.dot(W,A)+b\n",
    "  assert(Z.shape == (W.shape[0], A.shape[1]))\n",
    "  cache = (A, W, b)\n",
    "  \n",
    "  return Z, cache\n"
   ]
  },
  {
   "cell_type": "code",
   "execution_count": 7,
   "metadata": {},
   "outputs": [
    {
     "name": "stdout",
     "output_type": "stream",
     "text": [
      "Z = [[ 3.26295337 -1.23429987]]\n"
     ]
    }
   ],
   "source": [
    "A, W, b = linear_forward_test_case()\n",
    "\n",
    "Z, linear_cache = linear_forward(A, W, b)\n",
    "print(\"Z = \" + str(Z))"
   ]
  },
  {
   "cell_type": "code",
   "execution_count": 8,
   "metadata": {},
   "outputs": [],
   "source": [
    "def linear_activation_forward(A_prev, W, b, activation):\n",
    "  \"\"\"\n",
    "  Implement the forward propagation for the LINEAR->ACTIVATION layer\n",
    "\n",
    "  Arguments:\n",
    "  A_prev -- activations from previous layer (or input data): (size of previous layer, number of examples)\n",
    "  W -- weights matrix: numpy array of shape (size of current layer, size of previous layer)\n",
    "  b -- bias vector, numpy array of shape (size of the current layer, 1)\n",
    "  activation -- the activation to be used in this layer, stored as a text string: \"sigmoid\" or \"relu\"\n",
    "\n",
    "  Returns:\n",
    "  A -- the output of the activation function, also called the post-activation value \n",
    "  cache -- a python tuple containing \"linear_cache\" and \"activation_cache\";\n",
    "            stored for computing the backward pass efficiently\n",
    "  \"\"\"\n",
    "  \n",
    "  if activation == 'relu':\n",
    "    Z, linear_cache = linear_forward(A_prev, W, b)\n",
    "    A, activation_cache = relu(Z)\n",
    "  elif activation == 'sigmoid':\n",
    "    Z, linear_cache = linear_forward(A_prev, W, b)\n",
    "    A, activation_cache = sigmoid(Z)\n",
    "  assert (A.shape == (W.shape[0], A_prev.shape[1]))\n",
    "  cache = (linear_cache, activation_cache)\n",
    "\n",
    "  return A, cache\n",
    "    "
   ]
  },
  {
   "cell_type": "code",
   "execution_count": 9,
   "metadata": {},
   "outputs": [
    {
     "name": "stdout",
     "output_type": "stream",
     "text": [
      "With sigmoid: A = [[0.96890023 0.11013289]]\n",
      "With ReLU: A = [[3.43896131 0.        ]]\n"
     ]
    }
   ],
   "source": [
    "A_prev, W, b = linear_activation_forward_test_case()\n",
    "\n",
    "A, linear_activation_cache = linear_activation_forward(A_prev, W, b, activation = \"sigmoid\")\n",
    "print(\"With sigmoid: A = \" + str(A))\n",
    "\n",
    "A, linear_activation_cache = linear_activation_forward(A_prev, W, b, activation = \"relu\")\n",
    "print(\"With ReLU: A = \" + str(A))"
   ]
  },
  {
   "cell_type": "code",
   "execution_count": 19,
   "metadata": {},
   "outputs": [],
   "source": [
    "def L_model_forward(X, parameters):\n",
    "  \"\"\"\n",
    "  Implement forward propagation for the [LINEAR->RELU]*(L-1)->LINEAR->SIGMOID computation\n",
    "  \n",
    "  Arguments:\n",
    "  X -- data, numpy array of shape (input size, number of examples)\n",
    "  parameters -- output of initialize_parameters_deep()\n",
    "  \n",
    "  Returns:\n",
    "  AL -- last post-activation value\n",
    "  caches -- list of caches containing:\n",
    "              every cache of linear_activation_forward() (there are L-1 of them, indexed from 0 to L-1)\n",
    "  \"\"\"\n",
    "  caches = []\n",
    "  L = len(parameters)//2\n",
    "  A = X\n",
    "  for l in range(1,L):\n",
    "    A_prev = A\n",
    "    A, cache = linear_activation_forward(A_prev, parameters[\"W\"+str(l)],parameters[\"b\"+str(l)], 'relu')\n",
    "    caches.append(cache)\n",
    "\n",
    "  AL, cache = linear_activation_forward(A, parameters[\"W\"+str(L)],parameters[\"b\"+str(L)], 'sigmoid')\n",
    "  caches.append(cache)\n",
    "  \n",
    "  assert(AL.shape == (1,X.shape[1]))\n",
    "            \n",
    "  return AL, caches\n",
    "    "
   ]
  },
  {
   "cell_type": "code",
   "execution_count": 20,
   "metadata": {},
   "outputs": [
    {
     "name": "stdout",
     "output_type": "stream",
     "text": [
      "AL = [[0.03921668 0.70498921 0.19734387 0.04728177]]\n",
      "Length of caches list = 3\n"
     ]
    }
   ],
   "source": [
    "X, parameters = L_model_forward_test_case_2hidden()\n",
    "AL, caches = L_model_forward(X, parameters)\n",
    "print(\"AL = \" + str(AL))\n",
    "print(\"Length of caches list = \" + str(len(caches)))"
   ]
  },
  {
   "cell_type": "code",
   "execution_count": 23,
   "metadata": {},
   "outputs": [],
   "source": [
    "def compute_cost(AL, Y):\n",
    "  \"\"\"\n",
    "  Implement the cost function defined by equation (7).\n",
    "\n",
    "  Arguments:\n",
    "  AL -- probability vector corresponding to your label predictions, shape (1, number of examples)\n",
    "  Y -- true \"label\" vector (for example: containing 0 if non-cat, 1 if cat), shape (1, number of examples)\n",
    "\n",
    "  Returns:\n",
    "  cost -- cross-entropy cost\n",
    "  \"\"\"\n",
    "  m = Y.shape[1]\n",
    "  cost = np.sum(Y*np.log(AL)+(1-Y)*np.log(1-AL))*-1/m\n",
    "  return cost\n",
    "  cost = np.squeeze(cost)      # To make sure your cost's shape is what we expect (e.g. this turns [[17]] into 17).\n",
    "  assert(cost.shape == ())\n",
    "  \n",
    "  return cost"
   ]
  },
  {
   "cell_type": "code",
   "execution_count": 24,
   "metadata": {},
   "outputs": [
    {
     "name": "stdout",
     "output_type": "stream",
     "text": [
      "cost = 0.2797765635793423\n"
     ]
    }
   ],
   "source": [
    "Y, AL = compute_cost_test_case()\n",
    "\n",
    "print(\"cost = \" + str(compute_cost(AL, Y)))"
   ]
  },
  {
   "cell_type": "code",
   "execution_count": 34,
   "metadata": {},
   "outputs": [],
   "source": [
    "def linear_backward(dZ, cache):\n",
    "  # Here cache is \"linear_cache\" containing (A_prev, W, b) coming from the forward propagation in the current layer\n",
    "  \"\"\"\n",
    "  Implement the linear portion of backward propagation for a single layer (layer l)\n",
    "\n",
    "  Arguments:\n",
    "  dZ -- Gradient of the cost with respect to the linear output (of current layer l)\n",
    "  cache -- tuple of values (A_prev, W, b) coming from the forward propagation in the current layer\n",
    "\n",
    "  Returns:\n",
    "  dA_prev -- Gradient of the cost with respect to the activation (of the previous layer l-1), same shape as A_prev\n",
    "  dW -- Gradient of the cost with respect to W (current layer l), same shape as W\n",
    "  db -- Gradient of the cost with respect to b (current layer l), same shape as b\n",
    "  \"\"\"\n",
    "\n",
    "  A_prev = cache[0]\n",
    "  W = cache[1]\n",
    "  b = cache[2]\n",
    "  m = A_prev.shape[1]\n",
    "  dW = np.dot(dZ, A_prev.T)*1/m\n",
    "  db = np.sum(dZ,axis=1, keepdims=True) * 1/m\n",
    "  dA_prev = np.dot(W.T, dZ)\n",
    "\n",
    "  assert (dA_prev.shape == A_prev.shape)\n",
    "  assert (dW.shape == W.shape)\n",
    "  assert (db.shape == b.shape)\n",
    "  \n",
    "  return dA_prev, dW, db\n"
   ]
  },
  {
   "cell_type": "code",
   "execution_count": 35,
   "metadata": {},
   "outputs": [
    {
     "name": "stdout",
     "output_type": "stream",
     "text": [
      "dA_prev = [[-1.15171336  0.06718465 -0.3204696   2.09812712]\n",
      " [ 0.60345879 -3.72508701  5.81700741 -3.84326836]\n",
      " [-0.4319552  -1.30987417  1.72354705  0.05070578]\n",
      " [-0.38981415  0.60811244 -1.25938424  1.47191593]\n",
      " [-2.52214926  2.67882552 -0.67947465  1.48119548]]\n",
      "dW = [[ 0.07313866 -0.0976715  -0.87585828  0.73763362  0.00785716]\n",
      " [ 0.85508818  0.37530413 -0.59912655  0.71278189 -0.58931808]\n",
      " [ 0.97913304 -0.24376494 -0.08839671  0.55151192 -0.10290907]]\n",
      "db = [[-0.14713786]\n",
      " [-0.11313155]\n",
      " [-0.13209101]]\n"
     ]
    }
   ],
   "source": [
    "dZ, linear_cache = linear_backward_test_case()\n",
    "\n",
    "dA_prev, dW, db = linear_backward(dZ, linear_cache)\n",
    "print (\"dA_prev = \"+ str(dA_prev))\n",
    "print (\"dW = \" + str(dW))\n",
    "print (\"db = \" + str(db))"
   ]
  },
  {
   "cell_type": "code",
   "execution_count": 36,
   "metadata": {},
   "outputs": [],
   "source": [
    "def linear_activation_backward(dA, cache, activation):\n",
    "  \"\"\"\n",
    "  Implement the backward propagation for the LINEAR->ACTIVATION layer.\n",
    "  \n",
    "  Arguments:\n",
    "  dA -- post-activation gradient for current layer l \n",
    "  cache -- tuple of values (linear_cache, activation_cache) we store for computing backward propagation efficiently\n",
    "  activation -- the activation to be used in this layer, stored as a text string: \"sigmoid\" or \"relu\"\n",
    "  \n",
    "  Returns:\n",
    "  dA_prev -- Gradient of the cost with respect to the activation (of the previous layer l-1), same shape as A_prev\n",
    "  dW -- Gradient of the cost with respect to W (current layer l), same shape as W\n",
    "  db -- Gradient of the cost with respect to b (current layer l), same shape as b\n",
    "  \"\"\"\n",
    "  "
   ]
  },
  {
   "cell_type": "code",
   "execution_count": null,
   "metadata": {},
   "outputs": [],
   "source": []
  }
 ],
 "metadata": {
  "kernelspec": {
   "display_name": "Python 3.9.11 ('env': venv)",
   "language": "python",
   "name": "python3"
  },
  "language_info": {
   "codemirror_mode": {
    "name": "ipython",
    "version": 3
   },
   "file_extension": ".py",
   "mimetype": "text/x-python",
   "name": "python",
   "nbconvert_exporter": "python",
   "pygments_lexer": "ipython3",
   "version": "3.9.11"
  },
  "orig_nbformat": 4,
  "vscode": {
   "interpreter": {
    "hash": "f7c3a54a9154ab0113f48d48b1eef31653434e6001d3e1c35c5f0767e2012325"
   }
  }
 },
 "nbformat": 4,
 "nbformat_minor": 2
}
