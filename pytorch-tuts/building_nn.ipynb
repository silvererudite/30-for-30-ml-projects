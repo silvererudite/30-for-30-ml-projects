{
  "nbformat": 4,
  "nbformat_minor": 0,
  "metadata": {
    "colab": {
      "provenance": [],
      "authorship_tag": "ABX9TyMx4RLi1BJ6LWOQx0eYjDGU",
      "include_colab_link": true
    },
    "kernelspec": {
      "name": "python3",
      "display_name": "Python 3"
    },
    "language_info": {
      "name": "python"
    }
  },
  "cells": [
    {
      "cell_type": "markdown",
      "metadata": {
        "id": "view-in-github",
        "colab_type": "text"
      },
      "source": [
        "<a href=\"https://colab.research.google.com/github/silvererudite/30-for-30-ml-projects/blob/main/pytorch-tuts/building_nn.ipynb\" target=\"_parent\"><img src=\"https://colab.research.google.com/assets/colab-badge.svg\" alt=\"Open In Colab\"/></a>"
      ]
    },
    {
      "cell_type": "code",
      "execution_count": 14,
      "metadata": {
        "id": "NEl5ldk5t9uG"
      },
      "outputs": [],
      "source": [
        "import torch\n",
        "import numpy as np\n",
        "import matplotlib.pyplot as plt\n"
      ]
    },
    {
      "cell_type": "markdown",
      "source": [
        "# Regression without NN"
      ],
      "metadata": {
        "id": "vtgfMFAAvW-A"
      }
    },
    {
      "cell_type": "code",
      "source": [
        "X_train = np.arange(10, dtype='float32').reshape((10, 1))\n",
        "y_train =  np.array([1.0, 1.3, 3.1, 2.0, 5.0, 6.3, 6.6,7.4, 8.0,9.0], dtype='float32')\n",
        "plt.plot(X_train, y_train, 'o', markersize=10)\n",
        "plt.xlabel('x')\n",
        "plt.ylabel('y')\n",
        "plt.show()"
      ],
      "metadata": {
        "colab": {
          "base_uri": "https://localhost:8080/",
          "height": 279
        },
        "id": "kcnLrfSKu2FC",
        "outputId": "482cda97-49b6-4875-e0da-d9d59f929a88"
      },
      "execution_count": 15,
      "outputs": [
        {
          "output_type": "display_data",
          "data": {
            "text/plain": [
              "<Figure size 432x288 with 1 Axes>"
            ],
            "image/png": "[encoded data removed]"
          },
          "metadata": {
            "needs_background": "light"
          }
        }
      ]
    },
    {
      "cell_type": "code",
      "source": [
        "from torch.utils.data import TensorDataset, DataLoader\n",
        "\n",
        "X_train_norm = (X_train - np.mean(X_train)) / np.std(X_train)\n",
        "X_train_norm = torch.from_numpy(X_train_norm)\n",
        "y_train = torch.from_numpy(y_train)\n",
        "train_ds = TensorDataset(X_train_norm, y_train)\n",
        "batch_size = 1\n",
        "train_dl = DataLoader(train_ds, batch_size, shuffle=True)"
      ],
      "metadata": {
        "id": "kheT9fOfvwFY"
      },
      "execution_count": 16,
      "outputs": []
    },
    {
      "cell_type": "code",
      "source": [
        "torch.manual_seed(1)\n",
        "weight = torch.randn(1)\n",
        "weight.requires_grad_()\n",
        "bias = torch.zeros(1, requires_grad=True)\n",
        "\n",
        "def model(xb):\n",
        "  return xb @ weight + bias"
      ],
      "metadata": {
        "id": "CeMGMErswwR5"
      },
      "execution_count": 17,
      "outputs": []
    },
    {
      "cell_type": "code",
      "source": [
        "def loss_fn(input, target):\n",
        "  return (input-target).pow(2).mean()"
      ],
      "metadata": {
        "id": "8tYzWL8xxJ2g"
      },
      "execution_count": 18,
      "outputs": []
    },
    {
      "cell_type": "code",
      "source": [
        "learning_rate = 0.001\n",
        "num_epochs = 200\n",
        "log_epochs = 10\n",
        "for epoch in range(num_epochs):\n",
        "  for x_batch, y_batch in train_dl:\n",
        "    pred = model(x_batch)\n",
        "    loss = loss_fn(pred, y_batch)\n",
        "    loss.backward()\n",
        "  with torch.no_grad():\n",
        "    weight -= weight.grad * learning_rate\n",
        "    bias -= bias.grad * learning_rate\n",
        "    weight.grad.zero_()\n",
        "    bias.grad.zero_()\n",
        "  if epoch % log_epochs == 0:\n",
        "    print(f\" epoch {epoch}  Loss {loss.item():.4f}\")"
      ],
      "metadata": {
        "colab": {
          "base_uri": "https://localhost:8080/"
        },
        "id": "dRNIP5_FxxAR",
        "outputId": "fb073abf-d1da-447b-9806-0100e793ff1d"
      },
      "execution_count": 19,
      "outputs": [
        {
          "output_type": "stream",
          "name": "stdout",
          "text": [
            " epoch 0  Loss 46.5720\n",
            " epoch 10  Loss 27.1502\n",
            " epoch 20  Loss 1.6446\n",
            " epoch 30  Loss 14.4571\n",
            " epoch 40  Loss 11.7827\n",
            " epoch 50  Loss 6.4122\n",
            " epoch 60  Loss 0.6339\n",
            " epoch 70  Loss 3.1562\n",
            " epoch 80  Loss 2.0100\n",
            " epoch 90  Loss 0.3107\n",
            " epoch 100  Loss 0.7625\n",
            " epoch 110  Loss 1.0024\n",
            " epoch 120  Loss 0.0232\n",
            " epoch 130  Loss 0.5138\n",
            " epoch 140  Loss 0.0741\n",
            " epoch 150  Loss 1.8712\n",
            " epoch 160  Loss 0.0007\n",
            " epoch 170  Loss 0.0850\n",
            " epoch 180  Loss 0.0634\n",
            " epoch 190  Loss 0.0012\n"
          ]
        }
      ]
    },
    {
      "cell_type": "code",
      "source": [
        "print('Final Parameters:', weight.item(), bias.item())\n"
      ],
      "metadata": {
        "colab": {
          "base_uri": "https://localhost:8080/"
        },
        "id": "67tmEspDy-XS",
        "outputId": "6c2767f4-17e2-4471-ded6-180e8f78bb56"
      },
      "execution_count": 20,
      "outputs": [
        {
          "output_type": "stream",
          "name": "stdout",
          "text": [
            "Final Parameters: 2.670930862426758 4.88258695602417\n"
          ]
        }
      ]
    },
    {
      "cell_type": "code",
      "source": [
        "X_test = np.linspace(0, 9, num=100, dtype='float32').reshape(-1, 1)\n",
        "X_test_norm = (X_test - np.mean(X_train)) / np.std(X_train)\n",
        "X_test_norm = torch.from_numpy(X_test_norm)\n",
        "y_pred = model(X_test_norm).detach().numpy()\n",
        "\n",
        "fig = plt.figure(figsize=(13, 5))\n",
        "ax = fig.add_subplot(1, 2, 1)\n",
        "plt.plot(X_train_norm, y_train, 'o', markersize=10)\n",
        "plt.plot(X_test_norm, y_pred, '--', lw=3)\n",
        "plt.legend(['Training examples', 'Linear reg.'], fontsize=15)\n",
        "ax.set_xlabel('x', size=15)\n",
        "ax.set_ylabel('y', size=15)\n",
        "ax.tick_params(axis='both', which='major', labelsize=15)\n",
        "plt.show()"
      ],
      "metadata": {
        "colab": {
          "base_uri": "https://localhost:8080/",
          "height": 344
        },
        "id": "HwkAhbNAzKil",
        "outputId": "c6ab676d-f770-41f0-f12d-e99db66591a8"
      },
      "execution_count": 21,
      "outputs": [
        {
          "output_type": "display_data",
          "data": {
            "text/plain": [
              "<Figure size 936x360 with 1 Axes>"
            ],
            "image/png": "[encoded data removed]"
          },
          "metadata": {
            "needs_background": "light"
          }
        }
      ]
    },
    {
      "cell_type": "code",
      "source": [
        "import torch.nn as nn\n",
        "loss_fn = nn.MSELoss(reduction='mean')\n",
        "input_size = 1\n",
        "output_size = 1\n",
        "model = nn.Linear(input_size, output_size)\n",
        "optimizer = torch.optim.SGD(model.parameters(), lr=learning_rate)"
      ],
      "metadata": {
        "id": "QUOdIjGR0owB"
      },
      "execution_count": 22,
      "outputs": []
    },
    {
      "cell_type": "code",
      "source": [
        "for epoch in range(num_epochs):\n",
        "  for x_batch, y_batch in train_dl:\n",
        "    pred = model(x_batch)[:, 0]\n",
        "    loss = loss_fn(pred, y_batch)\n",
        "    loss.backward()\n",
        "    optimizer.step()\n",
        "    optimizer.zero_grad()\n",
        "  if epoch % log_epochs==0:\n",
        "    print(f'Epoch {epoch} Loss{loss.item():.4f}')"
      ],
      "metadata": {
        "colab": {
          "base_uri": "https://localhost:8080/"
        },
        "id": "26uwt5RO3YFa",
        "outputId": "c2dad8e4-8811-462e-8ed9-61d558a93f9e"
      },
      "execution_count": 23,
      "outputs": [
        {
          "output_type": "stream",
          "name": "stdout",
          "text": [
            "Epoch 0 Loss24.6684\n",
            "Epoch 10 Loss29.1377\n",
            "Epoch 20 Loss20.9207\n",
            "Epoch 30 Loss0.1257\n",
            "Epoch 40 Loss12.4922\n",
            "Epoch 50 Loss1.7845\n",
            "Epoch 60 Loss7.6425\n",
            "Epoch 70 Loss2.5606\n",
            "Epoch 80 Loss0.0157\n",
            "Epoch 90 Loss0.7548\n",
            "Epoch 100 Loss0.8412\n",
            "Epoch 110 Loss0.4923\n",
            "Epoch 120 Loss0.0823\n",
            "Epoch 130 Loss0.0794\n",
            "Epoch 140 Loss0.0891\n",
            "Epoch 150 Loss0.0973\n",
            "Epoch 160 Loss0.1043\n",
            "Epoch 170 Loss0.1103\n",
            "Epoch 180 Loss0.0009\n",
            "Epoch 190 Loss0.0764\n"
          ]
        }
      ]
    },
    {
      "cell_type": "code",
      "source": [
        "print('Final parameters:' , model.weight.item(), model.bias.item())"
      ],
      "metadata": {
        "colab": {
          "base_uri": "https://localhost:8080/"
        },
        "id": "p-3r_SGM4OUi",
        "outputId": "2f5b1fbf-eb42-416d-c261-14e90a350817"
      },
      "execution_count": 24,
      "outputs": [
        {
          "output_type": "stream",
          "name": "stdout",
          "text": [
            "Final parameters: 2.6496422290802 4.87706995010376\n"
          ]
        }
      ]
    },
    {
      "cell_type": "markdown",
      "source": [
        "# Building and MLP "
      ],
      "metadata": {
        "id": "KVNNaGN6SQPz"
      }
    },
    {
      "cell_type": "code",
      "source": [
        "from sklearn.datasets import load_iris\n",
        "from sklearn.model_selection import train_test_split\n",
        "\n",
        "iris = load_iris()\n",
        "X = iris['data']\n",
        "y = iris['target']\n",
        "\n",
        "X_train, X_test, y_train, y_test = train_test_split(X, y, test_size=1./3, random_state=1)"
      ],
      "metadata": {
        "id": "4EYr0yqS4YXB"
      },
      "execution_count": 25,
      "outputs": []
    },
    {
      "cell_type": "code",
      "source": [
        "X_train_norm = (X_train - np.mean(X_train)) / np.std(X_train)\n",
        "X_train_norm = torch.from_numpy(X_train_norm).float()\n",
        "y_train = torch.from_numpy(y_train)\n",
        "train_ds = TensorDataset(X_train_norm, y_train)\n",
        "torch.manual_seed(1)\n",
        "batch_size = 2\n",
        "train_dl = DataLoader(train_ds, batch_size, shuffle=True)                                                   "
      ],
      "metadata": {
        "id": "IwCO3xurSaKr"
      },
      "execution_count": 26,
      "outputs": []
    },
    {
      "cell_type": "markdown",
      "source": [
        "Dimensionality of a Tensor - rank and shape"
      ],
      "metadata": {
        "id": "3qUVDolvTdmw"
      }
    },
    {
      "cell_type": "code",
      "source": [
        "class Model(nn.Module):\n",
        "  def __init__(self, input_size, hidden_size, output_size):\n",
        "    super().__init__()\n",
        "    self.layer1 = nn.Linear(input_size, hidden_size)\n",
        "    self.layer2 = nn.Linear(hidden_size, output_size)\n",
        "  def forward(self, x):\n",
        "    x = self.layer1(x)\n",
        "    x = nn.Sigmoid()(x)\n",
        "    x = self.layer2(x)\n",
        "    x = nn.Softmax(dim=1)(x)\n",
        "    return x"
      ],
      "metadata": {
        "id": "Iyrt5qgbS9Le"
      },
      "execution_count": 28,
      "outputs": []
    },
    {
      "cell_type": "code",
      "source": [
        "input_size = X_train_norm.shape[1]\n",
        "hidden_size = 16\n",
        "output_size = 3\n",
        "\n",
        "model = Model(input_size, hidden_size, output_size)"
      ],
      "metadata": {
        "id": "AQW0GuBNe8l3"
      },
      "execution_count": 29,
      "outputs": []
    },
    {
      "cell_type": "code",
      "source": [
        "learning_rate = 0.001\n",
        "loss_fn = nn.CrossEntropyLoss()\n",
        "optimizer = torch.optim.Adam(model.parameters(), lr=learning_rate)\n",
        "num_epochs = 100\n",
        "loss_hist = [0]*num_epochs\n",
        "accuracy_hist = [0]* num_epochs\n",
        "for epoch in range(num_epochs):\n",
        "  for x_batch, y_batch in train_dl:\n",
        "    pred = model(x_batch)\n",
        "    loss = loss_fn(pred, y_batch)\n",
        "    loss.backward()\n",
        "    optimizer.step()\n",
        "    optimizer.zero_grad()\n",
        "    loss_hist[epoch] += loss.item()*y_batch.size(0)\n",
        "    is_correct = (torch.argmax(pred, dim=1) == y_batch).float()\n",
        "    accuracy_hist[epoch] += is_correct.mean()\n",
        "  loss_hist[epoch] /= len(train_dl.dataset)\n",
        "  accuracy_hist[epoch] /= len(train_dl.dataset)"
      ],
      "metadata": {
        "id": "ROJMLZPPfOY8"
      },
      "execution_count": 30,
      "outputs": []
    },
    {
      "cell_type": "code",
      "source": [
        "fig = plt.figure(figsize=(12, 5))\n",
        "ax = fig.add_subplot(1, 2, 1)\n",
        "ax.plot(loss_hist, lw=3)\n",
        "ax.set_title('Training loss', size=15)\n",
        "ax.set_xlabel('Epoch', size=15)\n",
        "ax.tick_params(axis='both', which='major', labelsize=15)\n",
        "ax = fig.add_subplot(1, 2, 2)\n",
        "ax.plot(accuracy_hist, lw=3)\n",
        "ax.set_title('Training accuracy', size=15)\n",
        "ax.set_xlabel('Epoch', size=15)\n",
        "ax.tick_params(axis='both', which='major', labelsize=15)\n",
        "plt.show()"
      ],
      "metadata": {
        "colab": {
          "base_uri": "https://localhost:8080/",
          "height": 362
        },
        "id": "7-XGzaUAhLdW",
        "outputId": "9476616e-f8fe-47d7-d023-e702a1bfa1f3"
      },
      "execution_count": 31,
      "outputs": [
        {
          "output_type": "display_data",
          "data": {
            "text/plain": [
              "<Figure size 864x360 with 2 Axes>"
            ],
            "image/png": "[encoded data removed]"
          },
          "metadata": {
            "needs_background": "light"
          }
        }
      ]
    },
    {
      "cell_type": "code",
      "source": [
        "X_test_norm = (X_test - np.mean(X_train)) / np.std(X_train)\n",
        "X_test_norm = torch.from_numpy(X_test_norm).float()\n",
        "y_test = torch.from_numpy(y_test) \n",
        "pred_test = model(X_test_norm)\n",
        "correct = (torch.argmax(pred_test, dim=1) == y_test).float()\n",
        "accuracy = correct.mean()\n",
        "print(f'Test Acc.: {accuracy:.4f}')"
      ],
      "metadata": {
        "colab": {
          "base_uri": "https://localhost:8080/"
        },
        "id": "AJGHz8Ahh0FN",
        "outputId": "8d529e15-b800-42f1-fc36-3ddff0f558c5"
      },
      "execution_count": 32,
      "outputs": [
        {
          "output_type": "stream",
          "name": "stdout",
          "text": [
            "Test Acc.: 0.9800\n"
          ]
        }
      ]
    },
    {
      "cell_type": "markdown",
      "source": [
        "## Saving models"
      ],
      "metadata": {
        "id": "hvr7zTJ9iSL3"
      }
    },
    {
      "cell_type": "code",
      "source": [
        "# path = 'iris_classifier.pt'\n",
        "# torch.save(model, path)\n",
        "\n",
        "#model = torch.load(path)"
      ],
      "metadata": {
        "id": "xZweIgvziDE9"
      },
      "execution_count": null,
      "outputs": []
    },
    {
      "cell_type": "code",
      "source": [
        "model.eval()"
      ],
      "metadata": {
        "colab": {
          "base_uri": "https://localhost:8080/"
        },
        "id": "spaE9OhNiYgG",
        "outputId": "3244ac62-841e-4669-a18d-39c856da739d"
      },
      "execution_count": 33,
      "outputs": [
        {
          "output_type": "execute_result",
          "data": {
            "text/plain": [
              "Model(\n",
              "  (layer1): Linear(in_features=4, out_features=16, bias=True)\n",
              "  (layer2): Linear(in_features=16, out_features=3, bias=True)\n",
              ")"
            ]
          },
          "metadata": {},
          "execution_count": 33
        }
      ]
    },
    {
      "cell_type": "markdown",
      "source": [
        "## Saving model parameters only"
      ],
      "metadata": {
        "id": "WNtJMBTkijQ2"
      }
    },
    {
      "cell_type": "code",
      "source": [
        "# path = 'iris_classifier_state.pt'\n",
        "# torch.save(model.state_dict(), path)\n",
        "\n",
        "# model_new = Model(input_size, hidden_size, output_size)\n",
        "# model_new.load_state_dict(torch.load(path))\n"
      ],
      "metadata": {
        "id": "fiELgGYyiZx9"
      },
      "execution_count": null,
      "outputs": []
    }
  ]
}