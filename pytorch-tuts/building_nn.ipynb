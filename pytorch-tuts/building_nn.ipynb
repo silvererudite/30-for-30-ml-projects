{
  "nbformat": 4,
  "nbformat_minor": 0,
  "metadata": {
    "colab": {
      "provenance": [],
      "authorship_tag": "ABX9TyMll6cb11Vlyig2QFW8C4F3",
      "include_colab_link": true
    },
    "kernelspec": {
      "name": "python3",
      "display_name": "Python 3"
    },
    "language_info": {
      "name": "python"
    }
  },
  "cells": [
    {
      "cell_type": "markdown",
      "metadata": {
        "id": "view-in-github",
        "colab_type": "text"
      },
      "source": [
        "<a href=\"https://colab.research.google.com/github/silvererudite/30-for-30-ml-projects/blob/main/pytorch-tuts/building_nn.ipynb\" target=\"_parent\"><img src=\"https://colab.research.google.com/assets/colab-badge.svg\" alt=\"Open In Colab\"/></a>"
      ]
    },
    {
      "cell_type": "code",
      "execution_count": 2,
      "metadata": {
        "id": "NEl5ldk5t9uG"
      },
      "outputs": [],
      "source": [
        "import torch\n",
        "import numpy as np\n",
        "import matplotlib.pyplot as plt\n"
      ]
    },
    {
      "cell_type": "markdown",
      "source": [
        "# Regression without NN"
      ],
      "metadata": {
        "id": "vtgfMFAAvW-A"
      }
    },
    {
      "cell_type": "code",
      "source": [
        "X_train = np.arange(10, dtype='float32').reshape((10, 1))\n",
        "y_train =  np.array([1.0, 1.3, 3.1, 2.0, 5.0, 6.3, 6.6,7.4, 8.0,9.0], dtype='float32')\n",
        "plt.plot(X_train, y_train, 'o', markersize=10)\n",
        "plt.xlabel('x')\n",
        "plt.ylabel('y')\n",
        "plt.show()"
      ],
      "metadata": {
        "colab": {
          "base_uri": "https://localhost:8080/",
          "height": 279
        },
        "id": "kcnLrfSKu2FC",
        "outputId": "e27126fe-7645-40e7-db56-c531c5d9b5dc"
      },
      "execution_count": 3,
      "outputs": [
        {
          "output_type": "display_data",
          "data": {
            "text/plain": [
              "<Figure size 432x288 with 1 Axes>"
            ],
            "image/png": "[encoded data removed]"
          },
          "metadata": {
            "needs_background": "light"
          }
        }
      ]
    },
    {
      "cell_type": "code",
      "source": [
        "from torch.utils.data import TensorDataset, DataLoader\n",
        "\n",
        "X_train_norm = (X_train - np.mean(X_train)) / np.std(X_train)\n",
        "X_train_norm = torch.from_numpy(X_train_norm)\n",
        "y_train = torch.from_numpy(y_train)\n",
        "train_ds = TensorDataset(X_train_norm, y_train)\n",
        "batch_size = 1\n",
        "train_dl = DataLoader(train_ds, batch_size, shuffle=True)"
      ],
      "metadata": {
        "id": "kheT9fOfvwFY"
      },
      "execution_count": 4,
      "outputs": []
    },
    {
      "cell_type": "code",
      "source": [
        "torch.manual_seed(1)\n",
        "weight = torch.randn(1)\n",
        "weight.requires_grad_()\n",
        "bias = torch.zeros(1, requires_grad=True)\n",
        "\n",
        "def model(xb):\n",
        "  return xb @ weight + bias"
      ],
      "metadata": {
        "id": "CeMGMErswwR5"
      },
      "execution_count": 5,
      "outputs": []
    },
    {
      "cell_type": "code",
      "source": [
        "def loss_fn(input, target):\n",
        "  return (input-target).pow(2).mean()"
      ],
      "metadata": {
        "id": "8tYzWL8xxJ2g"
      },
      "execution_count": 6,
      "outputs": []
    },
    {
      "cell_type": "code",
      "source": [
        "learning_rate = 0.001\n",
        "num_epochs = 200\n",
        "log_epochs = 10\n",
        "for epoch in range(num_epochs):\n",
        "  for x_batch, y_batch in train_dl:\n",
        "    pred = model(x_batch)\n",
        "    loss = loss_fn(pred, y_batch)\n",
        "    loss.backward()\n",
        "  with torch.no_grad():\n",
        "    weight -= weight.grad * learning_rate\n",
        "    bias -= bias.grad * learning_rate\n",
        "    weight.grad.zero_()\n",
        "    bias.grad.zero_()\n",
        "  if epoch % log_epochs == 0:\n",
        "    print(f\" epoch {epoch}  Loss {loss.item():.4f}\")"
      ],
      "metadata": {
        "colab": {
          "base_uri": "https://localhost:8080/"
        },
        "id": "dRNIP5_FxxAR",
        "outputId": "14848e07-8fe8-4882-8737-f0b729a1a491"
      },
      "execution_count": 7,
      "outputs": [
        {
          "output_type": "stream",
          "name": "stdout",
          "text": [
            " epoch 0  Loss 46.5720\n",
            " epoch 10  Loss 27.1502\n",
            " epoch 20  Loss 1.6446\n",
            " epoch 30  Loss 14.4571\n",
            " epoch 40  Loss 11.7827\n",
            " epoch 50  Loss 6.4122\n",
            " epoch 60  Loss 0.6339\n",
            " epoch 70  Loss 3.1562\n",
            " epoch 80  Loss 2.0100\n",
            " epoch 90  Loss 0.3107\n",
            " epoch 100  Loss 0.7625\n",
            " epoch 110  Loss 1.0024\n",
            " epoch 120  Loss 0.0232\n",
            " epoch 130  Loss 0.5138\n",
            " epoch 140  Loss 0.0741\n",
            " epoch 150  Loss 1.8712\n",
            " epoch 160  Loss 0.0007\n",
            " epoch 170  Loss 0.0850\n",
            " epoch 180  Loss 0.0634\n",
            " epoch 190  Loss 0.0012\n"
          ]
        }
      ]
    },
    {
      "cell_type": "code",
      "source": [
        "print('Final Parameters:', weight.item(), bias.item())\n"
      ],
      "metadata": {
        "colab": {
          "base_uri": "https://localhost:8080/"
        },
        "id": "67tmEspDy-XS",
        "outputId": "a45946a7-bb2c-4f77-c904-6bf172ada527"
      },
      "execution_count": 8,
      "outputs": [
        {
          "output_type": "stream",
          "name": "stdout",
          "text": [
            "Final Parameters: 2.670930862426758 4.88258695602417\n"
          ]
        }
      ]
    },
    {
      "cell_type": "code",
      "source": [
        "X_test = np.linspace(0, 9, num=100, dtype='float32').reshape(-1, 1)\n",
        "X_test_norm = (X_test - np.mean(X_train)) / np.std(X_train)\n",
        "X_test_norm = torch.from_numpy(X_test_norm)\n",
        "y_pred = model(X_test_norm).detach().numpy()\n",
        "\n",
        "fig = plt.figure(figsize=(13, 5))\n",
        "ax = fig.add_subplot(1, 2, 1)\n",
        "plt.plot(X_train_norm, y_train, 'o', markersize=10)\n",
        "plt.plot(X_test_norm, y_pred, '--', lw=3)\n",
        "plt.legend(['Training examples', 'Linear reg.'], fontsize=15)\n",
        "ax.set_xlabel('x', size=15)\n",
        "ax.set_ylabel('y', size=15)\n",
        "ax.tick_params(axis='both', which='major', labelsize=15)\n",
        "plt.show()"
      ],
      "metadata": {
        "colab": {
          "base_uri": "https://localhost:8080/",
          "height": 344
        },
        "id": "HwkAhbNAzKil",
        "outputId": "95c4a178-1259-45a1-d582-f7ed0b3041b4"
      },
      "execution_count": 12,
      "outputs": [
        {
          "output_type": "display_data",
          "data": {
            "text/plain": [
              "<Figure size 936x360 with 1 Axes>"
            ],
            "image/png": "[encoded data removed]"
          },
          "metadata": {
            "needs_background": "light"
          }
        }
      ]
    },
    {
      "cell_type": "code",
      "source": [
        "import torch.nn as nn\n",
        "loss_fn = nn.MSELoss(reduction='mean')\n",
        "input_size = 1\n",
        "output_size = 1\n",
        "model = nn.Linear(input_size, output_size)\n",
        "optimizer = torch.optim.SGD(model.parameters(), lr=learning_rate)"
      ],
      "metadata": {
        "id": "QUOdIjGR0owB"
      },
      "execution_count": 14,
      "outputs": []
    },
    {
      "cell_type": "code",
      "source": [
        "for epoch in range(num_epochs):\n",
        "  for x_batch, y_batch in train_dl:\n",
        "    pred = model(x_batch)[:, 0]\n",
        "    loss = loss_fn(pred, y_batch)\n",
        "    loss.backward()\n",
        "    optimizer.step()\n",
        "    optimizer.zero_grad()\n",
        "  if epoch % log_epochs==0:\n",
        "    print(f'Epoch {epoch} Loss{loss.item():.4f}')"
      ],
      "metadata": {
        "colab": {
          "base_uri": "https://localhost:8080/"
        },
        "id": "26uwt5RO3YFa",
        "outputId": "a8d6f043-bce4-40b6-991a-114f13635177"
      },
      "execution_count": 15,
      "outputs": [
        {
          "output_type": "stream",
          "name": "stdout",
          "text": [
            "Epoch 0 Loss17.3596\n",
            "Epoch 10 Loss0.5473\n",
            "Epoch 20 Loss8.7409\n",
            "Epoch 30 Loss0.1664\n",
            "Epoch 40 Loss1.8662\n",
            "Epoch 50 Loss0.2789\n",
            "Epoch 60 Loss0.5117\n",
            "Epoch 70 Loss0.9404\n",
            "Epoch 80 Loss0.0227\n",
            "Epoch 90 Loss1.2027\n",
            "Epoch 100 Loss0.0501\n",
            "Epoch 110 Loss0.0906\n",
            "Epoch 120 Loss0.0746\n",
            "Epoch 130 Loss0.4006\n",
            "Epoch 140 Loss0.2038\n",
            "Epoch 150 Loss0.4675\n",
            "Epoch 160 Loss0.1890\n",
            "Epoch 170 Loss0.1132\n",
            "Epoch 180 Loss0.1179\n",
            "Epoch 190 Loss0.0776\n"
          ]
        }
      ]
    },
    {
      "cell_type": "code",
      "source": [
        "print('Final parameters:' , model.weight.item(), model.bias.item())"
      ],
      "metadata": {
        "colab": {
          "base_uri": "https://localhost:8080/"
        },
        "id": "p-3r_SGM4OUi",
        "outputId": "ed5ddc20-9bc2-4c03-a620-6adcc7d4f677"
      },
      "execution_count": 16,
      "outputs": [
        {
          "output_type": "stream",
          "name": "stdout",
          "text": [
            "Final parameters: 2.6615240573883057 4.8941874504089355\n"
          ]
        }
      ]
    },
    {
      "cell_type": "code",
      "source": [],
      "metadata": {
        "id": "4EYr0yqS4YXB"
      },
      "execution_count": null,
      "outputs": []
    }
  ]
}