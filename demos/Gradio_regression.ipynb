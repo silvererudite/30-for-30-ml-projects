{
  "nbformat": 4,
  "nbformat_minor": 0,
  "metadata": {
    "colab": {
      "name": "Gradio-regression.ipynb",
      "provenance": [],
      "authorship_tag": "ABX9TyP5GQrMwnoRgKXRKkRNGucx",
      "include_colab_link": true
    },
    "kernelspec": {
      "name": "python3",
      "display_name": "Python 3"
    },
    "language_info": {
      "name": "python"
    }
  },
  "cells": [
    {
      "cell_type": "markdown",
      "metadata": {
        "id": "view-in-github",
        "colab_type": "text"
      },
      "source": [
        "<a href=\"https://colab.research.google.com/github/silvererudite/30-for-30-ml-projects/blob/main/demos/Gradio_regression.ipynb\" target=\"_parent\"><img src=\"https://colab.research.google.com/assets/colab-badge.svg\" alt=\"Open In Colab\"/></a>"
      ]
    },
    {
      "cell_type": "code",
      "source": [
        "pip install gradio"
      ],
      "metadata": {
        "id": "mDlLwQBOVSgT"
      },
      "execution_count": null,
      "outputs": []
    },
    {
      "cell_type": "code",
      "execution_count": 2,
      "metadata": {
        "id": "TWHO9pwHS6E_"
      },
      "outputs": [],
      "source": [
        "import numpy as np\n",
        "import matplotlib.pyplot as plt\n",
        "import seaborn as sns\n",
        "import gradio as gr\n",
        "from sklearn.linear_model import Ridge, LinearRegression\n",
        "from sklearn.model_selection import train_test_split\n",
        "np.random.seed(2)"
      ]
    },
    {
      "cell_type": "code",
      "source": [
        "X = 2 * np.random.rand(100, 1)\n",
        "y = 4 + 3 * X + np.random.rand(100, 1)"
      ],
      "metadata": {
        "id": "m7Glk1CIT00J"
      },
      "execution_count": 3,
      "outputs": []
    },
    {
      "cell_type": "code",
      "source": [
        "X_train, X_test, y_train, y_test = train_test_split(\n",
        "    X, y, test_size=0.6, random_state=42)"
      ],
      "metadata": {
        "id": "WRV7uvFG2h5R"
      },
      "execution_count": 4,
      "outputs": []
    },
    {
      "cell_type": "code",
      "source": [
        "def build_model(alpha):\n",
        "  r_reg = Ridge(alpha=alpha)\n",
        "  r_reg.fit(X_train, y_train)\n",
        "  return r_reg\n"
      ],
      "metadata": {
        "id": "ExnMotIi3vI6"
      },
      "execution_count": 5,
      "outputs": []
    },
    {
      "cell_type": "code",
      "source": [
        "def predict(alpha):\n",
        "  ridge_reg = build_model(alpha)\n",
        "  train_preds = ridge_reg.predict(X_train)\n",
        "  preds = ridge_reg.predict(X_test)\n",
        "  fig = plt.figure()\n",
        "  plt.scatter(X_train, y_train, c =\"g\", label=\"train data\")\n",
        "  plt.scatter(X_test, y_test, c = \"r\", label=\"test data\")\n",
        "  plt.plot(X_test, preds, \"b--\", label=\"regularized model on test data\")\n",
        "  plt.title(\"Effect of regularization parameter on Ridge regression\")\n",
        "  plt.ylabel(\"Y\")\n",
        "  plt.xlabel(\"X\")\n",
        "\n",
        "  return plt"
      ],
      "metadata": {
        "id": "iWN5gViNyr_6"
      },
      "execution_count": null,
      "outputs": []
    },
    {
      "cell_type": "code",
      "source": [
        "inputs =  gr.Slider(0, 20)\n",
        "outputs = gr.Plot()\n",
        "gr.Interface(fn = predict, inputs = inputs, outputs = outputs).launch()"
      ],
      "metadata": {
        "colab": {
          "base_uri": "https://localhost:8080/",
          "height": 643
        },
        "id": "xZRZxo_jy28x",
        "outputId": "82be07c1-dd09-4a7d-c4c0-f85a95da4b85"
      },
      "execution_count": 11,
      "outputs": [
        {
          "output_type": "stream",
          "name": "stdout",
          "text": [
            "Colab notebook detected. To show errors in colab notebook, set `debug=True` in `launch()`\n",
            "Running on public URL: https://52656.gradio.app\n",
            "\n",
            "This share link expires in 72 hours. For free permanent hosting, check out Spaces (https://huggingface.co/spaces)\n"
          ]
        },
        {
          "output_type": "display_data",
          "data": {
            "text/plain": [
              "<IPython.core.display.HTML object>"
            ],
            "text/html": [
              "<div><iframe src=\"https://52656.gradio.app\" width=\"900\" height=\"500\" allow=\"autoplay; camera; microphone;\" frameborder=\"0\" allowfullscreen></iframe></div>"
            ]
          },
          "metadata": {}
        },
        {
          "output_type": "execute_result",
          "data": {
            "text/plain": [
              "(<gradio.routes.App at 0x7fa7d6d1a190>,\n",
              " 'http://127.0.0.1:7862/',\n",
              " 'https://52656.gradio.app')"
            ]
          },
          "metadata": {},
          "execution_count": 11
        }
      ]
    },
    {
      "cell_type": "code",
      "source": [
        ""
      ],
      "metadata": {
        "id": "8TD7OfBS0uSS"
      },
      "execution_count": 7,
      "outputs": []
    }
  ]
}