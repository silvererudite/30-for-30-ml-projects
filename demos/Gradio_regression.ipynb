{
  "nbformat": 4,
  "nbformat_minor": 0,
  "metadata": {
    "colab": {
      "name": "Gradio-regression.ipynb",
      "provenance": [],
      "authorship_tag": "ABX9TyO2kmPR7u2MWThvud17HA8p",
      "include_colab_link": true
    },
    "kernelspec": {
      "name": "python3",
      "display_name": "Python 3"
    },
    "language_info": {
      "name": "python"
    }
  },
  "cells": [
    {
      "cell_type": "markdown",
      "metadata": {
        "id": "view-in-github",
        "colab_type": "text"
      },
      "source": [
        "<a href=\"https://colab.research.google.com/github/silvererudite/30-for-30-ml-projects/blob/main/demos/Gradio_regression.ipynb\" target=\"_parent\"><img src=\"https://colab.research.google.com/assets/colab-badge.svg\" alt=\"Open In Colab\"/></a>"
      ]
    },
    {
      "cell_type": "code",
      "source": [
        "pip install gradio"
      ],
      "metadata": {
        "id": "mDlLwQBOVSgT",
        "colab": {
          "base_uri": "https://localhost:8080/"
        },
        "outputId": "32356a0d-211d-4b4b-b4fc-6f88d0a44d30"
      },
      "execution_count": 88,
      "outputs": [
        {
          "output_type": "stream",
          "name": "stdout",
          "text": [
            "Requirement already satisfied: click>=7.0 in /usr/local/lib/python3.7/dist-packages (from uvicorn->gradio) (7.1.2)\n"
          ]
        }
      ]
    },
    {
      "cell_type": "code",
      "execution_count": 89,
      "metadata": {
        "id": "TWHO9pwHS6E_"
      },
      "outputs": [],
      "source": [
        "import numpy as np\n",
        "import matplotlib.pyplot as plt\n",
        "import seaborn as sns\n",
        "import gradio as gr\n",
        "from sklearn.linear_model import Ridge, LinearRegression\n",
        "from sklearn.model_selection import train_test_split\n",
        "np.random.seed(2)"
      ]
    },
    {
      "cell_type": "code",
      "source": [
        "X = 2 * np.random.rand(100, 1)\n",
        "y = 4 + 3 * X "
      ],
      "metadata": {
        "id": "m7Glk1CIT00J"
      },
      "execution_count": 99,
      "outputs": []
    },
    {
      "cell_type": "code",
      "source": [
        "X_train, X_test, y_train, y_test = train_test_split(\n",
        "    X, y, test_size=0.1, random_state=42)"
      ],
      "metadata": {
        "id": "WRV7uvFG2h5R"
      },
      "execution_count": 100,
      "outputs": []
    },
    {
      "cell_type": "code",
      "source": [
        "def build_model(alpha):\n",
        "  r_reg = Ridge(alpha=alpha)\n",
        "  r_reg.fit(X_train, y_train)\n",
        "  return r_reg\n"
      ],
      "metadata": {
        "id": "ExnMotIi3vI6"
      },
      "execution_count": 101,
      "outputs": []
    },
    {
      "cell_type": "code",
      "source": [
        "def predict(alpha):\n",
        "  ridge_reg = build_model(alpha)\n",
        "  preds = ridge_reg.predict(X_test)\n",
        "  fig = plt.figure()\n",
        "  plt.plot(X_test, y_test, \"r-\")\n",
        "  plt.plot(X_test, preds, \"b--\")\n",
        "  plt.title(\"Effect of regularization parameter on Ridge regression\")\n",
        "  plt.ylabel(\"Y\")\n",
        "  plt.xlabel(\"X\")\n",
        "  return plt"
      ],
      "metadata": {
        "id": "iWN5gViNyr_6"
      },
      "execution_count": null,
      "outputs": []
    },
    {
      "cell_type": "code",
      "source": [
        "inputs = gr.Number()\n",
        "outputs = gr.Plot()\n",
        "gr.Interface(fn = predict, inputs = inputs, outputs = outputs).launch()"
      ],
      "metadata": {
        "colab": {
          "base_uri": "https://localhost:8080/",
          "height": 678
        },
        "id": "xZRZxo_jy28x",
        "outputId": "e53c3786-4e93-42b4-93cc-7c94d655567f"
      },
      "execution_count": 103,
      "outputs": [
        {
          "output_type": "stream",
          "name": "stdout",
          "text": [
            "\n",
            "Thanks for being a Gradio user! If you have questions or feedback, please join our Discord server and chat with us: https://discord.gg/feTf9x3ZSB\n",
            "Colab notebook detected. To show errors in colab notebook, set `debug=True` in `launch()`\n",
            "Running on public URL: https://54616.gradio.app\n",
            "\n",
            "This share link expires in 72 hours. For free permanent hosting, check out Spaces (https://huggingface.co/spaces)\n"
          ]
        },
        {
          "output_type": "display_data",
          "data": {
            "text/plain": [
              "<IPython.core.display.HTML object>"
            ],
            "text/html": [
              "<div><iframe src=\"https://54616.gradio.app\" width=\"900\" height=\"500\" allow=\"autoplay; camera; microphone;\" frameborder=\"0\" allowfullscreen></iframe></div>"
            ]
          },
          "metadata": {}
        },
        {
          "output_type": "execute_result",
          "data": {
            "text/plain": [
              "(<gradio.routes.App at 0x7f39f06c7550>,\n",
              " 'http://127.0.0.1:7872/',\n",
              " 'https://54616.gradio.app')"
            ]
          },
          "metadata": {},
          "execution_count": 103
        }
      ]
    },
    {
      "cell_type": "code",
      "source": [
        ""
      ],
      "metadata": {
        "id": "8TD7OfBS0uSS"
      },
      "execution_count": 103,
      "outputs": []
    }
  ]
}