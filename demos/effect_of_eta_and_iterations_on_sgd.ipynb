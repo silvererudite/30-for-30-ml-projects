{
  "nbformat": 4,
  "nbformat_minor": 0,
  "metadata": {
    "colab": {
      "name": "effect of eta and iterations on sgd.ipynb",
      "provenance": [],
      "authorship_tag": "ABX9TyMV/C+CTzbZmdmPd20xjMhX"
    },
    "kernelspec": {
      "name": "python3",
      "display_name": "Python 3"
    },
    "language_info": {
      "name": "python"
    }
  },
  "cells": [
    {
      "cell_type": "code",
      "execution_count": 3,
      "metadata": {
        "id": "-X6MmvVuu3QE"
      },
      "outputs": [],
      "source": [
        "pip install gradio"
      ]
    },
    {
      "cell_type": "code",
      "source": [
        "import numpy as np\n",
        "import matplotlib.pyplot as plt\n",
        "%matplotlib inline\n",
        "plt.rcParams['figure.figsize'] = (10, 5)"
      ],
      "metadata": {
        "id": "0UgzkN9p-SID"
      },
      "execution_count": 8,
      "outputs": []
    },
    {
      "cell_type": "code",
      "source": [
        "def generate_data():\n",
        "  X = 2 * np.random.rand(100, 1)\n",
        "  y = 4 + 3 * X + np.random.randn(100, 1)\n",
        "  return X, y\n"
      ],
      "metadata": {
        "id": "Hj7d6BtC-UDz"
      },
      "execution_count": 44,
      "outputs": []
    },
    {
      "cell_type": "code",
      "source": [
        "def get_norm_eqn(X, y):\n",
        "  X_b = np.c_[np.ones((100, 1)), X] \n",
        "  theta_best = np.linalg.inv(X_b.T.dot(X_b)).dot(X_b.T).dot(y)\n",
        "  y_norm = X_b.dot(theta_best)\n",
        "  return X_b, y_norm"
      ],
      "metadata": {
        "id": "gpBozUugO8Ys"
      },
      "execution_count": 45,
      "outputs": []
    },
    {
      "cell_type": "code",
      "source": [
        "def generate_sgd_plot(eta, n_iterations):\n",
        "  #initialize parameters\n",
        "  m = 100\n",
        "  theta = np.random.randn(2,1)\n",
        "  X, y = generate_data()\n",
        "  X_b, y_norm = get_norm_eqn(X, y)\n",
        "\n",
        "  # plot how the parameters change wrt normal line\n",
        "  # as the algorithm learns\n",
        "  plt.scatter(X,y, c='#7678ed', label=\"data points\")\n",
        "  plt.axis([0, 2.0, 0, 14])\n",
        "  for iteration in range(n_iterations):\n",
        "    gradients = 2/m * X_b.T.dot(X_b.dot(theta) - y)\n",
        "    theta = theta - eta * gradients\n",
        "    y_new = X_b.dot(theta)\n",
        "    plt.plot(X, y_new, color='#f18701', linestyle='dashed', linewidth=0.2)\n",
        "  plt.plot(X, y_norm, '#3d348b', label=\"Normal Eqation line\")\n",
        "  plt.xlabel('X')\n",
        "  plt.ylabel('Y')\n",
        "  plt.legend(loc='upper right')\n",
        "  return plt"
      ],
      "metadata": {
        "id": "d6xauSYS-ulL"
      },
      "execution_count": 49,
      "outputs": []
    },
    {
      "cell_type": "code",
      "source": [
        ""
      ],
      "metadata": {
        "id": "qJas2co_QrCr"
      },
      "execution_count": null,
      "outputs": []
    },
    {
      "cell_type": "code",
      "source": [
        "import gradio as gr\n",
        "\n",
        "demo = gr.Blocks()\n",
        "\n",
        "with demo:\n",
        "    gr.Markdown(\n",
        "        \"\"\"\n",
        "    # Flip Text!\n",
        "    Start typing below to see the output.\n",
        "    \"\"\"\n",
        "    )\n",
        "    inputs = [gr.Slider(0.02, 0.5, label=\"learning rate\"), gr.Slider(500, 1000, 200, label=\"number of iterations\")]\n",
        "    output = gr.Plot()\n",
        "\n",
        "    btn = gr.Button(\"Run\")\n",
        "    btn.click(fn=generate_sgd_plot, inputs=inputs, outputs=output)\n",
        "\n",
        "demo.launch()"
      ],
      "metadata": {
        "colab": {
          "base_uri": "https://localhost:8080/",
          "height": 643
        },
        "id": "iRUzF1lIv0CM",
        "outputId": "e0d251d7-775f-49db-e18e-9b9c490c1e4d"
      },
      "execution_count": 50,
      "outputs": [
        {
          "output_type": "stream",
          "name": "stdout",
          "text": [
            "Colab notebook detected. To show errors in colab notebook, set `debug=True` in `launch()`\n",
            "Running on public URL: https://20992.gradio.app\n",
            "\n",
            "This share link expires in 72 hours. For free permanent hosting, check out Spaces: https://huggingface.co/spaces\n"
          ]
        },
        {
          "output_type": "display_data",
          "data": {
            "text/plain": [
              "<IPython.core.display.HTML object>"
            ],
            "text/html": [
              "<div><iframe src=\"https://20992.gradio.app\" width=\"900\" height=\"500\" allow=\"autoplay; camera; microphone;\" frameborder=\"0\" allowfullscreen></iframe></div>"
            ]
          },
          "metadata": {}
        },
        {
          "output_type": "execute_result",
          "data": {
            "text/plain": [
              "(<gradio.routes.App at 0x7f0c8c01dfd0>,\n",
              " 'http://127.0.0.1:7862/',\n",
              " 'https://20992.gradio.app')"
            ]
          },
          "metadata": {},
          "execution_count": 50
        }
      ]
    },
    {
      "cell_type": "code",
      "source": [
        ""
      ],
      "metadata": {
        "id": "KTp3vTwix-k0"
      },
      "execution_count": 4,
      "outputs": []
    }
  ]
}