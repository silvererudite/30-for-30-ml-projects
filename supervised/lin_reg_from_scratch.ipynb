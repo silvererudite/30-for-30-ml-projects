{
  "nbformat": 4,
  "nbformat_minor": 0,
  "metadata": {
    "colab": {
      "name": "lin-reg from scratch.ipynb",
      "provenance": [],
      "authorship_tag": "ABX9TyOAMkNbeDU3phGe1WqtwisT",
      "include_colab_link": true
    },
    "kernelspec": {
      "name": "python3",
      "display_name": "Python 3"
    },
    "language_info": {
      "name": "python"
    }
  },
  "cells": [
    {
      "cell_type": "markdown",
      "metadata": {
        "id": "view-in-github",
        "colab_type": "text"
      },
      "source": [
        "<a href=\"https://colab.research.google.com/github/silvererudite/30-for-30-ml-projects/blob/main/supervised/lin_reg_from_scratch.ipynb\" target=\"_parent\"><img src=\"https://colab.research.google.com/assets/colab-badge.svg\" alt=\"Open In Colab\"/></a>"
      ]
    },
    {
      "cell_type": "code",
      "execution_count": 19,
      "metadata": {
        "id": "uUOdeZNXP78y"
      },
      "outputs": [],
      "source": [
        "import numpy as np\n",
        "import matplotlib.pyplot as plt\n",
        "import matplotlib.animation as animation\n",
        "import seaborn as sns\n",
        "sns.set_style(\"darkgrid\")"
      ]
    },
    {
      "cell_type": "code",
      "source": [
        "X = 2 * np.random.rand(100,1)\n",
        "y  =  4 + 3 * X + np.random.randn(100, 1)\n",
        "plt.scatter(X, y)"
      ],
      "metadata": {
        "colab": {
          "base_uri": "https://localhost:8080/",
          "height": 282
        },
        "id": "YO3KnBc8QKpw",
        "outputId": "3fc50535-9790-4660-e28d-52f29dfb5f37"
      },
      "execution_count": 20,
      "outputs": [
        {
          "output_type": "execute_result",
          "data": {
            "text/plain": [
              "<matplotlib.collections.PathCollection at 0x7f98b212c690>"
            ]
          },
          "metadata": {},
          "execution_count": 20
        },
        {
          "output_type": "display_data",
          "data": {
            "text/plain": [
              "<Figure size 432x288 with 1 Axes>"
            ],
            "image/png": "[encoded data removed]"
          },
          "metadata": {}
        }
      ]
    },
    {
      "cell_type": "markdown",
      "source": [
        "# Computing Normal equation"
      ],
      "metadata": {
        "id": "lQZpNz8WR3If"
      }
    },
    {
      "cell_type": "code",
      "source": [
        "X_b = np.c_[np.ones((100,1)), X]\n",
        "theta_best = np.linalg.inv(X_b.T.dot(X_b)).dot(X_b.T).dot(y)\n",
        "print(X_b)\n",
        "print(theta_best)"
      ],
      "metadata": {
        "id": "uI9Q0SvsQs6g",
        "colab": {
          "base_uri": "https://localhost:8080/"
        },
        "outputId": "75a49835-43de-4514-ebb9-be4837de37af"
      },
      "execution_count": 21,
      "outputs": [
        {
          "output_type": "stream",
          "name": "stdout",
          "text": [
            "[[1.         1.76940339]\n",
            " [1.         0.4660119 ]\n",
            " [1.         1.22822406]\n",
            " [1.         1.61098763]\n",
            " [1.         0.38486685]\n",
            " [1.         1.75967218]\n",
            " [1.         0.08431502]\n",
            " [1.         0.37201562]\n",
            " [1.         0.54026129]\n",
            " [1.         1.86499787]\n",
            " [1.         0.45635073]\n",
            " [1.         1.04622209]\n",
            " [1.         1.06296649]\n",
            " [1.         1.81862798]\n",
            " [1.         1.00073119]\n",
            " [1.         1.29972755]\n",
            " [1.         0.58351679]\n",
            " [1.         1.62575384]\n",
            " [1.         0.02099668]\n",
            " [1.         1.70646002]\n",
            " [1.         0.7818482 ]\n",
            " [1.         1.94017633]\n",
            " [1.         1.58547087]\n",
            " [1.         1.05002492]\n",
            " [1.         0.9068401 ]\n",
            " [1.         1.65920977]\n",
            " [1.         0.06047864]\n",
            " [1.         1.2631518 ]\n",
            " [1.         0.23859039]\n",
            " [1.         1.87887357]\n",
            " [1.         1.7723622 ]\n",
            " [1.         1.06009968]\n",
            " [1.         0.79248447]\n",
            " [1.         0.88038283]\n",
            " [1.         1.088599  ]\n",
            " [1.         0.9420575 ]\n",
            " [1.         1.29498249]\n",
            " [1.         0.09860053]\n",
            " [1.         0.9935339 ]\n",
            " [1.         1.73677205]\n",
            " [1.         1.72637298]\n",
            " [1.         1.50119337]\n",
            " [1.         0.9459787 ]\n",
            " [1.         0.03046034]\n",
            " [1.         1.23314211]\n",
            " [1.         0.08720451]\n",
            " [1.         0.44884154]\n",
            " [1.         1.35848291]\n",
            " [1.         1.05691377]\n",
            " [1.         0.19849944]\n",
            " [1.         1.63531464]\n",
            " [1.         1.07604333]\n",
            " [1.         1.95448278]\n",
            " [1.         1.83936374]\n",
            " [1.         0.75725186]\n",
            " [1.         0.82022201]\n",
            " [1.         1.27077145]\n",
            " [1.         1.54393332]\n",
            " [1.         1.22266672]\n",
            " [1.         1.49197951]\n",
            " [1.         0.64820496]\n",
            " [1.         0.39380621]\n",
            " [1.         1.67525738]\n",
            " [1.         1.39600975]\n",
            " [1.         0.19466468]\n",
            " [1.         0.96765037]\n",
            " [1.         0.50807555]\n",
            " [1.         0.82169648]\n",
            " [1.         1.70621039]\n",
            " [1.         1.24484009]\n",
            " [1.         1.74083664]\n",
            " [1.         0.71989318]\n",
            " [1.         0.38153324]\n",
            " [1.         0.97323118]\n",
            " [1.         1.72899293]\n",
            " [1.         1.42771412]\n",
            " [1.         0.35319402]\n",
            " [1.         1.86349592]\n",
            " [1.         1.91706397]\n",
            " [1.         0.74349441]\n",
            " [1.         0.89122757]\n",
            " [1.         1.43091699]\n",
            " [1.         0.69921318]\n",
            " [1.         0.15798174]\n",
            " [1.         1.51272945]\n",
            " [1.         0.08366574]\n",
            " [1.         1.31029998]\n",
            " [1.         0.30730214]\n",
            " [1.         1.17165412]\n",
            " [1.         1.25531005]\n",
            " [1.         1.4797318 ]\n",
            " [1.         1.18305365]\n",
            " [1.         0.64990473]\n",
            " [1.         0.69673346]\n",
            " [1.         0.25494608]\n",
            " [1.         0.44038471]\n",
            " [1.         1.80104148]\n",
            " [1.         1.35517987]\n",
            " [1.         0.50314941]\n",
            " [1.         0.66093877]]\n",
            "[[4.35525085]\n",
            " [2.82021469]]\n"
          ]
        }
      ]
    },
    {
      "cell_type": "markdown",
      "source": [
        "# Making predictions"
      ],
      "metadata": {
        "id": "wwECX7yjS0ZP"
      }
    },
    {
      "cell_type": "code",
      "source": [
        "X_new = np.array([[0],[2]])\n",
        "X_new_b = np.c_[np.ones((2,1)), X_new]\n",
        "y_predict = X_new_b.dot(theta_best)"
      ],
      "metadata": {
        "id": "j5_OZOWFSmEH"
      },
      "execution_count": 22,
      "outputs": []
    },
    {
      "cell_type": "markdown",
      "source": [
        "# Plot the predictions"
      ],
      "metadata": {
        "id": "WHhwR_v0TW9V"
      }
    },
    {
      "cell_type": "code",
      "source": [
        "plt.scatter(X, y)\n",
        "plt.plot(X_new, y_predict, \"g-\")\n",
        "plt.axis([0, 2, 0, 15])\n",
        "plt.show()\n"
      ],
      "metadata": {
        "colab": {
          "base_uri": "https://localhost:8080/",
          "height": 265
        },
        "id": "9UDIDsUATOx2",
        "outputId": "afc7e1ea-e7d3-4e75-9f7a-6f1b8258705a"
      },
      "execution_count": 23,
      "outputs": [
        {
          "output_type": "display_data",
          "data": {
            "text/plain": [
              "<Figure size 432x288 with 1 Axes>"
            ],
            "image/png": "[encoded data removed]"
          },
          "metadata": {}
        }
      ]
    },
    {
      "cell_type": "markdown",
      "source": [
        "# Implementing gradient descent from scratch"
      ],
      "metadata": {
        "id": "jKDhIl13N5rE"
      }
    },
    {
      "cell_type": "code",
      "source": [
        "eta = 0.1\n",
        "num_iter = 1000\n",
        "m = 100 # number of training instances\n",
        "# random initialization of weights\n",
        "theta = np.random.randn(2,1)\n",
        "for iter in range(num_iter):\n",
        "  gradients = 2/m * X_b.T.dot(X_b.dot(theta) - y) # cost function gradient vector\n",
        "  theta = theta - eta * gradients # going in the opposite direction of gradient vector\n",
        "  plt.plot(theta)\n",
        "  plt.axis([0, 2, 0, 6])\n",
        "#print(theta)"
      ],
      "metadata": {
        "id": "jPZiedi6TvM3",
        "colab": {
          "base_uri": "https://localhost:8080/",
          "height": 269
        },
        "outputId": "082c00c7-1f08-4ac8-e315-a38ff8cd6da4"
      },
      "execution_count": 28,
      "outputs": [
        {
          "output_type": "display_data",
          "data": {
            "text/plain": [
              "<Figure size 432x288 with 1 Axes>"
            ],
            "image/png": "[encoded data removed]"
          },
          "metadata": {}
        }
      ]
    },
    {
      "cell_type": "code",
      "source": [
        "print(theta)"
      ],
      "metadata": {
        "colab": {
          "base_uri": "https://localhost:8080/"
        },
        "id": "bRbcFwSTQLKD",
        "outputId": "50255198-a959-40fc-9083-bb5940f3f48c"
      },
      "execution_count": 25,
      "outputs": [
        {
          "output_type": "stream",
          "name": "stdout",
          "text": [
            "[[4.35525085]\n",
            " [2.82021469]]\n"
          ]
        }
      ]
    },
    {
      "cell_type": "code",
      "source": [
        "n_epochs = 50\n",
        "t0, t1 = 5, 50\n",
        "theta_sgd = np.random.randn(2,1)\n",
        "\n",
        "def learning_schedule(t):\n",
        "  return t0 / (t + t1)\n",
        "\n",
        "for epoch in range(n_epochs):\n",
        "  for i in range(m):\n",
        "    random_index = np.random.randint(m)\n",
        "    xi = X_b[random_index:random_index+1]\n",
        "    yi = y[random_index:random_index+1]\n",
        "    gradients = 2 * xi.T.dot(xi.dot(theta) - yi)\n",
        "    eta = learning_schedule(epoch * m + i)\n",
        "    theta_sgd = theta_sgd - eta * gradients\n",
        "    plt.plot(theta_sgd)\n",
        "    plt.axis([0, 2, 0, 15])\n"
      ],
      "metadata": {
        "id": "GHbFBejhT-ZK",
        "colab": {
          "base_uri": "https://localhost:8080/",
          "height": 265
        },
        "outputId": "71ee5eb9-e5cc-4716-cd2f-455334eb6e16"
      },
      "execution_count": 26,
      "outputs": [
        {
          "output_type": "display_data",
          "data": {
            "text/plain": [
              "<Figure size 432x288 with 1 Axes>"
            ],
            "image/png": "[encoded data removed]"
          },
          "metadata": {}
        }
      ]
    },
    {
      "cell_type": "code",
      "source": [
        "theta_sgd"
      ],
      "metadata": {
        "colab": {
          "base_uri": "https://localhost:8080/"
        },
        "id": "T71PFaTuSdIc",
        "outputId": "8a738fa0-918c-4c8b-ac61-221b556d06e5"
      },
      "execution_count": 27,
      "outputs": [
        {
          "output_type": "execute_result",
          "data": {
            "text/plain": [
              "array([[-0.21967514],\n",
              "       [ 0.71865743]])"
            ]
          },
          "metadata": {},
          "execution_count": 27
        }
      ]
    },
    {
      "cell_type": "code",
      "source": [
        ""
      ],
      "metadata": {
        "id": "0Y3OpRszTtqS"
      },
      "execution_count": 27,
      "outputs": []
    }
  ]
}