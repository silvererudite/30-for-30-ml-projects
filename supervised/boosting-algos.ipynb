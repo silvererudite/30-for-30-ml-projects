{
 "cells": [
  {
   "cell_type": "code",
   "execution_count": 1,
   "id": "0f2519cd",
   "metadata": {
    "_cell_guid": "b1076dfc-b9ad-4769-8c92-a6c4dae69d19",
    "_uuid": "8f2839f25d086af736a60e9eeb907d3b93b6e0e5",
    "execution": {
     "iopub.execute_input": "2023-01-03T16:17:13.209200Z",
     "iopub.status.busy": "2023-01-03T16:17:13.208430Z",
     "iopub.status.idle": "2023-01-03T16:17:14.371375Z",
     "shell.execute_reply": "2023-01-03T16:17:14.370436Z"
    },
    "papermill": {
     "duration": 1.172591,
     "end_time": "2023-01-03T16:17:14.374052",
     "exception": false,
     "start_time": "2023-01-03T16:17:13.201461",
     "status": "completed"
    },
    "tags": []
   },
   "outputs": [],
   "source": [
    "import numpy as np # linear algebra\n",
    "import pandas as pd # data processing, CSV file I/O (e.g. pd.read_csv)\n",
    "from sklearn.model_selection import train_test_split\n",
    "import os\n",
    "from sklearn.linear_model import Ridge, LinearRegression\n",
    "from sklearn.preprocessing import StandardScaler\n",
    "from sklearn.pipeline import Pipeline\n",
    "import matplotlib.pyplot as plt\n",
    "from sklearn.metrics import mean_squared_error\n",
    "from sklearn.model_selection import KFold, cross_val_score"
   ]
  },
  {
   "cell_type": "code",
   "execution_count": 2,
   "id": "5fcd0f50",
   "metadata": {
    "execution": {
     "iopub.execute_input": "2023-01-03T16:17:14.384083Z",
     "iopub.status.busy": "2023-01-03T16:17:14.383460Z",
     "iopub.status.idle": "2023-01-03T16:17:14.387822Z",
     "shell.execute_reply": "2023-01-03T16:17:14.386997Z"
    },
    "papermill": {
     "duration": 0.011801,
     "end_time": "2023-01-03T16:17:14.390081",
     "exception": false,
     "start_time": "2023-01-03T16:17:14.378280",
     "status": "completed"
    },
    "tags": []
   },
   "outputs": [],
   "source": [
    "DATA_DIR = '/kaggle/input/playground-series-s3e1/'"
   ]
  },
  {
   "cell_type": "code",
   "execution_count": 3,
   "id": "048e83bf",
   "metadata": {
    "execution": {
     "iopub.execute_input": "2023-01-03T16:17:14.400210Z",
     "iopub.status.busy": "2023-01-03T16:17:14.399778Z",
     "iopub.status.idle": "2023-01-03T16:17:14.582462Z",
     "shell.execute_reply": "2023-01-03T16:17:14.581241Z"
    },
    "papermill": {
     "duration": 0.190386,
     "end_time": "2023-01-03T16:17:14.584861",
     "exception": false,
     "start_time": "2023-01-03T16:17:14.394475",
     "status": "completed"
    },
    "tags": []
   },
   "outputs": [
    {
     "data": {
      "text/html": [
       "<div>\n",
       "<style scoped>\n",
       "    .dataframe tbody tr th:only-of-type {\n",
       "        vertical-align: middle;\n",
       "    }\n",
       "\n",
       "    .dataframe tbody tr th {\n",
       "        vertical-align: top;\n",
       "    }\n",
       "\n",
       "    .dataframe thead th {\n",
       "        text-align: right;\n",
       "    }\n",
       "</style>\n",
       "<table border=\"1\" class=\"dataframe\">\n",
       "  <thead>\n",
       "    <tr style=\"text-align: right;\">\n",
       "      <th></th>\n",
       "      <th>MedInc</th>\n",
       "      <th>HouseAge</th>\n",
       "      <th>AveRooms</th>\n",
       "      <th>AveBedrms</th>\n",
       "      <th>Population</th>\n",
       "      <th>AveOccup</th>\n",
       "      <th>Latitude</th>\n",
       "      <th>Longitude</th>\n",
       "      <th>MedHouseVal</th>\n",
       "    </tr>\n",
       "    <tr>\n",
       "      <th>id</th>\n",
       "      <th></th>\n",
       "      <th></th>\n",
       "      <th></th>\n",
       "      <th></th>\n",
       "      <th></th>\n",
       "      <th></th>\n",
       "      <th></th>\n",
       "      <th></th>\n",
       "      <th></th>\n",
       "    </tr>\n",
       "  </thead>\n",
       "  <tbody>\n",
       "    <tr>\n",
       "      <th>0</th>\n",
       "      <td>2.3859</td>\n",
       "      <td>15.0</td>\n",
       "      <td>3.827160</td>\n",
       "      <td>1.112100</td>\n",
       "      <td>1280.0</td>\n",
       "      <td>2.486989</td>\n",
       "      <td>34.60</td>\n",
       "      <td>-120.12</td>\n",
       "      <td>0.980</td>\n",
       "    </tr>\n",
       "    <tr>\n",
       "      <th>1</th>\n",
       "      <td>3.7188</td>\n",
       "      <td>17.0</td>\n",
       "      <td>6.013373</td>\n",
       "      <td>1.054217</td>\n",
       "      <td>1504.0</td>\n",
       "      <td>3.813084</td>\n",
       "      <td>38.69</td>\n",
       "      <td>-121.22</td>\n",
       "      <td>0.946</td>\n",
       "    </tr>\n",
       "    <tr>\n",
       "      <th>2</th>\n",
       "      <td>4.7750</td>\n",
       "      <td>27.0</td>\n",
       "      <td>6.535604</td>\n",
       "      <td>1.103175</td>\n",
       "      <td>1061.0</td>\n",
       "      <td>2.464602</td>\n",
       "      <td>34.71</td>\n",
       "      <td>-120.45</td>\n",
       "      <td>1.576</td>\n",
       "    </tr>\n",
       "    <tr>\n",
       "      <th>3</th>\n",
       "      <td>2.4138</td>\n",
       "      <td>16.0</td>\n",
       "      <td>3.350203</td>\n",
       "      <td>0.965432</td>\n",
       "      <td>1255.0</td>\n",
       "      <td>2.089286</td>\n",
       "      <td>32.66</td>\n",
       "      <td>-117.09</td>\n",
       "      <td>1.336</td>\n",
       "    </tr>\n",
       "    <tr>\n",
       "      <th>4</th>\n",
       "      <td>3.7500</td>\n",
       "      <td>52.0</td>\n",
       "      <td>4.284404</td>\n",
       "      <td>1.069246</td>\n",
       "      <td>1793.0</td>\n",
       "      <td>1.604790</td>\n",
       "      <td>37.80</td>\n",
       "      <td>-122.41</td>\n",
       "      <td>4.500</td>\n",
       "    </tr>\n",
       "  </tbody>\n",
       "</table>\n",
       "</div>"
      ],
      "text/plain": [
       "    MedInc  HouseAge  AveRooms  AveBedrms  Population  AveOccup  Latitude  \\\n",
       "id                                                                          \n",
       "0   2.3859      15.0  3.827160   1.112100      1280.0  2.486989     34.60   \n",
       "1   3.7188      17.0  6.013373   1.054217      1504.0  3.813084     38.69   \n",
       "2   4.7750      27.0  6.535604   1.103175      1061.0  2.464602     34.71   \n",
       "3   2.4138      16.0  3.350203   0.965432      1255.0  2.089286     32.66   \n",
       "4   3.7500      52.0  4.284404   1.069246      1793.0  1.604790     37.80   \n",
       "\n",
       "    Longitude  MedHouseVal  \n",
       "id                          \n",
       "0     -120.12        0.980  \n",
       "1     -121.22        0.946  \n",
       "2     -120.45        1.576  \n",
       "3     -117.09        1.336  \n",
       "4     -122.41        4.500  "
      ]
     },
     "execution_count": 3,
     "metadata": {},
     "output_type": "execute_result"
    }
   ],
   "source": [
    "TRAIN_DATA = pd.read_csv(DATA_DIR+'train.csv', index_col='id')\n",
    "TRAIN_DATA.head()"
   ]
  },
  {
   "cell_type": "code",
   "execution_count": 4,
   "id": "97cd82d0",
   "metadata": {
    "execution": {
     "iopub.execute_input": "2023-01-03T16:17:14.595309Z",
     "iopub.status.busy": "2023-01-03T16:17:14.594654Z",
     "iopub.status.idle": "2023-01-03T16:17:14.601404Z",
     "shell.execute_reply": "2023-01-03T16:17:14.600220Z"
    },
    "papermill": {
     "duration": 0.014362,
     "end_time": "2023-01-03T16:17:14.603675",
     "exception": false,
     "start_time": "2023-01-03T16:17:14.589313",
     "status": "completed"
    },
    "tags": []
   },
   "outputs": [
    {
     "data": {
      "text/plain": [
       "(37137, 9)"
      ]
     },
     "execution_count": 4,
     "metadata": {},
     "output_type": "execute_result"
    }
   ],
   "source": [
    "TRAIN_DATA.shape"
   ]
  },
  {
   "cell_type": "code",
   "execution_count": 5,
   "id": "f6c1f139",
   "metadata": {
    "execution": {
     "iopub.execute_input": "2023-01-03T16:17:14.614247Z",
     "iopub.status.busy": "2023-01-03T16:17:14.613849Z",
     "iopub.status.idle": "2023-01-03T16:17:14.624059Z",
     "shell.execute_reply": "2023-01-03T16:17:14.622934Z"
    },
    "papermill": {
     "duration": 0.018165,
     "end_time": "2023-01-03T16:17:14.626307",
     "exception": false,
     "start_time": "2023-01-03T16:17:14.608142",
     "status": "completed"
    },
    "tags": []
   },
   "outputs": [],
   "source": [
    "features = TRAIN_DATA.drop('MedHouseVal', axis=1)\n",
    "label = TRAIN_DATA['MedHouseVal']"
   ]
  },
  {
   "cell_type": "markdown",
   "id": "84c6da6a",
   "metadata": {
    "papermill": {
     "duration": 0.004012,
     "end_time": "2023-01-03T16:17:14.634635",
     "exception": false,
     "start_time": "2023-01-03T16:17:14.630623",
     "status": "completed"
    },
    "tags": []
   },
   "source": [
    "# Split data before doing any processing to avoid leakage"
   ]
  },
  {
   "cell_type": "code",
   "execution_count": 6,
   "id": "9e65e34d",
   "metadata": {
    "execution": {
     "iopub.execute_input": "2023-01-03T16:17:14.645157Z",
     "iopub.status.busy": "2023-01-03T16:17:14.644387Z",
     "iopub.status.idle": "2023-01-03T16:17:14.657210Z",
     "shell.execute_reply": "2023-01-03T16:17:14.656254Z"
    },
    "papermill": {
     "duration": 0.020765,
     "end_time": "2023-01-03T16:17:14.659642",
     "exception": false,
     "start_time": "2023-01-03T16:17:14.638877",
     "status": "completed"
    },
    "tags": []
   },
   "outputs": [],
   "source": [
    "X_train, X_test, y_train, y_test = train_test_split(\n",
    "    features, label, test_size=0.2, random_state=42)"
   ]
  },
  {
   "cell_type": "markdown",
   "id": "585b9745",
   "metadata": {
    "papermill": {
     "duration": 0.003986,
     "end_time": "2023-01-03T16:17:14.668070",
     "exception": false,
     "start_time": "2023-01-03T16:17:14.664084",
     "status": "completed"
    },
    "tags": []
   },
   "source": [
    "# Look out for missing values"
   ]
  },
  {
   "cell_type": "code",
   "execution_count": 7,
   "id": "3e211228",
   "metadata": {
    "execution": {
     "iopub.execute_input": "2023-01-03T16:17:14.678987Z",
     "iopub.status.busy": "2023-01-03T16:17:14.678607Z",
     "iopub.status.idle": "2023-01-03T16:17:14.688517Z",
     "shell.execute_reply": "2023-01-03T16:17:14.687346Z"
    },
    "papermill": {
     "duration": 0.018197,
     "end_time": "2023-01-03T16:17:14.690889",
     "exception": false,
     "start_time": "2023-01-03T16:17:14.672692",
     "status": "completed"
    },
    "tags": []
   },
   "outputs": [
    {
     "data": {
      "text/plain": [
       "MedInc        0\n",
       "HouseAge      0\n",
       "AveRooms      0\n",
       "AveBedrms     0\n",
       "Population    0\n",
       "AveOccup      0\n",
       "Latitude      0\n",
       "Longitude     0\n",
       "dtype: int64"
      ]
     },
     "execution_count": 7,
     "metadata": {},
     "output_type": "execute_result"
    }
   ],
   "source": [
    "X_train.isna().sum().sort_values(ascending=False)"
   ]
  },
  {
   "cell_type": "markdown",
   "id": "df03d62f",
   "metadata": {
    "papermill": {
     "duration": 0.004215,
     "end_time": "2023-01-03T16:17:14.699625",
     "exception": false,
     "start_time": "2023-01-03T16:17:14.695410",
     "status": "completed"
    },
    "tags": []
   },
   "source": [
    "# Check data types to confirm it's all numerical(just in case)"
   ]
  },
  {
   "cell_type": "code",
   "execution_count": 8,
   "id": "df6596bd",
   "metadata": {
    "execution": {
     "iopub.execute_input": "2023-01-03T16:17:14.710614Z",
     "iopub.status.busy": "2023-01-03T16:17:14.709587Z",
     "iopub.status.idle": "2023-01-03T16:17:14.726600Z",
     "shell.execute_reply": "2023-01-03T16:17:14.725172Z"
    },
    "papermill": {
     "duration": 0.02521,
     "end_time": "2023-01-03T16:17:14.729168",
     "exception": false,
     "start_time": "2023-01-03T16:17:14.703958",
     "status": "completed"
    },
    "tags": []
   },
   "outputs": [
    {
     "name": "stdout",
     "output_type": "stream",
     "text": [
      "<class 'pandas.core.frame.DataFrame'>\n",
      "Int64Index: 29709 entries, 7714 to 15795\n",
      "Data columns (total 8 columns):\n",
      " #   Column      Non-Null Count  Dtype  \n",
      "---  ------      --------------  -----  \n",
      " 0   MedInc      29709 non-null  float64\n",
      " 1   HouseAge    29709 non-null  float64\n",
      " 2   AveRooms    29709 non-null  float64\n",
      " 3   AveBedrms   29709 non-null  float64\n",
      " 4   Population  29709 non-null  float64\n",
      " 5   AveOccup    29709 non-null  float64\n",
      " 6   Latitude    29709 non-null  float64\n",
      " 7   Longitude   29709 non-null  float64\n",
      "dtypes: float64(8)\n",
      "memory usage: 2.0 MB\n"
     ]
    }
   ],
   "source": [
    "X_train.info()"
   ]
  },
  {
   "cell_type": "code",
   "execution_count": 9,
   "id": "ea11fdb9",
   "metadata": {
    "execution": {
     "iopub.execute_input": "2023-01-03T16:17:14.740953Z",
     "iopub.status.busy": "2023-01-03T16:17:14.739794Z",
     "iopub.status.idle": "2023-01-03T16:17:14.754266Z",
     "shell.execute_reply": "2023-01-03T16:17:14.752448Z"
    },
    "papermill": {
     "duration": 0.023343,
     "end_time": "2023-01-03T16:17:14.757180",
     "exception": false,
     "start_time": "2023-01-03T16:17:14.733837",
     "status": "completed"
    },
    "tags": []
   },
   "outputs": [
    {
     "data": {
      "text/plain": [
       "count    29709.000000\n",
       "mean         2.077812\n",
       "std          1.156705\n",
       "min          0.149990\n",
       "25%          1.206000\n",
       "50%          1.810000\n",
       "75%          2.667000\n",
       "max          5.000010\n",
       "Name: MedHouseVal, dtype: float64"
      ]
     },
     "execution_count": 9,
     "metadata": {},
     "output_type": "execute_result"
    }
   ],
   "source": [
    "y_train.describe()"
   ]
  },
  {
   "cell_type": "markdown",
   "id": "ce287d03",
   "metadata": {
    "papermill": {
     "duration": 0.004316,
     "end_time": "2023-01-03T16:17:14.766183",
     "exception": false,
     "start_time": "2023-01-03T16:17:14.761867",
     "status": "completed"
    },
    "tags": []
   },
   "source": [
    "# Create a baseline model -> Linear Regression"
   ]
  },
  {
   "cell_type": "code",
   "execution_count": 10,
   "id": "4050154b",
   "metadata": {
    "execution": {
     "iopub.execute_input": "2023-01-03T16:17:14.777441Z",
     "iopub.status.busy": "2023-01-03T16:17:14.776646Z",
     "iopub.status.idle": "2023-01-03T16:17:16.043652Z",
     "shell.execute_reply": "2023-01-03T16:17:16.042740Z"
    },
    "papermill": {
     "duration": 1.275531,
     "end_time": "2023-01-03T16:17:16.046233",
     "exception": false,
     "start_time": "2023-01-03T16:17:14.770702",
     "status": "completed"
    },
    "tags": []
   },
   "outputs": [
    {
     "name": "stdout",
     "output_type": "stream",
     "text": [
      "['scaledLR']: -1.031575 (1.520954)\n",
      "['scaledLR', 'scaledRigde1']: -1.031575 (1.520954)\n",
      "['scaledLR', 'scaledRigde1', 'scaledRigde2']: -1.031579 (1.520967)\n"
     ]
    },
    {
     "data": {
      "image/png": "[encoded data removed]",
      "text/plain": [
       "<Figure size 432x288 with 1 Axes>"
      ]
     },
     "metadata": {
      "needs_background": "light"
     },
     "output_type": "display_data"
    }
   ],
   "source": [
    "pipelines = []\n",
    "pipelines.append(('scaledLR' , (Pipeline([('scaled' , StandardScaler()),('LR' ,LinearRegression())]))))\n",
    "pipelines.append(('scaledRigde1' , (Pipeline([('scaled' , StandardScaler()),('R1' ,Ridge(alpha=0.01))]))))\n",
    "pipelines.append(('scaledRigde2' , (Pipeline([('scaled' , StandardScaler()),('R2' ,Ridge(alpha=0.2))]))))\n",
    "\n",
    "model_name = []\n",
    "results = []\n",
    "for pipe ,model in pipelines:\n",
    "    kfold = KFold(n_splits=10, random_state=42, shuffle=True)\n",
    "    crossv_results = cross_val_score(model , X_train ,y_train ,cv =kfold , scoring='neg_mean_squared_error')\n",
    "    results.append(crossv_results)\n",
    "    model_name.append(pipe)\n",
    "    msg = \"%s: %f (%f)\" % (model_name, crossv_results.mean(), crossv_results.std())\n",
    "    print(msg)\n",
    "    \n",
    "# Compare different Algorithms\n",
    "fig = plt.figure()\n",
    "fig.suptitle('Algorithm Comparison')\n",
    "ax = fig.add_subplot(111)\n",
    "plt.boxplot(results)\n",
    "ax.set_xticklabels(model_name)\n",
    "plt.show()"
   ]
  },
  {
   "cell_type": "code",
   "execution_count": null,
   "id": "c9bd1f49",
   "metadata": {
    "papermill": {
     "duration": 0.004675,
     "end_time": "2023-01-03T16:17:16.055974",
     "exception": false,
     "start_time": "2023-01-03T16:17:16.051299",
     "status": "completed"
    },
    "tags": []
   },
   "outputs": [],
   "source": []
  }
 ],
 "metadata": {
  "kernelspec": {
   "display_name": "Python 3",
   "language": "python",
   "name": "python3"
  },
  "language_info": {
   "codemirror_mode": {
    "name": "ipython",
    "version": 3
   },
   "file_extension": ".py",
   "mimetype": "text/x-python",
   "name": "python",
   "nbconvert_exporter": "python",
   "pygments_lexer": "ipython3",
   "version": "3.7.12"
  },
  "papermill": {
   "default_parameters": {},
   "duration": 12.083098,
   "end_time": "2023-01-03T16:17:16.783421",
   "environment_variables": {},
   "exception": null,
   "input_path": "__notebook__.ipynb",
   "output_path": "__notebook__.ipynb",
   "parameters": {},
   "start_time": "2023-01-03T16:17:04.700323",
   "version": "2.3.4"
  }
 },
 "nbformat": 4,
 "nbformat_minor": 5
}
