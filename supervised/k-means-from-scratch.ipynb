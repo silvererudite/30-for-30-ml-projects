{
 "cells": [
  {
   "cell_type": "code",
   "execution_count": 1,
   "id": "bf2b8ea3",
   "metadata": {
    "_cell_guid": "b1076dfc-b9ad-4769-8c92-a6c4dae69d19",
    "_uuid": "8f2839f25d086af736a60e9eeb907d3b93b6e0e5",
    "execution": {
     "iopub.execute_input": "2023-01-02T16:01:02.601726Z",
     "iopub.status.busy": "2023-01-02T16:01:02.600248Z",
     "iopub.status.idle": "2023-01-02T16:01:03.809200Z",
     "shell.execute_reply": "2023-01-02T16:01:03.807653Z"
    },
    "papermill": {
     "duration": 1.218531,
     "end_time": "2023-01-02T16:01:03.812059",
     "exception": false,
     "start_time": "2023-01-02T16:01:02.593528",
     "status": "completed"
    },
    "tags": []
   },
   "outputs": [],
   "source": [
    "import numpy as np # linear algebra\n",
    "import pandas as pd # data processing, CSV file I/O (e.g. pd.read_csv)\n",
    "import os\n",
    "import matplotlib.pyplot as plt\n",
    "from sklearn.decomposition import PCA\n",
    "from IPython.display import clear_output\n",
    "%matplotlib inline"
   ]
  },
  {
   "cell_type": "code",
   "execution_count": 2,
   "id": "b8b3f6e7",
   "metadata": {
    "execution": {
     "iopub.execute_input": "2023-01-02T16:01:03.822998Z",
     "iopub.status.busy": "2023-01-02T16:01:03.822586Z",
     "iopub.status.idle": "2023-01-02T16:01:03.843761Z",
     "shell.execute_reply": "2023-01-02T16:01:03.842169Z"
    },
    "papermill": {
     "duration": 0.02869,
     "end_time": "2023-01-02T16:01:03.846333",
     "exception": false,
     "start_time": "2023-01-02T16:01:03.817643",
     "status": "completed"
    },
    "tags": []
   },
   "outputs": [],
   "source": [
    "data_df = pd.read_csv('/kaggle/input/iris-flower-dataset/IRIS.csv')"
   ]
  },
  {
   "cell_type": "code",
   "execution_count": 3,
   "id": "60367b78",
   "metadata": {
    "execution": {
     "iopub.execute_input": "2023-01-02T16:01:03.855849Z",
     "iopub.status.busy": "2023-01-02T16:01:03.855474Z",
     "iopub.status.idle": "2023-01-02T16:01:03.879175Z",
     "shell.execute_reply": "2023-01-02T16:01:03.877961Z"
    },
    "papermill": {
     "duration": 0.031953,
     "end_time": "2023-01-02T16:01:03.882012",
     "exception": false,
     "start_time": "2023-01-02T16:01:03.850059",
     "status": "completed"
    },
    "tags": []
   },
   "outputs": [
    {
     "data": {
      "text/html": [
       "<div>\n",
       "<style scoped>\n",
       "    .dataframe tbody tr th:only-of-type {\n",
       "        vertical-align: middle;\n",
       "    }\n",
       "\n",
       "    .dataframe tbody tr th {\n",
       "        vertical-align: top;\n",
       "    }\n",
       "\n",
       "    .dataframe thead th {\n",
       "        text-align: right;\n",
       "    }\n",
       "</style>\n",
       "<table border=\"1\" class=\"dataframe\">\n",
       "  <thead>\n",
       "    <tr style=\"text-align: right;\">\n",
       "      <th></th>\n",
       "      <th>sepal_length</th>\n",
       "      <th>sepal_width</th>\n",
       "      <th>petal_length</th>\n",
       "      <th>petal_width</th>\n",
       "      <th>species</th>\n",
       "    </tr>\n",
       "  </thead>\n",
       "  <tbody>\n",
       "    <tr>\n",
       "      <th>0</th>\n",
       "      <td>5.1</td>\n",
       "      <td>3.5</td>\n",
       "      <td>1.4</td>\n",
       "      <td>0.2</td>\n",
       "      <td>Iris-setosa</td>\n",
       "    </tr>\n",
       "    <tr>\n",
       "      <th>1</th>\n",
       "      <td>4.9</td>\n",
       "      <td>3.0</td>\n",
       "      <td>1.4</td>\n",
       "      <td>0.2</td>\n",
       "      <td>Iris-setosa</td>\n",
       "    </tr>\n",
       "    <tr>\n",
       "      <th>2</th>\n",
       "      <td>4.7</td>\n",
       "      <td>3.2</td>\n",
       "      <td>1.3</td>\n",
       "      <td>0.2</td>\n",
       "      <td>Iris-setosa</td>\n",
       "    </tr>\n",
       "    <tr>\n",
       "      <th>3</th>\n",
       "      <td>4.6</td>\n",
       "      <td>3.1</td>\n",
       "      <td>1.5</td>\n",
       "      <td>0.2</td>\n",
       "      <td>Iris-setosa</td>\n",
       "    </tr>\n",
       "    <tr>\n",
       "      <th>4</th>\n",
       "      <td>5.0</td>\n",
       "      <td>3.6</td>\n",
       "      <td>1.4</td>\n",
       "      <td>0.2</td>\n",
       "      <td>Iris-setosa</td>\n",
       "    </tr>\n",
       "  </tbody>\n",
       "</table>\n",
       "</div>"
      ],
      "text/plain": [
       "   sepal_length  sepal_width  petal_length  petal_width      species\n",
       "0           5.1          3.5           1.4          0.2  Iris-setosa\n",
       "1           4.9          3.0           1.4          0.2  Iris-setosa\n",
       "2           4.7          3.2           1.3          0.2  Iris-setosa\n",
       "3           4.6          3.1           1.5          0.2  Iris-setosa\n",
       "4           5.0          3.6           1.4          0.2  Iris-setosa"
      ]
     },
     "execution_count": 3,
     "metadata": {},
     "output_type": "execute_result"
    }
   ],
   "source": [
    "data_df.head()"
   ]
  },
  {
   "cell_type": "code",
   "execution_count": 4,
   "id": "c5cae75f",
   "metadata": {
    "execution": {
     "iopub.execute_input": "2023-01-02T16:01:03.892234Z",
     "iopub.status.busy": "2023-01-02T16:01:03.891183Z",
     "iopub.status.idle": "2023-01-02T16:01:03.903978Z",
     "shell.execute_reply": "2023-01-02T16:01:03.902909Z"
    },
    "papermill": {
     "duration": 0.020735,
     "end_time": "2023-01-02T16:01:03.906680",
     "exception": false,
     "start_time": "2023-01-02T16:01:03.885945",
     "status": "completed"
    },
    "tags": []
   },
   "outputs": [],
   "source": [
    "features = data_df.drop('species', axis=1)\n",
    "label = data_df['species']"
   ]
  },
  {
   "cell_type": "code",
   "execution_count": 5,
   "id": "fe247475",
   "metadata": {
    "execution": {
     "iopub.execute_input": "2023-01-02T16:01:03.916479Z",
     "iopub.status.busy": "2023-01-02T16:01:03.916064Z",
     "iopub.status.idle": "2023-01-02T16:01:03.928791Z",
     "shell.execute_reply": "2023-01-02T16:01:03.927636Z"
    },
    "papermill": {
     "duration": 0.020077,
     "end_time": "2023-01-02T16:01:03.930872",
     "exception": false,
     "start_time": "2023-01-02T16:01:03.910795",
     "status": "completed"
    },
    "tags": []
   },
   "outputs": [
    {
     "data": {
      "text/html": [
       "<div>\n",
       "<style scoped>\n",
       "    .dataframe tbody tr th:only-of-type {\n",
       "        vertical-align: middle;\n",
       "    }\n",
       "\n",
       "    .dataframe tbody tr th {\n",
       "        vertical-align: top;\n",
       "    }\n",
       "\n",
       "    .dataframe thead th {\n",
       "        text-align: right;\n",
       "    }\n",
       "</style>\n",
       "<table border=\"1\" class=\"dataframe\">\n",
       "  <thead>\n",
       "    <tr style=\"text-align: right;\">\n",
       "      <th></th>\n",
       "      <th>sepal_length</th>\n",
       "      <th>sepal_width</th>\n",
       "      <th>petal_length</th>\n",
       "      <th>petal_width</th>\n",
       "    </tr>\n",
       "  </thead>\n",
       "  <tbody>\n",
       "    <tr>\n",
       "      <th>0</th>\n",
       "      <td>5.1</td>\n",
       "      <td>3.5</td>\n",
       "      <td>1.4</td>\n",
       "      <td>0.2</td>\n",
       "    </tr>\n",
       "    <tr>\n",
       "      <th>1</th>\n",
       "      <td>4.9</td>\n",
       "      <td>3.0</td>\n",
       "      <td>1.4</td>\n",
       "      <td>0.2</td>\n",
       "    </tr>\n",
       "    <tr>\n",
       "      <th>2</th>\n",
       "      <td>4.7</td>\n",
       "      <td>3.2</td>\n",
       "      <td>1.3</td>\n",
       "      <td>0.2</td>\n",
       "    </tr>\n",
       "    <tr>\n",
       "      <th>3</th>\n",
       "      <td>4.6</td>\n",
       "      <td>3.1</td>\n",
       "      <td>1.5</td>\n",
       "      <td>0.2</td>\n",
       "    </tr>\n",
       "    <tr>\n",
       "      <th>4</th>\n",
       "      <td>5.0</td>\n",
       "      <td>3.6</td>\n",
       "      <td>1.4</td>\n",
       "      <td>0.2</td>\n",
       "    </tr>\n",
       "  </tbody>\n",
       "</table>\n",
       "</div>"
      ],
      "text/plain": [
       "   sepal_length  sepal_width  petal_length  petal_width\n",
       "0           5.1          3.5           1.4          0.2\n",
       "1           4.9          3.0           1.4          0.2\n",
       "2           4.7          3.2           1.3          0.2\n",
       "3           4.6          3.1           1.5          0.2\n",
       "4           5.0          3.6           1.4          0.2"
      ]
     },
     "execution_count": 5,
     "metadata": {},
     "output_type": "execute_result"
    }
   ],
   "source": [
    "features.head()"
   ]
  },
  {
   "cell_type": "markdown",
   "id": "535e84d0",
   "metadata": {
    "papermill": {
     "duration": 0.00449,
     "end_time": "2023-01-02T16:01:03.939468",
     "exception": false,
     "start_time": "2023-01-02T16:01:03.934978",
     "status": "completed"
    },
    "tags": []
   },
   "source": [
    "# Normalizing data points"
   ]
  },
  {
   "cell_type": "code",
   "execution_count": 6,
   "id": "be4385e7",
   "metadata": {
    "execution": {
     "iopub.execute_input": "2023-01-02T16:01:03.949255Z",
     "iopub.status.busy": "2023-01-02T16:01:03.948587Z",
     "iopub.status.idle": "2023-01-02T16:01:03.956207Z",
     "shell.execute_reply": "2023-01-02T16:01:03.955420Z"
    },
    "papermill": {
     "duration": 0.014871,
     "end_time": "2023-01-02T16:01:03.958298",
     "exception": false,
     "start_time": "2023-01-02T16:01:03.943427",
     "status": "completed"
    },
    "tags": []
   },
   "outputs": [],
   "source": [
    "for column in features.columns:\n",
    "    features[column] = (features[column] - features[column].min()) / (features[column].max() - features[column].min())"
   ]
  },
  {
   "cell_type": "markdown",
   "id": "5b1acead",
   "metadata": {
    "papermill": {
     "duration": 0.003563,
     "end_time": "2023-01-02T16:01:03.966043",
     "exception": false,
     "start_time": "2023-01-02T16:01:03.962480",
     "status": "completed"
    },
    "tags": []
   },
   "source": [
    "# Initialize centroids"
   ]
  },
  {
   "cell_type": "code",
   "execution_count": 7,
   "id": "8596107e",
   "metadata": {
    "execution": {
     "iopub.execute_input": "2023-01-02T16:01:03.975667Z",
     "iopub.status.busy": "2023-01-02T16:01:03.975045Z",
     "iopub.status.idle": "2023-01-02T16:01:03.980620Z",
     "shell.execute_reply": "2023-01-02T16:01:03.979533Z"
    },
    "papermill": {
     "duration": 0.012801,
     "end_time": "2023-01-02T16:01:03.982690",
     "exception": false,
     "start_time": "2023-01-02T16:01:03.969889",
     "status": "completed"
    },
    "tags": []
   },
   "outputs": [],
   "source": [
    "def get_centroids(data, k):\n",
    "    centroids = []\n",
    "    for i in range(k):\n",
    "        centroid = data.apply(lambda x: float(x.sample()))\n",
    "        centroids.append(centroid)\n",
    "    return pd.concat(centroids, axis=1) "
   ]
  },
  {
   "cell_type": "markdown",
   "id": "0dd9176d",
   "metadata": {
    "papermill": {
     "duration": 0.003942,
     "end_time": "2023-01-02T16:01:03.990772",
     "exception": false,
     "start_time": "2023-01-02T16:01:03.986830",
     "status": "completed"
    },
    "tags": []
   },
   "source": [
    "# Assign label to each observation"
   ]
  },
  {
   "cell_type": "code",
   "execution_count": 8,
   "id": "ae0f48ef",
   "metadata": {
    "execution": {
     "iopub.execute_input": "2023-01-02T16:01:04.000689Z",
     "iopub.status.busy": "2023-01-02T16:01:04.000320Z",
     "iopub.status.idle": "2023-01-02T16:01:04.006949Z",
     "shell.execute_reply": "2023-01-02T16:01:04.005859Z"
    },
    "papermill": {
     "duration": 0.014265,
     "end_time": "2023-01-02T16:01:04.009148",
     "exception": false,
     "start_time": "2023-01-02T16:01:03.994883",
     "status": "completed"
    },
    "tags": []
   },
   "outputs": [],
   "source": [
    "def get_labels(centroids, data):\n",
    "    distances = centroids.apply(lambda x: np.sqrt(((data-x)**2).sum(axis=1)))\n",
    "    return distances.idxmin(axis=1)"
   ]
  },
  {
   "cell_type": "code",
   "execution_count": 9,
   "id": "33b3f94d",
   "metadata": {
    "execution": {
     "iopub.execute_input": "2023-01-02T16:01:04.021879Z",
     "iopub.status.busy": "2023-01-02T16:01:04.021260Z",
     "iopub.status.idle": "2023-01-02T16:01:04.028324Z",
     "shell.execute_reply": "2023-01-02T16:01:04.026575Z"
    },
    "papermill": {
     "duration": 0.017037,
     "end_time": "2023-01-02T16:01:04.031620",
     "exception": false,
     "start_time": "2023-01-02T16:01:04.014583",
     "status": "completed"
    },
    "tags": []
   },
   "outputs": [],
   "source": [
    "def new_centroids(data, k, labels):\n",
    "    return data.groupby(labels).apply(lambda x: np.exp(np.log(x).mean())).T"
   ]
  },
  {
   "cell_type": "code",
   "execution_count": 10,
   "id": "c5505faf",
   "metadata": {
    "execution": {
     "iopub.execute_input": "2023-01-02T16:01:04.045305Z",
     "iopub.status.busy": "2023-01-02T16:01:04.044574Z",
     "iopub.status.idle": "2023-01-02T16:01:04.054449Z",
     "shell.execute_reply": "2023-01-02T16:01:04.053463Z"
    },
    "papermill": {
     "duration": 0.019992,
     "end_time": "2023-01-02T16:01:04.057076",
     "exception": false,
     "start_time": "2023-01-02T16:01:04.037084",
     "status": "completed"
    },
    "tags": []
   },
   "outputs": [],
   "source": [
    "def plot_clusters(data, k, iteration, labels, centroids):\n",
    "    pca = PCA(n_components=2)\n",
    "    data_2d = pca.fit_transform(data)\n",
    "    centroids_2d = pca.transform(centroids.T)\n",
    "    clear_output(wait=True)\n",
    "    plt.title(f\"Iteration {iteration}\")\n",
    "    plt.scatter(x=data_2d[:,0], y=data_2d[:, 1], c=labels)\n",
    "    plt.scatter(x=centroids_2d[:, 0], y=centroids_2d[:, 1])\n",
    "    plt.show()"
   ]
  },
  {
   "cell_type": "code",
   "execution_count": 11,
   "id": "814dc458",
   "metadata": {
    "execution": {
     "iopub.execute_input": "2023-01-02T16:01:04.069741Z",
     "iopub.status.busy": "2023-01-02T16:01:04.069050Z",
     "iopub.status.idle": "2023-01-02T16:01:04.075823Z",
     "shell.execute_reply": "2023-01-02T16:01:04.075098Z"
    },
    "papermill": {
     "duration": 0.014899,
     "end_time": "2023-01-02T16:01:04.077838",
     "exception": false,
     "start_time": "2023-01-02T16:01:04.062939",
     "status": "completed"
    },
    "tags": []
   },
   "outputs": [],
   "source": [
    "def k_means(data, k):\n",
    "    max_iterations = 100\n",
    "\n",
    "    centroids = get_centroids(data, k)\n",
    "    old_centroids = pd.DataFrame()\n",
    "    iteration = 1\n",
    "    while iteration < max_iterations and not centroids.equals(old_centroids):\n",
    "        old_centroids = centroids\n",
    "        labels = get_labels(centroids, data)\n",
    "        centroids = new_centroids(data, k, labels)\n",
    "        plot_clusters(data, k, iteration, labels, centroids)\n",
    "        iteration += 1"
   ]
  },
  {
   "cell_type": "code",
   "execution_count": 12,
   "id": "9cd3310b",
   "metadata": {
    "execution": {
     "iopub.execute_input": "2023-01-02T16:01:04.088928Z",
     "iopub.status.busy": "2023-01-02T16:01:04.087698Z",
     "iopub.status.idle": "2023-01-02T16:01:05.261639Z",
     "shell.execute_reply": "2023-01-02T16:01:05.260278Z"
    },
    "papermill": {
     "duration": 1.182153,
     "end_time": "2023-01-02T16:01:05.264375",
     "exception": false,
     "start_time": "2023-01-02T16:01:04.082222",
     "status": "completed"
    },
    "tags": []
   },
   "outputs": [
    {
     "data": {
      "image/png": "[encoded data removed]",
      "text/plain": [
       "<Figure size 432x288 with 1 Axes>"
      ]
     },
     "metadata": {
      "needs_background": "light"
     },
     "output_type": "display_data"
    }
   ],
   "source": [
    "k_means(features, 4)"
   ]
  }
 ],
 "metadata": {
  "kernelspec": {
   "display_name": "Python 3",
   "language": "python",
   "name": "python3"
  },
  "language_info": {
   "codemirror_mode": {
    "name": "ipython",
    "version": 3
   },
   "file_extension": ".py",
   "mimetype": "text/x-python",
   "name": "python",
   "nbconvert_exporter": "python",
   "pygments_lexer": "ipython3",
   "version": "3.7.12"
  },
  "papermill": {
   "default_parameters": {},
   "duration": 11.275965,
   "end_time": "2023-01-02T16:01:06.092958",
   "environment_variables": {},
   "exception": null,
   "input_path": "__notebook__.ipynb",
   "output_path": "__notebook__.ipynb",
   "parameters": {},
   "start_time": "2023-01-02T16:00:54.816993",
   "version": "2.3.4"
  }
 },
 "nbformat": 4,
 "nbformat_minor": 5
}
