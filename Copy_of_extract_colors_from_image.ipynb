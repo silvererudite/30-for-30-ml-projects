{
  "nbformat": 4,
  "nbformat_minor": 0,
  "metadata": {
    "colab": {
      "provenance": [],
      "collapsed_sections": [],
      "include_colab_link": true
    },
    "kernelspec": {
      "name": "python3",
      "display_name": "Python 3"
    },
    "language_info": {
      "name": "python"
    }
  },
  "cells": [
    {
      "cell_type": "markdown",
      "metadata": {
        "id": "view-in-github",
        "colab_type": "text"
      },
      "source": [
        "<a href=\"https://colab.research.google.com/github/silvererudite/30-for-30-ml-projects/blob/main/Copy_of_extract_colors_from_image.ipynb\" target=\"_parent\"><img src=\"https://colab.research.google.com/assets/colab-badge.svg\" alt=\"Open In Colab\"/></a>"
      ]
    },
    {
      "cell_type": "code",
      "execution_count": 18,
      "metadata": {
        "id": "VSDGr9uCHqUF"
      },
      "outputs": [],
      "source": [
        "from skimage.color import rgb2gray\n",
        "import numpy as np\n",
        "import cv2\n",
        "import matplotlib.pyplot as plt\n",
        "%matplotlib inline\n",
        "from scipy import ndimage\n",
        "from sklearn.cluster import KMeans\n",
        "from collections import Counter"
      ]
    },
    {
      "cell_type": "code",
      "source": [
        "pip install gradio"
      ],
      "metadata": {
        "id": "vNtv1vgdZYNw"
      },
      "execution_count": 19,
      "outputs": []
    },
    {
      "cell_type": "code",
      "source": [
        "import gradio as gr"
      ],
      "metadata": {
        "id": "XQpzASDtZadQ"
      },
      "execution_count": 20,
      "outputs": []
    },
    {
      "cell_type": "code",
      "source": [
        "gr.__version__"
      ],
      "metadata": {
        "id": "fr0sXt8rgtxJ",
        "outputId": "b8d3ba29-53e8-4b2c-eefc-47a2ebb0b667",
        "colab": {
          "base_uri": "https://localhost:8080/",
          "height": 35
        }
      },
      "execution_count": 21,
      "outputs": [
        {
          "output_type": "execute_result",
          "data": {
            "text/plain": [
              "'3.3.1'"
            ],
            "application/vnd.google.colaboratory.intrinsic+json": {
              "type": "string"
            }
          },
          "metadata": {},
          "execution_count": 21
        }
      ]
    },
    {
      "cell_type": "markdown",
      "source": [
        "Photo credit: https://unsplash.com/photos/u6nGKLpvZo0?utm_source=unsplash&utm_medium=referral&utm_content=creditShareLink"
      ],
      "metadata": {
        "id": "_MF7bkN8IV95"
      }
    },
    {
      "cell_type": "code",
      "source": [
        "# image = plt.imread('ocean.jpg')/255\n",
        "# image.shape\n",
        "# plt.imshow(image)"
      ],
      "metadata": {
        "id": "vq7UFS5TH7lH"
      },
      "execution_count": 22,
      "outputs": []
    },
    {
      "cell_type": "code",
      "source": [
        "def get_image(pil_image):\n",
        "    #image = cv2.imread(image_path)\n",
        "    nimg = np.array(pil_image)\n",
        "    image = cv2.cvtColor(nimg, cv2.COLOR_RGB2BGR)\n",
        "    image = cv2.cvtColor(image, cv2.COLOR_BGR2RGB)\n",
        "    return image"
      ],
      "metadata": {
        "id": "Rwu08J94eXR3"
      },
      "execution_count": 23,
      "outputs": []
    },
    {
      "cell_type": "code",
      "source": [
        "#image = get_image('/content/ocean.jpg')"
      ],
      "metadata": {
        "id": "7Dyt4HnRegYg"
      },
      "execution_count": 24,
      "outputs": []
    },
    {
      "cell_type": "code",
      "source": [
        "# pic_n = image.reshape(image.shape[0]*image.shape[1], image.shape[2])\n",
        "# pic_n.shape"
      ],
      "metadata": {
        "id": "82Inew03JOph"
      },
      "execution_count": 25,
      "outputs": []
    },
    {
      "cell_type": "code",
      "source": [
        "def get_labels(rimg):\n",
        "  clf = KMeans(n_clusters = 5)\n",
        "  labels = clf.fit_predict(rimg)\n",
        "  return labels ,  clf"
      ],
      "metadata": {
        "id": "4eS2soYNJb4w"
      },
      "execution_count": 26,
      "outputs": []
    },
    {
      "cell_type": "code",
      "source": [
        "def RGB2HEX(color):\n",
        "    return \"#{:02x}{:02x}{:02x}\".format(int(color[0]), int(color[1]), int(color[2]))"
      ],
      "metadata": {
        "id": "3D74GCGMcZsE"
      },
      "execution_count": 27,
      "outputs": []
    },
    {
      "cell_type": "code",
      "source": [
        "def get_colors(pimg):\n",
        "  img = get_image(pimg)\n",
        "  reshaped_img = img.reshape(img.shape[0]*img.shape[1], img.shape[2])\n",
        "  labels, clf = get_labels(reshaped_img)\n",
        "  counts = Counter(labels)\n",
        "  center_colors = clf.cluster_centers_\n",
        "  # We get ordered colors by iterating through the keys\n",
        "  ordered_colors = [center_colors[i] for i in counts.keys()]\n",
        "  hex_colors = [RGB2HEX(ordered_colors[i]) for i in counts.keys()]\n",
        "  #rgb_colors = [ordered_colors[i] for i in counts.keys()]\n",
        "  return hex_colors\n",
        "#hex_colors = get_colors(pimg)"
      ],
      "metadata": {
        "id": "-udxOh2IaGVg"
      },
      "execution_count": 32,
      "outputs": []
    },
    {
      "cell_type": "code",
      "source": [
        "#rgb_colors"
      ],
      "metadata": {
        "id": "TxQKsC4Yh100"
      },
      "execution_count": 29,
      "outputs": []
    },
    {
      "cell_type": "code",
      "source": [
        "#hex_colors"
      ],
      "metadata": {
        "id": "7J_R0SYuh5GG"
      },
      "execution_count": 30,
      "outputs": []
    },
    {
      "cell_type": "code",
      "source": [
        "demo = gr.Blocks()\n",
        "\n",
        "with demo:\n",
        "    gr.Markdown(\n",
        "        \"\"\"\n",
        "    # How learning rate and number of iterations affect SGD\n",
        "    Move sliders to change the values of eta and number of iterations to see how it affects the convergance rate of algorithm.\n",
        "    \"\"\"\n",
        "    )\n",
        "    inputs = [gr.Image(type=\"pil\", label=\"Image to extract colors from\")]\n",
        "    outputs = [gr.ColorPicker(), gr.ColorPicker(),gr.ColorPicker(),gr.ColorPicker(),gr.ColorPicker()]\n",
        "\n",
        "    btn = gr.Button(\"Extract colors\")\n",
        "    btn.click(fn=get_colors, inputs=inputs, outputs=outputs)\n",
        "demo.queue()\n",
        "demo.launch()"
      ],
      "metadata": {
        "id": "mX4nE8D5QRuE",
        "colab": {
          "base_uri": "https://localhost:8080/",
          "height": 643
        },
        "outputId": "fdad4914-c223-463b-fbaf-4341d9f93317"
      },
      "execution_count": 35,
      "outputs": [
        {
          "output_type": "stream",
          "name": "stdout",
          "text": [
            "Colab notebook detected. To show errors in colab notebook, set `debug=True` in `launch()`\n",
            "Running on public URL: https://23863.gradio.app\n",
            "\n",
            "This share link expires in 72 hours. For free permanent hosting, check out Spaces: https://huggingface.co/spaces\n"
          ]
        },
        {
          "output_type": "display_data",
          "data": {
            "text/plain": [
              "<IPython.core.display.HTML object>"
            ],
            "text/html": [
              "<div><iframe src=\"https://23863.gradio.app\" width=\"900\" height=\"500\" allow=\"autoplay; camera; microphone;\" frameborder=\"0\" allowfullscreen></iframe></div>"
            ]
          },
          "metadata": {}
        },
        {
          "output_type": "execute_result",
          "data": {
            "text/plain": [
              "(<gradio.routes.App at 0x7f5526bbbf50>,\n",
              " 'http://127.0.0.1:7865/',\n",
              " 'https://23863.gradio.app')"
            ]
          },
          "metadata": {},
          "execution_count": 35
        }
      ]
    },
    {
      "cell_type": "code",
      "source": [],
      "metadata": {
        "id": "jfnpzHAYZmRu"
      },
      "execution_count": 31,
      "outputs": []
    }
  ]
}